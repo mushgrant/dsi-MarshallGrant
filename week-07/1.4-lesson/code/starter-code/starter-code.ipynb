{
 "cells": [
  {
   "cell_type": "markdown",
   "metadata": {},
   "source": [
    "## Lesson 1.4 - Independant Practice"
   ]
  },
  {
   "cell_type": "markdown",
   "metadata": {},
   "source": [
    "Here's the situation - your working with a Postgre Database at a large wine distributor who needs you to maintain their database. You'll use some of your advanced SQl skills to take care of customer cases. Let's begin! \n",
    "\n",
    "First, let's load in the ipython sql extension so that we can use sql within the ipython notebook. "
   ]
  },
  {
   "cell_type": "code",
   "execution_count": 6,
   "metadata": {
    "collapsed": false
   },
   "outputs": [
    {
     "name": "stdout",
     "output_type": "stream",
     "text": [
      "\u001b[31mDEPRECATION: The default format will switch to columns in the future. You can use --format=(legacy|columns) (or define a format=(legacy|columns) in your pip.conf under the [list] section) to disable this warning.\u001b[0m\n",
      "alabaster (0.7.9)\n",
      "anaconda-clean (1.0)\n",
      "anaconda-client (1.6.0)\n",
      "anaconda-navigator (1.3.2)\n",
      "appnope (0.1.0)\n",
      "appscript (1.0.1)\n",
      "argcomplete (1.0.0)\n",
      "astroid (1.4.7)\n",
      "astropy (1.2.1)\n",
      "Babel (2.3.4)\n",
      "backports-abc (0.5)\n",
      "backports.shutil-get-terminal-size (1.0.0)\n",
      "backports.ssl-match-hostname (3.4.0.2)\n",
      "beautifulsoup4 (4.5.1)\n",
      "bitarray (0.8.1)\n",
      "blaze (0.10.1)\n",
      "bokeh (0.12.3)\n",
      "boto (2.43.0)\n",
      "Bottleneck (1.1.0)\n",
      "CacheControl (0.11.7)\n",
      "cdecimal (2.3)\n",
      "certifi (2015.4.28)\n",
      "cffi (1.9.1)\n",
      "chest (0.2.3)\n",
      "click (6.6)\n",
      "cloudpickle (0.2.1)\n",
      "clyent (1.2.2)\n",
      "colorama (0.3.7)\n",
      "conda (4.2.13)\n",
      "conda-build (2.0.11)\n",
      "conda-verify (2.0.0)\n",
      "configobj (5.0.6)\n",
      "configparser (3.5.0)\n",
      "contextlib2 (0.5.4)\n",
      "cryptography (1.6)\n",
      "cycler (0.10.0)\n",
      "Cython (0.25.2)\n",
      "cytoolz (0.8.1)\n",
      "dask (0.12.0)\n",
      "datashape (0.5.2)\n",
      "decorator (4.0.10)\n",
      "dill (0.2.5)\n",
      "docutils (0.12)\n",
      "dynd (0.7.3.dev1)\n",
      "enum34 (1.1.6)\n",
      "et-xmlfile (1.0.1)\n",
      "factual-api (1.7.0)\n",
      "fastcache (1.0.2)\n",
      "filelock (2.0.7)\n",
      "Flask (0.11.1)\n",
      "Flask-Cors (2.1.2)\n",
      "funcsigs (0.4)\n",
      "functools32 (3.2.3.post2)\n",
      "futures (3.0.5)\n",
      "geojson (1.3.3)\n",
      "gevent (1.1.2)\n",
      "gnureadline (6.3.3)\n",
      "graphviz (0.5.1)\n",
      "greenlet (0.4.10)\n",
      "grin (1.2.1)\n",
      "h5py (2.6.0)\n",
      "HeapDict (1.0.0)\n",
      "html5lib (0.999999999)\n",
      "idna (2.1)\n",
      "imagesize (0.7.1)\n",
      "imdbpie (4.2.0)\n",
      "ipaddress (1.0.17)\n",
      "ipykernel (4.5.2)\n",
      "ipython (5.1.0)\n",
      "ipython-genutils (0.1.0)\n",
      "ipywidgets (5.2.2)\n",
      "itsdangerous (0.24)\n",
      "jdcal (1.3)\n",
      "jedi (0.9.0)\n",
      "Jinja2 (2.8)\n",
      "jsonschema (2.5.1)\n",
      "jupyter (1.0.0)\n",
      "jupyter-client (4.0.0)\n",
      "jupyter-console (5.0.0)\n",
      "jupyter-core (4.2.1)\n",
      "lazy-object-proxy (1.2.1)\n",
      "llvmlite (0.14.0)\n",
      "locket (0.2.0)\n",
      "lockfile (0.12.2)\n",
      "lxml (3.6.4)\n",
      "Markdown (2.6.7)\n",
      "MarkupSafe (0.23)\n",
      "matplotlib (1.5.3)\n",
      "mechanize (0.2.5)\n",
      "mistune (0.7.1)\n",
      "mock (1.3.0)\n",
      "mpmath (0.19)\n",
      "multipledispatch (0.4.9)\n",
      "nb-anacondacloud (1.2.0)\n",
      "nb-conda (2.0.0)\n",
      "nb-conda-kernels (2.0.0)\n",
      "nbconvert (4.0.0)\n",
      "nbformat (4.2.0)\n",
      "nbpresent (3.0.2)\n",
      "networkx (1.11)\n",
      "nltk (3.2.1)\n",
      "nose (1.3.7)\n",
      "notebook (4.0.4)\n",
      "numba (0.29.0+0.gead0dd3.dirty)\n",
      "numexpr (2.6.1)\n",
      "numpy (1.11.2)\n",
      "oauthlib (2.0.1)\n",
      "odo (0.5.0)\n",
      "openpyxl (2.4.0)\n",
      "pandas (0.19.1)\n",
      "partd (0.3.6)\n",
      "path.py (7.7)\n",
      "pathlib2 (2.1.0)\n",
      "patsy (0.4.0)\n",
      "pbr (1.6.0)\n",
      "pep8 (1.7.0)\n",
      "pexpect (3.3)\n",
      "pickleshare (0.5)\n",
      "Pillow (3.4.2)\n",
      "pip (9.0.1)\n",
      "pkginfo (1.4.1)\n",
      "plotly (1.12.9)\n",
      "ply (3.9)\n",
      "port (0.3.3)\n",
      "prompt-toolkit (1.0.9)\n",
      "psutil (5.0.0)\n",
      "psycopg2 (2.6.2)\n",
      "ptyprocess (0.5)\n",
      "py (1.4.31)\n",
      "py-gfm (0.1.3)\n",
      "pyasn1 (0.1.9)\n",
      "PyAudio (0.2.7)\n",
      "pycosat (0.6.1)\n",
      "pycparser (2.17)\n",
      "pycrypto (2.6.1)\n",
      "pycurl (7.43.0)\n",
      "pydotplus (2.0.2)\n",
      "pyflakes (1.3.0)\n",
      "Pygments (2.0.2)\n",
      "pylint (1.5.4)\n",
      "pyOpenSSL (16.2.0)\n",
      "pyparsing (2.1.10)\n",
      "PyRSS2Gen (1.1)\n",
      "pytest (3.0.5)\n",
      "python-dateutil (2.6.0)\n",
      "pytz (2016.10)\n",
      "PyYAML (3.12)\n",
      "pyzmq (16.0.2)\n",
      "QtAwesome (0.3.3)\n",
      "qtconsole (4.2.1)\n",
      "QtPy (1.1.2)\n",
      "redis (2.10.5)\n",
      "requests (2.12.3)\n",
      "requests-oauthlib (0.7.0)\n",
      "rope (0.9.4)\n",
      "ruamel-yaml (-VERSION)\n",
      "scikit-image (0.12.3)\n",
      "scikit-learn (0.18.1)\n",
      "scipy (0.16.0)\n",
      "seaborn (0.7.1)\n",
      "setuptools (31.0.0)\n",
      "simplegeneric (0.8.1)\n",
      "singledispatch (3.4.0.3)\n",
      "six (1.10.0)\n",
      "snowballstemmer (1.2.1)\n",
      "sockjs-tornado (1.0.3)\n",
      "Sphinx (1.5)\n",
      "spyder (3.0.2)\n",
      "sql (0.4.0)\n",
      "SQLAlchemy (1.1.4)\n",
      "statsmodels (0.6.1)\n",
      "sympy (1.0)\n",
      "tables (3.3.0)\n",
      "terminado (0.5)\n",
      "toolz (0.8.1)\n",
      "tornado (4.4.2)\n",
      "traitlets (4.3.1)\n",
      "unicodecsv (0.14.1)\n",
      "vincent (0.4.4)\n",
      "wcwidth (0.1.7)\n",
      "webencodings (0.5)\n",
      "Werkzeug (0.11.11)\n",
      "wheel (0.29.0)\n",
      "Whoosh (2.7.4)\n",
      "widgetsnbextension (1.2.6)\n",
      "wrapt (1.10.8)\n",
      "xgboost (0.6a2)\n",
      "xlrd (1.0.0)\n",
      "XlsxWriter (0.9.4)\n",
      "xlwings (0.10.1)\n",
      "xlwt (1.1.2)\n"
     ]
    }
   ],
   "source": [
    "! pip list"
   ]
  },
  {
   "cell_type": "code",
   "execution_count": 9,
   "metadata": {
    "collapsed": false
   },
   "outputs": [
    {
     "name": "stdout",
     "output_type": "stream",
     "text": [
      "Collecting jupyter-client\n",
      "  Downloading jupyter_client-4.4.0-py2.py3-none-any.whl (76kB)\n",
      "\u001b[K    100% |████████████████████████████████| 81kB 1.3MB/s \n",
      "\u001b[?25hRequirement already up-to-date: traitlets in /anaconda/lib/python2.7/site-packages (from jupyter-client)\n",
      "Requirement already up-to-date: pyzmq>=13 in /anaconda/lib/python2.7/site-packages (from jupyter-client)\n",
      "Requirement already up-to-date: jupyter-core in /anaconda/lib/python2.7/site-packages (from jupyter-client)\n",
      "Installing collected packages: jupyter-client\n",
      "  Found existing installation: jupyter-client 4.0.0\n",
      "    Uninstalling jupyter-client-4.0.0:\n",
      "      Successfully uninstalled jupyter-client-4.0.0\n",
      "Successfully installed jupyter-client-4.4.0\n"
     ]
    }
   ],
   "source": [
    "!pip install --upgrade jupyter-client"
   ]
  },
  {
   "cell_type": "code",
   "execution_count": 1,
   "metadata": {
    "collapsed": false
   },
   "outputs": [],
   "source": [
    "import psycopg2\n",
    "\n",
    "import pandas as pd"
   ]
  },
  {
   "cell_type": "code",
   "execution_count": 4,
   "metadata": {
    "collapsed": false
   },
   "outputs": [],
   "source": [
    "from sqlalchemy import create_engine\n",
    "import sql"
   ]
  },
  {
   "cell_type": "code",
   "execution_count": 5,
   "metadata": {
    "collapsed": false
   },
   "outputs": [
    {
     "name": "stdout",
     "output_type": "stream",
     "text": [
      "The sql module is not an IPython extension.\n"
     ]
    }
   ],
   "source": [
    "%load_ext sql"
   ]
  },
  {
   "cell_type": "markdown",
   "metadata": {},
   "source": [
    "Connect to the database. Note - enter your own connection string. For help on how to load the raw CSV file into a Postgre database, please refer to the documenatation in the lession plan on previous SQL lessons. "
   ]
  },
  {
   "cell_type": "code",
   "execution_count": 18,
   "metadata": {
    "collapsed": true
   },
   "outputs": [],
   "source": [
    "engine = create_engine('postgresql://localhost:5432/marshallgrant')"
   ]
  },
  {
   "cell_type": "code",
   "execution_count": null,
   "metadata": {
    "collapsed": false
   },
   "outputs": [],
   "source": [
    "pd.read_sql(\"SELECT * FROM information_schema.tables LIMIT 3;\", engine)"
   ]
  },
  {
   "cell_type": "code",
   "execution_count": null,
   "metadata": {
    "collapsed": false
   },
   "outputs": [],
   "source": [
    "wine = pd.read_csv('../../assets/datasets/wine.csv')\n"
   ]
  },
  {
   "cell_type": "code",
   "execution_count": null,
   "metadata": {
    "collapsed": false
   },
   "outputs": [],
   "source": [
    "wine.to_sql('wine',engine, if_exists='replace' )"
   ]
  },
  {
   "cell_type": "code",
   "execution_count": 23,
   "metadata": {
    "collapsed": false
   },
   "outputs": [
    {
     "ename": "SyntaxError",
     "evalue": "invalid syntax (<ipython-input-23-5e2acb9461e0>, line 3)",
     "output_type": "error",
     "traceback": [
      "\u001b[0;36m  File \u001b[0;32m\"<ipython-input-23-5e2acb9461e0>\"\u001b[0;36m, line \u001b[0;32m3\u001b[0m\n\u001b[0;31m    pd.read_sql('SELECT * FROM wine LIMIT '2'\u001b[0m\n\u001b[0m                                           ^\u001b[0m\n\u001b[0;31mSyntaxError\u001b[0m\u001b[0;31m:\u001b[0m invalid syntax\n"
     ]
    }
   ],
   "source": [
    "# pd.read_sql('SELECT * FROM wine LIMIT {}'.format(10)\n",
    "           # , engine)\n",
    "pd.read_sql('SELECT * FROM wine LIMIT '2'\n",
    "            , engine)"
   ]
  },
  {
   "cell_type": "markdown",
   "metadata": {},
   "source": [
    "Select all of the wines with varietal type \"Cabernet\" that have an alcohol content above 5 and create a new column "
   ]
  },
  {
   "cell_type": "code",
   "execution_count": null,
   "metadata": {
    "collapsed": false
   },
   "outputs": [],
   "source": [
    "result = % sql SELECT varietal,\n",
    "       CASE WHEN alcohol > 10 THEN '1'\n",
    "            ELSE NULL END AS cab_column\n",
    "FROM WINE"
   ]
  },
  {
   "cell_type": "markdown",
   "metadata": {},
   "source": [
    "Someone decided that they wanted to purchase *all* of these high alcohol cabs for their resteraunts, so make sure to mark them as *sold*. Your predicesor forgot to add a column for *sales date*, so you will have to add this in to the database table as well. "
   ]
  },
  {
   "cell_type": "code",
   "execution_count": null,
   "metadata": {
    "collapsed": true
   },
   "outputs": [],
   "source": []
  },
  {
   "cell_type": "markdown",
   "metadata": {},
   "source": [
    "Select all of the cabernets with high alcohol"
   ]
  },
  {
   "cell_type": "code",
   "execution_count": null,
   "metadata": {
    "collapsed": true
   },
   "outputs": [],
   "source": []
  },
  {
   "cell_type": "markdown",
   "metadata": {},
   "source": [
    "Set their sale date to today"
   ]
  },
  {
   "cell_type": "code",
   "execution_count": null,
   "metadata": {
    "collapsed": true
   },
   "outputs": [],
   "source": []
  },
  {
   "cell_type": "markdown",
   "metadata": {},
   "source": [
    "Now, for our analysis we want to take a look at all the high quality wines. Select the wines with ratings above 7 and save the result as a pandas dataframe"
   ]
  },
  {
   "cell_type": "code",
   "execution_count": null,
   "metadata": {
    "collapsed": true
   },
   "outputs": [],
   "source": []
  },
  {
   "cell_type": "code",
   "execution_count": null,
   "metadata": {
    "collapsed": true
   },
   "outputs": [],
   "source": []
  },
  {
   "cell_type": "markdown",
   "metadata": {},
   "source": [
    "But wait! You just recieved a call that we not only want to view high quality wines, but we want to see high quality wines with low acidity and medium alcohol content. Remember, we cannot include the wines already sold in this query. "
   ]
  },
  {
   "cell_type": "code",
   "execution_count": null,
   "metadata": {
    "collapsed": true
   },
   "outputs": [],
   "source": []
  },
  {
   "cell_type": "code",
   "execution_count": null,
   "metadata": {
    "collapsed": true
   },
   "outputs": [],
   "source": []
  },
  {
   "cell_type": "markdown",
   "metadata": {},
   "source": [
    "Lastly, we want to round the density column to two variables within the database."
   ]
  },
  {
   "cell_type": "code",
   "execution_count": null,
   "metadata": {
    "collapsed": true
   },
   "outputs": [],
   "source": []
  },
  {
   "cell_type": "markdown",
   "metadata": {},
   "source": [
    "**BONUS**: Continue to transform the data within the SQL database Pinot Noir's with low citric acid "
   ]
  },
  {
   "cell_type": "code",
   "execution_count": null,
   "metadata": {
    "collapsed": true
   },
   "outputs": [],
   "source": []
  }
 ],
 "metadata": {
  "kernelspec": {
   "display_name": "Python [default]",
   "language": "python",
   "name": "python2"
  },
  "language_info": {
   "codemirror_mode": {
    "name": "ipython",
    "version": 2
   },
   "file_extension": ".py",
   "mimetype": "text/x-python",
   "name": "python",
   "nbconvert_exporter": "python",
   "pygments_lexer": "ipython2",
   "version": "2.7.12"
  }
 },
 "nbformat": 4,
 "nbformat_minor": 0
}
