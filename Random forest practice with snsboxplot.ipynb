{
 "cells": [
  {
   "cell_type": "code",
   "execution_count": null,
   "metadata": {
    "collapsed": true
   },
   "outputs": [],
   "source": [
    "import pandas as pd\n",
    "import numpy as np"
   ]
  },
  {
   "cell_type": "code",
   "execution_count": null,
   "metadata": {
    "collapsed": false
   },
   "outputs": [],
   "source": [
    "X = pd.read_table('http://bit.ly/chiporders')"
   ]
  },
  {
   "cell_type": "code",
   "execution_count": null,
   "metadata": {
    "collapsed": false
   },
   "outputs": [],
   "source": [
    "X.head()"
   ]
  },
  {
   "cell_type": "code",
   "execution_count": null,
   "metadata": {
    "collapsed": false
   },
   "outputs": [],
   "source": [
    "pd.read_table('http://bit.ly/movieusers', sep = '|').head()"
   ]
  },
  {
   "cell_type": "code",
   "execution_count": null,
   "metadata": {
    "collapsed": false
   },
   "outputs": [],
   "source": [
    "ufo = pd.read_csv('http://bit.ly/uforeports')"
   ]
  },
  {
   "cell_type": "code",
   "execution_count": null,
   "metadata": {
    "collapsed": false
   },
   "outputs": [],
   "source": [
    "type(ufo)"
   ]
  },
  {
   "cell_type": "code",
   "execution_count": null,
   "metadata": {
    "collapsed": false
   },
   "outputs": [],
   "source": [
    "ufo.head()"
   ]
  },
  {
   "cell_type": "code",
   "execution_count": null,
   "metadata": {
    "collapsed": false
   },
   "outputs": [],
   "source": [
    "ufo.sample(n= 6, )"
   ]
  },
  {
   "cell_type": "code",
   "execution_count": null,
   "metadata": {
    "collapsed": false
   },
   "outputs": [],
   "source": [
    "ufo['location'] = ufo.City  +  ',' + ufo.State"
   ]
  },
  {
   "cell_type": "code",
   "execution_count": null,
   "metadata": {
    "collapsed": false
   },
   "outputs": [],
   "source": [
    "ufo.sample(2)"
   ]
  },
  {
   "cell_type": "code",
   "execution_count": null,
   "metadata": {
    "collapsed": true
   },
   "outputs": [],
   "source": [
    "movies = pd.read_csv('http://bit.ly/imdbratings')"
   ]
  },
  {
   "cell_type": "code",
   "execution_count": null,
   "metadata": {
    "collapsed": false
   },
   "outputs": [],
   "source": [
    "movies.sample(5)"
   ]
  },
  {
   "cell_type": "code",
   "execution_count": null,
   "metadata": {
    "collapsed": false
   },
   "outputs": [],
   "source": [
    "movies.describe(include = 'all')\n"
   ]
  },
  {
   "cell_type": "code",
   "execution_count": null,
   "metadata": {
    "collapsed": false
   },
   "outputs": [],
   "source": [
    "movies.shape\n"
   ]
  },
  {
   "cell_type": "code",
   "execution_count": null,
   "metadata": {
    "collapsed": false
   },
   "outputs": [],
   "source": [
    "movies.dtypes"
   ]
  },
  {
   "cell_type": "code",
   "execution_count": null,
   "metadata": {
    "collapsed": false
   },
   "outputs": [],
   "source": [
    "movies.head()"
   ]
  },
  {
   "cell_type": "code",
   "execution_count": null,
   "metadata": {
    "collapsed": false
   },
   "outputs": [],
   "source": [
    "movies.sort_values('duration', inplace = True)"
   ]
  },
  {
   "cell_type": "code",
   "execution_count": null,
   "metadata": {
    "collapsed": false
   },
   "outputs": [],
   "source": [
    "movies.head()"
   ]
  },
  {
   "cell_type": "code",
   "execution_count": null,
   "metadata": {
    "collapsed": false
   },
   "outputs": [],
   "source": [
    "drinks = pd.read_csv('http://bit.ly/drinksbycountry')"
   ]
  },
  {
   "cell_type": "code",
   "execution_count": null,
   "metadata": {
    "collapsed": false
   },
   "outputs": [],
   "source": [
    "drinks.sample(5)"
   ]
  },
  {
   "cell_type": "code",
   "execution_count": null,
   "metadata": {
    "collapsed": false
   },
   "outputs": [],
   "source": [
    "from __future__ import print_function, division\n",
    "\n",
    "import math\n",
    "import numpy as np\n",
    "from scipy.special import gamma\n",
    "\n",
    "from thinkbayes2 import Pmf, Suite"
   ]
  },
  {
   "cell_type": "code",
   "execution_count": 1,
   "metadata": {
    "collapsed": true
   },
   "outputs": [],
   "source": [
    "%matplotlib inline\n",
    "import numpy as np \n",
    "import pandas as pd\n",
    "import sklearn\n",
    "import seaborn as sns\n",
    "from matplotlib import pyplot as plt\n",
    "\n",
    "import sklearn.cross_validation"
   ]
  },
  {
   "cell_type": "code",
   "execution_count": 2,
   "metadata": {
    "collapsed": false
   },
   "outputs": [],
   "source": [
    "wine_df = pd.read_csv('https://archive.ics.uci.edu/ml/machine-learning-databases/wine-quality/winequality-red.csv', sep=\";\")"
   ]
  },
  {
   "cell_type": "code",
   "execution_count": 3,
   "metadata": {
    "collapsed": false
   },
   "outputs": [
    {
     "data": {
      "text/html": [
       "<div>\n",
       "<table border=\"1\" class=\"dataframe\">\n",
       "  <thead>\n",
       "    <tr style=\"text-align: right;\">\n",
       "      <th></th>\n",
       "      <th>fixed acidity</th>\n",
       "      <th>volatile acidity</th>\n",
       "      <th>citric acid</th>\n",
       "      <th>residual sugar</th>\n",
       "      <th>chlorides</th>\n",
       "      <th>free sulfur dioxide</th>\n",
       "      <th>total sulfur dioxide</th>\n",
       "      <th>density</th>\n",
       "      <th>pH</th>\n",
       "      <th>sulphates</th>\n",
       "      <th>alcohol</th>\n",
       "      <th>quality</th>\n",
       "    </tr>\n",
       "  </thead>\n",
       "  <tbody>\n",
       "    <tr>\n",
       "      <th>414</th>\n",
       "      <td>8.8</td>\n",
       "      <td>0.52</td>\n",
       "      <td>0.34</td>\n",
       "      <td>2.7</td>\n",
       "      <td>0.087</td>\n",
       "      <td>24.0</td>\n",
       "      <td>122.0</td>\n",
       "      <td>0.99820</td>\n",
       "      <td>3.26</td>\n",
       "      <td>0.61</td>\n",
       "      <td>9.5</td>\n",
       "      <td>5</td>\n",
       "    </tr>\n",
       "    <tr>\n",
       "      <th>1144</th>\n",
       "      <td>7.3</td>\n",
       "      <td>0.32</td>\n",
       "      <td>0.23</td>\n",
       "      <td>2.3</td>\n",
       "      <td>0.066</td>\n",
       "      <td>35.0</td>\n",
       "      <td>70.0</td>\n",
       "      <td>0.99588</td>\n",
       "      <td>3.43</td>\n",
       "      <td>0.62</td>\n",
       "      <td>10.1</td>\n",
       "      <td>5</td>\n",
       "    </tr>\n",
       "    <tr>\n",
       "      <th>348</th>\n",
       "      <td>9.6</td>\n",
       "      <td>0.56</td>\n",
       "      <td>0.31</td>\n",
       "      <td>2.8</td>\n",
       "      <td>0.089</td>\n",
       "      <td>15.0</td>\n",
       "      <td>46.0</td>\n",
       "      <td>0.99790</td>\n",
       "      <td>3.11</td>\n",
       "      <td>0.92</td>\n",
       "      <td>10.0</td>\n",
       "      <td>6</td>\n",
       "    </tr>\n",
       "    <tr>\n",
       "      <th>937</th>\n",
       "      <td>12.0</td>\n",
       "      <td>0.63</td>\n",
       "      <td>0.50</td>\n",
       "      <td>1.4</td>\n",
       "      <td>0.071</td>\n",
       "      <td>6.0</td>\n",
       "      <td>26.0</td>\n",
       "      <td>0.99791</td>\n",
       "      <td>3.07</td>\n",
       "      <td>0.60</td>\n",
       "      <td>10.4</td>\n",
       "      <td>4</td>\n",
       "    </tr>\n",
       "    <tr>\n",
       "      <th>11</th>\n",
       "      <td>7.5</td>\n",
       "      <td>0.50</td>\n",
       "      <td>0.36</td>\n",
       "      <td>6.1</td>\n",
       "      <td>0.071</td>\n",
       "      <td>17.0</td>\n",
       "      <td>102.0</td>\n",
       "      <td>0.99780</td>\n",
       "      <td>3.35</td>\n",
       "      <td>0.80</td>\n",
       "      <td>10.5</td>\n",
       "      <td>5</td>\n",
       "    </tr>\n",
       "  </tbody>\n",
       "</table>\n",
       "</div>"
      ],
      "text/plain": [
       "      fixed acidity  volatile acidity  citric acid  residual sugar  chlorides  \\\n",
       "414             8.8              0.52         0.34             2.7      0.087   \n",
       "1144            7.3              0.32         0.23             2.3      0.066   \n",
       "348             9.6              0.56         0.31             2.8      0.089   \n",
       "937            12.0              0.63         0.50             1.4      0.071   \n",
       "11              7.5              0.50         0.36             6.1      0.071   \n",
       "\n",
       "      free sulfur dioxide  total sulfur dioxide  density    pH  sulphates  \\\n",
       "414                  24.0                 122.0  0.99820  3.26       0.61   \n",
       "1144                 35.0                  70.0  0.99588  3.43       0.62   \n",
       "348                  15.0                  46.0  0.99790  3.11       0.92   \n",
       "937                   6.0                  26.0  0.99791  3.07       0.60   \n",
       "11                   17.0                 102.0  0.99780  3.35       0.80   \n",
       "\n",
       "      alcohol  quality  \n",
       "414       9.5        5  \n",
       "1144     10.1        5  \n",
       "348      10.0        6  \n",
       "937      10.4        4  \n",
       "11       10.5        5  "
      ]
     },
     "execution_count": 3,
     "metadata": {},
     "output_type": "execute_result"
    }
   ],
   "source": [
    "wine_df.sample(5)"
   ]
  },
  {
   "cell_type": "code",
   "execution_count": 4,
   "metadata": {
    "collapsed": false
   },
   "outputs": [
    {
     "data": {
      "text/html": [
       "<div>\n",
       "<table border=\"1\" class=\"dataframe\">\n",
       "  <thead>\n",
       "    <tr style=\"text-align: right;\">\n",
       "      <th></th>\n",
       "      <th>fixed acidity</th>\n",
       "      <th>volatile acidity</th>\n",
       "      <th>citric acid</th>\n",
       "      <th>residual sugar</th>\n",
       "      <th>chlorides</th>\n",
       "      <th>free sulfur dioxide</th>\n",
       "      <th>total sulfur dioxide</th>\n",
       "      <th>density</th>\n",
       "      <th>pH</th>\n",
       "      <th>sulphates</th>\n",
       "      <th>alcohol</th>\n",
       "    </tr>\n",
       "  </thead>\n",
       "  <tbody>\n",
       "    <tr>\n",
       "      <th>0</th>\n",
       "      <td>7.4</td>\n",
       "      <td>0.70</td>\n",
       "      <td>0.00</td>\n",
       "      <td>1.9</td>\n",
       "      <td>0.076</td>\n",
       "      <td>11.0</td>\n",
       "      <td>34.0</td>\n",
       "      <td>0.9978</td>\n",
       "      <td>3.51</td>\n",
       "      <td>0.56</td>\n",
       "      <td>9.4</td>\n",
       "    </tr>\n",
       "    <tr>\n",
       "      <th>1</th>\n",
       "      <td>7.8</td>\n",
       "      <td>0.88</td>\n",
       "      <td>0.00</td>\n",
       "      <td>2.6</td>\n",
       "      <td>0.098</td>\n",
       "      <td>25.0</td>\n",
       "      <td>67.0</td>\n",
       "      <td>0.9968</td>\n",
       "      <td>3.20</td>\n",
       "      <td>0.68</td>\n",
       "      <td>9.8</td>\n",
       "    </tr>\n",
       "    <tr>\n",
       "      <th>2</th>\n",
       "      <td>7.8</td>\n",
       "      <td>0.76</td>\n",
       "      <td>0.04</td>\n",
       "      <td>2.3</td>\n",
       "      <td>0.092</td>\n",
       "      <td>15.0</td>\n",
       "      <td>54.0</td>\n",
       "      <td>0.9970</td>\n",
       "      <td>3.26</td>\n",
       "      <td>0.65</td>\n",
       "      <td>9.8</td>\n",
       "    </tr>\n",
       "    <tr>\n",
       "      <th>3</th>\n",
       "      <td>11.2</td>\n",
       "      <td>0.28</td>\n",
       "      <td>0.56</td>\n",
       "      <td>1.9</td>\n",
       "      <td>0.075</td>\n",
       "      <td>17.0</td>\n",
       "      <td>60.0</td>\n",
       "      <td>0.9980</td>\n",
       "      <td>3.16</td>\n",
       "      <td>0.58</td>\n",
       "      <td>9.8</td>\n",
       "    </tr>\n",
       "    <tr>\n",
       "      <th>4</th>\n",
       "      <td>7.4</td>\n",
       "      <td>0.70</td>\n",
       "      <td>0.00</td>\n",
       "      <td>1.9</td>\n",
       "      <td>0.076</td>\n",
       "      <td>11.0</td>\n",
       "      <td>34.0</td>\n",
       "      <td>0.9978</td>\n",
       "      <td>3.51</td>\n",
       "      <td>0.56</td>\n",
       "      <td>9.4</td>\n",
       "    </tr>\n",
       "  </tbody>\n",
       "</table>\n",
       "</div>"
      ],
      "text/plain": [
       "   fixed acidity  volatile acidity  citric acid  residual sugar  chlorides  \\\n",
       "0            7.4              0.70         0.00             1.9      0.076   \n",
       "1            7.8              0.88         0.00             2.6      0.098   \n",
       "2            7.8              0.76         0.04             2.3      0.092   \n",
       "3           11.2              0.28         0.56             1.9      0.075   \n",
       "4            7.4              0.70         0.00             1.9      0.076   \n",
       "\n",
       "   free sulfur dioxide  total sulfur dioxide  density    pH  sulphates  \\\n",
       "0                 11.0                  34.0   0.9978  3.51       0.56   \n",
       "1                 25.0                  67.0   0.9968  3.20       0.68   \n",
       "2                 15.0                  54.0   0.9970  3.26       0.65   \n",
       "3                 17.0                  60.0   0.9980  3.16       0.58   \n",
       "4                 11.0                  34.0   0.9978  3.51       0.56   \n",
       "\n",
       "   alcohol  \n",
       "0      9.4  \n",
       "1      9.8  \n",
       "2      9.8  \n",
       "3      9.8  \n",
       "4      9.4  "
      ]
     },
     "execution_count": 4,
     "metadata": {},
     "output_type": "execute_result"
    }
   ],
   "source": [
    "Y = wine_df.quality.values\n",
    "wine_df = wine_df.drop('quality', axis = 1)\n",
    "Y = np.asarray([1 if i>=7 else 0 for i in Y])\n",
    "\n",
    "wine_df.head()\n",
    "\n",
    "\n"
   ]
  },
  {
   "cell_type": "code",
   "execution_count": 5,
   "metadata": {
    "collapsed": false
   },
   "outputs": [
    {
     "data": {
      "text/plain": [
       "array([0, 0, 0, ..., 0, 0, 0])"
      ]
     },
     "execution_count": 5,
     "metadata": {},
     "output_type": "execute_result"
    }
   ],
   "source": [
    "Y"
   ]
  },
  {
   "cell_type": "code",
   "execution_count": 6,
   "metadata": {
    "collapsed": true
   },
   "outputs": [],
   "source": [
    "X = wine_df.as_matrix()"
   ]
  },
  {
   "cell_type": "code",
   "execution_count": 9,
   "metadata": {
    "collapsed": true
   },
   "outputs": [],
   "source": [
    "from sklearn.ensemble import RandomForestClassifier\n",
    "from sklearn.cross_validation import cross_val_score\n",
    "\n",
    "scores = []\n",
    "\n",
    "for val in range(1,41):\n",
    "    clf = RandomForestClassifier(n_estimators = val) #n_estimators is the parameter specifying the number of trees inRandomForestClassifier\n",
    "    validated = cross_val_score(clf, X, Y, cv =10)\n",
    "    scores.append(validated)\n",
    "    "
   ]
  },
  {
   "cell_type": "code",
   "execution_count": 11,
   "metadata": {
    "collapsed": false
   },
   "outputs": [
    {
     "data": {
      "text/plain": [
       "[array([ 0.8757764 ,  0.82608696,  0.775     ,  0.85625   ,  0.83125   ,\n",
       "         0.80625   ,  0.825     ,  0.8427673 ,  0.88679245,  0.82389937]),\n",
       " array([ 0.86956522,  0.86335404,  0.81875   ,  0.80625   ,  0.8875    ,\n",
       "         0.86875   ,  0.83125   ,  0.85534591,  0.87421384,  0.89937107]),\n",
       " array([ 0.90062112,  0.86956522,  0.8125    ,  0.85      ,  0.86875   ,\n",
       "         0.83125   ,  0.81875   ,  0.80503145,  0.86792453,  0.8427673 ]),\n",
       " array([ 0.88819876,  0.90062112,  0.8375    ,  0.83125   ,  0.90625   ,\n",
       "         0.8375    ,  0.8625    ,  0.85534591,  0.88050314,  0.85534591]),\n",
       " array([ 0.85714286,  0.85093168,  0.86875   ,  0.8125    ,  0.8875    ,\n",
       "         0.8375    ,  0.83125   ,  0.8427673 ,  0.86163522,  0.87421384]),\n",
       " array([ 0.88198758,  0.8757764 ,  0.80625   ,  0.8875    ,  0.9       ,\n",
       "         0.83125   ,  0.84375   ,  0.86792453,  0.89308176,  0.89937107]),\n",
       " array([ 0.88198758,  0.88819876,  0.8625    ,  0.83125   ,  0.90625   ,\n",
       "         0.85625   ,  0.83125   ,  0.83018868,  0.86792453,  0.88050314]),\n",
       " array([ 0.8757764 ,  0.88198758,  0.83125   ,  0.85625   ,  0.8875    ,\n",
       "         0.85      ,  0.86875   ,  0.82389937,  0.8490566 ,  0.87421384]),\n",
       " array([ 0.88819876,  0.88198758,  0.86875   ,  0.81875   ,  0.9125    ,\n",
       "         0.88125   ,  0.825     ,  0.85534591,  0.88679245,  0.85534591]),\n",
       " array([ 0.88198758,  0.89440994,  0.85      ,  0.89375   ,  0.89375   ,\n",
       "         0.86875   ,  0.8625    ,  0.88050314,  0.88050314,  0.88679245]),\n",
       " array([ 0.90062112,  0.89440994,  0.84375   ,  0.80625   ,  0.8875    ,\n",
       "         0.875     ,  0.8625    ,  0.88679245,  0.87421384,  0.88679245]),\n",
       " array([ 0.88819876,  0.89440994,  0.85      ,  0.86875   ,  0.9       ,\n",
       "         0.8375    ,  0.83125   ,  0.86792453,  0.88050314,  0.89308176]),\n",
       " array([ 0.89440994,  0.88819876,  0.88125   ,  0.89375   ,  0.9       ,\n",
       "         0.81875   ,  0.8375    ,  0.88050314,  0.86163522,  0.89937107]),\n",
       " array([ 0.86956522,  0.88819876,  0.8625    ,  0.825     ,  0.8875    ,\n",
       "         0.8375    ,  0.8625    ,  0.87421384,  0.86792453,  0.89308176]),\n",
       " array([ 0.8757764 ,  0.89440994,  0.83125   ,  0.80625   ,  0.9       ,\n",
       "         0.83125   ,  0.8125    ,  0.89308176,  0.8490566 ,  0.88050314]),\n",
       " array([ 0.88819876,  0.88819876,  0.83125   ,  0.85625   ,  0.89375   ,\n",
       "         0.9       ,  0.875     ,  0.8490566 ,  0.86792453,  0.89308176]),\n",
       " array([ 0.8757764 ,  0.90062112,  0.8375    ,  0.8375    ,  0.9       ,\n",
       "         0.85625   ,  0.81875   ,  0.88050314,  0.89308176,  0.88050314]),\n",
       " array([ 0.86335404,  0.88819876,  0.8625    ,  0.86875   ,  0.90625   ,\n",
       "         0.85625   ,  0.84375   ,  0.88679245,  0.86163522,  0.86792453]),\n",
       " array([ 0.86335404,  0.89440994,  0.85      ,  0.8125    ,  0.89375   ,\n",
       "         0.81875   ,  0.85625   ,  0.86163522,  0.88050314,  0.9245283 ]),\n",
       " array([ 0.8757764 ,  0.89440994,  0.8625    ,  0.8625    ,  0.90625   ,\n",
       "         0.8625    ,  0.85      ,  0.85534591,  0.8490566 ,  0.88050314]),\n",
       " array([ 0.90062112,  0.89440994,  0.875     ,  0.84375   ,  0.9125    ,\n",
       "         0.8375    ,  0.8625    ,  0.87421384,  0.88679245,  0.86792453]),\n",
       " array([ 0.88198758,  0.89440994,  0.86875   ,  0.8625    ,  0.90625   ,\n",
       "         0.81875   ,  0.85      ,  0.88679245,  0.88679245,  0.89937107]),\n",
       " array([ 0.8757764 ,  0.8757764 ,  0.8625    ,  0.85625   ,  0.89375   ,\n",
       "         0.85      ,  0.83125   ,  0.86792453,  0.86792453,  0.88050314]),\n",
       " array([ 0.86956522,  0.88198758,  0.86875   ,  0.85      ,  0.88125   ,\n",
       "         0.8625    ,  0.8625    ,  0.88050314,  0.87421384,  0.89308176]),\n",
       " array([ 0.88198758,  0.90062112,  0.85      ,  0.83125   ,  0.90625   ,\n",
       "         0.85      ,  0.825     ,  0.86163522,  0.86792453,  0.88679245]),\n",
       " array([ 0.8757764 ,  0.90062112,  0.85625   ,  0.85625   ,  0.89375   ,\n",
       "         0.86875   ,  0.86875   ,  0.86163522,  0.89308176,  0.90566038]),\n",
       " array([ 0.8757764 ,  0.89440994,  0.85      ,  0.89375   ,  0.90625   ,\n",
       "         0.84375   ,  0.86875   ,  0.90566038,  0.89308176,  0.87421384]),\n",
       " array([ 0.88819876,  0.88819876,  0.84375   ,  0.88125   ,  0.9125    ,\n",
       "         0.875     ,  0.84375   ,  0.86163522,  0.86792453,  0.89308176]),\n",
       " array([ 0.86956522,  0.9068323 ,  0.86875   ,  0.83125   ,  0.90625   ,\n",
       "         0.85625   ,  0.83125   ,  0.88050314,  0.88050314,  0.88679245]),\n",
       " array([ 0.90062112,  0.88819876,  0.875     ,  0.8875    ,  0.9       ,\n",
       "         0.8125    ,  0.84375   ,  0.88679245,  0.88679245,  0.89937107]),\n",
       " array([ 0.88819876,  0.88819876,  0.83125   ,  0.8375    ,  0.9       ,\n",
       "         0.85625   ,  0.825     ,  0.89308176,  0.88050314,  0.89308176]),\n",
       " array([ 0.8757764 ,  0.88819876,  0.8625    ,  0.88125   ,  0.8875    ,\n",
       "         0.8625    ,  0.83125   ,  0.88050314,  0.88679245,  0.87421384]),\n",
       " array([ 0.8757764 ,  0.86956522,  0.85      ,  0.85      ,  0.89375   ,\n",
       "         0.84375   ,  0.8375    ,  0.87421384,  0.86792453,  0.88050314]),\n",
       " array([ 0.88819876,  0.88819876,  0.8625    ,  0.825     ,  0.8875    ,\n",
       "         0.875     ,  0.8375    ,  0.87421384,  0.88050314,  0.87421384]),\n",
       " array([ 0.8757764 ,  0.90062112,  0.8625    ,  0.83125   ,  0.89375   ,\n",
       "         0.85      ,  0.85      ,  0.93081761,  0.86163522,  0.88679245]),\n",
       " array([ 0.90062112,  0.8757764 ,  0.85      ,  0.86875   ,  0.90625   ,\n",
       "         0.8375    ,  0.85      ,  0.87421384,  0.87421384,  0.91823899]),\n",
       " array([ 0.90062112,  0.90062112,  0.85      ,  0.8375    ,  0.9       ,\n",
       "         0.86875   ,  0.8375    ,  0.89308176,  0.88050314,  0.88050314]),\n",
       " array([ 0.88198758,  0.90062112,  0.86875   ,  0.89375   ,  0.9       ,\n",
       "         0.8875    ,  0.84375   ,  0.89308176,  0.88050314,  0.89937107]),\n",
       " array([ 0.86956522,  0.89440994,  0.8375    ,  0.86875   ,  0.9       ,\n",
       "         0.8625    ,  0.85625   ,  0.86792453,  0.87421384,  0.89308176]),\n",
       " array([ 0.86335404,  0.89440994,  0.85625   ,  0.875     ,  0.90625   ,\n",
       "         0.8875    ,  0.8375    ,  0.86792453,  0.88050314,  0.88050314])]"
      ]
     },
     "execution_count": 11,
     "metadata": {},
     "output_type": "execute_result"
    }
   ],
   "source": [
    "scores\n"
   ]
  },
  {
   "cell_type": "code",
   "execution_count": 12,
   "metadata": {
    "collapsed": false,
    "scrolled": true
   },
   "outputs": [
    {
     "data": {
      "image/png": "[encoded data removed]",
      "text/plain": [
       "<matplotlib.figure.Figure at 0x1179de9d0>"
      ]
     },
     "metadata": {},
     "output_type": "display_data"
    }
   ],
   "source": [
    "sns.boxplot(data = scores)\n",
    "plt.xlabel('number of trees')\n",
    "plt.ylabel('Classification scores')\n",
    "plt.title('Classification score for number of trees')\n",
    "plt.show()"
   ]
  },
  {
   "cell_type": "code",
   "execution_count": 13,
   "metadata": {
    "collapsed": false
   },
   "outputs": [
    {
     "name": "stdout",
     "output_type": "stream",
     "text": [
      "86.4290181363\n"
     ]
    },
    {
     "data": {
      "image/png": "[encoded data removed]",
      "text/plain": [
       "<matplotlib.figure.Figure at 0x11afbed50>"
      ]
     },
     "metadata": {},
     "output_type": "display_data"
    }
   ],
   "source": [
    "len_y = len(Y)\n",
    "temp = [i for i in Y if i ==0]\n",
    "temp_1 = temp.count(0)\n",
    "\n",
    "percentage = float(temp_1)/float(len_y)\n",
    "\n",
    "print float(temp_1)/float(len_y) * 100\n",
    "\n",
    "sns.boxplot(data = scores)\n",
    "plt.axhline(y = percentage, ls = '--')\n",
    "\n",
    "plt.xlabel('number of trees')\n",
    "plt.ylabel('Classification Scores')\n",
    "plt.title('Classification scores for trees')\n",
    "\n",
    "plt.show()"
   ]
  },
  {
   "cell_type": "code",
   "execution_count": 15,
   "metadata": {
    "collapsed": true
   },
   "outputs": [],
   "source": [
    "f1_scores = []\n",
    "\n",
    "for val in range(1,41):\n",
    "    clf = RandomForestClassifier(n_estimators = val) #n_estimators is the parameter specifying the number of trees inRandomForestClassifier\n",
    "    validated = cross_val_score(clf, X, Y, cv =10, scoring = 'f1')\n",
    "    f1_scores.append(validated)"
   ]
  },
  {
   "cell_type": "code",
   "execution_count": 17,
   "metadata": {
    "collapsed": false
   },
   "outputs": [
    {
     "data": {
      "image/png": "[encoded data removed]",
      "text/plain": [
       "<matplotlib.figure.Figure at 0x11ad21190>"
      ]
     },
     "metadata": {},
     "output_type": "display_data"
    }
   ],
   "source": [
    "sns.boxplot(data = f1_scores)\n",
    "plt.xlabel('number of trees')\n",
    "plt.ylabel('F1 scores')\n",
    "plt.title('F1 scores as a function of the number of trees')\n",
    "plt.show()"
   ]
  },
  {
   "cell_type": "code",
   "execution_count": null,
   "metadata": {
    "collapsed": true
   },
   "outputs": [],
   "source": []
  }
 ],
 "metadata": {
  "anaconda-cloud": {},
  "kernelspec": {
   "display_name": "Python [default]",
   "language": "python",
   "name": "python2"
  },
  "language_info": {
   "codemirror_mode": {
    "name": "ipython",
    "version": 2
   },
   "file_extension": ".py",
   "mimetype": "text/x-python",
   "name": "python",
   "nbconvert_exporter": "python",
   "pygments_lexer": "ipython2",
   "version": "2.7.12"
  }
 },
 "nbformat": 4,
 "nbformat_minor": 1
}
