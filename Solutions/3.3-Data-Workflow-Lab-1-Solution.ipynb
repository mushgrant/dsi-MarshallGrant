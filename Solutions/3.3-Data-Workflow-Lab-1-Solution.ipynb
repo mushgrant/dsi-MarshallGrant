{
 "cells": [
  {
   "cell_type": "markdown",
   "metadata": {},
   "source": [
    "# Data Workflow Lab 1 Solutions\n",
    "\n",
    "There are many valid solutions."
   ]
  },
  {
   "cell_type": "code",
   "execution_count": 2,
   "metadata": {
    "collapsed": true
   },
   "outputs": [],
   "source": [
    "% matplotlib inline\n",
    "\n",
    "from collections import defaultdict\n",
    "import datetime\n",
    "\n",
    "from matplotlib import pyplot as plt\n",
    "# Make the plots bigger\n",
    "plt.rcParams['figure.figsize'] = 10, 10\n",
    "import seaborn as sns\n",
    "\n",
    "import numpy as np\n",
    "import pandas as pd\n",
    "from sklearn import linear_model"
   ]
  },
  {
   "cell_type": "code",
   "execution_count": 4,
   "metadata": {
    "collapsed": false
   },
   "outputs": [
    {
     "ename": "SyntaxError",
     "evalue": "invalid syntax (<ipython-input-4-15a35f4fb364>, line 3)",
     "output_type": "error",
     "traceback": [
      "\u001b[0;36m  File \u001b[0;32m\"<ipython-input-4-15a35f4fb364>\"\u001b[0;36m, line \u001b[0;32m3\u001b[0m\n\u001b[0;31m    df = pd.read_csv(\"\"../../assets/Iowa_Liquor_sales_sample_10pct.csv\"\")\u001b[0m\n\u001b[0m                        ^\u001b[0m\n\u001b[0;31mSyntaxError\u001b[0m\u001b[0;31m:\u001b[0m invalid syntax\n"
     ]
    }
   ],
   "source": [
    "# Load the data\n",
    "\n",
    "df = pd.read_csv(\"\"../../assets/Iowa_Liquor_sales_sample_10pct.csv\"\")\n",
    "\n",
    "print df.columns\n",
    "\n",
    "df.head()"
   ]
  },
  {
   "cell_type": "markdown",
   "metadata": {},
   "source": [
    "## Clean the data\n",
    "\n",
    "Let's practice our data cleaning skills on the Project 3 dataset. If you don't remember how to do any of these tasks, look back at your work from the previous weeks or search the internet. There are many blog articles and Stack Overflow posts that cover these topics.\n",
    "\n",
    "You'll want to complete at least the following tasks:\n",
    "* Remove redundant columns\n",
    "* Remove \"$\" prices from characters and convert values to floats.\n",
    "* Convert dates to pandas datetime objects\n",
    "* Convert category floats to integers\n",
    "* Drop or fill in bad values"
   ]
  },
  {
   "cell_type": "code",
   "execution_count": null,
   "metadata": {
    "collapsed": true
   },
   "outputs": [],
   "source": [
    "# Remove redundant columns\n",
    "del df[\"Category Name\"]\n",
    "del df[\"Item Description\"]\n",
    "del df[\"County\"]"
   ]
  },
  {
   "cell_type": "code",
   "execution_count": null,
   "metadata": {
    "collapsed": false
   },
   "outputs": [],
   "source": [
    "# Remove $ from certain columns\n",
    "cols = [\"State Bottle Cost\", \"State Bottle Retail\", \"Sale (Dollars)\"]\n",
    "for col in cols:\n",
    "    df[col] = df[col].apply(lambda x: float(x[1:]))"
   ]
  },
  {
   "cell_type": "code",
   "execution_count": null,
   "metadata": {
    "collapsed": true
   },
   "outputs": [],
   "source": [
    "# Convert dates\n",
    "df[\"Date\"] = pd.to_datetime(df[\"Date\"], format=\"%m/%d/%Y\")"
   ]
  },
  {
   "cell_type": "code",
   "execution_count": null,
   "metadata": {
    "collapsed": false
   },
   "outputs": [],
   "source": [
    "# Drop bad values\n",
    "df = df.dropna()\n",
    "\n",
    "# Convert integers\n",
    "df[\"County Number\"] = df[\"County Number\"].astype(int)\n",
    "df[\"Category\"] = df[\"Category\"].astype(int)\n",
    "df.head()"
   ]
  },
  {
   "cell_type": "markdown",
   "metadata": {},
   "source": [
    "## Filter the Data\n",
    "\n",
    "Some stores may have opened or closed in 2015. These data points will heavily skew our models, so we need to filter them out or find a way to deal with them.\n",
    "\n",
    "You'll need to provide a summary in your project report about these data points. You may also consider using the monthly sales in your model and including other information (number of months or days each store is open) in your data to handle these unusual cases.\n",
    "\n",
    "Let's record the first and last sales dates for each store. We'll save this information for later when we fit our models."
   ]
  },
  {
   "cell_type": "code",
   "execution_count": null,
   "metadata": {
    "collapsed": false
   },
   "outputs": [],
   "source": [
    "# Determine which stores were open all of 2015\n",
    "# Find the first and last sales date.\n",
    "dates = df.groupby(by=[\"Store Number\"], as_index=False)\n",
    "dates = dates.agg({\"Date\": [np.min, np.max]})\n",
    "dates.columns = [' '.join(col).strip() for col in dates.columns.values]\n",
    "dates.head()\n",
    "\n",
    "# Filter out stores that opened or closed throughout the year\n",
    "lower_cutoff = pd.Timestamp(\"20150301\")\n",
    "upper_cutoff = pd.Timestamp(\"20151001\")\n",
    "mask = (dates['Date amin'] < lower_cutoff) & (dates['Date amax'] > upper_cutoff)\n",
    "good_stores = dates[mask][\"Store Number\"]\n",
    "df = df[df[\"Store Number\"].isin(good_stores)] #You may want to save this step until you start modelling\n"
   ]
  },
  {
   "cell_type": "markdown",
   "metadata": {},
   "source": [
    "## Compute New Columns and Tables\n",
    "\n",
    "Since we're trying to predict sales and/or profits, we'll want to compute some intermediate data. There are a lot of ways to do thisand good use of pandas is crucial. For example, for each transaction we may want to know:\n",
    "* margin, retail cost minus bottle cost\n",
    "* price per bottle\n",
    "* price per liter\n",
    "\n",
    "We'll need to make a new dataframe that indexes quantities by store:\n",
    "* sales per store for all of 2015\n",
    "* sales per store for Q1 2015\n",
    "* sales per store for Q1 2016\n",
    "* total volumes sold\n",
    "* mean transaction revenue, gross margin, price per bottle, price per liter, etc.\n",
    "* average sales per day\n",
    "* number of days open\n",
    "\n",
    "Make sure to retain other variables that we'll want to use to build our models, such as zip code, county number, city, etc. We recommend that you spend some time thinking about the model you may want to fit and computing enough of the suggested quantities to give you a few options.\n",
    "\n",
    "Bonus tasks:\n",
    "* Restrict your attention to stores that were open for all of 2015 and Q1 2016. Stores that opened or closed in 2015 will introduce outliers into your data.\n",
    "* For each transaction we have the item category. You may be able to determine the store type (primarily wine, liquor, all types of alcohol, etc.) by the most common transaction category for each store. This could be a useful categorical variable for modelling. "
   ]
  },
  {
   "cell_type": "code",
   "execution_count": null,
   "metadata": {
    "collapsed": false
   },
   "outputs": [],
   "source": [
    "# Margin\n",
    "df[\"Margin\"] = (df[\"State Bottle Retail\"] - df[\"State Bottle Cost\"]) * df[\"Bottles Sold\"]\n",
    "df[\"Price per Liter\"] = df[\"Sale (Dollars)\"] / df[\"Volume Sold (Liters)\"]\n",
    "df.head()"
   ]
  },
  {
   "cell_type": "code",
   "execution_count": null,
   "metadata": {
    "collapsed": false
   },
   "outputs": [],
   "source": [
    "# Sales per store, 2015\n",
    "\n",
    "# Filter by our start and end dates\n",
    "df.sort_values(by=[\"Store Number\", \"Date\"], inplace=True)\n",
    "start_date = pd.Timestamp(\"20150101\")\n",
    "end_date = pd.Timestamp(\"20151231\")\n",
    "mask = (df['Date'] >= start_date) & (df['Date'] <= end_date)\n",
    "sales = df[mask]\n",
    "\n",
    "# Group by store name\n",
    "sales = sales.groupby(by=[\"Store Number\"], as_index=False)\n",
    "# Compute sums, means\n",
    "sales = sales.agg({\"Sale (Dollars)\": [np.sum, np.mean],\n",
    "                   \"Volume Sold (Liters)\": [np.sum, np.mean],\n",
    "                   \"Margin\": np.mean,\n",
    "                   \"Price per Liter\": np.mean,\n",
    "                   \"Zip Code\": lambda x: x.iloc[0], # just extract once, should be the same\n",
    "                   \"City\": lambda x: x.iloc[0],\n",
    "                   \"County Number\": lambda x: x.iloc[0]})\n",
    "# Collapse the column indices\n",
    "sales.columns = [' '.join(col).strip() for col in sales.columns.values]\n",
    "# Rename columns\n",
    "sales.columns = [u'Store Number', u'City', u'2015 Sales',\n",
    "       u'2015 Sales mean', u'County Number',\n",
    "       u'Price per Liter mean', u'Zip Code',\n",
    "       u'2015 Volume Sold (Liters)', u'2015 Volume Sold (Liters) mean',\n",
    "       u'2015 Margin mean']\n",
    "# Quick check\n",
    "sales.head()"
   ]
  },
  {
   "cell_type": "code",
   "execution_count": null,
   "metadata": {
    "collapsed": false
   },
   "outputs": [],
   "source": [
    "# Q1 sales, may want to also use aggregate as above to have more columns (means, etc.)\n",
    "\n",
    "# Sales 2015  Q1\n",
    "start_date = pd.Timestamp(\"20150101\")\n",
    "end_date = pd.Timestamp(\"20150331\")\n",
    "df.sort_values(by=[\"Store Number\", \"Date\"], inplace=True)\n",
    "mask = (df['Date'] >= start_date) & (df['Date'] <= end_date)\n",
    "df2 = df[mask].groupby(by=[\"Store Number\"], as_index=False)[\"Sale (Dollars)\"].sum()\n",
    "sales[\"2015 Sales Q1\"] = df2[\"Sale (Dollars)\"]\n",
    "\n",
    "# Sales 2016 Q1\n",
    "start_date = pd.Timestamp(\"20160101\")\n",
    "end_date = pd.Timestamp(\"20160331\")\n",
    "df.sort_values(by=[\"Store Number\", \"Date\"], inplace=True)\n",
    "mask = (df['Date'] >= start_date) & (df['Date'] <= end_date)\n",
    "df2 = df[mask].groupby(by=[\"Store Number\"], as_index=False)[\"Sale (Dollars)\"].sum()\n",
    "sales[\"2016 Sales Q1\"] = df2[\"Sale (Dollars)\"]\n",
    "\n",
    "sales.head()"
   ]
  },
  {
   "cell_type": "code",
   "execution_count": null,
   "metadata": {
    "collapsed": false
   },
   "outputs": [],
   "source": [
    "# Quick plot to check the computations\n",
    "sales.plot(kind='scatter', x=\"2015 Sales Q1\", y=\"2016 Sales Q1\");\n",
    "plt.xlim(0, 50000)\n",
    "plt.ylim(0, 50000)"
   ]
  },
  {
   "cell_type": "markdown",
   "metadata": {},
   "source": [
    "Proceed with any calculations that you need for your models, such as grouping\n",
    "sales by zip code, most common vendor number per store, etc. Once you have finished adding columns, be sure to save the dataframe."
   ]
  },
  {
   "cell_type": "code",
   "execution_count": null,
   "metadata": {
    "collapsed": true
   },
   "outputs": [],
   "source": [
    "# Compute more things\n",
    "# ..."
   ]
  },
  {
   "cell_type": "code",
   "execution_count": null,
   "metadata": {
    "collapsed": false
   },
   "outputs": [],
   "source": [
    "# Save this dataframe\n",
    "\n",
    "# Let's add the dates computed above to this data.\n",
    "sales[\"First Date\"] = dates['Date amin']\n",
    "sales[\"Last Date\"] = dates['Date amax']\n",
    "\n",
    "sales.to_csv(\"sales.csv\")"
   ]
  },
  {
   "cell_type": "code",
   "execution_count": null,
   "metadata": {
    "collapsed": true
   },
   "outputs": [],
   "source": []
  }
 ],
 "metadata": {
  "anaconda-cloud": {},
  "kernelspec": {
   "display_name": "Python [default]",
   "language": "python",
   "name": "python2"
  },
  "language_info": {
   "codemirror_mode": {
    "name": "ipython",
    "version": 2
   },
   "file_extension": ".py",
   "mimetype": "text/x-python",
   "name": "python",
   "nbconvert_exporter": "python",
   "pygments_lexer": "ipython2",
   "version": "2.7.12"
  }
 },
 "nbformat": 4,
 "nbformat_minor": 0
}
