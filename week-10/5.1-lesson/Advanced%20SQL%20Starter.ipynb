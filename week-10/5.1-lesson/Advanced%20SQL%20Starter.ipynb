{
 "cells": [
  {
   "cell_type": "markdown",
   "metadata": {},
   "source": [
    "## First let's read in our CSVs"
   ]
  },
  {
   "cell_type": "code",
   "execution_count": 1,
   "metadata": {
    "collapsed": false
   },
   "outputs": [
    {
     "ename": "CParserError",
     "evalue": "Error tokenizing data. C error: Expected 1 fields in line 104, saw 3\n",
     "output_type": "error",
     "traceback": [
      "\u001b[0;31m---------------------------------------------------------------------------\u001b[0m",
      "\u001b[0;31mCParserError\u001b[0m                              Traceback (most recent call last)",
      "\u001b[0;32m<ipython-input-1-c070a338f2c5>\u001b[0m in \u001b[0;36m<module>\u001b[0;34m()\u001b[0m\n\u001b[1;32m      1\u001b[0m \u001b[0;32mimport\u001b[0m \u001b[0mpandas\u001b[0m \u001b[0;32mas\u001b[0m \u001b[0mpd\u001b[0m\u001b[0;34m\u001b[0m\u001b[0m\n\u001b[1;32m      2\u001b[0m \u001b[0;34m\u001b[0m\u001b[0m\n\u001b[0;32m----> 3\u001b[0;31m \u001b[0mimdb\u001b[0m \u001b[0;34m=\u001b[0m \u001b[0mpd\u001b[0m\u001b[0;34m.\u001b[0m\u001b[0mread_csv\u001b[0m\u001b[0;34m(\u001b[0m\u001b[0;34m'assets/imdb.csv'\u001b[0m\u001b[0;34m)\u001b[0m\u001b[0;34m\u001b[0m\u001b[0m\n\u001b[0m\u001b[1;32m      4\u001b[0m \u001b[0mtrump\u001b[0m \u001b[0;34m=\u001b[0m \u001b[0mpd\u001b[0m\u001b[0;34m.\u001b[0m\u001b[0mread_csv\u001b[0m\u001b[0;34m(\u001b[0m\u001b[0;34m'assets/trump.csv'\u001b[0m\u001b[0;34m)\u001b[0m\u001b[0;34m\u001b[0m\u001b[0m\n",
      "\u001b[0;32m//anaconda/lib/python2.7/site-packages/pandas/io/parsers.pyc\u001b[0m in \u001b[0;36mparser_f\u001b[0;34m(filepath_or_buffer, sep, delimiter, header, names, index_col, usecols, squeeze, prefix, mangle_dupe_cols, dtype, engine, converters, true_values, false_values, skipinitialspace, skiprows, nrows, na_values, keep_default_na, na_filter, verbose, skip_blank_lines, parse_dates, infer_datetime_format, keep_date_col, date_parser, dayfirst, iterator, chunksize, compression, thousands, decimal, lineterminator, quotechar, quoting, escapechar, comment, encoding, dialect, tupleize_cols, error_bad_lines, warn_bad_lines, skipfooter, skip_footer, doublequote, delim_whitespace, as_recarray, compact_ints, use_unsigned, low_memory, buffer_lines, memory_map, float_precision)\u001b[0m\n\u001b[1;32m    643\u001b[0m                     skip_blank_lines=skip_blank_lines)\n\u001b[1;32m    644\u001b[0m \u001b[0;34m\u001b[0m\u001b[0m\n\u001b[0;32m--> 645\u001b[0;31m         \u001b[0;32mreturn\u001b[0m \u001b[0m_read\u001b[0m\u001b[0;34m(\u001b[0m\u001b[0mfilepath_or_buffer\u001b[0m\u001b[0;34m,\u001b[0m \u001b[0mkwds\u001b[0m\u001b[0;34m)\u001b[0m\u001b[0;34m\u001b[0m\u001b[0m\n\u001b[0m\u001b[1;32m    646\u001b[0m \u001b[0;34m\u001b[0m\u001b[0m\n\u001b[1;32m    647\u001b[0m     \u001b[0mparser_f\u001b[0m\u001b[0;34m.\u001b[0m\u001b[0m__name__\u001b[0m \u001b[0;34m=\u001b[0m \u001b[0mname\u001b[0m\u001b[0;34m\u001b[0m\u001b[0m\n",
      "\u001b[0;32m//anaconda/lib/python2.7/site-packages/pandas/io/parsers.pyc\u001b[0m in \u001b[0;36m_read\u001b[0;34m(filepath_or_buffer, kwds)\u001b[0m\n\u001b[1;32m    398\u001b[0m         \u001b[0;32mreturn\u001b[0m \u001b[0mparser\u001b[0m\u001b[0;34m\u001b[0m\u001b[0m\n\u001b[1;32m    399\u001b[0m \u001b[0;34m\u001b[0m\u001b[0m\n\u001b[0;32m--> 400\u001b[0;31m     \u001b[0mdata\u001b[0m \u001b[0;34m=\u001b[0m \u001b[0mparser\u001b[0m\u001b[0;34m.\u001b[0m\u001b[0mread\u001b[0m\u001b[0;34m(\u001b[0m\u001b[0;34m)\u001b[0m\u001b[0;34m\u001b[0m\u001b[0m\n\u001b[0m\u001b[1;32m    401\u001b[0m     \u001b[0mparser\u001b[0m\u001b[0;34m.\u001b[0m\u001b[0mclose\u001b[0m\u001b[0;34m(\u001b[0m\u001b[0;34m)\u001b[0m\u001b[0;34m\u001b[0m\u001b[0m\n\u001b[1;32m    402\u001b[0m     \u001b[0;32mreturn\u001b[0m \u001b[0mdata\u001b[0m\u001b[0;34m\u001b[0m\u001b[0m\n",
      "\u001b[0;32m//anaconda/lib/python2.7/site-packages/pandas/io/parsers.pyc\u001b[0m in \u001b[0;36mread\u001b[0;34m(self, nrows)\u001b[0m\n\u001b[1;32m    936\u001b[0m                 \u001b[0;32mraise\u001b[0m \u001b[0mValueError\u001b[0m\u001b[0;34m(\u001b[0m\u001b[0;34m'skipfooter not supported for iteration'\u001b[0m\u001b[0;34m)\u001b[0m\u001b[0;34m\u001b[0m\u001b[0m\n\u001b[1;32m    937\u001b[0m \u001b[0;34m\u001b[0m\u001b[0m\n\u001b[0;32m--> 938\u001b[0;31m         \u001b[0mret\u001b[0m \u001b[0;34m=\u001b[0m \u001b[0mself\u001b[0m\u001b[0;34m.\u001b[0m\u001b[0m_engine\u001b[0m\u001b[0;34m.\u001b[0m\u001b[0mread\u001b[0m\u001b[0;34m(\u001b[0m\u001b[0mnrows\u001b[0m\u001b[0;34m)\u001b[0m\u001b[0;34m\u001b[0m\u001b[0m\n\u001b[0m\u001b[1;32m    939\u001b[0m \u001b[0;34m\u001b[0m\u001b[0m\n\u001b[1;32m    940\u001b[0m         \u001b[0;32mif\u001b[0m \u001b[0mself\u001b[0m\u001b[0;34m.\u001b[0m\u001b[0moptions\u001b[0m\u001b[0;34m.\u001b[0m\u001b[0mget\u001b[0m\u001b[0;34m(\u001b[0m\u001b[0;34m'as_recarray'\u001b[0m\u001b[0;34m)\u001b[0m\u001b[0;34m:\u001b[0m\u001b[0;34m\u001b[0m\u001b[0m\n",
      "\u001b[0;32m//anaconda/lib/python2.7/site-packages/pandas/io/parsers.pyc\u001b[0m in \u001b[0;36mread\u001b[0;34m(self, nrows)\u001b[0m\n\u001b[1;32m   1505\u001b[0m     \u001b[0;32mdef\u001b[0m \u001b[0mread\u001b[0m\u001b[0;34m(\u001b[0m\u001b[0mself\u001b[0m\u001b[0;34m,\u001b[0m \u001b[0mnrows\u001b[0m\u001b[0;34m=\u001b[0m\u001b[0mNone\u001b[0m\u001b[0;34m)\u001b[0m\u001b[0;34m:\u001b[0m\u001b[0;34m\u001b[0m\u001b[0m\n\u001b[1;32m   1506\u001b[0m         \u001b[0;32mtry\u001b[0m\u001b[0;34m:\u001b[0m\u001b[0;34m\u001b[0m\u001b[0m\n\u001b[0;32m-> 1507\u001b[0;31m             \u001b[0mdata\u001b[0m \u001b[0;34m=\u001b[0m \u001b[0mself\u001b[0m\u001b[0;34m.\u001b[0m\u001b[0m_reader\u001b[0m\u001b[0;34m.\u001b[0m\u001b[0mread\u001b[0m\u001b[0;34m(\u001b[0m\u001b[0mnrows\u001b[0m\u001b[0;34m)\u001b[0m\u001b[0;34m\u001b[0m\u001b[0m\n\u001b[0m\u001b[1;32m   1508\u001b[0m         \u001b[0;32mexcept\u001b[0m \u001b[0mStopIteration\u001b[0m\u001b[0;34m:\u001b[0m\u001b[0;34m\u001b[0m\u001b[0m\n\u001b[1;32m   1509\u001b[0m             \u001b[0;32mif\u001b[0m \u001b[0mself\u001b[0m\u001b[0;34m.\u001b[0m\u001b[0m_first_chunk\u001b[0m\u001b[0;34m:\u001b[0m\u001b[0;34m\u001b[0m\u001b[0m\n",
      "\u001b[0;32mpandas/parser.pyx\u001b[0m in \u001b[0;36mpandas.parser.TextReader.read (pandas/parser.c:10364)\u001b[0;34m()\u001b[0m\n",
      "\u001b[0;32mpandas/parser.pyx\u001b[0m in \u001b[0;36mpandas.parser.TextReader._read_low_memory (pandas/parser.c:10640)\u001b[0;34m()\u001b[0m\n",
      "\u001b[0;32mpandas/parser.pyx\u001b[0m in \u001b[0;36mpandas.parser.TextReader._read_rows (pandas/parser.c:11386)\u001b[0;34m()\u001b[0m\n",
      "\u001b[0;32mpandas/parser.pyx\u001b[0m in \u001b[0;36mpandas.parser.TextReader._tokenize_rows (pandas/parser.c:11257)\u001b[0;34m()\u001b[0m\n",
      "\u001b[0;32mpandas/parser.pyx\u001b[0m in \u001b[0;36mpandas.parser.raise_parser_error (pandas/parser.c:26979)\u001b[0;34m()\u001b[0m\n",
      "\u001b[0;31mCParserError\u001b[0m: Error tokenizing data. C error: Expected 1 fields in line 104, saw 3\n"
     ]
    }
   ],
   "source": [
    "import pandas as pd\n",
    "\n",
    "imdb = pd.read_csv('assets/imdb.csv')\n",
    "trump = pd.read_csv('assets/trump.csv')"
   ]
  },
  {
   "cell_type": "markdown",
   "metadata": {},
   "source": [
    "### Take a look"
   ]
  },
  {
   "cell_type": "code",
   "execution_count": 20,
   "metadata": {
    "collapsed": false
   },
   "outputs": [],
   "source": [
    "# print \"IMDB\"\n",
    "# print imdb.head()\n",
    "# print\n",
    "# print\n",
    "# print \"TRUMP\"\n",
    "# print trump.head()"
   ]
  },
  {
   "cell_type": "markdown",
   "metadata": {},
   "source": [
    "## Now comes the tricky stuff\n",
    "\n",
    "You're probably used to using CREATE and INSERT to create a table then put it into the database. This time we are going to be using an SQL ORM (Object Relational Mapper) to set our columns. Take a look at the class below. We are defining our table as 'classimdb' and setting all of the variables to the type of values we are going to be putting into the database."
   ]
  },
  {
   "cell_type": "code",
   "execution_count": 21,
   "metadata": {
    "collapsed": true
   },
   "outputs": [],
   "source": [
    "from sqlalchemy import Column, Integer, String, Float, Date, Boolean\n",
    "from sqlalchemy.ext.declarative import declarative_base\n",
    "\n",
    "Base = declarative_base()\n",
    "\n",
    "class Movies(Base):\n",
    "    __tablename__ = 'classimdb'\n",
    "\n",
    "    _id = Column(Integer, primary_key=True)\n",
    "    title = Column(String)\n",
    "    poster = Column(String)\n",
    "    plot = Column(String)\n",
    "    genre = Column(String)\n",
    "    year = Column(Integer)\n",
    "    imdbRating = Column(Float)\n",
    "    created = Column(Date)\n",
    "    imdbID = Column(String)\n",
    "    awards = Column(String)\n",
    "    actors = Column(String)\n",
    "    country = Column(String)\n",
    "    director = Column(String)\n",
    "    gross = Column(String)\n",
    "    imdbVotes = Column(Integer)\n",
    "    language = Column(String)\n",
    "    rated = Column(String)\n",
    "    released = Column(String)\n",
    "    response = Column(Boolean)\n",
    "    runtime = Column(Integer)\n",
    "    _type = Column(String)\n",
    "    writer = Column(String)\n",
    "\n",
    "    def __init__(self, title, poster, plot, genre, year, imdbRating, created, imdbID, awards, \n",
    "                 actors, country, director, gross, imdbVotes, language, rated, released, response, \n",
    "                 runtime, _type, writer):\n",
    "        self.title = title\n",
    "        self.poster = poster\n",
    "        self.plot = plot \n",
    "        self.genre = genre \n",
    "        self.year = year \n",
    "        self.imdbRating = imdbRating \n",
    "        self.created = created \n",
    "        self.imdbID = imdbID \n",
    "        self.awards = awards \n",
    "        self.actors = actors \n",
    "        self.country = country \n",
    "        self.director = director \n",
    "        self.gross = gross \n",
    "        self.imdbVotes = imdbVotes\n",
    "        self.language = language\n",
    "        self.rated = rated\n",
    "        self.released = released\n",
    "        self.response = response\n",
    "        self.runtime = runtime \n",
    "        self._type = _type \n",
    "        self.writer = writer"
   ]
  },
  {
   "cell_type": "markdown",
   "metadata": {},
   "source": [
    "### Let's make sure we made everything correctly"
   ]
  },
  {
   "cell_type": "code",
   "execution_count": 22,
   "metadata": {
    "collapsed": false
   },
   "outputs": [
    {
     "data": {
      "text/plain": [
       "Table('classimdb', MetaData(bind=None), Column('_id', Integer(), table=<classimdb>, primary_key=True, nullable=False), Column('title', String(), table=<classimdb>), Column('poster', String(), table=<classimdb>), Column('plot', String(), table=<classimdb>), Column('genre', String(), table=<classimdb>), Column('year', Integer(), table=<classimdb>), Column('imdbRating', Float(), table=<classimdb>), Column('created', Date(), table=<classimdb>), Column('imdbID', String(), table=<classimdb>), Column('awards', String(), table=<classimdb>), Column('actors', String(), table=<classimdb>), Column('country', String(), table=<classimdb>), Column('director', String(), table=<classimdb>), Column('gross', String(), table=<classimdb>), Column('imdbVotes', Integer(), table=<classimdb>), Column('language', String(), table=<classimdb>), Column('rated', String(), table=<classimdb>), Column('released', String(), table=<classimdb>), Column('response', Boolean(), table=<classimdb>), Column('runtime', Integer(), table=<classimdb>), Column('_type', String(), table=<classimdb>), Column('writer', String(), table=<classimdb>), schema=None)"
      ]
     },
     "execution_count": 22,
     "metadata": {},
     "output_type": "execute_result"
    }
   ],
   "source": [
    "Movies.__table__ "
   ]
  },
  {
   "cell_type": "markdown",
   "metadata": {},
   "source": [
    "### Everything looks good. Now let's create the table"
   ]
  },
  {
   "cell_type": "code",
   "execution_count": 23,
   "metadata": {
    "collapsed": false
   },
   "outputs": [],
   "source": [
    "from sqlalchemy import create_engine\n",
    "\n",
    "engine = create_engine('<your remote address here>')\n",
    "\n",
    "Base.metadata.create_all(engine)"
   ]
  },
  {
   "cell_type": "markdown",
   "metadata": {},
   "source": [
    "### No errors. Things are looking good! \n",
    "\n",
    "Let's get ready to insert our values into our new table. We need to create our session first. Notice we are binding it to our engine which is hooked up to our remote postgresql server"
   ]
  },
  {
   "cell_type": "code",
   "execution_count": 24,
   "metadata": {
    "collapsed": true
   },
   "outputs": [],
   "source": [
    "from sqlalchemy.orm import sessionmaker\n",
    "Session = sessionmaker(bind=engine)\n",
    "session = Session()"
   ]
  },
  {
   "cell_type": "markdown",
   "metadata": {},
   "source": [
    "### Now let's put everything into our new table. This cell just prepares the insert for us"
   ]
  },
  {
   "cell_type": "code",
   "execution_count": 25,
   "metadata": {
    "collapsed": true
   },
   "outputs": [],
   "source": [
    "movie_arr = []\n",
    "for idx,x in imdb.iterrows():\n",
    "    movie = Movies(x['title'], x['poster'], x['plot'], x['genre'], x['year'], x['imdbRating'], x['created'],\n",
    "                   x['imdbID'], x['awards'], x['actors'], x['country'], x['director'], x['gross'], \n",
    "                   x['imdbVotes'], x['language'], x['rated'], x['released'], x['response'], x['runtime'], \n",
    "                   x['type'], x['writer'])\n",
    "    movie_arr += [movie]\n",
    "    \n",
    "session.add_all(movie_arr)"
   ]
  },
  {
   "cell_type": "markdown",
   "metadata": {},
   "source": [
    "### To save the changes to our database, we need to commit() our changes. This is a lot like the syntax we've seen  with Spark and collect()."
   ]
  },
  {
   "cell_type": "code",
   "execution_count": 26,
   "metadata": {
    "collapsed": true
   },
   "outputs": [],
   "source": [
    "session.commit()"
   ]
  },
  {
   "cell_type": "markdown",
   "metadata": {},
   "source": [
    "### Now onto the good stuff. You can put your select statement into a dataframe like this"
   ]
  },
  {
   "cell_type": "code",
   "execution_count": 30,
   "metadata": {
    "collapsed": false
   },
   "outputs": [
    {
     "name": "stdout",
     "output_type": "stream",
     "text": [
      "   _id     title                                             poster  \\\n",
      "0    1  La Haine  https://images-na.ssl-images-amazon.com/images...   \n",
      "\n",
      "                                                plot         genre  year  \\\n",
      "0  24 hours in the lives of three young men in th...  Crime, Drama  1995   \n",
      "\n",
      "   imdbRating     created     imdbID                    awards  \\\n",
      "0         8.1  2016-11-13  tt0113247  8 wins & 13 nominations.   \n",
      "\n",
      "         ...                   director     gross imdbVotes language  \\\n",
      "0        ...          Mathieu Kassovitz  309811.0    104913   French   \n",
      "\n",
      "       rated    released response runtime  _type             writer  \n",
      "0  NOT RATED  1996-02-23     True      98  movie  Mathieu Kassovitz  \n",
      "\n",
      "[1 rows x 22 columns]\n"
     ]
    }
   ],
   "source": [
    "print pd.read_sql(\"SELECT * FROM classimdb;\", engine)[:1]"
   ]
  },
  {
   "cell_type": "markdown",
   "metadata": {},
   "source": [
    "### Difficulty 1\n",
    "\n",
    "### Print out all the drama movies"
   ]
  },
  {
   "cell_type": "code",
   "execution_count": null,
   "metadata": {
    "collapsed": true
   },
   "outputs": [],
   "source": []
  },
  {
   "cell_type": "markdown",
   "metadata": {},
   "source": [
    "### Print out all the movies with a director with 'C' or 'S' in their last names. Ignore any movies with multiple directors."
   ]
  },
  {
   "cell_type": "code",
   "execution_count": null,
   "metadata": {
    "collapsed": true
   },
   "outputs": [],
   "source": []
  },
  {
   "cell_type": "markdown",
   "metadata": {},
   "source": [
    "### Difficulty 3\n",
    "\n",
    "### Print out each director's longest movie."
   ]
  },
  {
   "cell_type": "code",
   "execution_count": null,
   "metadata": {
    "collapsed": true
   },
   "outputs": [],
   "source": []
  },
  {
   "cell_type": "markdown",
   "metadata": {},
   "source": [
    "### Print out the gross of each director's highest rated movie. Order by created desc."
   ]
  },
  {
   "cell_type": "code",
   "execution_count": null,
   "metadata": {
    "collapsed": true
   },
   "outputs": [],
   "source": []
  },
  {
   "cell_type": "markdown",
   "metadata": {},
   "source": [
    "### Difficulty 5\n",
    "\n",
    "### Print out the movie title, votes, and director of each director's highest voted on movie. Order by highest votes desc."
   ]
  },
  {
   "cell_type": "code",
   "execution_count": null,
   "metadata": {
    "collapsed": true
   },
   "outputs": [],
   "source": []
  },
  {
   "cell_type": "markdown",
   "metadata": {},
   "source": [
    "### Print out the movie title, rating, and director of each director's highest rated movie if that director has directed more than one movie. Order by rating desc."
   ]
  },
  {
   "cell_type": "code",
   "execution_count": null,
   "metadata": {
    "collapsed": true
   },
   "outputs": [],
   "source": []
  },
  {
   "cell_type": "markdown",
   "metadata": {},
   "source": [
    "### Difficulty 7\n",
    "\n",
    "### Print out the released date, title, and the season (winter, spring, summer, fall) in which each movie was released. Let's assume for simplicity sake that seasons end at the end of each month instead of on the 21st."
   ]
  },
  {
   "cell_type": "code",
   "execution_count": null,
   "metadata": {
    "collapsed": true
   },
   "outputs": [],
   "source": [
    "case1 = \"WHEN Extract(month from released: :DATE) BETWEEN\"\n",
    "case2 = \"WHEN Extract(month from released: :DATE) BETWEEN\"\n",
    "case3 = \"WHEN Extract(month from released: :DATE) BETWEEN\"\n",
    "case4 = \"WHEN Extract(month from released: :DATE) BETWEEN\""
   ]
  },
  {
   "cell_type": "markdown",
   "metadata": {},
   "source": [
    "### Print out the released date, title, and the relation to today's date (disregard year). If the movie came out before today's month, print 'before' in the relationship column. If the movie came out after todays month, print out 'after' in the relationship column. If the movie was released in the same month, but not the same day, print out 'close'. If the movie came out on today's day and month print 'match'."
   ]
  },
  {
   "cell_type": "code",
   "execution_count": null,
   "metadata": {
    "collapsed": true
   },
   "outputs": [],
   "source": []
  },
  {
   "cell_type": "code",
   "execution_count": null,
   "metadata": {
    "collapsed": true
   },
   "outputs": [],
   "source": []
  },
  {
   "cell_type": "markdown",
   "metadata": {},
   "source": [
    "# Disclaimer:\n",
    "#### <span style=\"color:red\">Before you continue to Difficulty 9, you need to read trump.csv into your database. Repeat the steps you used to create the imdb table. Do you work below.</span>"
   ]
  },
  {
   "cell_type": "code",
   "execution_count": null,
   "metadata": {
    "collapsed": true
   },
   "outputs": [],
   "source": []
  },
  {
   "cell_type": "markdown",
   "metadata": {},
   "source": [
    "### Difficulty => 9\n",
    "\n",
    "### Print out all the times Trump has sent a tweet with a movie title in the text. The movie title must have a string length greater than 1."
   ]
  },
  {
   "cell_type": "code",
   "execution_count": null,
   "metadata": {
    "collapsed": true
   },
   "outputs": [],
   "source": []
  },
  {
   "cell_type": "markdown",
   "metadata": {},
   "source": [
    "### Print out a movie if it is included in the following groups:\n",
    "* Has the longest runtime\n",
    "* Is created by the director who has the most imdbvotes\n",
    "* Has been translated into more than 4 languages\n",
    "* Has won 2 Oscars\n",
    "\n",
    "### Make sure each movie is printed out at most one time!"
   ]
  },
  {
   "cell_type": "code",
   "execution_count": null,
   "metadata": {
    "collapsed": true
   },
   "outputs": [],
   "source": []
  },
  {
   "cell_type": "markdown",
   "metadata": {},
   "source": [
    "## Good job on completing this assignment! You should now be ready for any SQL-based problem thrown at you in the future!\n",
    "\n",
    "![alt text](http://i.giphy.com/AL0XsYU0pkFTq.gif \"Congrats!\")\n",
    "\n",
    "#### If you haven't finished the assignment, scroll back up. This message isn't for you."
   ]
  }
 ],
 "metadata": {
  "anaconda-cloud": {},
  "kernelspec": {
   "display_name": "Python [default]",
   "language": "python",
   "name": "python2"
  },
  "language_info": {
   "codemirror_mode": {
    "name": "ipython",
    "version": 2
   },
   "file_extension": ".py",
   "mimetype": "text/x-python",
   "name": "python",
   "nbconvert_exporter": "python",
   "pygments_lexer": "ipython2",
   "version": "2.7.12"
  }
 },
 "nbformat": 4,
 "nbformat_minor": 0
}
