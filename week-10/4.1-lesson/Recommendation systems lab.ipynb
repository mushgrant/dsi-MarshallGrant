{
 "cells": [
  {
   "cell_type": "code",
   "execution_count": 1,
   "metadata": {
    "collapsed": false
   },
   "outputs": [
    {
     "name": "stdout",
     "output_type": "stream",
     "text": [
      "Collecting lightfm\n",
      "  Downloading lightfm-1.11.tar.gz (244kB)\n",
      "\u001b[K    100% |████████████████████████████████| 245kB 1.8MB/s ta 0:00:01K    8% |██▊                             | 20kB 1.4MB/s eta 0:00:01\u001b[K    16% |█████▍                          | 40kB 1.3MB/s eta 0:00:01\u001b[K    25% |████████                        | 61kB 1.7MB/s eta 0:00:01\u001b[K    37% |████████████                    | 92kB 2.0MB/s eta 0:00:01\u001b[K    46% |██████████████▊                 | 112kB 3.0MB/s eta 0:00:01\u001b[K    54% |█████████████████▍              | 133kB 2.6MB/s eta 0:00:01\u001b[K    62% |████████████████████            | 153kB 4.0MB/s eta 0:00:01\u001b[K    71% |██████████████████████▉         | 174kB 4.3MB/s eta 0:00:01\u001b[K    79% |█████████████████████████▌      | 194kB 6.8MB/s eta 0:00:01\u001b[K    87% |████████████████████████████▏   | 215kB 5.5MB/s eta 0:00:01\u001b[K    96% |██████████████████████████████▉ | 235kB 5.9MB/s eta 0:00:01\n",
      "\u001b[?25hRequirement already satisfied: numpy in /anaconda/lib/python2.7/site-packages (from lightfm)\n",
      "Collecting scipy>=0.17.0 (from lightfm)\n",
      "  Using cached scipy-0.18.1-cp27-cp27m-macosx_10_6_intel.macosx_10_9_intel.macosx_10_9_x86_64.macosx_10_10_intel.macosx_10_10_x86_64.whl\n",
      "Requirement already satisfied: requests in /anaconda/lib/python2.7/site-packages (from lightfm)\n",
      "Building wheels for collected packages: lightfm\n",
      "  Running setup.py bdist_wheel for lightfm ... \u001b[?25l-\b \b\\\b \b|\b \b/\b \b-\b \b\\\b \bdone\n",
      "\u001b[?25h  Stored in directory: /Users/marshallgrant/Library/Caches/pip/wheels/37/c5/bb/630caf32b772fb76920f84110223e026d46f217ee80c3a54c2\n",
      "Successfully built lightfm\n",
      "Installing collected packages: scipy, lightfm\n",
      "  Found existing installation: scipy 0.16.0\n",
      "    Uninstalling scipy-0.16.0:\n",
      "      Successfully uninstalled scipy-0.16.0\n",
      "Successfully installed lightfm-1.11 scipy-0.18.1\n"
     ]
    }
   ],
   "source": [
    "!pip install lightfm"
   ]
  },
  {
   "cell_type": "code",
   "execution_count": 2,
   "metadata": {
    "collapsed": false
   },
   "outputs": [
    {
     "name": "stderr",
     "output_type": "stream",
     "text": [
      "//anaconda/lib/python2.7/site-packages/lightfm/_lightfm_fast.py:9: UserWarning: LightFM was compiled without OpenMP support. Only a single thread will be used.\n",
      "  warnings.warn('LightFM was compiled without OpenMP support. '\n"
     ]
    }
   ],
   "source": [
    "\n",
    "# Let's load in our new dataset from lightfm. This data comes directly from Netflix's $1 million dollar challenge. \n",
    "# Don't get too excited. Someone already won the money import numpy as np\n",
    "from lightfm.datasets import fetch_movielens\n",
    "\n",
    "movielens = fetch_movielens()"
   ]
  },
  {
   "cell_type": "code",
   "execution_count": 3,
   "metadata": {
    "collapsed": false
   },
   "outputs": [
    {
     "name": "stdout",
     "output_type": "stream",
     "text": [
      "('test', <class 'scipy.sparse.coo.coo_matrix'>, (943, 1682))\n",
      "('item_features', <class 'scipy.sparse.csr.csr_matrix'>, (1682, 1682))\n",
      "('train', <class 'scipy.sparse.coo.coo_matrix'>, (943, 1682))\n",
      "('item_labels', <type 'numpy.ndarray'>, (1682,))\n",
      "('item_feature_labels', <type 'numpy.ndarray'>, (1682,))\n"
     ]
    }
   ],
   "source": [
    "# What's in here?\n",
    "\n",
    "for key, value in movielens.items():\n",
    "    print(key, type(value), value.shape)\n",
    "    \n",
    "# Looks like things have already been split for us. Convenient!"
   ]
  },
  {
   "cell_type": "code",
   "execution_count": 4,
   "metadata": {
    "collapsed": true
   },
   "outputs": [],
   "source": [
    "# Let's take that data out\n",
    "\n",
    "train = movielens['train']\n",
    "test = movielens['test']"
   ]
  },
  {
   "cell_type": "markdown",
   "metadata": {},
   "source": [
    "Precision at k how many movie guesses do i have to match before i satrt recommendations"
   ]
  },
  {
   "cell_type": "code",
   "execution_count": 7,
   "metadata": {
    "collapsed": false
   },
   "outputs": [
    {
     "name": "stdout",
     "output_type": "stream",
     "text": [
      "Precision: train 0.59, test 0.10.\n",
      "AUC: train 0.89, test 0.86.\n"
     ]
    }
   ],
   "source": [
    "from lightfm import LightFM\n",
    "from lightfm.evaluation import precision_at_k\n",
    "from lightfm.evaluation import auc_score\n",
    "\n",
    "model = LightFM(learning_rate=0.05, loss='bpr')\n",
    "model.fit(train, epochs=10)\n",
    "\n",
    "train_precision = precision_at_k(model, train, k=10).mean()\n",
    "test_precision = precision_at_k(model, test, k=10).mean()\n",
    "\n",
    "train_auc = auc_score(model, train).mean()\n",
    "test_auc = auc_score(model, test).mean()\n",
    "\n",
    "# What's our baseline?\n",
    "print('Precision: train %.2f, test %.2f.' % (train_precision, test_precision))\n",
    "print('AUC: train %.2f, test %.2f.' % (train_auc, test_auc))"
   ]
  },
  {
   "cell_type": "code",
   "execution_count": 6,
   "metadata": {
    "collapsed": false
   },
   "outputs": [
    {
     "name": "stdout",
     "output_type": "stream",
     "text": [
      "Precision: train 0.61, test 0.11.\n",
      "AUC: train 0.94, test 0.90.\n"
     ]
    }
   ],
   "source": [
    "model = LightFM(learning_rate=0.05, loss='warp')\n",
    "\n",
    "model.fit_partial(train, epochs=10)\n",
    "\n",
    "train_precision = precision_at_k(model, train, k=10).mean()\n",
    "test_precision = precision_at_k(model, test, k=10).mean()\n",
    "\n",
    "train_auc = auc_score(model, train).mean()\n",
    "test_auc = auc_score(model, test).mean()\n",
    "\n",
    "print('Precision: train %.2f, test %.2f.' % (train_precision, test_precision))\n",
    "print('AUC: train %.2f, test %.2f.' % (train_auc, test_auc))"
   ]
  },
  {
   "cell_type": "code",
   "execution_count": 8,
   "metadata": {
    "collapsed": false
   },
   "outputs": [
    {
     "name": "stdout",
     "output_type": "stream",
     "text": [
      "1682\n",
      "\n",
      "Toy Story (1995) 5.0\n",
      "GoldenEye (1995) 3.0\n",
      "Four Rooms (1995) 4.0\n",
      "Get Shorty (1995) 3.0\n",
      "Copycat (1995) 3.0\n"
     ]
    }
   ],
   "source": [
    "import pandas as pd\n",
    "\n",
    "# Let's look into the sparse matrix and see what's going on\n",
    "def iterateMovies(user, count):\n",
    "    for idx, x in enumerate(user):\n",
    "        if x > 0 and count > 0:\n",
    "            print movielens['item_labels'][idx] , x\n",
    "            count -= 1\n",
    "\n",
    "user0 = movielens['train'].toarray()[0]\n",
    "\n",
    "#There's a lot of movies in there\n",
    "print len(user0)\n",
    "print\n",
    "\n",
    "#Let's see the first five moveies this user rated ...\n",
    "iterateMovies(user0, 5)\n"
   ]
  },
  {
   "cell_type": "code",
   "execution_count": 9,
   "metadata": {
    "collapsed": false
   },
   "outputs": [
    {
     "name": "stdout",
     "output_type": "stream",
     "text": [
      "User 0\n",
      "     Known positives:\n",
      "        Toy Story (1995)\n",
      "        GoldenEye (1995)\n",
      "        Four Rooms (1995)\n",
      "     Recommended:\n",
      "        Raiders of the Lost Ark (1981)\n",
      "        Silence of the Lambs, The (1991)\n",
      "        Pulp Fiction (1994)\n"
     ]
    }
   ],
   "source": [
    "# This guy's got good taste. Let's see what the systems recommends for him\n",
    "def sample_recommendation(model, data, user_ids):\n",
    "\n",
    "    n_users, n_items = data['train'].shape\n",
    "\n",
    "    for user_id in user_ids:\n",
    "        known_positives = data['item_labels'][data['train'].tocsr()[user_id].indices]\n",
    "\n",
    "        scores = model.predict(user_id, np.arange(n_items))\n",
    "        top_items = data['item_labels'][np.argsort(-scores)]\n",
    "\n",
    "        print(\"User %s\" % user_id)\n",
    "        print(\"     Known positives:\")\n",
    "\n",
    "        for x in known_positives[:3]:\n",
    "            print(\"        %s\" % x)\n",
    "\n",
    "        print(\"     Recommended:\")\n",
    "\n",
    "        for x in top_items[:3]:\n",
    "            print(\"        %s\" % x)\n",
    "\n",
    "sample_recommendation(model, movielens, [0])\n",
    "\n",
    "# Notice I left the ids open here. Feel free to try to with any of the other users. \n",
    "# You can even rate things yourself if you'd like"
   ]
  },
  {
   "cell_type": "code",
   "execution_count": null,
   "metadata": {
    "collapsed": true
   },
   "outputs": [],
   "source": []
  }
 ],
 "metadata": {
  "anaconda-cloud": {},
  "kernelspec": {
   "display_name": "Python [default]",
   "language": "python",
   "name": "python2"
  },
  "language_info": {
   "codemirror_mode": {
    "name": "ipython",
    "version": 2
   },
   "file_extension": ".py",
   "mimetype": "text/x-python",
   "name": "python",
   "nbconvert_exporter": "python",
   "pygments_lexer": "ipython2",
   "version": "2.7.12"
  }
 },
 "nbformat": 4,
 "nbformat_minor": 2
}
