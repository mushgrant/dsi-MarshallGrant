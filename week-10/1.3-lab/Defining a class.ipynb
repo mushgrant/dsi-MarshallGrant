{
 "cells": [
  {
   "cell_type": "code",
   "execution_count": 16,
   "metadata": {
    "collapsed": false
   },
   "outputs": [
    {
     "name": "stdout",
     "output_type": "stream",
     "text": [
      "Awesome Company Co.\n",
      "{'Sally': 15, 'Joe': 10}\n",
      "Evil Company\n",
      "{'Bruce': 1500, 'Mike': 100, 'Blaine': 2700}\n"
     ]
    }
   ],
   "source": [
    "class Customer(object):\n",
    "   \n",
    "    \n",
    "    def __init__(self,name = \"Awesome Company Co.\"):\n",
    "        self.cust = {}\n",
    "        self.company = name\n",
    "        \n",
    "    def addCust(self,name,paid):\n",
    "        self.cust[name] = paid\n",
    "    def printy(self):\n",
    "        print self.company\n",
    "        print self.cust\n",
    "        \n",
    "def companyCreator(name, peoples):\n",
    "    customer = Customer(name)\n",
    "    for key, val in peoples.iteritems():\n",
    "        customer.addCust(key, val)\n",
    "    return customer\n",
    "\n",
    "dicty = [{\n",
    "    'company' : \"Awesome Company Co.\",\n",
    "    'customers': {\"Joe\":10,\"Sally\":15 }\n",
    "},{\n",
    "    'company' : \"Evil Company\",\n",
    "    'customers': {'Mike': 100,'Bruce': 1500,'Blaine': 2700 }\n",
    "}]\n",
    "\n",
    "for x in dicty:\n",
    "    ins = companyCreator(x['company'],x['customers']).printy()\n",
    "#     print ins.company\n",
    "#     print ins.cust \n",
    "\n",
    "# customer = Customer()\n",
    "# customer.addCust(\"Joe\",10)\n",
    "# customer.addCust(\"Sally\",15)\n",
    "# print customer.company\n",
    "# print customer.cust\n",
    "\n",
    "# customer2 = Customer(\"Evil Company\")\n",
    "# customer2.addCust('Mike', 100)\n",
    "# customer2.addCust('Bruce', 1500)\n",
    "# customer2.addCust('Blaine', 2700)\n"
   ]
  },
  {
   "cell_type": "code",
   "execution_count": null,
   "metadata": {
    "collapsed": true
   },
   "outputs": [],
   "source": []
  }
 ],
 "metadata": {
  "anaconda-cloud": {},
  "kernelspec": {
   "display_name": "Python [default]",
   "language": "python",
   "name": "python2"
  },
  "language_info": {
   "codemirror_mode": {
    "name": "ipython",
    "version": 2
   },
   "file_extension": ".py",
   "mimetype": "text/x-python",
   "name": "python",
   "nbconvert_exporter": "python",
   "pygments_lexer": "ipython2",
   "version": "2.7.12"
  }
 },
 "nbformat": 4,
 "nbformat_minor": 2
}
