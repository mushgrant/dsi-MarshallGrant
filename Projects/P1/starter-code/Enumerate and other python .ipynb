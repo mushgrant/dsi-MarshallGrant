{
 "cells": [
  {
   "cell_type": "code",
   "execution_count": 6,
   "metadata": {
    "collapsed": false
   },
   "outputs": [
    {
     "name": "stdout",
     "output_type": "stream",
     "text": [
      "0 NY\n",
      "1 London\n",
      "2 Amsterdam\n",
      "3 Paris\n"
     ]
    }
   ],
   "source": [
    "cities = ['NY', 'London', 'Amsterdam', 'Paris']\n",
    "# i = 0\n",
    "# for city in cities:\n",
    "    \n",
    "#     i += 1\n",
    "#     print(i, city)\n",
    "for i, city in enumerate(cities):\n",
    "    print(i, city)\n",
    "    "
   ]
  },
  {
   "cell_type": "code",
   "execution_count": 17,
   "metadata": {
    "collapsed": false
   },
   "outputs": [
    {
     "name": "stdout",
     "output_type": "stream",
     "text": [
      "1 4\n",
      "2 5\n",
      "3 6\n"
     ]
    }
   ],
   "source": [
    "# x_list = [1,2,3]\n",
    "# y_list = [4,5,6]\n",
    "# for i in range(len(x_list)):\n",
    "#     x = x_list[i]\n",
    "#     y = y_list[i]\n",
    "#     print(x,y)\n",
    "\n",
    "for x,y in zip(x_list, y_list):\n",
    "    print(x,y)\n",
    "   \n"
   ]
  },
  {
   "cell_type": "code",
   "execution_count": 21,
   "metadata": {
    "collapsed": false
   },
   "outputs": [
    {
     "name": "stdout",
     "output_type": "stream",
     "text": [
      "After: x = -10, y = 10\n"
     ]
    }
   ],
   "source": [
    "# x = 10\n",
    "# y = -10\n",
    "# print('Before: x = %d, y = %d' % (x,y))\n",
    "\n",
    "# tmp = y # x,y = y,x does this \n",
    "# y = x\n",
    "# x = tmp\n",
    "# print('After: x = %d, y = %d' % (x,y))\n",
    "\n",
    "x,y = y,x\n",
    "print('After: x = %d, y = %d' % (x,y))"
   ]
  },
  {
   "cell_type": "code",
   "execution_count": null,
   "metadata": {
    "collapsed": true
   },
   "outputs": [],
   "source": []
  }
 ],
 "metadata": {
  "kernelspec": {
   "display_name": "Python [Root]",
   "language": "python",
   "name": "Python [Root]"
  },
  "language_info": {
   "codemirror_mode": {
    "name": "ipython",
    "version": 3
   },
   "file_extension": ".py",
   "mimetype": "text/x-python",
   "name": "python",
   "nbconvert_exporter": "python",
   "pygments_lexer": "ipython3",
   "version": "3.5.2"
  }
 },
 "nbformat": 4,
 "nbformat_minor": 0
}
