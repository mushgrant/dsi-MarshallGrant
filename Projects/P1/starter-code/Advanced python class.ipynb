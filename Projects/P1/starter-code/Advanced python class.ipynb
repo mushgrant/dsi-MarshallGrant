{
 "cells": [
  {
   "cell_type": "code",
   "execution_count": 1,
   "metadata": {
    "collapsed": false
   },
   "outputs": [
    {
     "name": "stdout",
     "output_type": "stream",
     "text": [
      "2\n",
      "4\n",
      "6\n",
      "8\n",
      "10\n"
     ]
    }
   ],
   "source": [
    "x = 0 \n",
    "while x < 10:  #only prints out evennumbers\n",
    "    x = x + 1\n",
    "    if x % 2 != 0:\n",
    "        continue\n",
    "    print (x)"
   ]
  },
  {
   "cell_type": "code",
   "execution_count": 2,
   "metadata": {
    "collapsed": true
   },
   "outputs": [],
   "source": [
    "#objects are more than values they come equipped with behaviors\n",
    "#"
   ]
  },
  {
   "cell_type": "code",
   "execution_count": 6,
   "metadata": {
    "collapsed": false
   },
   "outputs": [
    {
     "name": "stdout",
     "output_type": "stream",
     "text": [
      "['1', '3', '4', '6', '9']\n"
     ]
    }
   ],
   "source": [
    "num = ['1','6', '4', '9', '3']\n",
    "sorts = sorted(num)\n",
    "print (sorts)"
   ]
  },
  {
   "cell_type": "code",
   "execution_count": 10,
   "metadata": {
    "collapsed": false
   },
   "outputs": [
    {
     "data": {
      "text/plain": [
       "['doug hope', 'adam smith', 'bob zach']"
      ]
     },
     "execution_count": 10,
     "metadata": {},
     "output_type": "execute_result"
    }
   ],
   "source": [
    "names = ['doug hope', 'bob zach', 'adam smith']\n",
    "\n",
    "def sort_last(arg):\n",
    "    last = arg.split()\n",
    "    lst_sort= last[1]\n",
    "    return lst_sort\n",
    "sorted(names, key=sort_last)\n",
    "\n"
   ]
  },
  {
   "cell_type": "code",
   "execution_count": 14,
   "metadata": {
    "collapsed": false
   },
   "outputs": [
    {
     "data": {
      "text/plain": [
       "dict_keys(['c', 'a', 'b'])"
      ]
     },
     "execution_count": 14,
     "metadata": {},
     "output_type": "execute_result"
    }
   ],
   "source": [
    "a = {'a': 1, 'b': 7, 'c': 5}\n",
    "a.keys()# returns a list of keys\n",
    "a.items()# returns list of tuples"
   ]
  },
  {
   "cell_type": "code",
   "execution_count": 21,
   "metadata": {
    "collapsed": false
   },
   "outputs": [
    {
     "name": "stdout",
     "output_type": "stream",
     "text": [
      "[['78783.00', 45, 56, -78.0, 0.009, 0], ['76543.00', 65, 67, -34.6, 0.009], ['45678.9', 45, 456, -56.7, 0.009]]\n"
     ]
    }
   ],
   "source": [
    "lists = [['78783.00', 45, 56, -78.0, 0.009],\n",
    "         ['76543.00', 65, 67, -34.6, 0.009],\n",
    "         ['45678.9', 45, 456, -56.7, 0.009]\n",
    "        ]\n",
    "print(lists[0].append(0)) # adds a 0 value to the end of the first list # notice if you print append it returns none\n",
    "print (lists)"
   ]
  },
  {
   "cell_type": "code",
   "execution_count": 24,
   "metadata": {
    "collapsed": false
   },
   "outputs": [
    {
     "name": "stdout",
     "output_type": "stream",
     "text": [
      "[['78783.00', 45, 56, -78.0, 0.009, 0], ['76543.00', 65, 67, -34.6, 0.009], ['45678.9', 45, 456, -56.7, 0.009]]\n",
      "[['78783.00', 45, 56, -78.0, 0.009, 0], ['76543.00', 65, 67, -34.6, 0.009, 0], ['45678.9', 45, 456, -56.7, 0.009]]\n",
      "[['78783.00', 45, 56, -78.0, 0.009, 0], ['76543.00', 65, 67, -34.6, 0.009, 0], ['45678.9', 45, 456, -56.7, 0.009, 0]]\n",
      "[['78783.00', 45, 56, -78.0, 0.009, 0], ['76543.00', 65, 67, -34.6, 0.009, 0], ['45678.9', 45, 456, -56.7, 0.009, 0]]\n"
     ]
    }
   ],
   "source": [
    "appending_each = [['78783.00', 45, 56, -78.0, 0.009],\n",
    "         ['76543.00', 65, 67, -34.6, 0.009],\n",
    "         ['45678.9', 45, 456, -56.7, 0.009]\n",
    "        ]\n",
    "for row in appending_each:\n",
    "    row.append(0)\n",
    "    print(appending_each)# will print out each time it applies the function which will be three because there are three lists\n",
    "    \n",
    "print(appending_each)"
   ]
  },
  {
   "cell_type": "code",
   "execution_count": 25,
   "metadata": {
    "collapsed": false
   },
   "outputs": [
    {
     "name": "stdout",
     "output_type": "stream",
     "text": [
      "[['78783.00', 45, 56, -78.0, 0.009, 0],\n",
      " ['76543.00', 65, 67, -34.6, 0.009, 0],\n",
      " ['45678.9', 45, 456, -56.7, 0.009, 0]]\n"
     ]
    }
   ],
   "source": [
    "from pprint import pprint #module that leaves an aesthetically pleasing list\n",
    "pprint(appending_each)"
   ]
  },
  {
   "cell_type": "code",
   "execution_count": 38,
   "metadata": {
    "collapsed": false
   },
   "outputs": [
    {
     "name": "stdout",
     "output_type": "stream",
     "text": [
      "['19260703', '19260702']\n"
     ]
    }
   ],
   "source": [
    "def bymktrf (arg):\n",
    "    val = date_values['19260702']['RF']\n",
    "    return val\n",
    "date_values = { '19260702': {'MktRF': 0.09, 'SMB': -0.22, 'HML': -0.30, 'RF': 0.009}, \n",
    "          '19260703': {'MktRF': 0.44, 'SMB': -0.35, 'HML': -0.08, 'RF': 0.009 },\n",
    "          }\n",
    "\n",
    "skeys = sorted(date_values, key = bymktrf)\n",
    "print(skeys)"
   ]
  },
  {
   "cell_type": "code",
   "execution_count": null,
   "metadata": {
    "collapsed": true
   },
   "outputs": [],
   "source": []
  }
 ],
 "metadata": {
  "anaconda-cloud": {},
  "kernelspec": {
   "display_name": "Python [Root]",
   "language": "python",
   "name": "Python [Root]"
  },
  "language_info": {
   "codemirror_mode": {
    "name": "ipython",
    "version": 3
   },
   "file_extension": ".py",
   "mimetype": "text/x-python",
   "name": "python",
   "nbconvert_exporter": "python",
   "pygments_lexer": "ipython3",
   "version": "3.5.2"
  }
 },
 "nbformat": 4,
 "nbformat_minor": 0
}
