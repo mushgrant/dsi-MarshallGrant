{
 "cells": [
  {
   "cell_type": "code",
   "execution_count": 10,
   "metadata": {
    "collapsed": false
   },
   "outputs": [
    {
     "name": "stdout",
     "output_type": "stream",
     "text": [
      "['11', '101', '111', '100.0', '213.68']\n"
     ]
    }
   ],
   "source": [
    "\n",
    "def byfloat(arg):\n",
    "    print('Now converting', arg)\n",
    "    floatarg = float(arg)\n",
    "    return floatarg\n",
    "items = ['100.0', '101', '11', '111', '213.68']\n",
    "sitems = sorted(items, key=len)\n",
    "print (sitems)"
   ]
  },
  {
   "cell_type": "code",
   "execution_count": 22,
   "metadata": {
    "collapsed": true
   },
   "outputs": [],
   "source": [
    "words = ['That', 'apple', 'Zeb', 'this']\n",
    "def bylower(arg):\n",
    "    larg = arg.lower()\n",
    "    return larg"
   ]
  },
  {
   "cell_type": "code",
   "execution_count": 24,
   "metadata": {
    "collapsed": false
   },
   "outputs": [
    {
     "data": {
      "text/plain": [
       "['apple', 'That', 'this', 'Zeb']"
      ]
     },
     "execution_count": 24,
     "metadata": {},
     "output_type": "execute_result"
    }
   ],
   "source": [
    "swords = sorted(words, key=bylower)\n",
    "swords"
   ]
  },
  {
   "cell_type": "code",
   "execution_count": 46,
   "metadata": {
    "collapsed": false
   },
   "outputs": [
    {
     "name": "stdout",
     "output_type": "stream",
     "text": [
      "apple\n",
      "['d', 'a', 'c', 'b']\n",
      "{'d': 'add', 'c': 'axis', 'a': 'carrot', 'b': 'Zebra'}\n"
     ]
    }
   ],
   "source": [
    "def sortbyvalue(arg):\n",
    "    value = mydict[arg] #assigns the value of {key:value} to value\n",
    "    sorting = value.lower() #you call a value of a dict by its key\n",
    "    return sorting\n",
    "val = mydict['a'] # you print a value in a dict by calling its key!\n",
    "mydict = {'a':'apple', 'b':'Zebra', 'c':'axis', 'd':'add'}\n",
    "skeys = sorted(mydict, key=sortbyvalue)\n",
    "print(val)\n",
    "print (skeys)\n",
    "mydict['a']='carrot'\n",
    "print(mydict)"
   ]
  },
  {
   "cell_type": "code",
   "execution_count": 47,
   "metadata": {
    "collapsed": true
   },
   "outputs": [],
   "source": [
    "x = {'jk43': {'city': 'Los Angeles', \n",
    "                   'state': 'CA',\n",
    "                    'zip': '97321',\n",
    "                    'items': [1,2,3,4]},\n",
    "      'mm23': {'city':'Chicago',\n",
    "                    'state': 'IL',\n",
    "                    'zip': '12345',\n",
    "                    'items': [5,6,7,8]},\n",
    "       'db7':   {'city': 'New York', \n",
    "                  'state': 'NY',\n",
    "                   'zip': '12119',\n",
    "                    'items': [9,10,11,12]},\n",
    "    }"
   ]
  },
  {
   "cell_type": "code",
   "execution_count": 49,
   "metadata": {
    "collapsed": false
   },
   "outputs": [
    {
     "name": "stdout",
     "output_type": "stream",
     "text": [
      "IL\n"
     ]
    }
   ],
   "source": [
    "print(x['mm23']['state']) #access the state key in mm23 of dict x"
   ]
  },
  {
   "cell_type": "code",
   "execution_count": 50,
   "metadata": {
    "collapsed": false
   },
   "outputs": [
    {
     "name": "stdout",
     "output_type": "stream",
     "text": [
      "jk43\n",
      "db7\n",
      "mm23\n"
     ]
    }
   ],
   "source": [
    "for item in x:\n",
    "    print(item)"
   ]
  },
  {
   "cell_type": "code",
   "execution_count": 53,
   "metadata": {
    "collapsed": false
   },
   "outputs": [
    {
     "name": "stdout",
     "output_type": "stream",
     "text": [
      "{'items': [1, 2, 3, 4], 'state': 'CA', 'zip': '97321', 'city': 'Los Angeles'}\n",
      "{'items': [9, 10, 11, 12], 'state': 'NY', 'zip': '12119', 'city': 'New York'}\n",
      "{'items': [5, 6, 7, 8], 'state': 'IL', 'zip': '12345', 'city': 'Chicago'}\n"
     ]
    }
   ],
   "source": [
    "for item in x:\n",
    "    print(x[item])#prints the values of each key "
   ]
  },
  {
   "cell_type": "code",
   "execution_count": 54,
   "metadata": {
    "collapsed": false
   },
   "outputs": [
    {
     "name": "stdout",
     "output_type": "stream",
     "text": [
      "jk43 CA\n",
      "db7 NY\n",
      "mm23 IL\n"
     ]
    }
   ],
   "source": [
    "for item in x:# first we print the key and then the \n",
    "    print(item, x[item]['state'])"
   ]
  },
  {
   "cell_type": "code",
   "execution_count": null,
   "metadata": {
    "collapsed": true
   },
   "outputs": [],
   "source": []
  }
 ],
 "metadata": {
  "kernelspec": {
   "display_name": "Python [Root]",
   "language": "python",
   "name": "Python [Root]"
  },
  "language_info": {
   "codemirror_mode": {
    "name": "ipython",
    "version": 3
   },
   "file_extension": ".py",
   "mimetype": "text/x-python",
   "name": "python",
   "nbconvert_exporter": "python",
   "pygments_lexer": "ipython3",
   "version": "3.5.2"
  }
 },
 "nbformat": 4,
 "nbformat_minor": 0
}
