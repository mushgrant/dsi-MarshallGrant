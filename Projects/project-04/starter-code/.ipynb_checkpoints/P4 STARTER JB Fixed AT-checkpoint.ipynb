{
 "cells": [
  {
   "cell_type": "markdown",
   "metadata": {
    "focus": false,
    "id": "cc166dbc-d723-4076-8dd8-a290d911dc9b"
   },
   "source": [
    "# Project 4: Web Scraping Indeed.com & Predicting Salaries"
   ]
  },
  {
   "cell_type": "markdown",
   "metadata": {
    "focus": false,
    "id": "59b0deac-55d6-4908-8dee-ce68611486f0"
   },
   "source": [
    "In Project 4, we practice two major skills: collecting data via  web scraping and building a binary predictor with Logistic Regression.\n",
    "\n",
    "We will collect salary information on data science jobs in a variety of markets. Using location, title, and job summary, we'll predict the salary of the job. For job posting sites, this is extraordinarily useful. While most listings DO NOT come with salary information (as you will see in this exercise), extrapolating expected salary can help guide negotiations.\n",
    "\n",
    "Normally, we can use regression for this task; however, we will convert this problem into classification and use Logistic Regression.\n",
    "\n",
    "- Q: Why would we want this to be a classification problem?\n",
    "- A: While more precision may be better, there is a fair amount of natural variance in job salaries - predicting a range be may be useful.\n",
    "\n",
    "Section one focuses on scraping Indeed.com; then we use listings with salary information to build a model and predict additional salaries."
   ]
  },
  {
   "cell_type": "markdown",
   "metadata": {
    "focus": false,
    "id": "1321e3c4-2105-428e-9b1b-6d958453ef1d"
   },
   "source": [
    "### Scraping job listings from Indeed.com"
   ]
  },
  {
   "cell_type": "markdown",
   "metadata": {
    "focus": false,
    "id": "9d959074-bf26-4000-b0da-11273e253776"
   },
   "source": [
    "Scrape job listings from Indeed.com using BeautifulSoup. Luckily, Indeed.com is a simple text page where we can easily find relevant entries. First, look at the source of an Indeed.com page: (http://www.indeed.com/jobs?q=data+scientist+%2420%2C000&l=New+York&start=10\")\n",
    "\n",
    "Notice, each job listing is underneath a `div` tag with a class name of `result`. We can use BeautifulSoup to extract."
   ]
  },
  {
   "cell_type": "markdown",
   "metadata": {
    "focus": false,
    "id": "d9f7b5d1-b227-4bda-a87b-1606b62fb60b"
   },
   "source": [
    "#### Setup a request (using `requests`) to the URL below. Use BeautifulSoup to parse the page and extract all results (HINT: Look for div tags with class name result)\n",
    "\n",
    "The URL here has many query parameters\n",
    "\n",
    "- `q` for the job search\n",
    "- This is followed by \"+20,000\" to return results with salaries (or expected salaries >$20,000)\n",
    "- `l` for a location \n",
    "- `start` for what result number to start on"
   ]
  },
  {
   "cell_type": "code",
   "execution_count": 1,
   "metadata": {
    "collapsed": false,
    "focus": false,
    "id": "911505d6-159f-4146-967d-a8482fe27e3d"
   },
   "outputs": [],
   "source": [
    "URL = 'http://www.indeed.com/'"
   ]
  },
  {
   "cell_type": "code",
   "execution_count": 2,
   "metadata": {
    "collapsed": true,
    "focus": false,
    "id": "78446809-fa02-48df-b60f-cbeda175a498"
   },
   "outputs": [],
   "source": [
    "import requests\n",
    "import bs4\n",
    "from bs4 import BeautifulSoup"
   ]
  },
  {
   "cell_type": "code",
   "execution_count": 3,
   "metadata": {
    "collapsed": false,
    "focus": false,
    "id": "c8846f3e-42a5-4714-9784-fb5d6a28524b"
   },
   "outputs": [],
   "source": [
    "# read site in soup\n",
    "r = requests.get(URL)\n",
    "soup = BeautifulSoup(r.content, \"lxml\")\n",
    "\n",
    "# Append to the full set of results\n",
    "results = soup.findAll('div', { \"class\" : \"result\" })\n"
   ]
  },
  {
   "cell_type": "markdown",
   "metadata": {
    "focus": false,
    "id": "963bb376-7746-43ce-98ec-ea4162f7ead6"
   },
   "source": [
    "Let's look at one result more closely. A single `result` looks like\n",
    "\n",
    "```\n",
    "<div class=\" row result\" data-jk=\"2480d203f7e97210\" data-tn-component=\"organicJob\" id=\"p_2480d203f7e97210\" itemscope=\"\" itemtype=\"http://schema.org/JobPosting\">\n",
    "<h2 class=\"jobtitle\" id=\"jl_2480d203f7e97210\">\n",
    "<a class=\"turnstileLink\" data-tn-element=\"jobTitle\" onmousedown=\"return rclk(this,jobmap[0],1);\" rel=\"nofollow\" target=\"_blank\" title=\"AVP/Quantitative Analyst\">AVP/Quantitative Analyst</a>\n",
    "</h2>\n",
    "<span class=\"company\" itemprop=\"hiringOrganization\" itemtype=\"http://schema.org/Organization\">\n",
    "<span itemprop=\"name\">\n",
    "<a href=\"/cmp/Alliancebernstein?from=SERP&amp;campaignid=serp-linkcompanyname&amp;fromjk=2480d203f7e97210&amp;jcid=b374f2a780e04789\" target=\"_blank\">\n",
    "    AllianceBernstein</a></span>\n",
    "</span>\n",
    "<tr>\n",
    "<td class=\"snip\">\n",
    "<nobr>$117,500 - $127,500 a year</nobr>\n",
    "<div>\n",
    "<span class=\"summary\" itemprop=\"description\">\n",
    "C onduct quantitative and statistical research as well as portfolio management for various investment portfolios. Collaborate with Quantitative Analysts and</span>\n",
    "</div>\n",
    "</div>\n",
    "</td>\n",
    "</tr>\n",
    "</table>\n",
    "</div>\n",
    "```\n",
    "\n",
    "While this has some of the more verbose elements removed, we can see that there is some structure to the above:\n",
    "- The salary is available in a `nobr` element inside of a `td` element with `class='snip`.\n",
    "- The title of a job is in a link with class set to `jobtitle` and a `data-tn-element=\"jobTitle`.  \n",
    "- The location is set in a `span` with `class='location'`. \n",
    "- The company is set in a `span` with `class='company'`. "
   ]
  },
  {
   "cell_type": "markdown",
   "metadata": {
    "focus": false,
    "id": "27b6ffb9-b42f-4298-b07a-10e3bab030cd"
   },
   "source": [
    "### Write 4 functions to extract each item: location, company, job, and salary.\n",
    "\n",
    "example: \n",
    "```python\n",
    "def extract_location_from_result(result):\n",
    "    return result.find ...\n",
    "```\n",
    "\n",
    "- Make sure these functions are robust and can handle cases where the data/field may not be available\n",
    "- Test the functions on the results above"
   ]
  },
  {
   "cell_type": "code",
   "execution_count": 43,
   "metadata": {
    "collapsed": true,
    "focus": false,
    "id": "f4b0755f-42e1-438f-89fc-131a60b781cd"
   },
   "outputs": [],
   "source": [
    "# get text\n",
    "def extract_text(el):\n",
    "    if el:\n",
    "        return el.text.strip()\n",
    "    else:\n",
    "        return ''\n",
    "        \n",
    "# company\n",
    "def get_company_from_result(result):\n",
    "    return extract_text(result.find('span', {'class' : 'company'}))\n",
    "\n",
    "# location\n",
    "def get_location_from_result(result):\n",
    "    return extract_text(result.find('span', {'class' : 'location'}))\n",
    "\n",
    "# summary\n",
    "def get_summary_from_result(result):\n",
    "    return extract_text(result.find('span', {'class' : 'summary'}))\n",
    "# title\n",
    "def get_title_from_result(result):\n",
    "    return extract_text(result.find('a', {'data-tn-element' : 'job Title'}))\n",
    "# get salary if exists\n",
    "def get_salary_from_result(result):\n",
    "    salary_table = result.find('td', {'class' : 'snip'})\n",
    "    if salary_table:\n",
    "        snip = salary_table.find('nobr')\n",
    "        if snip:\n",
    "            return snip.text.strip()   \n",
    "    return None"
   ]
  },
  {
   "cell_type": "markdown",
   "metadata": {
    "focus": false,
    "id": "dc1d32a3-b13c-4919-8723-ce50dbc7660f"
   },
   "source": [
    "Now, to scale up our scraping, we need to accumulate more results. We can do this by examining the URL above.\n",
    "\n",
    "- \"http://www.indeed.com/jobs?q=data+scientist+%2420%2C000&l=New+York&start=10\"\n",
    "\n",
    "There are two query parameters here we can alter to collect more results: the `l=New+York` and the `start=10`. The first controls the location of the results (so we can try different city). The second controls where in the results to start and gives 10 results (so we can keep incrementing this by 10 to move further within the list)."
   ]
  },
  {
   "cell_type": "markdown",
   "metadata": {
    "focus": false,
    "id": "27584c3f-f552-40a2-842a-0681b1fd6265"
   },
   "source": [
    "#### Complete the following code to collect results from multiple cities and start points. \n",
    "- Enter your city below to add it to the search\n",
    "- Remember to convert your salary to U.S. Dollars to match the other cities if the currency is different"
   ]
  },
  {
   "cell_type": "code",
   "execution_count": 62,
   "metadata": {
    "collapsed": true,
    "focus": false,
    "id": "20a34e35-a4db-44eb-8490-9903f8bcf406"
   },
   "outputs": [],
   "source": [
    "# specify city\n",
    "YOUR_CITY = ['Atlanta, GA', 'Los+Angeles, CA', 'Seattle, WA', \n",
    "             'New+York, NY', 'San+Diego, CA', 'San+Francisco, CA', 'Denver CO']"
   ]
  },
  {
   "cell_type": "code",
   "execution_count": 63,
   "metadata": {
    "collapsed": false,
    "focus": false,
    "id": "b02e2931-4d5a-4e1e-9504-c6ccaaf84bed"
   },
   "outputs": [],
   "source": [
    "# create template URL and max number of results (pages) to pull\n",
    "url_template = \"http://www.indeed.com/jobs?q=data+scientist+%2420%2C000&l={}&start={}\"\n",
    "\n",
    "# for loop to pull data with bs4\n",
    "for city in set(YOUR_CITY):\n",
    "    for start in range(10):\n",
    "        r = requests.get(url_template.format(city, start))\n",
    "        # Grab the results from the request (as above)\n",
    "        soup = BeautifulSoup(r.content)\n",
    "        # Append to the full set of results\n",
    "        results += soup.findAll('div', { \"class\" : \"result\" })\n",
    "   "
   ]
  },
  {
   "cell_type": "markdown",
   "metadata": {
    "focus": false,
    "id": "10eb5902-4727-4947-a167-2531aa12a427"
   },
   "source": [
    "#### Use the functions you wrote above to parse out the 4 fields - location, title, company and salary. Create a dataframe from the results with those 4 columns."
   ]
  },
  {
   "cell_type": "code",
   "execution_count": 64,
   "metadata": {
    "collapsed": false,
    "focus": false,
    "id": "d601ff2f-fbdf-4c4f-8bbe-10c4a3132cc8"
   },
   "outputs": [
    {
     "data": {
      "text/plain": [
       "(9445, 5)"
      ]
     },
     "execution_count": 64,
     "metadata": {},
     "output_type": "execute_result"
    }
   ],
   "source": [
    "# combine data into dictionaries\n",
    "rows = []\n",
    "for result in results:\n",
    "    if result:\n",
    "        row = {'company':get_company_from_result(result),\n",
    "              'location':get_location_from_result(result),\n",
    "              'summary':get_summary_from_result(result),\n",
    "              'title':get_title_from_result(result),\n",
    "               'salary':get_salary_from_result(result)\n",
    "              }\n",
    "        rows.append(row)\n",
    "\n",
    "# create dataframe\n",
    "import pandas as pd\n",
    "df = pd.DataFrame(rows)\n",
    "df.head()\n",
    "df.shape"
   ]
  },
  {
   "cell_type": "code",
   "execution_count": 65,
   "metadata": {
    "collapsed": false
   },
   "outputs": [
    {
     "data": {
      "text/plain": [
       "489"
      ]
     },
     "execution_count": 65,
     "metadata": {},
     "output_type": "execute_result"
    }
   ],
   "source": [
    "df.tail()\n",
    "df['salary'].count()\n"
   ]
  },
  {
   "cell_type": "code",
   "execution_count": 69,
   "metadata": {
    "collapsed": false
   },
   "outputs": [
    {
     "data": {
      "text/plain": [
       "135"
      ]
     },
     "execution_count": 69,
     "metadata": {},
     "output_type": "execute_result"
    }
   ],
   "source": [
    "df.drop_duplicates(inplace = True)\n",
    "df.shape\n",
    "df['salary'].count()"
   ]
  },
  {
   "cell_type": "markdown",
   "metadata": {
    "focus": false,
    "id": "faac26dc-392a-4f90-a397-144a070702cb"
   },
   "source": [
    "Lastly, we need to clean up salary data. \n",
    "\n",
    "1. Only a small number of the scraped results have salary information - only these will be used for modeling.\n",
    "1. Some of the salaries are not yearly but hourly or weekly, these will not be useful to us for now\n",
    "1. Some of the entries may be duplicated\n",
    "1. The salaries are given as text and usually with ranges.\n",
    "\n",
    "#### Find the entries with annual salary entries, by filtering the entries without salaries or salaries that are not yearly (filter those that refer to hour or week). Also, remove duplicate entries"
   ]
  },
  {
   "cell_type": "code",
   "execution_count": 81,
   "metadata": {
    "collapsed": false,
    "focus": false,
    "id": "58ff72c5-eef2-4a86-93ac-22f84ed9b752"
   },
   "outputs": [
    {
     "name": "stdout",
     "output_type": "stream",
     "text": [
      "                                    company           location salary  \\\n",
      "0                              Indeed Prime        Seattle, WA   None   \n",
      "1                            Liberty Mutual        Seattle, WA   None   \n",
      "2  Altius Institute for Biomedical Sciences  Seattle, WA 98121   None   \n",
      "3                   The Climate Corporation        Seattle, WA   None   \n",
      "4                                 Microsoft  Redmond, WA 98052   None   \n",
      "\n",
      "                                             summary title  \n",
      "0  Expert in Python and core libraries used by da...        \n",
      "1  Assistant Director, Data Science. We are searc...        \n",
      "2  Study design, hypothesis testing, data modelin...        \n",
      "3  Familiarity with spatial data. Develop cutting...        \n",
      "4  Our data is huge and one of our main challenge...        \n"
     ]
    },
    {
     "data": {
      "text/plain": [
       "0        True\n",
       "1        True\n",
       "2        True\n",
       "3        True\n",
       "4        True\n",
       "5        True\n",
       "6        True\n",
       "7        True\n",
       "8        True\n",
       "9        True\n",
       "10       True\n",
       "11       True\n",
       "12       True\n",
       "13       True\n",
       "14       True\n",
       "48       True\n",
       "49       True\n",
       "50       True\n",
       "51       True\n",
       "52       True\n",
       "53       True\n",
       "54       True\n",
       "55       True\n",
       "56       True\n",
       "57       True\n",
       "78       True\n",
       "79       True\n",
       "80       True\n",
       "81       True\n",
       "82       True\n",
       "        ...  \n",
       "8266     True\n",
       "8267     True\n",
       "8268     True\n",
       "8269     True\n",
       "8270     True\n",
       "8271     True\n",
       "8272     True\n",
       "8395     True\n",
       "8396     True\n",
       "8397     True\n",
       "8398     True\n",
       "8399    False\n",
       "8400     True\n",
       "8401     True\n",
       "8402     True\n",
       "8403     True\n",
       "8404     True\n",
       "8405     True\n",
       "8406     True\n",
       "8407    False\n",
       "8408     True\n",
       "8428     True\n",
       "8429     True\n",
       "8431     True\n",
       "8433     True\n",
       "8434     True\n",
       "8435     True\n",
       "8436     True\n",
       "8437     True\n",
       "9031     True\n",
       "Name: salary, dtype: bool"
      ]
     },
     "execution_count": 81,
     "metadata": {},
     "output_type": "execute_result"
    }
   ],
   "source": [
    "# Filter to only the rows that have salary entries\n",
    "\n",
    "# Remove duplicates\n",
    "\n",
    "# Filter out salary entries referring to week, hour or month\n",
    "data = df[~(df.salary.astype('str').str.contains('hour'))] # example\n",
    "data = data[~(data.salary.astype('str').str.contains('week'))]\n",
    "data = data[~(data.salary.astype('str').str.contains('month'))]\n",
    "\n",
    "\n",
    "data.shape\n",
    "data['salary'].count()\n",
    "print data.head()\n",
    "data['salary'].isnull()"
   ]
  },
  {
   "cell_type": "code",
   "execution_count": 91,
   "metadata": {
    "collapsed": false
   },
   "outputs": [],
   "source": [
    "new_data = data.dropna()"
   ]
  },
  {
   "cell_type": "code",
   "execution_count": 94,
   "metadata": {
    "collapsed": false
   },
   "outputs": [
    {
     "name": "stdout",
     "output_type": "stream",
     "text": [
      "                                                company  \\\n",
      "294                                LIBERTY MUTUAL GROUP   \n",
      "461                              Philanthropy Northwest   \n",
      "670                               Dynamic Staffing Inc.   \n",
      "774                                             Averity   \n",
      "775                             Oliver James Associates   \n",
      "776                                             Beeswax   \n",
      "785                      HOUSING PRESERVATION & DVLPMNT   \n",
      "789                                      Selby Jennings   \n",
      "816                                             Harnham   \n",
      "832                             Smith Hanley Associates   \n",
      "904                                             Averity   \n",
      "905                                            StreetID   \n",
      "920                                      Selby Jennings   \n",
      "922                                      Selby Jennings   \n",
      "924                                      Selby Jennings   \n",
      "925                                             Averity   \n",
      "926                         NYC Department of Buildings   \n",
      "955                      DEPT OF ENVIRONMENT PROTECTION   \n",
      "1023                                            Averity   \n",
      "1032                                  POLICE DEPARTMENT   \n",
      "1055                      DEPT OF HEALTH/MENTAL HYGIENE   \n",
      "1060                                            Averity   \n",
      "1070                                            Averity   \n",
      "1075                     DEPT OF ENVIRONMENT PROTECTION   \n",
      "1086                      DEPT OF HEALTH/MENTAL HYGIENE   \n",
      "1087                        HRA/DEPT OF SOCIAL SERVICES   \n",
      "1104                                            Averity   \n",
      "1119                                     Selby Jennings   \n",
      "1278                        The Hagan-Ricci Group, Inc.   \n",
      "1284                                            Harnham   \n",
      "...                                                 ...   \n",
      "4367                tronc (formerly Tribune Publishing)   \n",
      "4400   Los Angeles County Department of Human Resources   \n",
      "4549         Centers for Disease Control and Prevention   \n",
      "4553                                            Averity   \n",
      "4638                                            Averity   \n",
      "4647                                            Averity   \n",
      "4687                          Nathan S. Kline Institute   \n",
      "4715                                      NewAgeSys,Inc   \n",
      "4789  New York City Department of Health and Mental ...   \n",
      "5132                                     Selby Jennings   \n",
      "5178                             Scienaptic Systems Inc   \n",
      "5179                     DEPT OF ENVIRONMENT PROTECTION   \n",
      "5185                           Datacom Technology Group   \n",
      "5618                                Analytic Recruiting   \n",
      "5644                        Interesse International Inc   \n",
      "6016                                 Nisum Technologies   \n",
      "6121                Federal Emergency Management Agency   \n",
      "6181                     City & County of San Francisco   \n",
      "6197          San Francisco Department of Public Health   \n",
      "6204                                            Harnham   \n",
      "6426                                         TEKSystems   \n",
      "6467                           Elevate Recruiting Group   \n",
      "6512                                               Even   \n",
      "6525                              Workbridge Associates   \n",
      "6858                              IGE Therapeutics, Inc   \n",
      "7171                              Workbridge Associates   \n",
      "7709                                          Codesmith   \n",
      "7714                                    MetaSense, Inc.   \n",
      "8399                              Denver Public Schools   \n",
      "8407                                  10Roof Technology   \n",
      "\n",
      "                                               location  \\\n",
      "294                                         Seattle, WA   \n",
      "461                   Seattle, WA 98121 (Belltown area)   \n",
      "670                                         Seattle, WA   \n",
      "774                                        New York, NY   \n",
      "775                                        New York, NY   \n",
      "776                                        New York, NY   \n",
      "785                                        New York, NY   \n",
      "789                   New York, NY 10167 (Midtown area)   \n",
      "816                                        New York, NY   \n",
      "832                                        New York, NY   \n",
      "904                                        New York, NY   \n",
      "905                                        New York, NY   \n",
      "920                   New York, NY 10167 (Midtown area)   \n",
      "922                   New York, NY 10167 (Midtown area)   \n",
      "924                   New York, NY 10167 (Midtown area)   \n",
      "925                                        New York, NY   \n",
      "926                                       Manhattan, NY   \n",
      "955                                        New York, NY   \n",
      "1023                                       New York, NY   \n",
      "1032                                       New York, NY   \n",
      "1055                                       New York, NY   \n",
      "1060                                       New York, NY   \n",
      "1070                                       New York, NY   \n",
      "1075                                       New York, NY   \n",
      "1086                                      Manhattan, NY   \n",
      "1087                                      Manhattan, NY   \n",
      "1104                                       New York, NY   \n",
      "1119                  New York, NY 10167 (Midtown area)   \n",
      "1278                                       New York, NY   \n",
      "1284                                       New York, NY   \n",
      "...                                                 ...   \n",
      "4367                                    Los Angeles, CA   \n",
      "4400                                    Los Angeles, CA   \n",
      "4549                                       New York, NY   \n",
      "4553                                       New York, NY   \n",
      "4638                                       New York, NY   \n",
      "4647                                       New York, NY   \n",
      "4687                                     Orangeburg, NY   \n",
      "4715                                     Parsippany, NJ   \n",
      "4789                         Long Island City, NY 11101   \n",
      "5132                  New York, NY 10167 (Midtown area)   \n",
      "5178                                       New York, NY   \n",
      "5179                                       New York, NY   \n",
      "5185                  New York, NY 10022 (Midtown area)   \n",
      "5618                                        Atlanta, GA   \n",
      "5644                                        Atlanta, GA   \n",
      "6016                                  San Francisco, CA   \n",
      "6121                                        Oakland, CA   \n",
      "6181             San Francisco, CA 94124 (Bayview area)   \n",
      "6197                                  San Francisco, CA   \n",
      "6204                                  San Francisco, CA   \n",
      "6426  San Francisco, CA 94105 (Financial District area)   \n",
      "6467                                   Redwood City, CA   \n",
      "6512                                        Oakland, CA   \n",
      "6525                                  San Francisco, CA   \n",
      "6858                                      San Diego, CA   \n",
      "7171                                      San Diego, CA   \n",
      "7709                                    Los Angeles, CA   \n",
      "7714                                    Los Angeles, CA   \n",
      "8399        Denver, CO 80204 (Central West Denver area)   \n",
      "8407                                         Denver, CO   \n",
      "\n",
      "                          salary  \\\n",
      "294   $109,900 - $126,100 a year   \n",
      "461     $50,000 - $60,000 a year   \n",
      "670              $125,000 a year   \n",
      "774   $100,000 - $120,000 a year   \n",
      "775              $165,000 a year   \n",
      "776   $130,000 - $165,000 a year   \n",
      "785               $70,286 a year   \n",
      "789   $135,000 - $200,000 a year   \n",
      "816              $200,000 a year   \n",
      "832   $140,000 - $160,000 a year   \n",
      "904   $120,000 - $150,000 a year   \n",
      "905              $120,000 a year   \n",
      "920   $200,000 - $250,000 a year   \n",
      "922              $110,000 a year   \n",
      "924   $150,000 - $170,000 a year   \n",
      "925   $100,000 - $120,000 a year   \n",
      "926     $63,817 - $74,000 a year   \n",
      "955     $59,708 - $72,246 a year   \n",
      "1023    $70,000 - $90,000 a year   \n",
      "1032    $41,057 - $61,669 a year   \n",
      "1055    $70,286 - $88,213 a year   \n",
      "1060  $100,000 - $120,000 a year   \n",
      "1070  $180,000 - $220,000 a year   \n",
      "1075    $59,708 - $72,246 a year   \n",
      "1086    $70,286 - $88,213 a year   \n",
      "1087    $78,630 - $90,000 a year   \n",
      "1104  $120,000 - $160,000 a year   \n",
      "1119  $100,000 - $125,000 a year   \n",
      "1278  $200,000 - $300,000 a year   \n",
      "1284             $110,000 a year   \n",
      "...                          ...   \n",
      "4367    $60,000 - $70,000 a year   \n",
      "4400    $73,107 - $95,884 a year   \n",
      "4549   $88,305 - $146,570 a year   \n",
      "4553  $120,000 - $130,000 a year   \n",
      "4638  $130,000 - $170,000 a year   \n",
      "4647  $125,000 - $175,000 a year   \n",
      "4687              $25,000 a year   \n",
      "4715              $55,000 a year   \n",
      "4789   $76,340 - $100,322 a year   \n",
      "5132   $90,000 - $180,000 a year   \n",
      "5178             $100,000 a year   \n",
      "5179   $83,887 - $113,725 a year   \n",
      "5185             $200,000 a year   \n",
      "5618   $70,000 - $145,000 a year   \n",
      "5644    $60,000 - $70,000 a year   \n",
      "6016             $140,000 a year   \n",
      "6121   $84,302 - $109,592 a year   \n",
      "6181   $98,202 - $125,346 a year   \n",
      "6197   $98,202 - $125,346 a year   \n",
      "6204             $185,000 a year   \n",
      "6426  $110,000 - $130,000 a year   \n",
      "6467             $170,000 a year   \n",
      "6512              $34,142 a year   \n",
      "6525  $165,000 - $195,000 a year   \n",
      "6858              $53,000 a year   \n",
      "7171   $85,000 - $115,000 a year   \n",
      "7709             $103,000 a year   \n",
      "7714             $100,000 a year   \n",
      "8399    $63,339 - $76,007 a year   \n",
      "8407             $105,000 a year   \n",
      "\n",
      "                                                summary title  \n",
      "294   We are searching for a highly motivated data s...        \n",
      "461   Conduct research and provide data analysis in ...        \n",
      "670   Exposure to big data systems (Hadoop, HBASE, H...        \n",
      "774   This is an opportunity for an experienced Seni...        \n",
      "775   3+ years of exposure working with Predictive m...        \n",
      "776   A minimum of 5 years experience in Machine lea...        \n",
      "785   Reliability and validity, sampling, primary an...        \n",
      "789   Senior Data Scientist. Data Intelligence Softw...        \n",
      "816   Senior Data Scientist. However this opportunit...        \n",
      "832   Manage and grow a team of data scientists focu...        \n",
      "904   Strong background in big data technology. As a...        \n",
      "905   Professional or academic experience working wi...        \n",
      "920   Experience working with and managing large dat...        \n",
      "922   A Global tier one Investment bank is looking t...        \n",
      "924   Senior Data Scientist - Quantitative Solutions...        \n",
      "925   As a Senior Statistician, you will be proficie...        \n",
      "926   Conducting qualitative and quantitative data c...        \n",
      "955   Evaluates demographic data from available sour...        \n",
      "1023  As a Tableau Developer in our Data Science tea...        \n",
      "1032  This position will also be responsible for con...        \n",
      "1055  Monitor, maintain, troubleshoot, and improve d...        \n",
      "1060  This is an opportunity for an experienced Data...        \n",
      "1070  Looking for a strong Quantitative Analyst, Res...        \n",
      "1075  Knowledge and practical application of quantit...        \n",
      "1086  Assist Lead Scientist for Surveys with prepari...        \n",
      "1087  Semi parametric modeling, missing data imputat...        \n",
      "1104  Are you a experienced Data Scientist who wants...        \n",
      "1119  An industry-leading FinTech firm in California...        \n",
      "1278  New York City financial services firm is seeki...        \n",
      "1284  You will join the data engineering team and wo...        \n",
      "...                                                 ...   ...  \n",
      "4367  Partner with data scientists in the Technology...        \n",
      "4400  Research experience working with quantifying s...        \n",
      "4549  Analyze scientific investigation data. The Cen...        \n",
      "4553  As a Lead Data Scientist in our Operational An...        \n",
      "4638  We are hiring a Lead Data Scientist for our gr...        \n",
      "4647  Our data science needs are growing quickly, an...        \n",
      "4687  Additional experience in statistical analysis ...        \n",
      "4715  Working knowledge of both computer and/or data...        \n",
      "4789  -Experience with inferential statistical analy...        \n",
      "5132  A top global commodities company is seeking an...        \n",
      "5178  We are looking for an energetic and experience...        \n",
      "5179  Of forest inventory data collection and proces...        \n",
      "5185  Should have experience conducting empirical re...        \n",
      "5618  Data Scientist, Supply Chain sought by Fortune...        \n",
      "5644  Estimate numerical data; Must see through the ...        \n",
      "6016  Big Data Stack:. Hadoop data Ingestion, data q...        \n",
      "6121  In this position, you will serve as a Physical...        \n",
      "6181  Ability to organize and analyze scientific dat...        \n",
      "6197  Under administrative direction of the Director...        \n",
      "6204  You will lead a team of 4 data scientists incl...        \n",
      "6426  You'll be joining a team of stellar engineers,...        \n",
      "6467  Through the Our Clients pivotal world-view in ...        \n",
      "6512  Work side by side with data scientists and res...        \n",
      "6525  The role will be working on technology that pr...        \n",
      "6858  The candidates working in a Team culture, are ...        \n",
      "7171  Experience working with large amounts of data....        \n",
      "7709  We are now bringing this same groundbreaking a...        \n",
      "7714  In data science, machine vision or similar. Ex...        \n",
      "8399  Clean data for analysis. Develop data collecti...        \n",
      "8407  Data Scientist, and a UI Developer. Great atti...        \n",
      "\n",
      "[100 rows x 5 columns]\n"
     ]
    },
    {
     "ename": "TypeError",
     "evalue": "'tuple' object is not callable",
     "output_type": "error",
     "traceback": [
      "\u001b[0;31m---------------------------------------------------------------------------\u001b[0m",
      "\u001b[0;31mTypeError\u001b[0m                                 Traceback (most recent call last)",
      "\u001b[0;32m<ipython-input-94-6481ad74b28f>\u001b[0m in \u001b[0;36m<module>\u001b[0;34m()\u001b[0m\n\u001b[1;32m      1\u001b[0m \u001b[0;32mprint\u001b[0m \u001b[0mnew_data\u001b[0m\u001b[0;34m\u001b[0m\u001b[0m\n\u001b[0;32m----> 2\u001b[0;31m \u001b[0mnew_data\u001b[0m\u001b[0;34m.\u001b[0m\u001b[0mshape\u001b[0m\u001b[0;34m(\u001b[0m\u001b[0;34m)\u001b[0m\u001b[0;34m\u001b[0m\u001b[0m\n\u001b[0m",
      "\u001b[0;31mTypeError\u001b[0m: 'tuple' object is not callable"
     ]
    }
   ],
   "source": [
    "print new_data\n",
    "new_data.shape()"
   ]
  },
  {
   "cell_type": "markdown",
   "metadata": {
    "focus": false,
    "id": "e1f58de9-78a7-49c1-b1ff-145a8f983790"
   },
   "source": [
    "#### Write a function that takes a salary string and converts it to a number, averaging a salary range if necessary"
   ]
  },
  {
   "cell_type": "code",
   "execution_count": 76,
   "metadata": {
    "collapsed": true,
    "focus": false,
    "id": "f2eaea83-8f84-48d3-af17-037538d06601"
   },
   "outputs": [],
   "source": [
    "import re\n",
    "import numpy as np\n",
    "def extract_salary_average(salary_string):\n",
    "    regex = r'\\$([0-9]+,[0-9]+)'\n",
    "    matches = re.findall(regex, salary_string)\n",
    "    return np.mean([float(salary.replace(',', '')) for salary in matches ])"
   ]
  },
  {
   "cell_type": "code",
   "execution_count": 99,
   "metadata": {
    "collapsed": false,
    "focus": false,
    "id": "2d46d846-8aeb-49c3-86ac-768c4fc81552"
   },
   "outputs": [
    {
     "name": "stderr",
     "output_type": "stream",
     "text": [
      "/anaconda/lib/python2.7/site-packages/ipykernel/__main__.py:2: SettingWithCopyWarning: \n",
      "A value is trying to be set on a copy of a slice from a DataFrame.\n",
      "Try using .loc[row_indexer,col_indexer] = value instead\n",
      "\n",
      "See the caveats in the documentation: http://pandas.pydata.org/pandas-docs/stable/indexing.html#indexing-view-versus-copy\n",
      "  from ipykernel import kernelapp as app\n"
     ]
    }
   ],
   "source": [
    "# use '.map' to transform salary to new feature\n",
    "new_data['salary'] = new_data['salary'].map(extract_salary_average)"
   ]
  },
  {
   "cell_type": "code",
   "execution_count": 100,
   "metadata": {
    "collapsed": false
   },
   "outputs": [
    {
     "name": "stdout",
     "output_type": "stream",
     "text": [
      "                                                company  \\\n",
      "294                                LIBERTY MUTUAL GROUP   \n",
      "461                              Philanthropy Northwest   \n",
      "670                               Dynamic Staffing Inc.   \n",
      "774                                             Averity   \n",
      "775                             Oliver James Associates   \n",
      "776                                             Beeswax   \n",
      "785                      HOUSING PRESERVATION & DVLPMNT   \n",
      "789                                      Selby Jennings   \n",
      "816                                             Harnham   \n",
      "832                             Smith Hanley Associates   \n",
      "904                                             Averity   \n",
      "905                                            StreetID   \n",
      "920                                      Selby Jennings   \n",
      "922                                      Selby Jennings   \n",
      "924                                      Selby Jennings   \n",
      "925                                             Averity   \n",
      "926                         NYC Department of Buildings   \n",
      "955                      DEPT OF ENVIRONMENT PROTECTION   \n",
      "1023                                            Averity   \n",
      "1032                                  POLICE DEPARTMENT   \n",
      "1055                      DEPT OF HEALTH/MENTAL HYGIENE   \n",
      "1060                                            Averity   \n",
      "1070                                            Averity   \n",
      "1075                     DEPT OF ENVIRONMENT PROTECTION   \n",
      "1086                      DEPT OF HEALTH/MENTAL HYGIENE   \n",
      "1087                        HRA/DEPT OF SOCIAL SERVICES   \n",
      "1104                                            Averity   \n",
      "1119                                     Selby Jennings   \n",
      "1278                        The Hagan-Ricci Group, Inc.   \n",
      "1284                                            Harnham   \n",
      "...                                                 ...   \n",
      "4367                tronc (formerly Tribune Publishing)   \n",
      "4400   Los Angeles County Department of Human Resources   \n",
      "4549         Centers for Disease Control and Prevention   \n",
      "4553                                            Averity   \n",
      "4638                                            Averity   \n",
      "4647                                            Averity   \n",
      "4687                          Nathan S. Kline Institute   \n",
      "4715                                      NewAgeSys,Inc   \n",
      "4789  New York City Department of Health and Mental ...   \n",
      "5132                                     Selby Jennings   \n",
      "5178                             Scienaptic Systems Inc   \n",
      "5179                     DEPT OF ENVIRONMENT PROTECTION   \n",
      "5185                           Datacom Technology Group   \n",
      "5618                                Analytic Recruiting   \n",
      "5644                        Interesse International Inc   \n",
      "6016                                 Nisum Technologies   \n",
      "6121                Federal Emergency Management Agency   \n",
      "6181                     City & County of San Francisco   \n",
      "6197          San Francisco Department of Public Health   \n",
      "6204                                            Harnham   \n",
      "6426                                         TEKSystems   \n",
      "6467                           Elevate Recruiting Group   \n",
      "6512                                               Even   \n",
      "6525                              Workbridge Associates   \n",
      "6858                              IGE Therapeutics, Inc   \n",
      "7171                              Workbridge Associates   \n",
      "7709                                          Codesmith   \n",
      "7714                                    MetaSense, Inc.   \n",
      "8399                              Denver Public Schools   \n",
      "8407                                  10Roof Technology   \n",
      "\n",
      "                                               location    salary  \\\n",
      "294                                         Seattle, WA  118000.0   \n",
      "461                   Seattle, WA 98121 (Belltown area)   55000.0   \n",
      "670                                         Seattle, WA  125000.0   \n",
      "774                                        New York, NY  110000.0   \n",
      "775                                        New York, NY  165000.0   \n",
      "776                                        New York, NY  147500.0   \n",
      "785                                        New York, NY   70286.0   \n",
      "789                   New York, NY 10167 (Midtown area)  167500.0   \n",
      "816                                        New York, NY  200000.0   \n",
      "832                                        New York, NY  150000.0   \n",
      "904                                        New York, NY  135000.0   \n",
      "905                                        New York, NY  120000.0   \n",
      "920                   New York, NY 10167 (Midtown area)  225000.0   \n",
      "922                   New York, NY 10167 (Midtown area)  110000.0   \n",
      "924                   New York, NY 10167 (Midtown area)  160000.0   \n",
      "925                                        New York, NY  110000.0   \n",
      "926                                       Manhattan, NY   68908.5   \n",
      "955                                        New York, NY   65977.0   \n",
      "1023                                       New York, NY   80000.0   \n",
      "1032                                       New York, NY   51363.0   \n",
      "1055                                       New York, NY   79249.5   \n",
      "1060                                       New York, NY  110000.0   \n",
      "1070                                       New York, NY  200000.0   \n",
      "1075                                       New York, NY   65977.0   \n",
      "1086                                      Manhattan, NY   79249.5   \n",
      "1087                                      Manhattan, NY   84315.0   \n",
      "1104                                       New York, NY  140000.0   \n",
      "1119                  New York, NY 10167 (Midtown area)  112500.0   \n",
      "1278                                       New York, NY  250000.0   \n",
      "1284                                       New York, NY  110000.0   \n",
      "...                                                 ...       ...   \n",
      "4367                                    Los Angeles, CA   65000.0   \n",
      "4400                                    Los Angeles, CA   84495.5   \n",
      "4549                                       New York, NY  117437.5   \n",
      "4553                                       New York, NY  125000.0   \n",
      "4638                                       New York, NY  150000.0   \n",
      "4647                                       New York, NY  150000.0   \n",
      "4687                                     Orangeburg, NY   25000.0   \n",
      "4715                                     Parsippany, NJ   55000.0   \n",
      "4789                         Long Island City, NY 11101   88331.0   \n",
      "5132                  New York, NY 10167 (Midtown area)  135000.0   \n",
      "5178                                       New York, NY  100000.0   \n",
      "5179                                       New York, NY   98806.0   \n",
      "5185                  New York, NY 10022 (Midtown area)  200000.0   \n",
      "5618                                        Atlanta, GA  107500.0   \n",
      "5644                                        Atlanta, GA   65000.0   \n",
      "6016                                  San Francisco, CA  140000.0   \n",
      "6121                                        Oakland, CA   96947.0   \n",
      "6181             San Francisco, CA 94124 (Bayview area)  111774.0   \n",
      "6197                                  San Francisco, CA  111774.0   \n",
      "6204                                  San Francisco, CA  185000.0   \n",
      "6426  San Francisco, CA 94105 (Financial District area)  120000.0   \n",
      "6467                                   Redwood City, CA  170000.0   \n",
      "6512                                        Oakland, CA   34142.0   \n",
      "6525                                  San Francisco, CA  180000.0   \n",
      "6858                                      San Diego, CA   53000.0   \n",
      "7171                                      San Diego, CA  100000.0   \n",
      "7709                                    Los Angeles, CA  103000.0   \n",
      "7714                                    Los Angeles, CA  100000.0   \n",
      "8399        Denver, CO 80204 (Central West Denver area)   69673.0   \n",
      "8407                                         Denver, CO  105000.0   \n",
      "\n",
      "                                                summary title  \n",
      "294   We are searching for a highly motivated data s...        \n",
      "461   Conduct research and provide data analysis in ...        \n",
      "670   Exposure to big data systems (Hadoop, HBASE, H...        \n",
      "774   This is an opportunity for an experienced Seni...        \n",
      "775   3+ years of exposure working with Predictive m...        \n",
      "776   A minimum of 5 years experience in Machine lea...        \n",
      "785   Reliability and validity, sampling, primary an...        \n",
      "789   Senior Data Scientist. Data Intelligence Softw...        \n",
      "816   Senior Data Scientist. However this opportunit...        \n",
      "832   Manage and grow a team of data scientists focu...        \n",
      "904   Strong background in big data technology. As a...        \n",
      "905   Professional or academic experience working wi...        \n",
      "920   Experience working with and managing large dat...        \n",
      "922   A Global tier one Investment bank is looking t...        \n",
      "924   Senior Data Scientist - Quantitative Solutions...        \n",
      "925   As a Senior Statistician, you will be proficie...        \n",
      "926   Conducting qualitative and quantitative data c...        \n",
      "955   Evaluates demographic data from available sour...        \n",
      "1023  As a Tableau Developer in our Data Science tea...        \n",
      "1032  This position will also be responsible for con...        \n",
      "1055  Monitor, maintain, troubleshoot, and improve d...        \n",
      "1060  This is an opportunity for an experienced Data...        \n",
      "1070  Looking for a strong Quantitative Analyst, Res...        \n",
      "1075  Knowledge and practical application of quantit...        \n",
      "1086  Assist Lead Scientist for Surveys with prepari...        \n",
      "1087  Semi parametric modeling, missing data imputat...        \n",
      "1104  Are you a experienced Data Scientist who wants...        \n",
      "1119  An industry-leading FinTech firm in California...        \n",
      "1278  New York City financial services firm is seeki...        \n",
      "1284  You will join the data engineering team and wo...        \n",
      "...                                                 ...   ...  \n",
      "4367  Partner with data scientists in the Technology...        \n",
      "4400  Research experience working with quantifying s...        \n",
      "4549  Analyze scientific investigation data. The Cen...        \n",
      "4553  As a Lead Data Scientist in our Operational An...        \n",
      "4638  We are hiring a Lead Data Scientist for our gr...        \n",
      "4647  Our data science needs are growing quickly, an...        \n",
      "4687  Additional experience in statistical analysis ...        \n",
      "4715  Working knowledge of both computer and/or data...        \n",
      "4789  -Experience with inferential statistical analy...        \n",
      "5132  A top global commodities company is seeking an...        \n",
      "5178  We are looking for an energetic and experience...        \n",
      "5179  Of forest inventory data collection and proces...        \n",
      "5185  Should have experience conducting empirical re...        \n",
      "5618  Data Scientist, Supply Chain sought by Fortune...        \n",
      "5644  Estimate numerical data; Must see through the ...        \n",
      "6016  Big Data Stack:. Hadoop data Ingestion, data q...        \n",
      "6121  In this position, you will serve as a Physical...        \n",
      "6181  Ability to organize and analyze scientific dat...        \n",
      "6197  Under administrative direction of the Director...        \n",
      "6204  You will lead a team of 4 data scientists incl...        \n",
      "6426  You'll be joining a team of stellar engineers,...        \n",
      "6467  Through the Our Clients pivotal world-view in ...        \n",
      "6512  Work side by side with data scientists and res...        \n",
      "6525  The role will be working on technology that pr...        \n",
      "6858  The candidates working in a Team culture, are ...        \n",
      "7171  Experience working with large amounts of data....        \n",
      "7709  We are now bringing this same groundbreaking a...        \n",
      "7714  In data science, machine vision or similar. Ex...        \n",
      "8399  Clean data for analysis. Develop data collecti...        \n",
      "8407  Data Scientist, and a UI Developer. Great atti...        \n",
      "\n",
      "[100 rows x 5 columns]\n"
     ]
    }
   ],
   "source": [
    "print new_data"
   ]
  },
  {
   "cell_type": "code",
   "execution_count": 104,
   "metadata": {
    "collapsed": false,
    "focus": false,
    "id": "5d66eb8a-a032-43f7-8e87-8f37612c2ce5"
   },
   "outputs": [],
   "source": [
    "# save scraped results as a CSV for Tableau/external viz\n",
    "new_data.to_csv('DS_Salaries.csv', encoding = 'utf-8')"
   ]
  },
  {
   "cell_type": "markdown",
   "metadata": {
    "focus": false,
    "id": "6e8a5a1c-1580-4845-a9b6-482bc00c73cd"
   },
   "source": [
    "## Predicting salaries using Logistic Regression"
   ]
  },
  {
   "cell_type": "code",
   "execution_count": null,
   "metadata": {
    "collapsed": false,
    "focus": false,
    "id": "634ab7c1-c76f-4b04-a36e-5ff3cb1f9eb2"
   },
   "outputs": [],
   "source": [
    "# load in the the data of scraped salaries\n"
   ]
  },
  {
   "cell_type": "code",
   "execution_count": 1,
   "metadata": {
    "collapsed": true
   },
   "outputs": [],
   "source": [
    "def city_extract(word):\n",
    "    return word.split(',')[0].split('.')[0].strip()\n",
    "def state_extract(word):\n",
    "    return word.split(',')[1].split('.')[1].strip()"
   ]
  },
  {
   "cell_type": "code",
   "execution_count": 2,
   "metadata": {
    "collapsed": false
   },
   "outputs": [
    {
     "ename": "NameError",
     "evalue": "name 'pd' is not defined",
     "output_type": "error",
     "traceback": [
      "\u001b[0;31m---------------------------------------------------------------------------\u001b[0m",
      "\u001b[0;31mNameError\u001b[0m                                 Traceback (most recent call last)",
      "\u001b[0;32m<ipython-input-2-e96ca3622c81>\u001b[0m in \u001b[0;36m<module>\u001b[0;34m()\u001b[0m\n\u001b[0;32m----> 1\u001b[0;31m \u001b[0mnew_data_index\u001b[0m\u001b[0;34m[\u001b[0m\u001b[0;34m'city'\u001b[0m\u001b[0;34m]\u001b[0m \u001b[0;34m=\u001b[0m \u001b[0mpd\u001b[0m\u001b[0;34m.\u001b[0m\u001b[0mDataFrame\u001b[0m\u001b[0;34m(\u001b[0m\u001b[0;34m{\u001b[0m\u001b[0;34m'city'\u001b[0m\u001b[0;34m:\u001b[0m\u001b[0mdf\u001b[0m\u001b[0;34m[\u001b[0m\u001b[0;34m'location'\u001b[0m\u001b[0;34m]\u001b[0m\u001b[0;34m.\u001b[0m\u001b[0mapply\u001b[0m\u001b[0;34m(\u001b[0m\u001b[0mstate_extract\u001b[0m\u001b[0;34m)\u001b[0m\u001b[0;34m}\u001b[0m\u001b[0;34m)\u001b[0m\u001b[0;34m\u001b[0m\u001b[0m\n\u001b[0m\u001b[1;32m      2\u001b[0m \u001b[0mnew_data_index\u001b[0m\u001b[0;34m[\u001b[0m\u001b[0;34m'state'\u001b[0m\u001b[0;34m]\u001b[0m \u001b[0;34m=\u001b[0m \u001b[0mpd\u001b[0m\u001b[0;34m.\u001b[0m\u001b[0mDataFrame\u001b[0m\u001b[0;34m(\u001b[0m\u001b[0;34m{\u001b[0m\u001b[0;34m'state'\u001b[0m\u001b[0;34m:\u001b[0m\u001b[0mdf\u001b[0m\u001b[0;34m[\u001b[0m\u001b[0;34m'location'\u001b[0m\u001b[0;34m]\u001b[0m\u001b[0;34m.\u001b[0m\u001b[0mapply\u001b[0m\u001b[0;34m(\u001b[0m\u001b[0mstate_extract\u001b[0m\u001b[0;34m)\u001b[0m\u001b[0;34m}\u001b[0m\u001b[0;34m)\u001b[0m\u001b[0;34m\u001b[0m\u001b[0m\n",
      "\u001b[0;31mNameError\u001b[0m: name 'pd' is not defined"
     ]
    }
   ],
   "source": [
    "new_data_index['city'] = pd.DataFrame({'city':df['location'].apply(state_extract)})\n",
    "new_data_index['state'] = pd.DataFrame({'state':df['location'].apply(state_extract)})\n"
   ]
  },
  {
   "cell_type": "markdown",
   "metadata": {
    "focus": false,
    "id": "c3ed6de7-8fe0-4cf4-abbd-abb2a188e05b"
   },
   "source": [
    "#### We want to predict a binary variable - whether the salary was low or high. Compute the median salary and create a new binary variable that is true when the salary is high (above the median)"
   ]
  },
  {
   "cell_type": "code",
   "execution_count": null,
   "metadata": {
    "collapsed": true,
    "focus": false,
    "id": "073e3f3e-21bc-4ab7-ae2e-272be0a409cc"
   },
   "outputs": [],
   "source": [
    "# calculate median and create feature with 1 as high salary\n",
    "\n",
    "median_data = new_data_index['salary'].median()\n",
    "median_data\n",
    "new_data_index['High_Low'] = new_data_index['salary'].map(lambda x: 1 if x >= 103854.25 else 0)"
   ]
  },
  {
   "cell_type": "markdown",
   "metadata": {
    "focus": false,
    "id": "3c7ec3d2-87a0-4290-9d83-a6f4a9ae7e9c"
   },
   "source": [
    "### Q: What is the baseline accuracy for this model?"
   ]
  },
  {
   "cell_type": "markdown",
   "metadata": {
    "collapsed": true,
    "focus": false,
    "id": "987666b2-d8e6-4715-b499-c9d314fb70ce"
   },
   "source": [
    "It is 50% if we guess randomly, half the salaries will be below the median and half will be above."
   ]
  },
  {
   "cell_type": "markdown",
   "metadata": {
    "focus": false,
    "id": "ea7e00cb-9956-44ec-b585-7b95f4d6284c"
   },
   "source": [
    "#### Create a Logistic Regression model to predict High/Low salary using statsmodel. Start by ONLY using the location as a feature. Display the coefficients and write a short summary of what they mean."
   ]
  },
  {
   "cell_type": "code",
   "execution_count": null,
   "metadata": {
    "collapsed": false,
    "focus": false,
    "id": "ce9161b3-eff3-475c-a087-a2be38d7f626"
   },
   "outputs": [],
   "source": [
    "# create statsmodel and summary\n",
    "import statsmodels.formula.api as sm\n"
   ]
  },
  {
   "cell_type": "markdown",
   "metadata": {
    "focus": false,
    "id": "1ecd7811-d200-44bc-942f-4beb76d2689c"
   },
   "source": [
    "#### Create a few new variables in your dataframe to represent interesting features of a job title.\n",
    "- For example, create a feature that represents whether 'Senior' or 'Manager' is in the title \n",
    "- Then build a new Logistic Regression model with these features. Do they add any value? \n"
   ]
  },
  {
   "cell_type": "code",
   "execution_count": null,
   "metadata": {
    "collapsed": false,
    "focus": false,
    "id": "b847f46e-1626-4340-86fb-08dea8c31a84"
   },
   "outputs": [],
   "source": [
    "# create senior, director, and manager dummies\n",
    "salary_data['is_senior'] = salary_data['title'].str.contains('Senior','Sr').astype(int) # example\n",
    "salary_data['is_Manager'] = salary_data['title'].str.contains('Manager').astype(int)\n",
    "salary_data['director'] = salary_data['title'].str.contains('director').astype(int)\n",
    "salary_data['junior'] = salary_data['title'].str.contains('junior').astype(int)\n"
   ]
  },
  {
   "cell_type": "markdown",
   "metadata": {
    "focus": false,
    "id": "7ca5cfdd-958c-4199-aafa-3d3f6c5ba3c4"
   },
   "source": [
    "#### Rebuild this model with scikit-learn.\n",
    "- You can either create the dummy features manually or use the `dmatrix` function from `patsy`\n",
    "- Remember to scale the feature variables as well!\n"
   ]
  },
  {
   "cell_type": "code",
   "execution_count": null,
   "metadata": {
    "collapsed": false,
    "focus": false,
    "id": "c75a97f1-f30c-48b3-97cb-eaf7d525c734"
   },
   "outputs": [],
   "source": [
    "# scale, (patsy optional), and fit\n",
    "from sklearn.linear_model import LogisticRegression\n",
    "from sklearn.preprocessing import StandardScaler\n",
    "from patsy import dmatrix\n",
    "\n",
    "scaler = StandardScaler()\n",
    "model = LogisticRegression(penalty = 'l2', C=0.1)\n"
   ]
  },
  {
   "cell_type": "markdown",
   "metadata": {
    "focus": false,
    "id": "1e6c6902-2b4a-49f0-b4c7-935a26577d22"
   },
   "source": [
    "#### Use cross-validation in scikit-learn to evaluate the model above. \n",
    "- Evaluate the accuracy, AUC, precision and recall of the model. \n",
    "- Discuss the differences and explain when you want a high-recall or a high-precision model in this scenario."
   ]
  },
  {
   "cell_type": "code",
   "execution_count": null,
   "metadata": {
    "collapsed": false,
    "focus": false,
    "id": "3667427c-6534-4dcd-8770-f492b0e3a39e"
   },
   "outputs": [],
   "source": [
    "from sklearn.cross_validation import cross_val_score\n",
    "\n",
    "for metric in ['accuracy', 'precision', 'recall', 'roc_auc']: # example\n",
    "    "
   ]
  },
  {
   "cell_type": "markdown",
   "metadata": {
    "focus": false,
    "id": "4263b1c0-bfde-42bf-ab45-71c7cd798835"
   },
   "source": [
    "### Compare L1 and L2 regularization for this logistic regression model. What effect does this have on the coefficients learned?"
   ]
  },
  {
   "cell_type": "code",
   "execution_count": null,
   "metadata": {
    "collapsed": false,
    "focus": false,
    "id": "2e7d6a29-a515-468a-9953-9d73a0f81de0"
   },
   "outputs": [],
   "source": [
    "model = LogisticRegression(penalty = 'l1', C=1.0)\n",
    "\n",
    "for metric in ['accuracy', 'precision', 'recall', 'roc_auc']:\n",
    "    "
   ]
  },
  {
   "cell_type": "code",
   "execution_count": null,
   "metadata": {
    "collapsed": false,
    "focus": false,
    "id": "32d908a3-89d2-474c-a7f0-199bfae6da7e"
   },
   "outputs": [],
   "source": [
    "model.fit(X_scaled, y)\n",
    "\n",
    "df = pd.DataFrame({'features' : X.design_info.column_names, 'coef': model.coef_[0,:]})\n",
    "df.sort_values('coef', ascending=False, inplace=True)\n",
    "df"
   ]
  },
  {
   "cell_type": "markdown",
   "metadata": {
    "focus": true,
    "id": "82f16f60-6c8b-4376-b3ec-b8ec61a0cde7"
   },
   "source": [
    "#### Optional: Continue to incorporate other text features from the title or summary that you believe will predict the salary and examine their coefficients. Take ~100 scraped entries with salaries. Convert them to use with your model and predict the salary. Which entries have the highest predicted salaries?"
   ]
  },
  {
   "cell_type": "markdown",
   "metadata": {
    "focus": false,
    "id": "3f242a55-4518-4c95-ae90-6888c68077d3"
   },
   "source": [
    "# Bonus Section: Use Count Vectorizer from scikit-learn to create features from the text summaries. \n",
    "- Examine using count or binary features in the model\n",
    "- Re-evaluate the logistic regression model using these. Does this improve the model performance? \n",
    "- What text features are most valuable? "
   ]
  },
  {
   "cell_type": "code",
   "execution_count": null,
   "metadata": {
    "collapsed": false,
    "focus": false,
    "id": "757205dc-443d-4754-9d23-e591e0921c02"
   },
   "outputs": [],
   "source": [
    "from sklearn.feature_extraction.text import CountVectorizer\n",
    "\n",
    "vectorizer = CountVectorizer()\n",
    "X = vectorizer.fit_transform()\n",
    "\n",
    "for metric in ['accuracy', 'precision', 'recall', 'roc_auc']:\n",
    "    scores = cross_val_score(model, X_scaled, y, cv=3, scoring=metric)\n",
    "    print(metric, scores.mean(), scores.std())"
   ]
  },
  {
   "cell_type": "code",
   "execution_count": null,
   "metadata": {
    "collapsed": false,
    "focus": false,
    "id": "f44df3c1-cf82-4271-8660-fdd0052097b6"
   },
   "outputs": [],
   "source": [
    "model.fit(X_scaled, y)\n",
    "\n",
    "df = pd.DataFrame({'features' : vectorizer.get_feature_names(), 'coef': model.coef_[0,:]})\n",
    "df.sort_values('coef', ascending=False, inplace=True)"
   ]
  },
  {
   "cell_type": "code",
   "execution_count": null,
   "metadata": {
    "collapsed": false,
    "focus": false,
    "id": "e182bbe4-2a72-4e75-a3e8-c117688cb8a6"
   },
   "outputs": [],
   "source": [
    "df.head()"
   ]
  },
  {
   "cell_type": "code",
   "execution_count": null,
   "metadata": {
    "collapsed": false,
    "focus": false,
    "id": "a15ef8ea-3130-4c08-a165-ac34d2a8d829"
   },
   "outputs": [],
   "source": [
    "df.tail()"
   ]
  },
  {
   "cell_type": "code",
   "execution_count": null,
   "metadata": {
    "collapsed": false,
    "focus": false,
    "id": "b8a13337-0cde-4117-a928-ffae14661453"
   },
   "outputs": [],
   "source": [
    "# retest L1 and L2 regularization\n",
    "from sklearn.linear_model import LogisticRegressionCV\n",
    "\n",
    "model = LogisticRegressionCV()\n"
   ]
  },
  {
   "cell_type": "markdown",
   "metadata": {
    "collapsed": true,
    "focus": false,
    "id": "936cd752-6b3f-450f-bfb6-1659c6e71539"
   },
   "source": [
    "Score: | /24\n",
    "------|-------\n",
    "Identify: Problem Statement and Hypothesis | \n",
    "Acquire: Import Data using BeautifulSoup| \n",
    "Parse: Clean and Organize Data| \n",
    "Model: Perform Logistic Regression| \n",
    "Evaluate: Logistic Regression Results\t|\n",
    "Present: Blog Report with Findings and Recommendations\t\t| \n",
    "Interactive Tableau visualizations | \n",
    "Regularization |\n",
    "Bonus: Countvectorizer  | "
   ]
  }
 ],
 "metadata": {
  "anaconda-cloud": {},
  "kernelspec": {
   "display_name": "Python [default]",
   "language": "python",
   "name": "python2"
  },
  "language_info": {
   "codemirror_mode": {
    "name": "ipython",
    "version": 2
   },
   "file_extension": ".py",
   "mimetype": "text/x-python",
   "name": "python",
   "nbconvert_exporter": "python",
   "pygments_lexer": "ipython2",
   "version": "2.7.12"
  }
 },
 "nbformat": 4,
 "nbformat_minor": 0
}
