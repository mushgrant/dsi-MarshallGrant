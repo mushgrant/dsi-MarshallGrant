{
 "cells": [
  {
   "cell_type": "markdown",
   "metadata": {
    "focus": false,
    "id": "cc166dbc-d723-4076-8dd8-a290d911dc9b"
   },
   "source": [
    "# Project 4: Web Scraping Indeed.com & Predicting Salaries"
   ]
  },
  {
   "cell_type": "markdown",
   "metadata": {
    "focus": false,
    "id": "59b0deac-55d6-4908-8dee-ce68611486f0"
   },
   "source": [
    "In Project 4, we practice two major skills: collecting data via  web scraping and building a binary predictor with Logistic Regression.\n",
    "\n",
    "We will collect salary information on data science jobs in a variety of markets. Using location, title, and job summary, we'll predict the salary of the job. For job posting sites, this is extraordinarily useful. While most listings DO NOT come with salary information (as you will see in this exercise), extrapolating expected salary can help guide negotiations.\n",
    "\n",
    "Normally, we can use regression for this task; however, we will convert this problem into classification and use Logistic Regression.\n",
    "\n",
    "- Q: Why would we want this to be a classification problem?\n",
    "- A: While more precision may be better, there is a fair amount of natural variance in job salaries - predicting a range be may be useful.\n",
    "\n",
    "Section one focuses on scraping Indeed.com; then we use listings with salary information to build a model and predict additional salaries."
   ]
  },
  {
   "cell_type": "markdown",
   "metadata": {
    "focus": false,
    "id": "1321e3c4-2105-428e-9b1b-6d958453ef1d"
   },
   "source": [
    "### Scraping job listings from Indeed.com"
   ]
  },
  {
   "cell_type": "markdown",
   "metadata": {
    "focus": false,
    "id": "9d959074-bf26-4000-b0da-11273e253776"
   },
   "source": [
    "Scrape job listings from Indeed.com using BeautifulSoup. Luckily, Indeed.com is a simple text page where we can easily find relevant entries. First, look at the source of an Indeed.com page: (http://www.indeed.com/jobs?q=data+scientist+%2420%2C000&l=New+York&start=10\")\n",
    "\n",
    "Notice, each job listing is underneath a `div` tag with a class name of `result`. We can use BeautifulSoup to extract."
   ]
  },
  {
   "cell_type": "markdown",
   "metadata": {
    "focus": false,
    "id": "d9f7b5d1-b227-4bda-a87b-1606b62fb60b"
   },
   "source": [
    "#### Setup a request (using `requests`) to the URL below. Use BeautifulSoup to parse the page and extract all results (HINT: Look for div tags with class name result)\n",
    "\n",
    "The URL here has many query parameters\n",
    "\n",
    "- `q` for the job search\n",
    "- This is followed by \"+20,000\" to return results with salaries (or expected salaries >$20,000)\n",
    "- `l` for a location \n",
    "- `start` for what result number to start on"
   ]
  },
  {
   "cell_type": "code",
   "execution_count": 4,
   "metadata": {
    "collapsed": false,
    "focus": false,
    "id": "911505d6-159f-4146-967d-a8482fe27e3d"
   },
   "outputs": [],
   "source": [
    "URL = 'http://www.indeed.com/'"
   ]
  },
  {
   "cell_type": "code",
   "execution_count": 5,
   "metadata": {
    "collapsed": true,
    "focus": false,
    "id": "78446809-fa02-48df-b60f-cbeda175a498"
   },
   "outputs": [],
   "source": [
    "import requests\n",
    "import bs4\n",
    "from bs4 import BeautifulSoup"
   ]
  },
  {
   "cell_type": "code",
   "execution_count": 6,
   "metadata": {
    "collapsed": false,
    "focus": false,
    "id": "c8846f3e-42a5-4714-9784-fb5d6a28524b"
   },
   "outputs": [],
   "source": [
    "# read site in soup\n",
    "r = requests.get(URL)\n",
    "soup = BeautifulSoup(r.content, \"lxml\")\n",
    "\n",
    "# Append to the full set of results\n",
    "results = soup.findAll('div', { \"class\" : \"result\" })\n"
   ]
  },
  {
   "cell_type": "markdown",
   "metadata": {
    "focus": false,
    "id": "963bb376-7746-43ce-98ec-ea4162f7ead6"
   },
   "source": [
    "Let's look at one result more closely. A single `result` looks like\n",
    "\n",
    "```\n",
    "<div class=\" row result\" data-jk=\"2480d203f7e97210\" data-tn-component=\"organicJob\" id=\"p_2480d203f7e97210\" itemscope=\"\" itemtype=\"http://schema.org/JobPosting\">\n",
    "<h2 class=\"jobtitle\" id=\"jl_2480d203f7e97210\">\n",
    "<a class=\"turnstileLink\" data-tn-element=\"jobTitle\" onmousedown=\"return rclk(this,jobmap[0],1);\" rel=\"nofollow\" target=\"_blank\" title=\"AVP/Quantitative Analyst\">AVP/Quantitative Analyst</a>\n",
    "</h2>\n",
    "<span class=\"company\" itemprop=\"hiringOrganization\" itemtype=\"http://schema.org/Organization\">\n",
    "<span itemprop=\"name\">\n",
    "<a href=\"/cmp/Alliancebernstein?from=SERP&amp;campaignid=serp-linkcompanyname&amp;fromjk=2480d203f7e97210&amp;jcid=b374f2a780e04789\" target=\"_blank\">\n",
    "    AllianceBernstein</a></span>\n",
    "</span>\n",
    "<tr>\n",
    "<td class=\"snip\">\n",
    "<nobr>$117,500 - $127,500 a year</nobr>\n",
    "<div>\n",
    "<span class=\"summary\" itemprop=\"description\">\n",
    "C onduct quantitative and statistical research as well as portfolio management for various investment portfolios. Collaborate with Quantitative Analysts and</span>\n",
    "</div>\n",
    "</div>\n",
    "</td>\n",
    "</tr>\n",
    "</table>\n",
    "</div>\n",
    "```\n",
    "\n",
    "While this has some of the more verbose elements removed, we can see that there is some structure to the above:\n",
    "- The salary is available in a `nobr` element inside of a `td` element with `class='snip`.\n",
    "- The title of a job is in a link with class set to `jobtitle` and a `data-tn-element=\"jobTitle`.  \n",
    "- The location is set in a `span` with `class='location'`. \n",
    "- The company is set in a `span` with `class='company'`. "
   ]
  },
  {
   "cell_type": "markdown",
   "metadata": {
    "focus": false,
    "id": "27b6ffb9-b42f-4298-b07a-10e3bab030cd"
   },
   "source": [
    "### Write 4 functions to extract each item: location, company, job, and salary.\n",
    "\n",
    "example: \n",
    "```python\n",
    "def extract_location_from_result(result):\n",
    "    return result.find ...\n",
    "```\n",
    "\n",
    "- Make sure these functions are robust and can handle cases where the data/field may not be available\n",
    "- Test the functions on the results above"
   ]
  },
  {
   "cell_type": "code",
   "execution_count": 7,
   "metadata": {
    "collapsed": true,
    "focus": false,
    "id": "f4b0755f-42e1-438f-89fc-131a60b781cd"
   },
   "outputs": [],
   "source": [
    "# get text\n",
    "def extract_text(el):\n",
    "    if el:\n",
    "        return el.text.strip()\n",
    "    else:\n",
    "        return ''\n",
    "        \n",
    "# company\n",
    "def get_company_from_result(result):\n",
    "    return extract_text(result.find('span', {'class' : 'company'}))\n",
    "\n",
    "# location\n",
    "def get_location_from_result(result):\n",
    "    return extract_text(result.find('span', {'class' : 'location'}))\n",
    "\n",
    "# summary\n",
    "def get_summary_from_result(result):\n",
    "    return extract_text(result.find('span', {'class' : 'summary'}))\n",
    "# title\n",
    "def get_title_from_result(result):\n",
    "    return extract_text(result.find('a', {'data-tn-element' : 'jobTitle'}))\n",
    "# get salary if exists\n",
    "def get_salary_from_result(result):\n",
    "    salary_table = result.find('td', {'class' : 'snip'})\n",
    "    if salary_table:\n",
    "        snip = salary_table.find('nobr')\n",
    "        if snip:\n",
    "            return snip.text.strip()   \n",
    "    return None"
   ]
  },
  {
   "cell_type": "markdown",
   "metadata": {
    "focus": false,
    "id": "dc1d32a3-b13c-4919-8723-ce50dbc7660f"
   },
   "source": [
    "Now, to scale up our scraping, we need to accumulate more results. We can do this by examining the URL above.\n",
    "\n",
    "- \"http://www.indeed.com/jobs?q=data+scientist+%2420%2C000&l=New+York&start=10\"\n",
    "\n",
    "There are two query parameters here we can alter to collect more results: the `l=New+York` and the `start=10`. The first controls the location of the results (so we can try different city). The second controls where in the results to start and gives 10 results (so we can keep incrementing this by 10 to move further within the list)."
   ]
  },
  {
   "cell_type": "markdown",
   "metadata": {
    "focus": false,
    "id": "27584c3f-f552-40a2-842a-0681b1fd6265"
   },
   "source": [
    "#### Complete the following code to collect results from multiple cities and start points. \n",
    "- Enter your city below to add it to the search\n",
    "- Remember to convert your salary to U.S. Dollars to match the other cities if the currency is different"
   ]
  },
  {
   "cell_type": "code",
   "execution_count": 8,
   "metadata": {
    "collapsed": true,
    "focus": false,
    "id": "20a34e35-a4db-44eb-8490-9903f8bcf406"
   },
   "outputs": [],
   "source": [
    "# specify city\n",
    "YOUR_CITY = ['Atlanta, GA', 'Los+Angeles, CA', 'Seattle, WA', \n",
    "             'New+York, NY', 'San+Diego, CA', 'San+Francisco, CA', 'Denver CO', 'Boston, MA', 'Austin, TX']"
   ]
  },
  {
   "cell_type": "code",
   "execution_count": 10,
   "metadata": {
    "collapsed": false,
    "focus": false,
    "id": "b02e2931-4d5a-4e1e-9504-c6ccaaf84bed"
   },
   "outputs": [],
   "source": [
    "# create template URL and max number of results (pages) to pull\n",
    "url_template = \"http://www.indeed.com/jobs?q=data+scientist+%2420%2C000&l={}&start={}\"\n",
    "\n",
    "# for loop to pull data with bs4\n",
    "for city in set(YOUR_CITY):\n",
    "    for start in range(0, 500, 20 ):\n",
    "        r = requests.get(url_template.format(city, start))\n",
    "        # Grab the results from the request (as above)\n",
    "        soup = BeautifulSoup(r.content, \"lxml\")\n",
    "        # Append to the full set of results\n",
    "        results += soup.findAll('div', { \"class\" : \"result\" })\n",
    "   "
   ]
  },
  {
   "cell_type": "markdown",
   "metadata": {
    "focus": false,
    "id": "10eb5902-4727-4947-a167-2531aa12a427"
   },
   "source": [
    "#### Use the functions you wrote above to parse out the 4 fields - location, title, company and salary. Create a dataframe from the results with those 4 columns."
   ]
  },
  {
   "cell_type": "code",
   "execution_count": 11,
   "metadata": {
    "collapsed": false,
    "focus": false,
    "id": "d601ff2f-fbdf-4c4f-8bbe-10c4a3132cc8"
   },
   "outputs": [
    {
     "data": {
      "text/plain": [
       "(5214, 5)"
      ]
     },
     "execution_count": 11,
     "metadata": {},
     "output_type": "execute_result"
    }
   ],
   "source": [
    "# combine data into dictionaries\n",
    "rows = []\n",
    "for result in results:\n",
    "    if result:\n",
    "        row = {'company':get_company_from_result(result),\n",
    "              'location':get_location_from_result(result),\n",
    "              'summary':get_summary_from_result(result),\n",
    "              'title':get_title_from_result(result),\n",
    "               'salary':get_salary_from_result(result)\n",
    "              }\n",
    "        rows.append(row)\n",
    "\n",
    "# create dataframe\n",
    "import pandas as pd\n",
    "df = pd.DataFrame(rows)\n",
    "df.head()\n",
    "df.shape"
   ]
  },
  {
   "cell_type": "code",
   "execution_count": 12,
   "metadata": {
    "collapsed": false
   },
   "outputs": [
    {
     "data": {
      "text/plain": [
       "176"
      ]
     },
     "execution_count": 12,
     "metadata": {},
     "output_type": "execute_result"
    }
   ],
   "source": [
    "df.tail()\n",
    "df['salary'].count()\n"
   ]
  },
  {
   "cell_type": "code",
   "execution_count": 13,
   "metadata": {
    "collapsed": false
   },
   "outputs": [
    {
     "data": {
      "text/plain": [
       "86"
      ]
     },
     "execution_count": 13,
     "metadata": {},
     "output_type": "execute_result"
    }
   ],
   "source": [
    "df.drop_duplicates(inplace = True)\n",
    "df.shape\n",
    "df['salary'].count()"
   ]
  },
  {
   "cell_type": "markdown",
   "metadata": {
    "focus": false,
    "id": "faac26dc-392a-4f90-a397-144a070702cb"
   },
   "source": [
    "Lastly, we need to clean up salary data. \n",
    "\n",
    "1. Only a small number of the scraped results have salary information - only these will be used for modeling.\n",
    "1. Some of the salaries are not yearly but hourly or weekly, these will not be useful to us for now\n",
    "1. Some of the entries may be duplicated\n",
    "1. The salaries are given as text and usually with ranges.\n",
    "\n",
    "#### Find the entries with annual salary entries, by filtering the entries without salaries or salaries that are not yearly (filter those that refer to hour or week). Also, remove duplicate entries"
   ]
  },
  {
   "cell_type": "code",
   "execution_count": 14,
   "metadata": {
    "collapsed": false,
    "focus": false,
    "id": "58ff72c5-eef2-4a86-93ac-22f84ed9b752"
   },
   "outputs": [
    {
     "name": "stdout",
     "output_type": "stream",
     "text": [
      "                     company                                 location salary  \\\n",
      "0         Riverside Research                          Buckley AFB, CO   None   \n",
      "1                    Pearson                              Boulder, CO   None   \n",
      "2                    Pearson                           Centennial, CO   None   \n",
      "3  BBC Research & Consulting  Denver, CO 80209 (Washington Park area)   None   \n",
      "4                     Ibotta             Denver, CO 80202 (Lodo area)   None   \n",
      "\n",
      "                                             summary  \\\n",
      "0  Experience with data science algorithms, commo...   \n",
      "1  **Software Engineer \\- Machine Learning** **De...   \n",
      "2  Data structures, data representation, data cle...   \n",
      "3  Expertise in data and statistical analysis. Da...   \n",
      "4  4+ years of professional experience as a Data ...   \n",
      "\n",
      "                                              title  \n",
      "0                                    Data Scientist  \n",
      "1              Software Engineer - Machine Learning  \n",
      "2  Senior Data/Research Scientist, Machine Learning  \n",
      "3                                     Data Analysis  \n",
      "4                             Senior Data Scientist  \n"
     ]
    },
    {
     "data": {
      "text/plain": [
       "0        True\n",
       "1        True\n",
       "2        True\n",
       "3        True\n",
       "4        True\n",
       "5        True\n",
       "6        True\n",
       "7        True\n",
       "8        True\n",
       "9        True\n",
       "10       True\n",
       "11       True\n",
       "12       True\n",
       "13       True\n",
       "14       True\n",
       "18       True\n",
       "19       True\n",
       "20       True\n",
       "21       True\n",
       "22       True\n",
       "23       True\n",
       "24       True\n",
       "25       True\n",
       "26       True\n",
       "27       True\n",
       "48       True\n",
       "49       True\n",
       "50       True\n",
       "51       True\n",
       "52      False\n",
       "        ...  \n",
       "4786     True\n",
       "4787     True\n",
       "4788     True\n",
       "4789     True\n",
       "4790     True\n",
       "4791     True\n",
       "4792     True\n",
       "4793     True\n",
       "4794     True\n",
       "4795     True\n",
       "4816    False\n",
       "4817     True\n",
       "4818     True\n",
       "4819     True\n",
       "4820     True\n",
       "4821     True\n",
       "4822     True\n",
       "4823    False\n",
       "4824     True\n",
       "4825     True\n",
       "5116     True\n",
       "5117     True\n",
       "5118     True\n",
       "5119     True\n",
       "5120     True\n",
       "5121     True\n",
       "5122     True\n",
       "5123     True\n",
       "5124     True\n",
       "5125     True\n",
       "Name: salary, dtype: bool"
      ]
     },
     "execution_count": 14,
     "metadata": {},
     "output_type": "execute_result"
    }
   ],
   "source": [
    "# Filter to only the rows that have salary entries\n",
    "\n",
    "# Remove duplicates\n",
    "\n",
    "# Filter out salary entries referring to week, hour or month\n",
    "data = df[~(df.salary.astype('str').str.contains('hour'))] # example\n",
    "data = data[~(data.salary.astype('str').str.contains('week'))]\n",
    "data = data[~(data.salary.astype('str').str.contains('month'))]\n",
    "\n",
    "\n",
    "data.shape\n",
    "data['salary'].count()\n",
    "print data.head()\n",
    "data['salary'].isnull()"
   ]
  },
  {
   "cell_type": "code",
   "execution_count": 15,
   "metadata": {
    "collapsed": false
   },
   "outputs": [],
   "source": [
    "new_data = data.dropna()"
   ]
  },
  {
   "cell_type": "code",
   "execution_count": 16,
   "metadata": {
    "collapsed": false
   },
   "outputs": [
    {
     "name": "stdout",
     "output_type": "stream",
     "text": [
      "                                               company  \\\n",
      "52                               Gunther Douglas, Inc.   \n",
      "57                         Community College of Aurora   \n",
      "85                              University of Colorado   \n",
      "93                              University of Colorado   \n",
      "99                                       Denver Health   \n",
      "207                                      Denver Health   \n",
      "628                                   All-In Analytics   \n",
      "633                                State of Washington   \n",
      "635                              Lighthouse Recruiting   \n",
      "723                              Smith Arnold Partners   \n",
      "750                tronc (formerly Tribune Publishing)   \n",
      "751                                                 LT   \n",
      "810   Los Angeles County Department of Human Resources   \n",
      "842                 Los Angeles County Human Resources   \n",
      "852   Los Angeles County Department of Human Resources   \n",
      "854   Los Angeles County Department of Human Resources   \n",
      "860                                     Selby Jennings   \n",
      "870     Tessie Cleveland Community Service Corporation   \n",
      "883                 Los Angeles County Human Resources   \n",
      "887                                 Jobspring Partners   \n",
      "896                                 Altair Engineering   \n",
      "974                 Los Angeles County Human Resources   \n",
      "978                              Lighthouse Recruiting   \n",
      "980                                     Selby Jennings   \n",
      "1084  Los Angeles County Department of Human Resources   \n",
      "1126                                      Wade & Wendy   \n",
      "1154                                  CONSUMER AFFAIRS   \n",
      "1167                                           Averity   \n",
      "1189                                           Averity   \n",
      "1199                                    Selby Jennings   \n",
      "...                                                ...   \n",
      "1258                                     NewAgeSys,Inc   \n",
      "1265                     DEPT OF HEALTH/MENTAL HYGIENE   \n",
      "1277                    HOUSING PRESERVATION & DVLPMNT   \n",
      "1294                                           Averity   \n",
      "1325                                           Averity   \n",
      "1335                                       Winston Fox   \n",
      "1363                                           Averity   \n",
      "1366                                    Selby Jennings   \n",
      "1414                                 POLICE DEPARTMENT   \n",
      "1437                                           Averity   \n",
      "1441                                     NewAgeSys,Inc   \n",
      "1475                                           Harnham   \n",
      "1528                               Analytic Recruiting   \n",
      "1535                                  Emory University   \n",
      "1562                                  Emory University   \n",
      "1564                              Synergy Search Group   \n",
      "1655                               Analytic Recruiting   \n",
      "1864                                        Dashbot.io   \n",
      "1954                                  All-In Analytics   \n",
      "1962                             Workbridge Associates   \n",
      "2037                          Elevate Recruiting Group   \n",
      "2079                             Workbridge Associates   \n",
      "2291                             IGE Therapeutics, Inc   \n",
      "2647                                     Mountain Ltd.   \n",
      "3999                                           Averity   \n",
      "4005                                           Animalz   \n",
      "4056                            Geode Executive Search   \n",
      "4061                         Nathan S. Kline Institute   \n",
      "4816         San Francisco Department of Public Health   \n",
      "4823                             Workbridge Associates   \n",
      "\n",
      "                                         location                      salary  \\\n",
      "52                                   Superior, CO   $95,000 - $130,000 a year   \n",
      "57                                     Aurora, CO              $40,000 a year   \n",
      "85                                     Aurora, CO    $50,000 - $63,000 a year   \n",
      "93                                    Boulder, CO  $100,000 - $115,000 a year   \n",
      "99    Denver, CO 80204 (Central West Denver area)              $88,091 a year   \n",
      "207   Denver, CO 80204 (Central West Denver area)              $66,654 a year   \n",
      "628                                   Seattle, WA  $100,000 - $150,000 a year   \n",
      "633                                  Bellevue, WA    $48,060 - $63,036 a year   \n",
      "635                                   Seattle, WA   $90,000 - $100,000 a year   \n",
      "723                                   Seattle, WA    $50,000 - $65,000 a year   \n",
      "750                               Los Angeles, CA    $60,000 - $70,000 a year   \n",
      "751                               Los Angeles, CA             $180,000 a year   \n",
      "810                               Los Angeles, CA   $76,804 - $100,726 a year   \n",
      "842                               Los Angeles, CA   $84,336 - $110,616 a year   \n",
      "852                               Los Angeles, CA    $73,286 - $86,231 a year   \n",
      "854                               Los Angeles, CA   $84,336 - $110,616 a year   \n",
      "860                               Los Angeles, CA             $120,000 a year   \n",
      "870                               Los Angeles, CA              $56,000 a year   \n",
      "883                               Los Angeles, CA    $36,339 - $48,794 a year   \n",
      "887                               Los Angeles, CA   $80,000 - $110,000 a year   \n",
      "896                                   Cypress, CA              $88,000 a year   \n",
      "974                               Los Angeles, CA    $73,107 - $95,884 a year   \n",
      "978                                  Pasadena, CA   $80,000 - $110,000 a year   \n",
      "980                               Los Angeles, CA             $120,000 a year   \n",
      "1084                              Los Angeles, CA    $73,107 - $95,884 a year   \n",
      "1126                                 New York, NY   $80,000 - $120,000 a year   \n",
      "1154                                Manhattan, NY    $59,708 - $72,246 a year   \n",
      "1167                                 New York, NY  $100,000 - $120,000 a year   \n",
      "1189                                 New York, NY  $125,000 - $175,000 a year   \n",
      "1199            New York, NY 10167 (Midtown area)  $135,000 - $200,000 a year   \n",
      "...                                           ...                         ...   \n",
      "1258                               Parsippany, NJ              $45,000 a year   \n",
      "1265                                Manhattan, NY    $68,239 - $85,644 a year   \n",
      "1277                                 New York, NY              $70,286 a year   \n",
      "1294                                 New York, NY  $130,000 - $170,000 a year   \n",
      "1325                                 New York, NY  $120,000 - $150,000 a year   \n",
      "1335                                 New York, NY             $200,000 a year   \n",
      "1363                                 New York, NY    $70,000 - $90,000 a year   \n",
      "1366            New York, NY 10167 (Midtown area)   $90,000 - $180,000 a year   \n",
      "1414                                 New York, NY   $78,630 - $103,332 a year   \n",
      "1437                                 New York, NY  $150,000 - $200,000 a year   \n",
      "1441                               Kenilworth, NJ              $50,000 a year   \n",
      "1475                                 New York, NY             $110,000 a year   \n",
      "1528                                  Atlanta, GA  $100,000 - $125,000 a year   \n",
      "1535                                  Atlanta, GA              $85,500 a year   \n",
      "1562                                  Atlanta, GA              $69,900 a year   \n",
      "1564                                  Atlanta, GA              $80,000 a year   \n",
      "1655                                  Atlanta, GA   $70,000 - $145,000 a year   \n",
      "1864                            San Francisco, CA  $160,000 - $180,000 a year   \n",
      "1954                            San Francisco, CA  $120,000 - $150,000 a year   \n",
      "1962                            San Francisco, CA  $140,000 - $160,000 a year   \n",
      "2037                             Redwood City, CA             $170,000 a year   \n",
      "2079                            San Francisco, CA  $140,000 - $160,000 a year   \n",
      "2291                                San Diego, CA              $53,000 a year   \n",
      "2647                                   Denver, CO              $42,500 a year   \n",
      "3999                                 New York, NY  $180,000 - $220,000 a year   \n",
      "4005    New York, NY 10002 (Lower East Side area)              $40,000 a year   \n",
      "4056                                 New York, NY             $200,000 a year   \n",
      "4061                               Orangeburg, NY              $25,000 a year   \n",
      "4816                            San Francisco, CA   $98,202 - $125,346 a year   \n",
      "4823                                 Berkeley, CA  $140,000 - $170,000 a year   \n",
      "\n",
      "                                                summary  \\\n",
      "52    Gunther Douglas’ client is seeking a Data Scie...   \n",
      "57    Works with large complex data sets, including ...   \n",
      "85    Research information and data problems. Certif...   \n",
      "93    Of visiting scientists; In use of excel, data ...   \n",
      "99    Budget development, processing and monitoring ...   \n",
      "207   Typically, one (1) or more years of healthcare...   \n",
      "628   Business Intelligence Scientist. SQL, Digital ...   \n",
      "633   Performing field surveys or studies, 2) respon...   \n",
      "635   Join our Medical Laboratory Scientists Groups:...   \n",
      "723   Growing international custom research supplier...   \n",
      "750   Partner with data scientists in the Technology...   \n",
      "751   Our data team consists of two data analysts an...   \n",
      "810   Develops and documents the backup procedure to...   \n",
      "842   Evaluates the performance of subordinate Super...   \n",
      "852   Devises data processing procedures that make u...   \n",
      "854   Evaluates the performance of subordinate Super...   \n",
      "860   A Top Tier Investment Bank is looking for an e...   \n",
      "870   Technical Skills in Data Collection/Analysis a...   \n",
      "883   Compiles pertinent data to verify amounts, tot...   \n",
      "887   Data Scientist experience a plus! Big data and...   \n",
      "896   Altair ProductDesign is a global, multi-discip...   \n",
      "974   Research experience working with quantifying s...   \n",
      "978   Join our Medical Laboratory Scientists Groups:...   \n",
      "980   A Top Tier Investment Bank is looking for an e...   \n",
      "1084  Research experience working with quantifying s...   \n",
      "1126  Our Data Scientist will integrate data from we...   \n",
      "1154  The Division of Data Analysis and Strategic Pl...   \n",
      "1167  This is an opportunity for an experienced Seni...   \n",
      "1189  Our data science needs are growing quickly, an...   \n",
      "1199  Senior Data Scientist. Data Intelligence Softw...   \n",
      "...                                                 ...   \n",
      "1258  Working knowledge of both computer and/or data...   \n",
      "1265  -Evaluate data, prepare reports and maintain r...   \n",
      "1277  Reliability and validity, sampling, primary an...   \n",
      "1294  We are hiring a Lead Data Scientist for our gr...   \n",
      "1325  Strong background in big data technology. As a...   \n",
      "1335  Develop powerful systems that provide easy acc...   \n",
      "1363  As a Tableau Developer in our Data Science tea...   \n",
      "1366  A top global commodities company is seeking an...   \n",
      "1414  Maintain records of raw data; Coordinator/Lead...   \n",
      "1437  Are you Quantitative Research Analyst looking ...   \n",
      "1441  Analysis and interpretation data. Candidate mu...   \n",
      "1475  You will join the data engineering team and wo...   \n",
      "1528  Python, data mining, data science; The data Sc...   \n",
      "1535  Staff Scientists will have leadership responsi...   \n",
      "1562  The Medical Image Analysis Scientist, works wi...   \n",
      "1564  Duties will include data conversion from multi...   \n",
      "1655  Data Scientist, Supply Chain sought by Fortune...   \n",
      "1864  Data migration, transformation, and scripting....   \n",
      "1954  Machine Learning Senior Data Scientist. Mentor...   \n",
      "1962  Established retail and eCommerce company in do...   \n",
      "2037  Through the Our Clients pivotal world-view in ...   \n",
      "2079  Data Mining Experience. The Data Engineers wor...   \n",
      "2291  The candidates working in a Team culture, are ...   \n",
      "2647  Enter data from legal sources into database. I...   \n",
      "3999  Looking for a strong Quantitative Analyst, Res...   \n",
      "4005  You're a critical thinker who can find compell...   \n",
      "4056  Data Scientist - Text Analytics - SQL, R, SAS*...   \n",
      "4061  Additional experience in statistical analysis ...   \n",
      "4816  Under administrative direction of the Director...   \n",
      "4823  The Machine Learning Operations group within t...   \n",
      "\n",
      "                                                  title  \n",
      "52                                       Data Scientist  \n",
      "57                                     Research Analyst  \n",
      "85                                    Bioinformationist  \n",
      "93                         Managing Director for STROBE  \n",
      "99                            Business Manager - RADARS  \n",
      "207           RN-Statistical Research Specilist Nursing  \n",
      "628                     Business Intelligence Scientist  \n",
      "633              TMDL Lead (Environmental Specialist 4)  \n",
      "635                          Variant Scientist (Remote)  \n",
      "723                                    Research Analyst  \n",
      "750                 Social Media Marketing Data Analyst  \n",
      "751                               Senior Data Scientist  \n",
      "810                  MEDICAL TECHNOLOGIST, DATA SYSTEMS  \n",
      "842       SUPERVISING CLINICAL LABORATORY SCIENTIST III  \n",
      "852           RESEARCH ANALYST III, BEHAVIORAL SCIENCES  \n",
      "854       SUPERVISING CLINICAL LABORATORY SCIENTIST III  \n",
      "860           Quantitative Analyst - Multiple Vacancies  \n",
      "870                             Senior Research Analyst  \n",
      "883                            SENIOR STATISTICAL CLERK  \n",
      "887                                     Product Manager  \n",
      "896                           Aerospace Program Manager  \n",
      "974         CHIEF RESEARCH ANALYST, BEHAVIORAL SCIENCES  \n",
      "978                 LC/MS Clinical Laboratory Scientist  \n",
      "980                  Quantitative Analyst - Credit Risk  \n",
      "1084        CHIEF RESEARCH ANALYST, BEHAVIORAL SCIENCES  \n",
      "1126               Wade & Wendy_Data Scientist/Engineer  \n",
      "1154        Modeler/Data Scientist, Policy and Strategy  \n",
      "1167  Senior Data Scientist for Innovative, Top-Rank...  \n",
      "1189                              Senior Data Scientist  \n",
      "1199                              Senior Data Scientist  \n",
      "...                                                 ...  \n",
      "1258                                          Scientist  \n",
      "1265  City Research Scientist, Bureau of the Public ...  \n",
      "1277                               Technical Researcher  \n",
      "1294                   Lead Data Scientist (New Jersey)  \n",
      "1325  Data Scientist, Quant Developer for $10B Asset...  \n",
      "1335               Senior Software Development Engineer  \n",
      "1363          Tableau Developer for Global Organization  \n",
      "1366                      FTR Quantitative Risk Analyst  \n",
      "1414  Coordinator / Lead Scientist, Municipal Storm ...  \n",
      "1437  Quantitative Research Analyst for Multi-Billio...  \n",
      "1441                                            Chemist  \n",
      "1475                                  Big Data Engineer  \n",
      "1528                              Senior Data Scientist  \n",
      "1535                    Staff Scientist (Goldsmith Lab)  \n",
      "1562                       Scientist, Med Imag Analysis  \n",
      "1564        Audit Snr (Banking) - Data Analysis 60K-80K  \n",
      "1655                      Data Scientist - Supply Chain  \n",
      "1864                        Data Engineer and Scientist  \n",
      "1954                Sr. Machine Learning Data Scientist  \n",
      "1962               Senior Data Scientist (Optimization)  \n",
      "2037  Senior Data Scientist - Security Experience is...  \n",
      "2079                             Data Engineer (Python)  \n",
      "2291                                          Scientist  \n",
      "2647                             Legal Research Analyst  \n",
      "3999  Senior Systematic Quantitative Analyst - Multi...  \n",
      "4005                                   Research Analyst  \n",
      "4056      Data Scientist - Text Analytics - SQL, R, SAS  \n",
      "4061  Post-Doctoral Scientist (Analytical Psychophar...  \n",
      "4816                   Manager I - Chief Microbiologist  \n",
      "4823  Lead Data Analyst (Machine Learning Operations...  \n",
      "\n",
      "[64 rows x 5 columns]\n"
     ]
    },
    {
     "ename": "TypeError",
     "evalue": "'tuple' object is not callable",
     "output_type": "error",
     "traceback": [
      "\u001b[0;31m---------------------------------------------------------------------------\u001b[0m",
      "\u001b[0;31mTypeError\u001b[0m                                 Traceback (most recent call last)",
      "\u001b[0;32m<ipython-input-16-6481ad74b28f>\u001b[0m in \u001b[0;36m<module>\u001b[0;34m()\u001b[0m\n\u001b[1;32m      1\u001b[0m \u001b[0;32mprint\u001b[0m \u001b[0mnew_data\u001b[0m\u001b[0;34m\u001b[0m\u001b[0m\n\u001b[0;32m----> 2\u001b[0;31m \u001b[0mnew_data\u001b[0m\u001b[0;34m.\u001b[0m\u001b[0mshape\u001b[0m\u001b[0;34m(\u001b[0m\u001b[0;34m)\u001b[0m\u001b[0;34m\u001b[0m\u001b[0m\n\u001b[0m",
      "\u001b[0;31mTypeError\u001b[0m: 'tuple' object is not callable"
     ]
    }
   ],
   "source": [
    "print new_data\n",
    "new_data.shape()"
   ]
  },
  {
   "cell_type": "markdown",
   "metadata": {
    "focus": false,
    "id": "e1f58de9-78a7-49c1-b1ff-145a8f983790"
   },
   "source": [
    "#### Write a function that takes a salary string and converts it to a number, averaging a salary range if necessary"
   ]
  },
  {
   "cell_type": "code",
   "execution_count": 17,
   "metadata": {
    "collapsed": true,
    "focus": false,
    "id": "f2eaea83-8f84-48d3-af17-037538d06601"
   },
   "outputs": [],
   "source": [
    "import re\n",
    "import numpy as np\n",
    "def extract_salary_average(salary_string):\n",
    "    regex = r'\\$([0-9]+,[0-9]+)'\n",
    "    matches = re.findall(regex, salary_string)\n",
    "    return np.mean([float(salary.replace(',', '')) for salary in matches ])"
   ]
  },
  {
   "cell_type": "code",
   "execution_count": 18,
   "metadata": {
    "collapsed": false,
    "focus": false,
    "id": "2d46d846-8aeb-49c3-86ac-768c4fc81552"
   },
   "outputs": [
    {
     "name": "stderr",
     "output_type": "stream",
     "text": [
      "/anaconda/lib/python2.7/site-packages/ipykernel/__main__.py:2: SettingWithCopyWarning: \n",
      "A value is trying to be set on a copy of a slice from a DataFrame.\n",
      "Try using .loc[row_indexer,col_indexer] = value instead\n",
      "\n",
      "See the caveats in the documentation: http://pandas.pydata.org/pandas-docs/stable/indexing.html#indexing-view-versus-copy\n",
      "  from ipykernel import kernelapp as app\n"
     ]
    }
   ],
   "source": [
    "# use '.map' to transform salary to new feature\n",
    "new_data['salary'] = new_data['salary'].map(extract_salary_average)"
   ]
  },
  {
   "cell_type": "code",
   "execution_count": 19,
   "metadata": {
    "collapsed": false
   },
   "outputs": [
    {
     "name": "stdout",
     "output_type": "stream",
     "text": [
      "                                               company  \\\n",
      "52                               Gunther Douglas, Inc.   \n",
      "57                         Community College of Aurora   \n",
      "85                              University of Colorado   \n",
      "93                              University of Colorado   \n",
      "99                                       Denver Health   \n",
      "207                                      Denver Health   \n",
      "628                                   All-In Analytics   \n",
      "633                                State of Washington   \n",
      "635                              Lighthouse Recruiting   \n",
      "723                              Smith Arnold Partners   \n",
      "750                tronc (formerly Tribune Publishing)   \n",
      "751                                                 LT   \n",
      "810   Los Angeles County Department of Human Resources   \n",
      "842                 Los Angeles County Human Resources   \n",
      "852   Los Angeles County Department of Human Resources   \n",
      "854   Los Angeles County Department of Human Resources   \n",
      "860                                     Selby Jennings   \n",
      "870     Tessie Cleveland Community Service Corporation   \n",
      "883                 Los Angeles County Human Resources   \n",
      "887                                 Jobspring Partners   \n",
      "896                                 Altair Engineering   \n",
      "974                 Los Angeles County Human Resources   \n",
      "978                              Lighthouse Recruiting   \n",
      "980                                     Selby Jennings   \n",
      "1084  Los Angeles County Department of Human Resources   \n",
      "1126                                      Wade & Wendy   \n",
      "1154                                  CONSUMER AFFAIRS   \n",
      "1167                                           Averity   \n",
      "1189                                           Averity   \n",
      "1199                                    Selby Jennings   \n",
      "...                                                ...   \n",
      "1258                                     NewAgeSys,Inc   \n",
      "1265                     DEPT OF HEALTH/MENTAL HYGIENE   \n",
      "1277                    HOUSING PRESERVATION & DVLPMNT   \n",
      "1294                                           Averity   \n",
      "1325                                           Averity   \n",
      "1335                                       Winston Fox   \n",
      "1363                                           Averity   \n",
      "1366                                    Selby Jennings   \n",
      "1414                                 POLICE DEPARTMENT   \n",
      "1437                                           Averity   \n",
      "1441                                     NewAgeSys,Inc   \n",
      "1475                                           Harnham   \n",
      "1528                               Analytic Recruiting   \n",
      "1535                                  Emory University   \n",
      "1562                                  Emory University   \n",
      "1564                              Synergy Search Group   \n",
      "1655                               Analytic Recruiting   \n",
      "1864                                        Dashbot.io   \n",
      "1954                                  All-In Analytics   \n",
      "1962                             Workbridge Associates   \n",
      "2037                          Elevate Recruiting Group   \n",
      "2079                             Workbridge Associates   \n",
      "2291                             IGE Therapeutics, Inc   \n",
      "2647                                     Mountain Ltd.   \n",
      "3999                                           Averity   \n",
      "4005                                           Animalz   \n",
      "4056                            Geode Executive Search   \n",
      "4061                         Nathan S. Kline Institute   \n",
      "4816         San Francisco Department of Public Health   \n",
      "4823                             Workbridge Associates   \n",
      "\n",
      "                                         location    salary  \\\n",
      "52                                   Superior, CO  112500.0   \n",
      "57                                     Aurora, CO   40000.0   \n",
      "85                                     Aurora, CO   56500.0   \n",
      "93                                    Boulder, CO  107500.0   \n",
      "99    Denver, CO 80204 (Central West Denver area)   88091.0   \n",
      "207   Denver, CO 80204 (Central West Denver area)   66654.0   \n",
      "628                                   Seattle, WA  125000.0   \n",
      "633                                  Bellevue, WA   55548.0   \n",
      "635                                   Seattle, WA   95000.0   \n",
      "723                                   Seattle, WA   57500.0   \n",
      "750                               Los Angeles, CA   65000.0   \n",
      "751                               Los Angeles, CA  180000.0   \n",
      "810                               Los Angeles, CA   88765.0   \n",
      "842                               Los Angeles, CA   97476.0   \n",
      "852                               Los Angeles, CA   79758.5   \n",
      "854                               Los Angeles, CA   97476.0   \n",
      "860                               Los Angeles, CA  120000.0   \n",
      "870                               Los Angeles, CA   56000.0   \n",
      "883                               Los Angeles, CA   42566.5   \n",
      "887                               Los Angeles, CA   95000.0   \n",
      "896                                   Cypress, CA   88000.0   \n",
      "974                               Los Angeles, CA   84495.5   \n",
      "978                                  Pasadena, CA   95000.0   \n",
      "980                               Los Angeles, CA  120000.0   \n",
      "1084                              Los Angeles, CA   84495.5   \n",
      "1126                                 New York, NY  100000.0   \n",
      "1154                                Manhattan, NY   65977.0   \n",
      "1167                                 New York, NY  110000.0   \n",
      "1189                                 New York, NY  150000.0   \n",
      "1199            New York, NY 10167 (Midtown area)  167500.0   \n",
      "...                                           ...       ...   \n",
      "1258                               Parsippany, NJ   45000.0   \n",
      "1265                                Manhattan, NY   76941.5   \n",
      "1277                                 New York, NY   70286.0   \n",
      "1294                                 New York, NY  150000.0   \n",
      "1325                                 New York, NY  135000.0   \n",
      "1335                                 New York, NY  200000.0   \n",
      "1363                                 New York, NY   80000.0   \n",
      "1366            New York, NY 10167 (Midtown area)  135000.0   \n",
      "1414                                 New York, NY   90981.0   \n",
      "1437                                 New York, NY  175000.0   \n",
      "1441                               Kenilworth, NJ   50000.0   \n",
      "1475                                 New York, NY  110000.0   \n",
      "1528                                  Atlanta, GA  112500.0   \n",
      "1535                                  Atlanta, GA   85500.0   \n",
      "1562                                  Atlanta, GA   69900.0   \n",
      "1564                                  Atlanta, GA   80000.0   \n",
      "1655                                  Atlanta, GA  107500.0   \n",
      "1864                            San Francisco, CA  170000.0   \n",
      "1954                            San Francisco, CA  135000.0   \n",
      "1962                            San Francisco, CA  150000.0   \n",
      "2037                             Redwood City, CA  170000.0   \n",
      "2079                            San Francisco, CA  150000.0   \n",
      "2291                                San Diego, CA   53000.0   \n",
      "2647                                   Denver, CO   42500.0   \n",
      "3999                                 New York, NY  200000.0   \n",
      "4005    New York, NY 10002 (Lower East Side area)   40000.0   \n",
      "4056                                 New York, NY  200000.0   \n",
      "4061                               Orangeburg, NY   25000.0   \n",
      "4816                            San Francisco, CA  111774.0   \n",
      "4823                                 Berkeley, CA  155000.0   \n",
      "\n",
      "                                                summary  \\\n",
      "52    Gunther Douglas’ client is seeking a Data Scie...   \n",
      "57    Works with large complex data sets, including ...   \n",
      "85    Research information and data problems. Certif...   \n",
      "93    Of visiting scientists; In use of excel, data ...   \n",
      "99    Budget development, processing and monitoring ...   \n",
      "207   Typically, one (1) or more years of healthcare...   \n",
      "628   Business Intelligence Scientist. SQL, Digital ...   \n",
      "633   Performing field surveys or studies, 2) respon...   \n",
      "635   Join our Medical Laboratory Scientists Groups:...   \n",
      "723   Growing international custom research supplier...   \n",
      "750   Partner with data scientists in the Technology...   \n",
      "751   Our data team consists of two data analysts an...   \n",
      "810   Develops and documents the backup procedure to...   \n",
      "842   Evaluates the performance of subordinate Super...   \n",
      "852   Devises data processing procedures that make u...   \n",
      "854   Evaluates the performance of subordinate Super...   \n",
      "860   A Top Tier Investment Bank is looking for an e...   \n",
      "870   Technical Skills in Data Collection/Analysis a...   \n",
      "883   Compiles pertinent data to verify amounts, tot...   \n",
      "887   Data Scientist experience a plus! Big data and...   \n",
      "896   Altair ProductDesign is a global, multi-discip...   \n",
      "974   Research experience working with quantifying s...   \n",
      "978   Join our Medical Laboratory Scientists Groups:...   \n",
      "980   A Top Tier Investment Bank is looking for an e...   \n",
      "1084  Research experience working with quantifying s...   \n",
      "1126  Our Data Scientist will integrate data from we...   \n",
      "1154  The Division of Data Analysis and Strategic Pl...   \n",
      "1167  This is an opportunity for an experienced Seni...   \n",
      "1189  Our data science needs are growing quickly, an...   \n",
      "1199  Senior Data Scientist. Data Intelligence Softw...   \n",
      "...                                                 ...   \n",
      "1258  Working knowledge of both computer and/or data...   \n",
      "1265  -Evaluate data, prepare reports and maintain r...   \n",
      "1277  Reliability and validity, sampling, primary an...   \n",
      "1294  We are hiring a Lead Data Scientist for our gr...   \n",
      "1325  Strong background in big data technology. As a...   \n",
      "1335  Develop powerful systems that provide easy acc...   \n",
      "1363  As a Tableau Developer in our Data Science tea...   \n",
      "1366  A top global commodities company is seeking an...   \n",
      "1414  Maintain records of raw data; Coordinator/Lead...   \n",
      "1437  Are you Quantitative Research Analyst looking ...   \n",
      "1441  Analysis and interpretation data. Candidate mu...   \n",
      "1475  You will join the data engineering team and wo...   \n",
      "1528  Python, data mining, data science; The data Sc...   \n",
      "1535  Staff Scientists will have leadership responsi...   \n",
      "1562  The Medical Image Analysis Scientist, works wi...   \n",
      "1564  Duties will include data conversion from multi...   \n",
      "1655  Data Scientist, Supply Chain sought by Fortune...   \n",
      "1864  Data migration, transformation, and scripting....   \n",
      "1954  Machine Learning Senior Data Scientist. Mentor...   \n",
      "1962  Established retail and eCommerce company in do...   \n",
      "2037  Through the Our Clients pivotal world-view in ...   \n",
      "2079  Data Mining Experience. The Data Engineers wor...   \n",
      "2291  The candidates working in a Team culture, are ...   \n",
      "2647  Enter data from legal sources into database. I...   \n",
      "3999  Looking for a strong Quantitative Analyst, Res...   \n",
      "4005  You're a critical thinker who can find compell...   \n",
      "4056  Data Scientist - Text Analytics - SQL, R, SAS*...   \n",
      "4061  Additional experience in statistical analysis ...   \n",
      "4816  Under administrative direction of the Director...   \n",
      "4823  The Machine Learning Operations group within t...   \n",
      "\n",
      "                                                  title  \n",
      "52                                       Data Scientist  \n",
      "57                                     Research Analyst  \n",
      "85                                    Bioinformationist  \n",
      "93                         Managing Director for STROBE  \n",
      "99                            Business Manager - RADARS  \n",
      "207           RN-Statistical Research Specilist Nursing  \n",
      "628                     Business Intelligence Scientist  \n",
      "633              TMDL Lead (Environmental Specialist 4)  \n",
      "635                          Variant Scientist (Remote)  \n",
      "723                                    Research Analyst  \n",
      "750                 Social Media Marketing Data Analyst  \n",
      "751                               Senior Data Scientist  \n",
      "810                  MEDICAL TECHNOLOGIST, DATA SYSTEMS  \n",
      "842       SUPERVISING CLINICAL LABORATORY SCIENTIST III  \n",
      "852           RESEARCH ANALYST III, BEHAVIORAL SCIENCES  \n",
      "854       SUPERVISING CLINICAL LABORATORY SCIENTIST III  \n",
      "860           Quantitative Analyst - Multiple Vacancies  \n",
      "870                             Senior Research Analyst  \n",
      "883                            SENIOR STATISTICAL CLERK  \n",
      "887                                     Product Manager  \n",
      "896                           Aerospace Program Manager  \n",
      "974         CHIEF RESEARCH ANALYST, BEHAVIORAL SCIENCES  \n",
      "978                 LC/MS Clinical Laboratory Scientist  \n",
      "980                  Quantitative Analyst - Credit Risk  \n",
      "1084        CHIEF RESEARCH ANALYST, BEHAVIORAL SCIENCES  \n",
      "1126               Wade & Wendy_Data Scientist/Engineer  \n",
      "1154        Modeler/Data Scientist, Policy and Strategy  \n",
      "1167  Senior Data Scientist for Innovative, Top-Rank...  \n",
      "1189                              Senior Data Scientist  \n",
      "1199                              Senior Data Scientist  \n",
      "...                                                 ...  \n",
      "1258                                          Scientist  \n",
      "1265  City Research Scientist, Bureau of the Public ...  \n",
      "1277                               Technical Researcher  \n",
      "1294                   Lead Data Scientist (New Jersey)  \n",
      "1325  Data Scientist, Quant Developer for $10B Asset...  \n",
      "1335               Senior Software Development Engineer  \n",
      "1363          Tableau Developer for Global Organization  \n",
      "1366                      FTR Quantitative Risk Analyst  \n",
      "1414  Coordinator / Lead Scientist, Municipal Storm ...  \n",
      "1437  Quantitative Research Analyst for Multi-Billio...  \n",
      "1441                                            Chemist  \n",
      "1475                                  Big Data Engineer  \n",
      "1528                              Senior Data Scientist  \n",
      "1535                    Staff Scientist (Goldsmith Lab)  \n",
      "1562                       Scientist, Med Imag Analysis  \n",
      "1564        Audit Snr (Banking) - Data Analysis 60K-80K  \n",
      "1655                      Data Scientist - Supply Chain  \n",
      "1864                        Data Engineer and Scientist  \n",
      "1954                Sr. Machine Learning Data Scientist  \n",
      "1962               Senior Data Scientist (Optimization)  \n",
      "2037  Senior Data Scientist - Security Experience is...  \n",
      "2079                             Data Engineer (Python)  \n",
      "2291                                          Scientist  \n",
      "2647                             Legal Research Analyst  \n",
      "3999  Senior Systematic Quantitative Analyst - Multi...  \n",
      "4005                                   Research Analyst  \n",
      "4056      Data Scientist - Text Analytics - SQL, R, SAS  \n",
      "4061  Post-Doctoral Scientist (Analytical Psychophar...  \n",
      "4816                   Manager I - Chief Microbiologist  \n",
      "4823  Lead Data Analyst (Machine Learning Operations...  \n",
      "\n",
      "[64 rows x 5 columns]\n"
     ]
    }
   ],
   "source": [
    "print new_data"
   ]
  },
  {
   "cell_type": "code",
   "execution_count": 20,
   "metadata": {
    "collapsed": false,
    "focus": false,
    "id": "5d66eb8a-a032-43f7-8e87-8f37612c2ce5"
   },
   "outputs": [],
   "source": [
    "# save scraped results as a CSV for Tableau/external viz\n",
    "new_data.to_csv('DS_Salaries.csv', encoding = 'utf-8')"
   ]
  },
  {
   "cell_type": "code",
   "execution_count": 25,
   "metadata": {
    "collapsed": true
   },
   "outputs": [],
   "source": [
    "my_df = new_data.reset_index(drop=True)"
   ]
  },
  {
   "cell_type": "code",
   "execution_count": 30,
   "metadata": {
    "collapsed": false
   },
   "outputs": [
    {
     "name": "stdout",
     "output_type": "stream",
     "text": [
      "<class 'pandas.core.frame.DataFrame'>\n",
      "RangeIndex: 64 entries, 0 to 63\n",
      "Data columns (total 5 columns):\n",
      "company     64 non-null object\n",
      "location    64 non-null object\n",
      "salary      64 non-null float64\n",
      "summary     64 non-null object\n",
      "title       64 non-null object\n",
      "dtypes: float64(1), object(4)\n",
      "memory usage: 2.6+ KB\n"
     ]
    }
   ],
   "source": [
    "my_df.head()\n",
    "my_df.info()"
   ]
  },
  {
   "cell_type": "markdown",
   "metadata": {
    "focus": false,
    "id": "6e8a5a1c-1580-4845-a9b6-482bc00c73cd"
   },
   "source": [
    "## Predicting salaries using Logistic Regression"
   ]
  },
  {
   "cell_type": "code",
   "execution_count": 21,
   "metadata": {
    "collapsed": false,
    "focus": false,
    "id": "634ab7c1-c76f-4b04-a36e-5ff3cb1f9eb2"
   },
   "outputs": [],
   "source": [
    "# load in the the data of scraped salaries\n"
   ]
  },
  {
   "cell_type": "code",
   "execution_count": 22,
   "metadata": {
    "collapsed": true
   },
   "outputs": [],
   "source": [
    "def city_extract(word):\n",
    "    return word.split(',')[0].split('.')[0].strip()\n",
    "def state_extract(word):\n",
    "    return word.split(',')[1].split('.')[1].strip()"
   ]
  },
  {
   "cell_type": "code",
   "execution_count": 32,
   "metadata": {
    "collapsed": false
   },
   "outputs": [
    {
     "ename": "IndexError",
     "evalue": "list index out of range",
     "output_type": "error",
     "traceback": [
      "\u001b[0;31m---------------------------------------------------------------------------\u001b[0m",
      "\u001b[0;31mIndexError\u001b[0m                                Traceback (most recent call last)",
      "\u001b[0;32m<ipython-input-32-1348822701da>\u001b[0m in \u001b[0;36m<module>\u001b[0;34m()\u001b[0m\n\u001b[0;32m----> 1\u001b[0;31m \u001b[0mmy_df\u001b[0m\u001b[0;34m[\u001b[0m\u001b[0;34m'city'\u001b[0m\u001b[0;34m]\u001b[0m \u001b[0;34m=\u001b[0m \u001b[0mpd\u001b[0m\u001b[0;34m.\u001b[0m\u001b[0mDataFrame\u001b[0m\u001b[0;34m(\u001b[0m\u001b[0;34m{\u001b[0m\u001b[0;34m'city'\u001b[0m\u001b[0;34m:\u001b[0m\u001b[0mmy_df\u001b[0m\u001b[0;34m[\u001b[0m\u001b[0;34m'location'\u001b[0m\u001b[0;34m]\u001b[0m\u001b[0;34m.\u001b[0m\u001b[0mapply\u001b[0m\u001b[0;34m(\u001b[0m\u001b[0mstate_extract\u001b[0m\u001b[0;34m)\u001b[0m\u001b[0;34m}\u001b[0m\u001b[0;34m)\u001b[0m\u001b[0;34m\u001b[0m\u001b[0m\n\u001b[0m\u001b[1;32m      2\u001b[0m \u001b[0mmy_df\u001b[0m\u001b[0;34m[\u001b[0m\u001b[0;34m'state'\u001b[0m\u001b[0;34m]\u001b[0m \u001b[0;34m=\u001b[0m \u001b[0mpd\u001b[0m\u001b[0;34m.\u001b[0m\u001b[0mDataFrame\u001b[0m\u001b[0;34m(\u001b[0m\u001b[0;34m{\u001b[0m\u001b[0;34m'state'\u001b[0m\u001b[0;34m:\u001b[0m\u001b[0mmy_df\u001b[0m\u001b[0;34m[\u001b[0m\u001b[0;34m'location'\u001b[0m\u001b[0;34m]\u001b[0m\u001b[0;34m.\u001b[0m\u001b[0mapply\u001b[0m\u001b[0;34m(\u001b[0m\u001b[0mstate_extract\u001b[0m\u001b[0;34m)\u001b[0m\u001b[0;34m}\u001b[0m\u001b[0;34m)\u001b[0m\u001b[0;34m\u001b[0m\u001b[0m\n",
      "\u001b[0;32m//anaconda/lib/python2.7/site-packages/pandas/core/series.pyc\u001b[0m in \u001b[0;36mapply\u001b[0;34m(self, func, convert_dtype, args, **kwds)\u001b[0m\n\u001b[1;32m   2218\u001b[0m         \u001b[0;32melse\u001b[0m\u001b[0;34m:\u001b[0m\u001b[0;34m\u001b[0m\u001b[0m\n\u001b[1;32m   2219\u001b[0m             \u001b[0mvalues\u001b[0m \u001b[0;34m=\u001b[0m \u001b[0mself\u001b[0m\u001b[0;34m.\u001b[0m\u001b[0masobject\u001b[0m\u001b[0;34m\u001b[0m\u001b[0m\n\u001b[0;32m-> 2220\u001b[0;31m             \u001b[0mmapped\u001b[0m \u001b[0;34m=\u001b[0m \u001b[0mlib\u001b[0m\u001b[0;34m.\u001b[0m\u001b[0mmap_infer\u001b[0m\u001b[0;34m(\u001b[0m\u001b[0mvalues\u001b[0m\u001b[0;34m,\u001b[0m \u001b[0mf\u001b[0m\u001b[0;34m,\u001b[0m \u001b[0mconvert\u001b[0m\u001b[0;34m=\u001b[0m\u001b[0mconvert_dtype\u001b[0m\u001b[0;34m)\u001b[0m\u001b[0;34m\u001b[0m\u001b[0m\n\u001b[0m\u001b[1;32m   2221\u001b[0m \u001b[0;34m\u001b[0m\u001b[0m\n\u001b[1;32m   2222\u001b[0m         \u001b[0;32mif\u001b[0m \u001b[0mlen\u001b[0m\u001b[0;34m(\u001b[0m\u001b[0mmapped\u001b[0m\u001b[0;34m)\u001b[0m \u001b[0;32mand\u001b[0m \u001b[0misinstance\u001b[0m\u001b[0;34m(\u001b[0m\u001b[0mmapped\u001b[0m\u001b[0;34m[\u001b[0m\u001b[0;36m0\u001b[0m\u001b[0;34m]\u001b[0m\u001b[0;34m,\u001b[0m \u001b[0mSeries\u001b[0m\u001b[0;34m)\u001b[0m\u001b[0;34m:\u001b[0m\u001b[0;34m\u001b[0m\u001b[0m\n",
      "\u001b[0;32mpandas/src/inference.pyx\u001b[0m in \u001b[0;36mpandas.lib.map_infer (pandas/lib.c:62658)\u001b[0;34m()\u001b[0m\n",
      "\u001b[0;32m<ipython-input-22-aa005e9bbf26>\u001b[0m in \u001b[0;36mstate_extract\u001b[0;34m(word)\u001b[0m\n\u001b[1;32m      2\u001b[0m     \u001b[0;32mreturn\u001b[0m \u001b[0mword\u001b[0m\u001b[0;34m.\u001b[0m\u001b[0msplit\u001b[0m\u001b[0;34m(\u001b[0m\u001b[0;34m','\u001b[0m\u001b[0;34m)\u001b[0m\u001b[0;34m[\u001b[0m\u001b[0;36m0\u001b[0m\u001b[0;34m]\u001b[0m\u001b[0;34m.\u001b[0m\u001b[0msplit\u001b[0m\u001b[0;34m(\u001b[0m\u001b[0;34m'.'\u001b[0m\u001b[0;34m)\u001b[0m\u001b[0;34m[\u001b[0m\u001b[0;36m0\u001b[0m\u001b[0;34m]\u001b[0m\u001b[0;34m.\u001b[0m\u001b[0mstrip\u001b[0m\u001b[0;34m(\u001b[0m\u001b[0;34m)\u001b[0m\u001b[0;34m\u001b[0m\u001b[0m\n\u001b[1;32m      3\u001b[0m \u001b[0;32mdef\u001b[0m \u001b[0mstate_extract\u001b[0m\u001b[0;34m(\u001b[0m\u001b[0mword\u001b[0m\u001b[0;34m)\u001b[0m\u001b[0;34m:\u001b[0m\u001b[0;34m\u001b[0m\u001b[0m\n\u001b[0;32m----> 4\u001b[0;31m     \u001b[0;32mreturn\u001b[0m \u001b[0mword\u001b[0m\u001b[0;34m.\u001b[0m\u001b[0msplit\u001b[0m\u001b[0;34m(\u001b[0m\u001b[0;34m','\u001b[0m\u001b[0;34m)\u001b[0m\u001b[0;34m[\u001b[0m\u001b[0;36m1\u001b[0m\u001b[0;34m]\u001b[0m\u001b[0;34m.\u001b[0m\u001b[0msplit\u001b[0m\u001b[0;34m(\u001b[0m\u001b[0;34m'.'\u001b[0m\u001b[0;34m)\u001b[0m\u001b[0;34m[\u001b[0m\u001b[0;36m1\u001b[0m\u001b[0;34m]\u001b[0m\u001b[0;34m.\u001b[0m\u001b[0mstrip\u001b[0m\u001b[0;34m(\u001b[0m\u001b[0;34m)\u001b[0m\u001b[0;34m\u001b[0m\u001b[0m\n\u001b[0m",
      "\u001b[0;31mIndexError\u001b[0m: list index out of range"
     ]
    }
   ],
   "source": [
    "my_df['city'] = pd.DataFrame({'city':my_df['location'].apply(state_extract)})\n",
    "my_df['state'] = pd.DataFrame({'state':my_df['location'].apply(state_extract)})\n"
   ]
  },
  {
   "cell_type": "markdown",
   "metadata": {
    "focus": false,
    "id": "c3ed6de7-8fe0-4cf4-abbd-abb2a188e05b"
   },
   "source": [
    "#### We want to predict a binary variable - whether the salary was low or high. Compute the median salary and create a new binary variable that is true when the salary is high (above the median)"
   ]
  },
  {
   "cell_type": "code",
   "execution_count": 33,
   "metadata": {
    "collapsed": false,
    "focus": false,
    "id": "073e3f3e-21bc-4ab7-ae2e-272be0a409cc"
   },
   "outputs": [],
   "source": [
    "# calculate median and create feature with 1 as high salary\n",
    "\n",
    "median_data = my_df['salary'].median()\n",
    "median_data\n",
    "my_df['High_Low'] = my_df['salary'].map(lambda x: 1 if x >= median_data else 0)\n"
   ]
  },
  {
   "cell_type": "markdown",
   "metadata": {
    "focus": false,
    "id": "3c7ec3d2-87a0-4290-9d83-a6f4a9ae7e9c"
   },
   "source": [
    "### Q: What is the baseline accuracy for this model?"
   ]
  },
  {
   "cell_type": "markdown",
   "metadata": {
    "collapsed": true,
    "focus": false,
    "id": "987666b2-d8e6-4715-b499-c9d314fb70ce"
   },
   "source": [
    "It is 50% if we guess randomly, half the salaries will be below the median and half will be above."
   ]
  },
  {
   "cell_type": "markdown",
   "metadata": {
    "focus": false,
    "id": "ea7e00cb-9956-44ec-b585-7b95f4d6284c"
   },
   "source": [
    "#### Create a Logistic Regression model to predict High/Low salary using statsmodel. Start by ONLY using the location as a feature. Display the coefficients and write a short summary of what they mean."
   ]
  },
  {
   "cell_type": "code",
   "execution_count": null,
   "metadata": {
    "collapsed": false,
    "focus": false,
    "id": "ce9161b3-eff3-475c-a087-a2be38d7f626"
   },
   "outputs": [],
   "source": [
    "# create statsmodel and summary\n",
    "import statsmodels.formula.api as sm\n"
   ]
  },
  {
   "cell_type": "markdown",
   "metadata": {
    "focus": false,
    "id": "1ecd7811-d200-44bc-942f-4beb76d2689c"
   },
   "source": [
    "#### Create a few new variables in your dataframe to represent interesting features of a job title.\n",
    "- For example, create a feature that represents whether 'Senior' or 'Manager' is in the title \n",
    "- Then build a new Logistic Regression model with these features. Do they add any value? \n"
   ]
  },
  {
   "cell_type": "code",
   "execution_count": null,
   "metadata": {
    "collapsed": false,
    "focus": false,
    "id": "b847f46e-1626-4340-86fb-08dea8c31a84"
   },
   "outputs": [],
   "source": [
    "# create senior, director, and manager dummies\n",
    "salary_data['is_senior'] = salary_data['title'].str.contains('Senior','Sr').astype(int) # example\n",
    "salary_data['is_Manager'] = salary_data['title'].str.contains('Manager').astype(int)\n",
    "salary_data['director'] = salary_data['title'].str.contains('director').astype(int)\n",
    "salary_data['junior'] = salary_data['title'].str.contains('junior').astype(int)\n"
   ]
  },
  {
   "cell_type": "markdown",
   "metadata": {
    "focus": false,
    "id": "7ca5cfdd-958c-4199-aafa-3d3f6c5ba3c4"
   },
   "source": [
    "#### Rebuild this model with scikit-learn.\n",
    "- You can either create the dummy features manually or use the `dmatrix` function from `patsy`\n",
    "- Remember to scale the feature variables as well!\n"
   ]
  },
  {
   "cell_type": "code",
   "execution_count": null,
   "metadata": {
    "collapsed": false,
    "focus": false,
    "id": "c75a97f1-f30c-48b3-97cb-eaf7d525c734"
   },
   "outputs": [],
   "source": [
    "# scale, (patsy optional), and fit\n",
    "from sklearn.linear_model import LogisticRegression\n",
    "from sklearn.preprocessing import StandardScaler\n",
    "from patsy import dmatrix\n",
    "\n",
    "scaler = StandardScaler()\n",
    "model = LogisticRegression(penalty = 'l2', C=0.1)\n"
   ]
  },
  {
   "cell_type": "markdown",
   "metadata": {
    "focus": false,
    "id": "1e6c6902-2b4a-49f0-b4c7-935a26577d22"
   },
   "source": [
    "#### Use cross-validation in scikit-learn to evaluate the model above. \n",
    "- Evaluate the accuracy, AUC, precision and recall of the model. \n",
    "- Discuss the differences and explain when you want a high-recall or a high-precision model in this scenario."
   ]
  },
  {
   "cell_type": "code",
   "execution_count": null,
   "metadata": {
    "collapsed": false,
    "focus": false,
    "id": "3667427c-6534-4dcd-8770-f492b0e3a39e"
   },
   "outputs": [],
   "source": [
    "from sklearn.cross_validation import cross_val_score\n",
    "\n",
    "for metric in ['accuracy', 'precision', 'recall', 'roc_auc']: # example\n",
    "    "
   ]
  },
  {
   "cell_type": "markdown",
   "metadata": {
    "focus": false,
    "id": "4263b1c0-bfde-42bf-ab45-71c7cd798835"
   },
   "source": [
    "### Compare L1 and L2 regularization for this logistic regression model. What effect does this have on the coefficients learned?"
   ]
  },
  {
   "cell_type": "code",
   "execution_count": null,
   "metadata": {
    "collapsed": false,
    "focus": false,
    "id": "2e7d6a29-a515-468a-9953-9d73a0f81de0"
   },
   "outputs": [],
   "source": [
    "model = LogisticRegression(penalty = 'l1', C=1.0)\n",
    "\n",
    "for metric in ['accuracy', 'precision', 'recall', 'roc_auc']:\n",
    "    "
   ]
  },
  {
   "cell_type": "code",
   "execution_count": null,
   "metadata": {
    "collapsed": false,
    "focus": false,
    "id": "32d908a3-89d2-474c-a7f0-199bfae6da7e"
   },
   "outputs": [],
   "source": [
    "model.fit(X_scaled, y)\n",
    "\n",
    "df = pd.DataFrame({'features' : X.design_info.column_names, 'coef': model.coef_[0,:]})\n",
    "df.sort_values('coef', ascending=False, inplace=True)\n",
    "df"
   ]
  },
  {
   "cell_type": "markdown",
   "metadata": {
    "focus": true,
    "id": "82f16f60-6c8b-4376-b3ec-b8ec61a0cde7"
   },
   "source": [
    "#### Optional: Continue to incorporate other text features from the title or summary that you believe will predict the salary and examine their coefficients. Take ~100 scraped entries with salaries. Convert them to use with your model and predict the salary. Which entries have the highest predicted salaries?"
   ]
  },
  {
   "cell_type": "markdown",
   "metadata": {
    "focus": false,
    "id": "3f242a55-4518-4c95-ae90-6888c68077d3"
   },
   "source": [
    "# Bonus Section: Use Count Vectorizer from scikit-learn to create features from the text summaries. \n",
    "- Examine using count or binary features in the model\n",
    "- Re-evaluate the logistic regression model using these. Does this improve the model performance? \n",
    "- What text features are most valuable? "
   ]
  },
  {
   "cell_type": "code",
   "execution_count": null,
   "metadata": {
    "collapsed": false,
    "focus": false,
    "id": "757205dc-443d-4754-9d23-e591e0921c02"
   },
   "outputs": [],
   "source": [
    "from sklearn.feature_extraction.text import CountVectorizer\n",
    "\n",
    "vectorizer = CountVectorizer()\n",
    "X = vectorizer.fit_transform()\n",
    "\n",
    "for metric in ['accuracy', 'precision', 'recall', 'roc_auc']:\n",
    "    scores = cross_val_score(model, X_scaled, y, cv=3, scoring=metric)\n",
    "    print(metric, scores.mean(), scores.std())"
   ]
  },
  {
   "cell_type": "code",
   "execution_count": null,
   "metadata": {
    "collapsed": false,
    "focus": false,
    "id": "f44df3c1-cf82-4271-8660-fdd0052097b6"
   },
   "outputs": [],
   "source": [
    "model.fit(X_scaled, y)\n",
    "\n",
    "df = pd.DataFrame({'features' : vectorizer.get_feature_names(), 'coef': model.coef_[0,:]})\n",
    "df.sort_values('coef', ascending=False, inplace=True)"
   ]
  },
  {
   "cell_type": "code",
   "execution_count": null,
   "metadata": {
    "collapsed": false,
    "focus": false,
    "id": "e182bbe4-2a72-4e75-a3e8-c117688cb8a6"
   },
   "outputs": [],
   "source": [
    "df.head()"
   ]
  },
  {
   "cell_type": "code",
   "execution_count": null,
   "metadata": {
    "collapsed": false,
    "focus": false,
    "id": "a15ef8ea-3130-4c08-a165-ac34d2a8d829"
   },
   "outputs": [],
   "source": [
    "df.tail()"
   ]
  },
  {
   "cell_type": "code",
   "execution_count": null,
   "metadata": {
    "collapsed": false,
    "focus": false,
    "id": "b8a13337-0cde-4117-a928-ffae14661453"
   },
   "outputs": [],
   "source": [
    "# retest L1 and L2 regularization\n",
    "from sklearn.linear_model import LogisticRegressionCV\n",
    "\n",
    "model = LogisticRegressionCV()\n"
   ]
  },
  {
   "cell_type": "markdown",
   "metadata": {
    "collapsed": true,
    "focus": false,
    "id": "936cd752-6b3f-450f-bfb6-1659c6e71539"
   },
   "source": [
    "Score: | /24\n",
    "------|-------\n",
    "Identify: Problem Statement and Hypothesis | \n",
    "Acquire: Import Data using BeautifulSoup| \n",
    "Parse: Clean and Organize Data| \n",
    "Model: Perform Logistic Regression| \n",
    "Evaluate: Logistic Regression Results\t|\n",
    "Present: Blog Report with Findings and Recommendations\t\t| \n",
    "Interactive Tableau visualizations | \n",
    "Regularization |\n",
    "Bonus: Countvectorizer  | "
   ]
  }
 ],
 "metadata": {
  "anaconda-cloud": {},
  "kernelspec": {
   "display_name": "Python [default]",
   "language": "python",
   "name": "python2"
  },
  "language_info": {
   "codemirror_mode": {
    "name": "ipython",
    "version": 2
   },
   "file_extension": ".py",
   "mimetype": "text/x-python",
   "name": "python",
   "nbconvert_exporter": "python",
   "pygments_lexer": "ipython2",
   "version": "2.7.12"
  }
 },
 "nbformat": 4,
 "nbformat_minor": 0
}
