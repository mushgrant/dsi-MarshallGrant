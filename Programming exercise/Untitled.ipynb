{
 "cells": [
  {
   "cell_type": "code",
   "execution_count": null,
   "metadata": {
    "collapsed": true
   },
   "outputs": [],
   "source": [
    "def converter(string):\n",
    "    string = string.upper()\n",
    "    dictionary = {}\n",
    "    for i in string:\n",
    "        if i not in dictionary:\n",
    "            dictionary[i] = 1\n",
    "        else:\n",
    "            dictionary[i] += 1\n",
    "    ns = ''\n",
    "    for w in words"
   ]
  },
  {
   "cell_type": "code",
   "execution_count": null,
   "metadata": {
    "collapsed": true
   },
   "outputs": [],
   "source": [
    "def count alpha(x):\n",
    "    d = {}\n",
    "    l = []\n",
    "    \n",
    "    for i in x:\n",
    "        "
   ]
  }
 ],
 "metadata": {
  "kernelspec": {
   "display_name": "Python [default]",
   "language": "python",
   "name": "python2"
  },
  "language_info": {
   "codemirror_mode": {
    "name": "ipython",
    "version": 2
   },
   "file_extension": ".py",
   "mimetype": "text/x-python",
   "name": "python",
   "nbconvert_exporter": "python",
   "pygments_lexer": "ipython2",
   "version": "2.7.12"
  }
 },
 "nbformat": 4,
 "nbformat_minor": 2
}
