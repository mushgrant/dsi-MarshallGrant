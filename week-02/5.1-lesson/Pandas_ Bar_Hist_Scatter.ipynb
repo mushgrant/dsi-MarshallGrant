{
 "cells": [
  {
   "cell_type": "code",
   "execution_count": 43,
   "metadata": {
    "collapsed": false
   },
   "outputs": [
    {
     "data": {
      "text/html": [
       "<div>\n",
       "<table border=\"1\" class=\"dataframe\">\n",
       "  <thead>\n",
       "    <tr style=\"text-align: right;\">\n",
       "      <th></th>\n",
       "      <th>a</th>\n",
       "      <th>b</th>\n",
       "      <th>c</th>\n",
       "      <th>d</th>\n",
       "    </tr>\n",
       "  </thead>\n",
       "  <tbody>\n",
       "    <tr>\n",
       "      <th>0</th>\n",
       "      <td>-1.692401</td>\n",
       "      <td>1.825085</td>\n",
       "      <td>0.350699</td>\n",
       "      <td>-1.475257</td>\n",
       "    </tr>\n",
       "    <tr>\n",
       "      <th>1</th>\n",
       "      <td>-0.719062</td>\n",
       "      <td>-1.149787</td>\n",
       "      <td>0.483792</td>\n",
       "      <td>-0.013575</td>\n",
       "    </tr>\n",
       "    <tr>\n",
       "      <th>2</th>\n",
       "      <td>-0.470191</td>\n",
       "      <td>0.532600</td>\n",
       "      <td>-1.232356</td>\n",
       "      <td>-0.829771</td>\n",
       "    </tr>\n",
       "    <tr>\n",
       "      <th>3</th>\n",
       "      <td>-0.197778</td>\n",
       "      <td>0.671473</td>\n",
       "      <td>0.926591</td>\n",
       "      <td>-1.050854</td>\n",
       "    </tr>\n",
       "    <tr>\n",
       "      <th>4</th>\n",
       "      <td>-0.759802</td>\n",
       "      <td>-0.832372</td>\n",
       "      <td>-0.718886</td>\n",
       "      <td>-0.592116</td>\n",
       "    </tr>\n",
       "    <tr>\n",
       "      <th>5</th>\n",
       "      <td>-1.500860</td>\n",
       "      <td>-1.197808</td>\n",
       "      <td>0.280105</td>\n",
       "      <td>0.021872</td>\n",
       "    </tr>\n",
       "    <tr>\n",
       "      <th>6</th>\n",
       "      <td>0.298247</td>\n",
       "      <td>0.930551</td>\n",
       "      <td>-0.569500</td>\n",
       "      <td>-0.527082</td>\n",
       "    </tr>\n",
       "    <tr>\n",
       "      <th>7</th>\n",
       "      <td>-0.282234</td>\n",
       "      <td>0.206662</td>\n",
       "      <td>-0.792549</td>\n",
       "      <td>0.525821</td>\n",
       "    </tr>\n",
       "    <tr>\n",
       "      <th>8</th>\n",
       "      <td>-0.893481</td>\n",
       "      <td>-1.202687</td>\n",
       "      <td>-0.664067</td>\n",
       "      <td>0.469571</td>\n",
       "    </tr>\n",
       "    <tr>\n",
       "      <th>9</th>\n",
       "      <td>-0.594681</td>\n",
       "      <td>-1.454258</td>\n",
       "      <td>1.905169</td>\n",
       "      <td>1.032213</td>\n",
       "    </tr>\n",
       "    <tr>\n",
       "      <th>10</th>\n",
       "      <td>-2.634028</td>\n",
       "      <td>-0.646647</td>\n",
       "      <td>-0.408085</td>\n",
       "      <td>0.470082</td>\n",
       "    </tr>\n",
       "    <tr>\n",
       "      <th>11</th>\n",
       "      <td>-1.882891</td>\n",
       "      <td>0.640669</td>\n",
       "      <td>-0.419132</td>\n",
       "      <td>1.286097</td>\n",
       "    </tr>\n",
       "    <tr>\n",
       "      <th>12</th>\n",
       "      <td>-0.713217</td>\n",
       "      <td>0.780919</td>\n",
       "      <td>0.364781</td>\n",
       "      <td>0.705486</td>\n",
       "    </tr>\n",
       "    <tr>\n",
       "      <th>13</th>\n",
       "      <td>0.631684</td>\n",
       "      <td>2.484264</td>\n",
       "      <td>-1.502202</td>\n",
       "      <td>0.269283</td>\n",
       "    </tr>\n",
       "    <tr>\n",
       "      <th>14</th>\n",
       "      <td>1.476667</td>\n",
       "      <td>-1.134624</td>\n",
       "      <td>-1.122213</td>\n",
       "      <td>0.367788</td>\n",
       "    </tr>\n",
       "    <tr>\n",
       "      <th>15</th>\n",
       "      <td>0.481734</td>\n",
       "      <td>-1.332748</td>\n",
       "      <td>-0.939794</td>\n",
       "      <td>0.522792</td>\n",
       "    </tr>\n",
       "    <tr>\n",
       "      <th>16</th>\n",
       "      <td>1.254417</td>\n",
       "      <td>-0.446083</td>\n",
       "      <td>-0.264974</td>\n",
       "      <td>-0.609984</td>\n",
       "    </tr>\n",
       "    <tr>\n",
       "      <th>17</th>\n",
       "      <td>-0.515205</td>\n",
       "      <td>-1.187297</td>\n",
       "      <td>-1.905541</td>\n",
       "      <td>0.368622</td>\n",
       "    </tr>\n",
       "    <tr>\n",
       "      <th>18</th>\n",
       "      <td>-0.185124</td>\n",
       "      <td>0.314512</td>\n",
       "      <td>-1.328560</td>\n",
       "      <td>-1.067031</td>\n",
       "    </tr>\n",
       "    <tr>\n",
       "      <th>19</th>\n",
       "      <td>-0.450862</td>\n",
       "      <td>-0.188081</td>\n",
       "      <td>0.069795</td>\n",
       "      <td>1.742421</td>\n",
       "    </tr>\n",
       "    <tr>\n",
       "      <th>20</th>\n",
       "      <td>0.180462</td>\n",
       "      <td>0.309730</td>\n",
       "      <td>0.000016</td>\n",
       "      <td>-0.180102</td>\n",
       "    </tr>\n",
       "    <tr>\n",
       "      <th>21</th>\n",
       "      <td>-1.357387</td>\n",
       "      <td>-0.466241</td>\n",
       "      <td>-1.401211</td>\n",
       "      <td>-0.306921</td>\n",
       "    </tr>\n",
       "    <tr>\n",
       "      <th>22</th>\n",
       "      <td>0.236066</td>\n",
       "      <td>0.563358</td>\n",
       "      <td>-0.073262</td>\n",
       "      <td>-0.211692</td>\n",
       "    </tr>\n",
       "    <tr>\n",
       "      <th>23</th>\n",
       "      <td>-0.335706</td>\n",
       "      <td>0.968336</td>\n",
       "      <td>-1.439089</td>\n",
       "      <td>1.257549</td>\n",
       "    </tr>\n",
       "    <tr>\n",
       "      <th>24</th>\n",
       "      <td>0.450521</td>\n",
       "      <td>-1.094577</td>\n",
       "      <td>2.426253</td>\n",
       "      <td>0.816687</td>\n",
       "    </tr>\n",
       "    <tr>\n",
       "      <th>25</th>\n",
       "      <td>0.161221</td>\n",
       "      <td>1.092797</td>\n",
       "      <td>0.360002</td>\n",
       "      <td>0.069098</td>\n",
       "    </tr>\n",
       "    <tr>\n",
       "      <th>26</th>\n",
       "      <td>0.095358</td>\n",
       "      <td>-0.190259</td>\n",
       "      <td>-0.131542</td>\n",
       "      <td>-0.853074</td>\n",
       "    </tr>\n",
       "    <tr>\n",
       "      <th>27</th>\n",
       "      <td>-0.537392</td>\n",
       "      <td>0.567166</td>\n",
       "      <td>1.042043</td>\n",
       "      <td>1.293223</td>\n",
       "    </tr>\n",
       "    <tr>\n",
       "      <th>28</th>\n",
       "      <td>1.155677</td>\n",
       "      <td>-1.072717</td>\n",
       "      <td>-2.395437</td>\n",
       "      <td>1.882057</td>\n",
       "    </tr>\n",
       "    <tr>\n",
       "      <th>29</th>\n",
       "      <td>0.076159</td>\n",
       "      <td>1.638854</td>\n",
       "      <td>0.916301</td>\n",
       "      <td>0.539542</td>\n",
       "    </tr>\n",
       "    <tr>\n",
       "      <th>30</th>\n",
       "      <td>-0.947270</td>\n",
       "      <td>-0.573115</td>\n",
       "      <td>0.881272</td>\n",
       "      <td>-1.048237</td>\n",
       "    </tr>\n",
       "    <tr>\n",
       "      <th>31</th>\n",
       "      <td>0.053362</td>\n",
       "      <td>-1.154262</td>\n",
       "      <td>-0.386611</td>\n",
       "      <td>-0.023543</td>\n",
       "    </tr>\n",
       "    <tr>\n",
       "      <th>32</th>\n",
       "      <td>1.704450</td>\n",
       "      <td>-0.469609</td>\n",
       "      <td>0.326954</td>\n",
       "      <td>1.074627</td>\n",
       "    </tr>\n",
       "    <tr>\n",
       "      <th>33</th>\n",
       "      <td>-0.460035</td>\n",
       "      <td>0.661422</td>\n",
       "      <td>-0.327107</td>\n",
       "      <td>0.697667</td>\n",
       "    </tr>\n",
       "    <tr>\n",
       "      <th>34</th>\n",
       "      <td>0.461697</td>\n",
       "      <td>-1.741449</td>\n",
       "      <td>1.779771</td>\n",
       "      <td>0.191216</td>\n",
       "    </tr>\n",
       "    <tr>\n",
       "      <th>35</th>\n",
       "      <td>0.507112</td>\n",
       "      <td>0.024298</td>\n",
       "      <td>-2.158665</td>\n",
       "      <td>1.855307</td>\n",
       "    </tr>\n",
       "    <tr>\n",
       "      <th>36</th>\n",
       "      <td>-0.498928</td>\n",
       "      <td>0.363045</td>\n",
       "      <td>0.648066</td>\n",
       "      <td>-1.070407</td>\n",
       "    </tr>\n",
       "    <tr>\n",
       "      <th>37</th>\n",
       "      <td>-0.808484</td>\n",
       "      <td>0.715432</td>\n",
       "      <td>-0.057389</td>\n",
       "      <td>0.336321</td>\n",
       "    </tr>\n",
       "    <tr>\n",
       "      <th>38</th>\n",
       "      <td>-1.415632</td>\n",
       "      <td>0.219743</td>\n",
       "      <td>0.221756</td>\n",
       "      <td>0.544589</td>\n",
       "    </tr>\n",
       "    <tr>\n",
       "      <th>39</th>\n",
       "      <td>-1.039056</td>\n",
       "      <td>-0.940105</td>\n",
       "      <td>0.004961</td>\n",
       "      <td>1.544497</td>\n",
       "    </tr>\n",
       "    <tr>\n",
       "      <th>40</th>\n",
       "      <td>0.406531</td>\n",
       "      <td>1.369068</td>\n",
       "      <td>-0.942188</td>\n",
       "      <td>0.448371</td>\n",
       "    </tr>\n",
       "    <tr>\n",
       "      <th>41</th>\n",
       "      <td>0.022788</td>\n",
       "      <td>-2.311020</td>\n",
       "      <td>-0.040384</td>\n",
       "      <td>-0.388584</td>\n",
       "    </tr>\n",
       "    <tr>\n",
       "      <th>42</th>\n",
       "      <td>-0.914820</td>\n",
       "      <td>-2.276613</td>\n",
       "      <td>-0.500560</td>\n",
       "      <td>-0.894335</td>\n",
       "    </tr>\n",
       "    <tr>\n",
       "      <th>43</th>\n",
       "      <td>0.496969</td>\n",
       "      <td>1.409458</td>\n",
       "      <td>-1.232906</td>\n",
       "      <td>-0.483170</td>\n",
       "    </tr>\n",
       "    <tr>\n",
       "      <th>44</th>\n",
       "      <td>-0.384492</td>\n",
       "      <td>-0.156196</td>\n",
       "      <td>0.291122</td>\n",
       "      <td>1.488790</td>\n",
       "    </tr>\n",
       "    <tr>\n",
       "      <th>45</th>\n",
       "      <td>0.199216</td>\n",
       "      <td>-0.822863</td>\n",
       "      <td>-1.558402</td>\n",
       "      <td>-1.040094</td>\n",
       "    </tr>\n",
       "    <tr>\n",
       "      <th>46</th>\n",
       "      <td>-2.103670</td>\n",
       "      <td>-0.566790</td>\n",
       "      <td>1.644524</td>\n",
       "      <td>-1.878976</td>\n",
       "    </tr>\n",
       "    <tr>\n",
       "      <th>47</th>\n",
       "      <td>0.233151</td>\n",
       "      <td>0.211316</td>\n",
       "      <td>0.261843</td>\n",
       "      <td>-0.492922</td>\n",
       "    </tr>\n",
       "    <tr>\n",
       "      <th>48</th>\n",
       "      <td>-1.101402</td>\n",
       "      <td>1.173778</td>\n",
       "      <td>-0.551470</td>\n",
       "      <td>-0.230858</td>\n",
       "    </tr>\n",
       "    <tr>\n",
       "      <th>49</th>\n",
       "      <td>-0.973923</td>\n",
       "      <td>0.032049</td>\n",
       "      <td>0.991116</td>\n",
       "      <td>-0.234792</td>\n",
       "    </tr>\n",
       "  </tbody>\n",
       "</table>\n",
       "</div>"
      ],
      "text/plain": [
       "           a         b         c         d\n",
       "0  -1.692401  1.825085  0.350699 -1.475257\n",
       "1  -0.719062 -1.149787  0.483792 -0.013575\n",
       "2  -0.470191  0.532600 -1.232356 -0.829771\n",
       "3  -0.197778  0.671473  0.926591 -1.050854\n",
       "4  -0.759802 -0.832372 -0.718886 -0.592116\n",
       "5  -1.500860 -1.197808  0.280105  0.021872\n",
       "6   0.298247  0.930551 -0.569500 -0.527082\n",
       "7  -0.282234  0.206662 -0.792549  0.525821\n",
       "8  -0.893481 -1.202687 -0.664067  0.469571\n",
       "9  -0.594681 -1.454258  1.905169  1.032213\n",
       "10 -2.634028 -0.646647 -0.408085  0.470082\n",
       "11 -1.882891  0.640669 -0.419132  1.286097\n",
       "12 -0.713217  0.780919  0.364781  0.705486\n",
       "13  0.631684  2.484264 -1.502202  0.269283\n",
       "14  1.476667 -1.134624 -1.122213  0.367788\n",
       "15  0.481734 -1.332748 -0.939794  0.522792\n",
       "16  1.254417 -0.446083 -0.264974 -0.609984\n",
       "17 -0.515205 -1.187297 -1.905541  0.368622\n",
       "18 -0.185124  0.314512 -1.328560 -1.067031\n",
       "19 -0.450862 -0.188081  0.069795  1.742421\n",
       "20  0.180462  0.309730  0.000016 -0.180102\n",
       "21 -1.357387 -0.466241 -1.401211 -0.306921\n",
       "22  0.236066  0.563358 -0.073262 -0.211692\n",
       "23 -0.335706  0.968336 -1.439089  1.257549\n",
       "24  0.450521 -1.094577  2.426253  0.816687\n",
       "25  0.161221  1.092797  0.360002  0.069098\n",
       "26  0.095358 -0.190259 -0.131542 -0.853074\n",
       "27 -0.537392  0.567166  1.042043  1.293223\n",
       "28  1.155677 -1.072717 -2.395437  1.882057\n",
       "29  0.076159  1.638854  0.916301  0.539542\n",
       "30 -0.947270 -0.573115  0.881272 -1.048237\n",
       "31  0.053362 -1.154262 -0.386611 -0.023543\n",
       "32  1.704450 -0.469609  0.326954  1.074627\n",
       "33 -0.460035  0.661422 -0.327107  0.697667\n",
       "34  0.461697 -1.741449  1.779771  0.191216\n",
       "35  0.507112  0.024298 -2.158665  1.855307\n",
       "36 -0.498928  0.363045  0.648066 -1.070407\n",
       "37 -0.808484  0.715432 -0.057389  0.336321\n",
       "38 -1.415632  0.219743  0.221756  0.544589\n",
       "39 -1.039056 -0.940105  0.004961  1.544497\n",
       "40  0.406531  1.369068 -0.942188  0.448371\n",
       "41  0.022788 -2.311020 -0.040384 -0.388584\n",
       "42 -0.914820 -2.276613 -0.500560 -0.894335\n",
       "43  0.496969  1.409458 -1.232906 -0.483170\n",
       "44 -0.384492 -0.156196  0.291122  1.488790\n",
       "45  0.199216 -0.822863 -1.558402 -1.040094\n",
       "46 -2.103670 -0.566790  1.644524 -1.878976\n",
       "47  0.233151  0.211316  0.261843 -0.492922\n",
       "48 -1.101402  1.173778 -0.551470 -0.230858\n",
       "49 -0.973923  0.032049  0.991116 -0.234792"
      ]
     },
     "execution_count": 43,
     "metadata": {},
     "output_type": "execute_result"
    }
   ],
   "source": [
    "import pandas as pd\n",
    "import numpy as np\n",
    "import matplotlib.pyplot as plt\n",
    "from datetime import datetime\n",
    "%matplotlib inline\n",
    "\n",
    "dfBar = pd.DataFrame(np.random.randn(50, 4),  columns=['a', 'b', 'c', 'd'])\n",
    "dfBar"
   ]
  },
  {
   "cell_type": "code",
   "execution_count": 12,
   "metadata": {
    "collapsed": false
   },
   "outputs": [
    {
     "data": {
      "image/png": "[encoded data removed]",
      "text/plain": [
       "<matplotlib.figure.Figure at 0x111ea9cd0>"
      ]
     },
     "metadata": {},
     "output_type": "display_data"
    }
   ],
   "source": [
    "dfBar.plot(kind='bar')\n",
    "plt.show()"
   ]
  },
  {
   "cell_type": "code",
   "execution_count": 13,
   "metadata": {
    "collapsed": false
   },
   "outputs": [
    {
     "data": {
      "image/png": "[encoded data removed]",
      "text/plain": [
       "<matplotlib.figure.Figure at 0x112f63710>"
      ]
     },
     "metadata": {},
     "output_type": "display_data"
    }
   ],
   "source": [
    "dfBar.plot(kind='bar', stacked = True)\n",
    "plt.show()"
   ]
  },
  {
   "cell_type": "code",
   "execution_count": 14,
   "metadata": {
    "collapsed": false
   },
   "outputs": [
    {
     "data": {
      "image/png": "[encoded data removed]",
      "text/plain": [
       "<matplotlib.figure.Figure at 0x116279090>"
      ]
     },
     "metadata": {},
     "output_type": "display_data"
    }
   ],
   "source": [
    "dfBar.plot(kind='barh', stacked=True)\n",
    "plt.show()"
   ]
  },
  {
   "cell_type": "code",
   "execution_count": 17,
   "metadata": {
    "collapsed": false
   },
   "outputs": [
    {
     "data": {
      "image/png": "[encoded data removed]",
      "text/plain": [
       "<matplotlib.figure.Figure at 0x111ea9b10>"
      ]
     },
     "metadata": {},
     "output_type": "display_data"
    },
    {
     "data": {
      "image/png": "[encoded data removed]",
      "text/plain": [
       "<matplotlib.figure.Figure at 0x11668f250>"
      ]
     },
     "metadata": {},
     "output_type": "display_data"
    }
   ],
   "source": [
    "dfScatter = dfBar.plot(kind='scatter', x='a', y='b')\n",
    "plt.show()"
   ]
  },
  {
   "cell_type": "code",
   "execution_count": 21,
   "metadata": {
    "collapsed": false
   },
   "outputs": [
    {
     "data": {
      "image/png": "[encoded data removed]",
      "text/plain": [
       "<matplotlib.figure.Figure at 0x11646f250>"
      ]
     },
     "metadata": {},
     "output_type": "display_data"
    }
   ],
   "source": [
    "ax = dfBar.plot(kind='scatter', x='a',y='b', color='yellow', label='Group1')\n",
    "\n",
    "\n",
    "dfScatter2 = dfBar.plot(kind='scatter', x='c',y='d', color='green', label='Group2', ax=ax)\n",
    "plt.show() \n"
   ]
  },
  {
   "cell_type": "code",
   "execution_count": 44,
   "metadata": {
    "collapsed": false
   },
   "outputs": [
    {
     "data": {
      "text/html": [
       "<div>\n",
       "<table border=\"1\" class=\"dataframe\">\n",
       "  <thead>\n",
       "    <tr style=\"text-align: right;\">\n",
       "      <th></th>\n",
       "      <th>date</th>\n",
       "      <th>battle_deaths</th>\n",
       "    </tr>\n",
       "  </thead>\n",
       "  <tbody>\n",
       "    <tr>\n",
       "      <th>0</th>\n",
       "      <td>2014-05-01 18:47:05.069722</td>\n",
       "      <td>34</td>\n",
       "    </tr>\n",
       "    <tr>\n",
       "      <th>1</th>\n",
       "      <td>2014-05-01 18:47:05.119994</td>\n",
       "      <td>25</td>\n",
       "    </tr>\n",
       "    <tr>\n",
       "      <th>2</th>\n",
       "      <td>2014-05-02 18:47:05.178768</td>\n",
       "      <td>26</td>\n",
       "    </tr>\n",
       "    <tr>\n",
       "      <th>3</th>\n",
       "      <td>2014-05-02 18:47:05.230071</td>\n",
       "      <td>15</td>\n",
       "    </tr>\n",
       "    <tr>\n",
       "      <th>4</th>\n",
       "      <td>2014-05-02 18:47:05.230071</td>\n",
       "      <td>15</td>\n",
       "    </tr>\n",
       "    <tr>\n",
       "      <th>5</th>\n",
       "      <td>2014-05-02 18:47:05.280592</td>\n",
       "      <td>14</td>\n",
       "    </tr>\n",
       "    <tr>\n",
       "      <th>6</th>\n",
       "      <td>2014-05-03 18:47:05.332662</td>\n",
       "      <td>26</td>\n",
       "    </tr>\n",
       "    <tr>\n",
       "      <th>7</th>\n",
       "      <td>2014-05-03 18:47:05.385109</td>\n",
       "      <td>25</td>\n",
       "    </tr>\n",
       "    <tr>\n",
       "      <th>8</th>\n",
       "      <td>2014-05-04 18:47:05.436523</td>\n",
       "      <td>62</td>\n",
       "    </tr>\n",
       "    <tr>\n",
       "      <th>9</th>\n",
       "      <td>2014-05-04 18:47:05.486877</td>\n",
       "      <td>41</td>\n",
       "    </tr>\n",
       "  </tbody>\n",
       "</table>\n",
       "</div>"
      ],
      "text/plain": [
       "                         date  battle_deaths\n",
       "0  2014-05-01 18:47:05.069722             34\n",
       "1  2014-05-01 18:47:05.119994             25\n",
       "2  2014-05-02 18:47:05.178768             26\n",
       "3  2014-05-02 18:47:05.230071             15\n",
       "4  2014-05-02 18:47:05.230071             15\n",
       "5  2014-05-02 18:47:05.280592             14\n",
       "6  2014-05-03 18:47:05.332662             26\n",
       "7  2014-05-03 18:47:05.385109             25\n",
       "8  2014-05-04 18:47:05.436523             62\n",
       "9  2014-05-04 18:47:05.486877             41"
      ]
     },
     "execution_count": 44,
     "metadata": {},
     "output_type": "execute_result"
    }
   ],
   "source": [
    "data = {'date': ['2014-05-01 18:47:05.069722', '2014-05-01 18:47:05.119994',\n",
    "'2014-05-02 18:47:05.178768', '2014-05-02 18:47:05.230071',\n",
    "'2014-05-02 18:47:05.230071', '2014-05-02 18:47:05.280592',\n",
    "'2014-05-03 18:47:05.332662', '2014-05-03 18:47:05.385109',\n",
    "'2014-05-04 18:47:05.436523', '2014-05-04 18:47:05.486877'],\n",
    "        'battle_deaths': [34, 25, 26, 15, 15, 14, 26, 25, 62, 41]}\n",
    "df = pd.DataFrame(data, columns = ['date', 'battle_deaths'])\n",
    "df\n",
    "#print(df.dtypes)\n"
   ]
  },
  {
   "cell_type": "code",
   "execution_count": 45,
   "metadata": {
    "collapsed": false
   },
   "outputs": [
    {
     "name": "stdout",
     "output_type": "stream",
     "text": [
      "date             datetime64[ns]\n",
      "battle_deaths             int64\n",
      "dtype: object\n"
     ]
    }
   ],
   "source": [
    "df['date'] = pd.to_datetime(df['date'])\n",
    "print(df.dtypes)"
   ]
  },
  {
   "cell_type": "code",
   "execution_count": 46,
   "metadata": {
    "collapsed": false
   },
   "outputs": [
    {
     "data": {
      "text/html": [
       "<div>\n",
       "<table border=\"1\" class=\"dataframe\">\n",
       "  <thead>\n",
       "    <tr style=\"text-align: right;\">\n",
       "      <th></th>\n",
       "      <th>battle_deaths</th>\n",
       "    </tr>\n",
       "    <tr>\n",
       "      <th>date</th>\n",
       "      <th></th>\n",
       "    </tr>\n",
       "  </thead>\n",
       "  <tbody>\n",
       "    <tr>\n",
       "      <th>2014-05-01 18:47:05.069722</th>\n",
       "      <td>34</td>\n",
       "    </tr>\n",
       "    <tr>\n",
       "      <th>2014-05-01 18:47:05.119994</th>\n",
       "      <td>25</td>\n",
       "    </tr>\n",
       "    <tr>\n",
       "      <th>2014-05-02 18:47:05.178768</th>\n",
       "      <td>26</td>\n",
       "    </tr>\n",
       "    <tr>\n",
       "      <th>2014-05-02 18:47:05.230071</th>\n",
       "      <td>15</td>\n",
       "    </tr>\n",
       "    <tr>\n",
       "      <th>2014-05-02 18:47:05.230071</th>\n",
       "      <td>15</td>\n",
       "    </tr>\n",
       "    <tr>\n",
       "      <th>2014-05-02 18:47:05.280592</th>\n",
       "      <td>14</td>\n",
       "    </tr>\n",
       "    <tr>\n",
       "      <th>2014-05-03 18:47:05.332662</th>\n",
       "      <td>26</td>\n",
       "    </tr>\n",
       "    <tr>\n",
       "      <th>2014-05-03 18:47:05.385109</th>\n",
       "      <td>25</td>\n",
       "    </tr>\n",
       "    <tr>\n",
       "      <th>2014-05-04 18:47:05.436523</th>\n",
       "      <td>62</td>\n",
       "    </tr>\n",
       "    <tr>\n",
       "      <th>2014-05-04 18:47:05.486877</th>\n",
       "      <td>41</td>\n",
       "    </tr>\n",
       "  </tbody>\n",
       "</table>\n",
       "</div>"
      ],
      "text/plain": [
       "                            battle_deaths\n",
       "date                                     \n",
       "2014-05-01 18:47:05.069722             34\n",
       "2014-05-01 18:47:05.119994             25\n",
       "2014-05-02 18:47:05.178768             26\n",
       "2014-05-02 18:47:05.230071             15\n",
       "2014-05-02 18:47:05.230071             15\n",
       "2014-05-02 18:47:05.280592             14\n",
       "2014-05-03 18:47:05.332662             26\n",
       "2014-05-03 18:47:05.385109             25\n",
       "2014-05-04 18:47:05.436523             62\n",
       "2014-05-04 18:47:05.486877             41"
      ]
     },
     "execution_count": 46,
     "metadata": {},
     "output_type": "execute_result"
    }
   ],
   "source": [
    "df.index = df['date']\n",
    "del df['date']\n",
    "df"
   ]
  },
  {
   "cell_type": "code",
   "execution_count": 47,
   "metadata": {
    "collapsed": false
   },
   "outputs": [
    {
     "data": {
      "text/html": [
       "<div>\n",
       "<table border=\"1\" class=\"dataframe\">\n",
       "  <thead>\n",
       "    <tr style=\"text-align: right;\">\n",
       "      <th></th>\n",
       "      <th>battle_deaths</th>\n",
       "    </tr>\n",
       "    <tr>\n",
       "      <th>date</th>\n",
       "      <th></th>\n",
       "    </tr>\n",
       "  </thead>\n",
       "  <tbody>\n",
       "    <tr>\n",
       "      <th>2014-05-01</th>\n",
       "      <td>59</td>\n",
       "    </tr>\n",
       "    <tr>\n",
       "      <th>2014-05-02</th>\n",
       "      <td>70</td>\n",
       "    </tr>\n",
       "    <tr>\n",
       "      <th>2014-05-03</th>\n",
       "      <td>51</td>\n",
       "    </tr>\n",
       "    <tr>\n",
       "      <th>2014-05-04</th>\n",
       "      <td>103</td>\n",
       "    </tr>\n",
       "  </tbody>\n",
       "</table>\n",
       "</div>"
      ],
      "text/plain": [
       "            battle_deaths\n",
       "date                     \n",
       "2014-05-01             59\n",
       "2014-05-02             70\n",
       "2014-05-03             51\n",
       "2014-05-04            103"
      ]
     },
     "execution_count": 47,
     "metadata": {},
     "output_type": "execute_result"
    }
   ],
   "source": [
    "df.resample('D').sum()\n"
   ]
  },
  {
   "cell_type": "code",
   "execution_count": 52,
   "metadata": {
    "collapsed": false
   },
   "outputs": [
    {
     "data": {
      "text/plain": [
       "<matplotlib.axes._subplots.AxesSubplot at 0x112f82890>"
      ]
     },
     "execution_count": 52,
     "metadata": {},
     "output_type": "execute_result"
    },
    {
     "data": {
      "image/png": "[encoded data removed]",
      "text/plain": [
       "<matplotlib.figure.Figure at 0x11622abd0>"
      ]
     },
     "metadata": {},
     "output_type": "display_data"
    }
   ],
   "source": [
    "df.resample('H').sum().dropna().plot()"
   ]
  },
  {
   "cell_type": "code",
   "execution_count": 2,
   "metadata": {
    "collapsed": false
   },
   "outputs": [],
   "source": [
    "import plotly"
   ]
  },
  {
   "cell_type": "code",
   "execution_count": null,
   "metadata": {
    "collapsed": true
   },
   "outputs": [],
   "source": []
  }
 ],
 "metadata": {
  "anaconda-cloud": {},
  "kernelspec": {
   "display_name": "Python [default]",
   "language": "python",
   "name": "python2"
  },
  "language_info": {
   "codemirror_mode": {
    "name": "ipython",
    "version": 2
   },
   "file_extension": ".py",
   "mimetype": "text/x-python",
   "name": "python",
   "nbconvert_exporter": "python",
   "pygments_lexer": "ipython2",
   "version": "2.7.12"
  }
 },
 "nbformat": 4,
 "nbformat_minor": 1
}
