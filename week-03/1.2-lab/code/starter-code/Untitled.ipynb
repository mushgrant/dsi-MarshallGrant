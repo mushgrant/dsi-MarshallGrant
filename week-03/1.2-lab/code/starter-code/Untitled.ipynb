{
 "cells": [
  {
   "cell_type": "code",
   "execution_count": 1,
   "metadata": {
    "collapsed": true
   },
   "outputs": [],
   "source": [
    "import statsmodels.api as sm\n",
    "\n",
    "import pandas as pd\n",
    "\n",
    "from patsy import dmatrices\n"
   ]
  },
  {
   "cell_type": "code",
   "execution_count": 7,
   "metadata": {
    "collapsed": false
   },
   "outputs": [],
   "source": [
    "df = pd.read_csv('Guerry.csv')"
   ]
  },
  {
   "cell_type": "code",
   "execution_count": 8,
   "metadata": {
    "collapsed": true
   },
   "outputs": [],
   "source": [
    "vars = ['Department', 'Lottery', 'Literacy', 'Wealth', 'Region']"
   ]
  },
  {
   "cell_type": "code",
   "execution_count": 9,
   "metadata": {
    "collapsed": false
   },
   "outputs": [],
   "source": [
    "df = df[vars]"
   ]
  },
  {
   "cell_type": "code",
   "execution_count": 12,
   "metadata": {
    "collapsed": false
   },
   "outputs": [
    {
     "data": {
      "text/html": [
       "<div>\n",
       "<table border=\"1\" class=\"dataframe\">\n",
       "  <thead>\n",
       "    <tr style=\"text-align: right;\">\n",
       "      <th></th>\n",
       "      <th>Department</th>\n",
       "      <th>Lottery</th>\n",
       "      <th>Literacy</th>\n",
       "      <th>Wealth</th>\n",
       "      <th>Region</th>\n",
       "    </tr>\n",
       "  </thead>\n",
       "  <tbody>\n",
       "    <tr>\n",
       "      <th>81</th>\n",
       "      <td>Vienne</td>\n",
       "      <td>40</td>\n",
       "      <td>25</td>\n",
       "      <td>68</td>\n",
       "      <td>W</td>\n",
       "    </tr>\n",
       "    <tr>\n",
       "      <th>82</th>\n",
       "      <td>Haute-Vienne</td>\n",
       "      <td>55</td>\n",
       "      <td>13</td>\n",
       "      <td>67</td>\n",
       "      <td>C</td>\n",
       "    </tr>\n",
       "    <tr>\n",
       "      <th>83</th>\n",
       "      <td>Vosges</td>\n",
       "      <td>14</td>\n",
       "      <td>62</td>\n",
       "      <td>82</td>\n",
       "      <td>E</td>\n",
       "    </tr>\n",
       "    <tr>\n",
       "      <th>84</th>\n",
       "      <td>Yonne</td>\n",
       "      <td>51</td>\n",
       "      <td>47</td>\n",
       "      <td>30</td>\n",
       "      <td>C</td>\n",
       "    </tr>\n",
       "    <tr>\n",
       "      <th>85</th>\n",
       "      <td>Corse</td>\n",
       "      <td>83</td>\n",
       "      <td>49</td>\n",
       "      <td>37</td>\n",
       "      <td>NaN</td>\n",
       "    </tr>\n",
       "  </tbody>\n",
       "</table>\n",
       "</div>"
      ],
      "text/plain": [
       "      Department  Lottery  Literacy  Wealth Region\n",
       "81        Vienne       40        25      68      W\n",
       "82  Haute-Vienne       55        13      67      C\n",
       "83        Vosges       14        62      82      E\n",
       "84         Yonne       51        47      30      C\n",
       "85         Corse       83        49      37    NaN"
      ]
     },
     "execution_count": 12,
     "metadata": {},
     "output_type": "execute_result"
    }
   ],
   "source": [
    "df[-5:]"
   ]
  },
  {
   "cell_type": "code",
   "execution_count": 15,
   "metadata": {
    "collapsed": false
   },
   "outputs": [
    {
     "data": {
      "text/html": [
       "<div>\n",
       "<table border=\"1\" class=\"dataframe\">\n",
       "  <thead>\n",
       "    <tr style=\"text-align: right;\">\n",
       "      <th></th>\n",
       "      <th>Department</th>\n",
       "      <th>Lottery</th>\n",
       "      <th>Literacy</th>\n",
       "      <th>Wealth</th>\n",
       "      <th>Region</th>\n",
       "    </tr>\n",
       "  </thead>\n",
       "  <tbody>\n",
       "    <tr>\n",
       "      <th>80</th>\n",
       "      <td>Vendee</td>\n",
       "      <td>68</td>\n",
       "      <td>28</td>\n",
       "      <td>56</td>\n",
       "      <td>W</td>\n",
       "    </tr>\n",
       "    <tr>\n",
       "      <th>81</th>\n",
       "      <td>Vienne</td>\n",
       "      <td>40</td>\n",
       "      <td>25</td>\n",
       "      <td>68</td>\n",
       "      <td>W</td>\n",
       "    </tr>\n",
       "    <tr>\n",
       "      <th>82</th>\n",
       "      <td>Haute-Vienne</td>\n",
       "      <td>55</td>\n",
       "      <td>13</td>\n",
       "      <td>67</td>\n",
       "      <td>C</td>\n",
       "    </tr>\n",
       "    <tr>\n",
       "      <th>83</th>\n",
       "      <td>Vosges</td>\n",
       "      <td>14</td>\n",
       "      <td>62</td>\n",
       "      <td>82</td>\n",
       "      <td>E</td>\n",
       "    </tr>\n",
       "    <tr>\n",
       "      <th>84</th>\n",
       "      <td>Yonne</td>\n",
       "      <td>51</td>\n",
       "      <td>47</td>\n",
       "      <td>30</td>\n",
       "      <td>C</td>\n",
       "    </tr>\n",
       "  </tbody>\n",
       "</table>\n",
       "</div>"
      ],
      "text/plain": [
       "      Department  Lottery  Literacy  Wealth Region\n",
       "80        Vendee       68        28      56      W\n",
       "81        Vienne       40        25      68      W\n",
       "82  Haute-Vienne       55        13      67      C\n",
       "83        Vosges       14        62      82      E\n",
       "84         Yonne       51        47      30      C"
      ]
     },
     "execution_count": 15,
     "metadata": {},
     "output_type": "execute_result"
    }
   ],
   "source": [
    "df = df.dropna()\n",
    "df[-5:]"
   ]
  },
  {
   "cell_type": "code",
   "execution_count": 19,
   "metadata": {
    "collapsed": false
   },
   "outputs": [
    {
     "data": {
      "text/html": [
       "<div>\n",
       "<table border=\"1\" class=\"dataframe\">\n",
       "  <thead>\n",
       "    <tr style=\"text-align: right;\">\n",
       "      <th></th>\n",
       "      <th>Department</th>\n",
       "      <th>Lottery</th>\n",
       "      <th>Literacy</th>\n",
       "      <th>Wealth</th>\n",
       "      <th>Region</th>\n",
       "    </tr>\n",
       "  </thead>\n",
       "  <tbody>\n",
       "    <tr>\n",
       "      <th>0</th>\n",
       "      <td>Ain</td>\n",
       "      <td>41</td>\n",
       "      <td>37</td>\n",
       "      <td>73</td>\n",
       "      <td>E</td>\n",
       "    </tr>\n",
       "    <tr>\n",
       "      <th>1</th>\n",
       "      <td>Aisne</td>\n",
       "      <td>38</td>\n",
       "      <td>51</td>\n",
       "      <td>22</td>\n",
       "      <td>N</td>\n",
       "    </tr>\n",
       "    <tr>\n",
       "      <th>2</th>\n",
       "      <td>Allier</td>\n",
       "      <td>66</td>\n",
       "      <td>13</td>\n",
       "      <td>61</td>\n",
       "      <td>C</td>\n",
       "    </tr>\n",
       "    <tr>\n",
       "      <th>3</th>\n",
       "      <td>Basses-Alpes</td>\n",
       "      <td>80</td>\n",
       "      <td>46</td>\n",
       "      <td>76</td>\n",
       "      <td>E</td>\n",
       "    </tr>\n",
       "    <tr>\n",
       "      <th>4</th>\n",
       "      <td>Hautes-Alpes</td>\n",
       "      <td>79</td>\n",
       "      <td>69</td>\n",
       "      <td>83</td>\n",
       "      <td>E</td>\n",
       "    </tr>\n",
       "  </tbody>\n",
       "</table>\n",
       "</div>"
      ],
      "text/plain": [
       "     Department  Lottery  Literacy  Wealth Region\n",
       "0           Ain       41        37      73      E\n",
       "1         Aisne       38        51      22      N\n",
       "2        Allier       66        13      61      C\n",
       "3  Basses-Alpes       80        46      76      E\n",
       "4  Hautes-Alpes       79        69      83      E"
      ]
     },
     "execution_count": 19,
     "metadata": {},
     "output_type": "execute_result"
    }
   ],
   "source": [
    "df.head()"
   ]
  },
  {
   "cell_type": "code",
   "execution_count": 35,
   "metadata": {
    "collapsed": false
   },
   "outputs": [
    {
     "data": {
      "text/plain": [
       "Department    Allier\n",
       "Lottery           66\n",
       "Literacy          13\n",
       "Wealth            61\n",
       "Region             C\n",
       "New                1\n",
       "Name: 2, dtype: object"
      ]
     },
     "execution_count": 35,
     "metadata": {},
     "output_type": "execute_result"
    }
   ],
   "source": [
    "df.loc[2]"
   ]
  },
  {
   "cell_type": "code",
   "execution_count": 18,
   "metadata": {
    "collapsed": false
   },
   "outputs": [
    {
     "data": {
      "text/plain": [
       "(    Lottery\n",
       " 0      41.0\n",
       " 1      38.0\n",
       " 2      66.0\n",
       " 3      80.0\n",
       " 4      79.0\n",
       " 5      70.0\n",
       " 6      31.0\n",
       " 7      75.0\n",
       " 8      28.0\n",
       " 9      50.0\n",
       " 10     81.0\n",
       " 11      3.0\n",
       " 12     13.0\n",
       " 13     82.0\n",
       " 14     60.0\n",
       " 15     35.0\n",
       " 16     44.0\n",
       " 17     84.0\n",
       " 18     33.0\n",
       " 19     72.0\n",
       " 20     85.0\n",
       " 21     77.0\n",
       " 22     18.0\n",
       " 23     54.0\n",
       " 24     47.0\n",
       " 25     48.0\n",
       " 26     36.0\n",
       " 27     20.0\n",
       " 28     25.0\n",
       " 29     74.0\n",
       " ..      ...\n",
       " 55     63.0\n",
       " 56      7.0\n",
       " 57     43.0\n",
       " 58     57.0\n",
       " 59     27.0\n",
       " 60     53.0\n",
       " 61     34.0\n",
       " 62     76.0\n",
       " 63     11.0\n",
       " 64      5.0\n",
       " 65     10.0\n",
       " 66      2.0\n",
       " 67     65.0\n",
       " 68     45.0\n",
       " 69     49.0\n",
       " 70      1.0\n",
       " 71      9.0\n",
       " 72     29.0\n",
       " 73      6.0\n",
       " 74     71.0\n",
       " 75     30.0\n",
       " 76     67.0\n",
       " 77     64.0\n",
       " 78     26.0\n",
       " 79      8.0\n",
       " 80     68.0\n",
       " 81     40.0\n",
       " 82     55.0\n",
       " 83     14.0\n",
       " 84     51.0\n",
       " \n",
       " [85 rows x 1 columns],\n",
       "     Intercept  Region[T.E]  Region[T.N]  Region[T.S]  Region[T.W]  Literacy  \\\n",
       " 0         1.0          1.0          0.0          0.0          0.0      37.0   \n",
       " 1         1.0          0.0          1.0          0.0          0.0      51.0   \n",
       " 2         1.0          0.0          0.0          0.0          0.0      13.0   \n",
       " 3         1.0          1.0          0.0          0.0          0.0      46.0   \n",
       " 4         1.0          1.0          0.0          0.0          0.0      69.0   \n",
       " 5         1.0          0.0          0.0          1.0          0.0      27.0   \n",
       " 6         1.0          0.0          1.0          0.0          0.0      67.0   \n",
       " 7         1.0          0.0          0.0          1.0          0.0      18.0   \n",
       " 8         1.0          1.0          0.0          0.0          0.0      59.0   \n",
       " 9         1.0          0.0          0.0          1.0          0.0      34.0   \n",
       " 10        1.0          0.0          0.0          1.0          0.0      31.0   \n",
       " 11        1.0          0.0          0.0          1.0          0.0      38.0   \n",
       " 12        1.0          0.0          1.0          0.0          0.0      52.0   \n",
       " 13        1.0          0.0          0.0          0.0          0.0      31.0   \n",
       " 14        1.0          0.0          0.0          0.0          1.0      36.0   \n",
       " 15        1.0          0.0          0.0          0.0          1.0      39.0   \n",
       " 16        1.0          0.0          0.0          0.0          0.0      13.0   \n",
       " 17        1.0          0.0          0.0          0.0          0.0      12.0   \n",
       " 18        1.0          1.0          0.0          0.0          0.0      60.0   \n",
       " 19        1.0          0.0          0.0          0.0          1.0      16.0   \n",
       " 20        1.0          0.0          0.0          0.0          0.0      23.0   \n",
       " 21        1.0          0.0          0.0          0.0          1.0      18.0   \n",
       " 22        1.0          1.0          0.0          0.0          0.0      73.0   \n",
       " 23        1.0          1.0          0.0          0.0          0.0      42.0   \n",
       " 24        1.0          0.0          1.0          0.0          0.0      51.0   \n",
       " 25        1.0          0.0          0.0          0.0          0.0      54.0   \n",
       " 26        1.0          0.0          0.0          0.0          1.0      15.0   \n",
       " 27        1.0          0.0          0.0          1.0          0.0      40.0   \n",
       " 28        1.0          0.0          0.0          1.0          0.0      31.0   \n",
       " 29        1.0          0.0          0.0          1.0          0.0      38.0   \n",
       " ..        ...          ...          ...          ...          ...       ...   \n",
       " 55        1.0          0.0          0.0          0.0          0.0      20.0   \n",
       " 56        1.0          0.0          1.0          0.0          0.0      45.0   \n",
       " 57        1.0          0.0          1.0          0.0          0.0      54.0   \n",
       " 58        1.0          0.0          1.0          0.0          0.0      45.0   \n",
       " 59        1.0          0.0          1.0          0.0          0.0      49.0   \n",
       " 60        1.0          0.0          0.0          0.0          0.0      19.0   \n",
       " 61        1.0          0.0          0.0          0.0          1.0      47.0   \n",
       " 62        1.0          0.0          0.0          1.0          0.0      53.0   \n",
       " 63        1.0          0.0          0.0          1.0          0.0      31.0   \n",
       " 64        1.0          1.0          0.0          0.0          0.0      62.0   \n",
       " 65        1.0          1.0          0.0          0.0          0.0      71.0   \n",
       " 66        1.0          1.0          0.0          0.0          0.0      45.0   \n",
       " 67        1.0          1.0          0.0          0.0          0.0      59.0   \n",
       " 68        1.0          1.0          0.0          0.0          0.0      32.0   \n",
       " 69        1.0          0.0          0.0          0.0          0.0      30.0   \n",
       " 70        1.0          0.0          1.0          0.0          0.0      71.0   \n",
       " 71        1.0          0.0          1.0          0.0          0.0      43.0   \n",
       " 72        1.0          0.0          1.0          0.0          0.0      54.0   \n",
       " 73        1.0          0.0          1.0          0.0          0.0      56.0   \n",
       " 74        1.0          0.0          0.0          0.0          1.0      41.0   \n",
       " 75        1.0          0.0          1.0          0.0          0.0      44.0   \n",
       " 76        1.0          0.0          0.0          1.0          0.0      20.0   \n",
       " 77        1.0          0.0          0.0          1.0          0.0      25.0   \n",
       " 78        1.0          0.0          0.0          1.0          0.0      23.0   \n",
       " 79        1.0          0.0          0.0          1.0          0.0      37.0   \n",
       " 80        1.0          0.0          0.0          0.0          1.0      28.0   \n",
       " 81        1.0          0.0          0.0          0.0          1.0      25.0   \n",
       " 82        1.0          0.0          0.0          0.0          0.0      13.0   \n",
       " 83        1.0          1.0          0.0          0.0          0.0      62.0   \n",
       " 84        1.0          0.0          0.0          0.0          0.0      47.0   \n",
       " \n",
       "     Wealth  \n",
       " 0     73.0  \n",
       " 1     22.0  \n",
       " 2     61.0  \n",
       " 3     76.0  \n",
       " 4     83.0  \n",
       " 5     84.0  \n",
       " 6     33.0  \n",
       " 7     72.0  \n",
       " 8     14.0  \n",
       " 9     17.0  \n",
       " 10    50.0  \n",
       " 11     2.0  \n",
       " 12    10.0  \n",
       " 13    59.0  \n",
       " 14    86.0  \n",
       " 15    18.0  \n",
       " 16    63.0  \n",
       " 17    74.0  \n",
       " 18    16.0  \n",
       " 19    70.0  \n",
       " 20    78.0  \n",
       " 21    60.0  \n",
       " 22    31.0  \n",
       " 23    66.0  \n",
       " 24    20.0  \n",
       " 25    11.0  \n",
       " 26    36.0  \n",
       " 27    26.0  \n",
       " 28    23.0  \n",
       " 29    40.0  \n",
       " ..     ...  \n",
       " 55    44.0  \n",
       " 56    28.0  \n",
       " 57    15.0  \n",
       " 58    35.0  \n",
       " 59    45.0  \n",
       " 60    51.0  \n",
       " 61    79.0  \n",
       " 62    85.0  \n",
       " 63    71.0  \n",
       " 64    46.0  \n",
       " 65    58.0  \n",
       " 66     6.0  \n",
       " 67    69.0  \n",
       " 68    49.0  \n",
       " 69    41.0  \n",
       " 70     1.0  \n",
       " 71     3.0  \n",
       " 72     4.0  \n",
       " 73     5.0  \n",
       " 74    39.0  \n",
       " 75    21.0  \n",
       " 76    47.0  \n",
       " 77    29.0  \n",
       " 78    43.0  \n",
       " 79    64.0  \n",
       " 80    56.0  \n",
       " 81    68.0  \n",
       " 82    67.0  \n",
       " 83    82.0  \n",
       " 84    30.0  \n",
       " \n",
       " [85 rows x 7 columns])"
      ]
     },
     "execution_count": 18,
     "metadata": {},
     "output_type": "execute_result"
    }
   ],
   "source": [
    "y, x = dmatrices('Lottery ~ Literacy + Wealth + Region', data=df, return_type='dataframe')\n",
    "y, x"
   ]
  },
  {
   "cell_type": "code",
   "execution_count": 20,
   "metadata": {
    "collapsed": false
   },
   "outputs": [
    {
     "name": "stdout",
     "output_type": "stream",
     "text": [
      "                            OLS Regression Results                            \n",
      "==============================================================================\n",
      "Dep. Variable:                Lottery   R-squared:                       0.338\n",
      "Model:                            OLS   Adj. R-squared:                  0.287\n",
      "Method:                 Least Squares   F-statistic:                     6.636\n",
      "Date:                Mon, 07 Nov 2016   Prob (F-statistic):           1.07e-05\n",
      "Time:                        16:53:49   Log-Likelihood:                -375.30\n",
      "No. Observations:                  85   AIC:                             764.6\n",
      "Df Residuals:                      78   BIC:                             781.7\n",
      "Df Model:                           6                                         \n",
      "Covariance Type:            nonrobust                                         \n",
      "===============================================================================\n",
      "                  coef    std err          t      P>|t|      [95.0% Conf. Int.]\n",
      "-------------------------------------------------------------------------------\n",
      "Intercept      38.6517      9.456      4.087      0.000        19.826    57.478\n",
      "Region[T.E]   -15.4278      9.727     -1.586      0.117       -34.793     3.938\n",
      "Region[T.N]   -10.0170      9.260     -1.082      0.283       -28.453     8.419\n",
      "Region[T.S]    -4.5483      7.279     -0.625      0.534       -19.039     9.943\n",
      "Region[T.W]   -10.0913      7.196     -1.402      0.165       -24.418     4.235\n",
      "Literacy       -0.1858      0.210     -0.886      0.378        -0.603     0.232\n",
      "Wealth          0.4515      0.103      4.390      0.000         0.247     0.656\n",
      "==============================================================================\n",
      "Omnibus:                        3.049   Durbin-Watson:                   1.785\n",
      "Prob(Omnibus):                  0.218   Jarque-Bera (JB):                2.694\n",
      "Skew:                          -0.340   Prob(JB):                        0.260\n",
      "Kurtosis:                       2.454   Cond. No.                         371.\n",
      "==============================================================================\n",
      "\n",
      "Warnings:\n",
      "[1] Standard Errors assume that the covariance matrix of the errors is correctly specified.\n"
     ]
    }
   ],
   "source": [
    "mod = sm.OLS(y,x)  #describe the model\n",
    "res = mod.fit()     #fit the model\n",
    "print res.summary() # summarize the model"
   ]
  },
  {
   "cell_type": "code",
   "execution_count": 21,
   "metadata": {
    "collapsed": false
   },
   "outputs": [
    {
     "data": {
      "text/plain": [
       "Intercept      38.651655\n",
       "Region[T.E]   -15.427785\n",
       "Region[T.N]   -10.016961\n",
       "Region[T.S]    -4.548257\n",
       "Region[T.W]   -10.091276\n",
       "Literacy       -0.185819\n",
       "Wealth          0.451475\n",
       "dtype: float64"
      ]
     },
     "execution_count": 21,
     "metadata": {},
     "output_type": "execute_result"
    }
   ],
   "source": [
    "res.params"
   ]
  },
  {
   "cell_type": "code",
   "execution_count": 22,
   "metadata": {
    "collapsed": false
   },
   "outputs": [
    {
     "data": {
      "text/plain": [
       "0.33795086919288198"
      ]
     },
     "execution_count": 22,
     "metadata": {},
     "output_type": "execute_result"
    }
   ],
   "source": [
    "res.rsquared"
   ]
  },
  {
   "cell_type": "code",
   "execution_count": 23,
   "metadata": {
    "collapsed": false
   },
   "outputs": [
    {
     "data": {
      "text/plain": [
       "['HC0_se',\n",
       " 'HC1_se',\n",
       " 'HC2_se',\n",
       " 'HC3_se',\n",
       " '_HCCM',\n",
       " '__class__',\n",
       " '__delattr__',\n",
       " '__dict__',\n",
       " '__doc__',\n",
       " '__format__',\n",
       " '__getattribute__',\n",
       " '__hash__',\n",
       " '__init__',\n",
       " '__module__',\n",
       " '__new__',\n",
       " '__reduce__',\n",
       " '__reduce_ex__',\n",
       " '__repr__',\n",
       " '__setattr__',\n",
       " '__sizeof__',\n",
       " '__str__',\n",
       " '__subclasshook__',\n",
       " '__weakref__',\n",
       " '_cache',\n",
       " '_data_attr',\n",
       " '_get_robustcov_results',\n",
       " '_is_nested',\n",
       " '_wexog_singular_values',\n",
       " 'aic',\n",
       " 'bic',\n",
       " 'bse',\n",
       " 'centered_tss',\n",
       " 'compare_f_test',\n",
       " 'compare_lm_test',\n",
       " 'compare_lr_test',\n",
       " 'condition_number',\n",
       " 'conf_int',\n",
       " 'conf_int_el',\n",
       " 'cov_HC0',\n",
       " 'cov_HC1',\n",
       " 'cov_HC2',\n",
       " 'cov_HC3',\n",
       " 'cov_kwds',\n",
       " 'cov_params',\n",
       " 'cov_type',\n",
       " 'df_model',\n",
       " 'df_resid',\n",
       " 'diagn',\n",
       " 'eigenvals',\n",
       " 'el_test',\n",
       " 'ess',\n",
       " 'f_pvalue',\n",
       " 'f_test',\n",
       " 'fittedvalues',\n",
       " 'fvalue',\n",
       " 'get_influence',\n",
       " 'get_robustcov_results',\n",
       " 'initialize',\n",
       " 'k_constant',\n",
       " 'llf',\n",
       " 'load',\n",
       " 'model',\n",
       " 'mse_model',\n",
       " 'mse_resid',\n",
       " 'mse_total',\n",
       " 'nobs',\n",
       " 'normalized_cov_params',\n",
       " 'outlier_test',\n",
       " 'params',\n",
       " 'predict',\n",
       " 'pvalues',\n",
       " 'remove_data',\n",
       " 'resid',\n",
       " 'resid_pearson',\n",
       " 'rsquared',\n",
       " 'rsquared_adj',\n",
       " 'save',\n",
       " 'scale',\n",
       " 'ssr',\n",
       " 'summary',\n",
       " 'summary2',\n",
       " 't_test',\n",
       " 'tvalues',\n",
       " 'uncentered_tss',\n",
       " 'use_t',\n",
       " 'wald_test',\n",
       " 'wresid']"
      ]
     },
     "execution_count": 23,
     "metadata": {},
     "output_type": "execute_result"
    }
   ],
   "source": [
    "dir(res)"
   ]
  },
  {
   "cell_type": "code",
   "execution_count": 24,
   "metadata": {
    "collapsed": false
   },
   "outputs": [
    {
     "data": {
      "text/plain": [
       "(0.84723399761569129, 0.69979655436216426)"
      ]
     },
     "execution_count": 24,
     "metadata": {},
     "output_type": "execute_result"
    }
   ],
   "source": [
    "sm.stats.linear_rainbow(res) #stats model for linear regression of residuals"
   ]
  },
  {
   "cell_type": "code",
   "execution_count": 25,
   "metadata": {
    "collapsed": false
   },
   "outputs": [
    {
     "data": {
      "image/png": "[encoded data removed]",
      "text/plain": [
       "<matplotlib.figure.Figure at 0x1151ea090>"
      ]
     },
     "execution_count": 25,
     "metadata": {},
     "output_type": "execute_result"
    }
   ],
   "source": [
    "sm.graphics.plot_partregress('Lottery', 'Wealth', ['Region', 'Literacy'],\n",
    "                              data=df, obs_labels=False)"
   ]
  },
  {
   "cell_type": "code",
   "execution_count": null,
   "metadata": {
    "collapsed": true
   },
   "outputs": [],
   "source": []
  }
 ],
 "metadata": {
  "anaconda-cloud": {},
  "kernelspec": {
   "display_name": "Python [default]",
   "language": "python",
   "name": "python2"
  },
  "language_info": {
   "codemirror_mode": {
    "name": "ipython",
    "version": 2
   },
   "file_extension": ".py",
   "mimetype": "text/x-python",
   "name": "python",
   "nbconvert_exporter": "python",
   "pygments_lexer": "ipython2",
   "version": "2.7.12"
  }
 },
 "nbformat": 4,
 "nbformat_minor": 1
}
