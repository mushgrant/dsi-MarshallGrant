{
 "cells": [
  {
   "cell_type": "markdown",
   "metadata": {},
   "source": [
    "# Alternate Code Challenges #1\n",
    "\n",
    "While the rest of the class learns about types, you've already known about types and have at least a basic level of experience working with Python.  We think there are plenty of algorithms and data structures that are important to know about, which are outside the scope of our class but fall under year 1-2 computer science fundamentals.  However, with these alternate exercises, we feel are at least somehow supportive of what you might find in job interviews and Python code challenges.\n",
    "\n",
    "These are completely **optional**, but if you are unable to complete these in the beginning, come back to them once you're ready.\n",
    "\n",
    "## Requirements\n",
    "For these challenges, you will need to have a basic working knowledge of Python and be comfortable with fundamental usage.  To get the most out of these exercises you should avoid using libraries (but feel free to use buil-in types ie: zip()) as much as possible and try to construct solutions by hand as much as possible.  Also, if solutions are available, try not to peek to get the most out of this.  \n",
    "\n",
    "Feel free to search and use resources on the web but try to figure as much of these out with careful thought."
   ]
  },
  {
   "cell_type": "markdown",
   "metadata": {},
   "source": [
    "## Optional Challenege 1 - Counting Types\n",
    "\n",
    "Given a list of mixed input, implement a method that counts types of elements (given a list) and reports the quantity of items found in the input.  Output can also be an object representation (ie: dictionary).\n",
    "\n",
    "**Input:**\n",
    "\n",
    "\n",
    "    [5, \"Foo\", (2, 4, 5, 100), {\"fox\": \"mammal\"}, False, True, 2.987, \"Bar\"]\n",
    "\n",
    "\n",
    "\n",
    "**Output:**\n",
    "\n",
    "    int: 1\n",
    "    float: 1\n",
    "    string: 2\n",
    "    tuple: 1\n",
    "    dict: 1\n",
    "    boolean: 2\n"
   ]
  },
  {
   "cell_type": "code",
   "execution_count": 59,
   "metadata": {
    "collapsed": false
   },
   "outputs": [],
   "source": [
    "# # Here's a bit of starter code to get you started:\n",
    "counts = {}\n",
    "def count_types(input):\n",
    "    for i in count_types:\n",
    "        c = type(i)\n",
    "        if c in counts:\n",
    "            counts[c] =+ 1\n",
    "        else: \n",
    "            counts[c] = 1\n",
    "            \n"
   ]
  },
  {
   "cell_type": "code",
   "execution_count": 60,
   "metadata": {
    "collapsed": false
   },
   "outputs": [
    {
     "ename": "TypeError",
     "evalue": "'function' object is not iterable",
     "output_type": "error",
     "traceback": [
      "\u001b[1;31m---------------------------------------------------------------------------\u001b[0m",
      "\u001b[1;31mTypeError\u001b[0m                                 Traceback (most recent call last)",
      "\u001b[1;32m<ipython-input-60-e58349786071>\u001b[0m in \u001b[0;36m<module>\u001b[1;34m()\u001b[0m\n\u001b[0;32m     18\u001b[0m     \u001b[1;36m5\u001b[0m\u001b[1;33m^\u001b[0m\u001b[1;36m2\u001b[0m\u001b[1;33m\u001b[0m\u001b[0m\n\u001b[0;32m     19\u001b[0m ]\n\u001b[1;32m---> 20\u001b[1;33m \u001b[0mcount_types\u001b[0m\u001b[1;33m(\u001b[0m\u001b[0mexample_input\u001b[0m\u001b[1;33m)\u001b[0m\u001b[1;33m\u001b[0m\u001b[0m\n\u001b[0m\u001b[0;32m     21\u001b[0m \u001b[1;33m\u001b[0m\u001b[0m\n\u001b[0;32m     22\u001b[0m \u001b[0mprint\u001b[0m\u001b[1;33m(\u001b[0m\u001b[0mcounts\u001b[0m\u001b[1;33m)\u001b[0m\u001b[1;33m\u001b[0m\u001b[0m\n",
      "\u001b[1;32m<ipython-input-59-9ab22d55ecf3>\u001b[0m in \u001b[0;36mcount_types\u001b[1;34m(input)\u001b[0m\n\u001b[0;32m      2\u001b[0m \u001b[0mcounts\u001b[0m \u001b[1;33m=\u001b[0m \u001b[1;33m{\u001b[0m\u001b[1;33m}\u001b[0m\u001b[1;33m\u001b[0m\u001b[0m\n\u001b[0;32m      3\u001b[0m \u001b[1;32mdef\u001b[0m \u001b[0mcount_types\u001b[0m\u001b[1;33m(\u001b[0m\u001b[0minput\u001b[0m\u001b[1;33m)\u001b[0m\u001b[1;33m:\u001b[0m\u001b[1;33m\u001b[0m\u001b[0m\n\u001b[1;32m----> 4\u001b[1;33m     \u001b[1;32mfor\u001b[0m \u001b[0mi\u001b[0m \u001b[1;32min\u001b[0m \u001b[0mcount_types\u001b[0m\u001b[1;33m:\u001b[0m\u001b[1;33m\u001b[0m\u001b[0m\n\u001b[0m\u001b[0;32m      5\u001b[0m         \u001b[0mc\u001b[0m \u001b[1;33m=\u001b[0m \u001b[0mtype\u001b[0m\u001b[1;33m(\u001b[0m\u001b[0mi\u001b[0m\u001b[1;33m)\u001b[0m\u001b[1;33m\u001b[0m\u001b[0m\n\u001b[0;32m      6\u001b[0m         \u001b[1;32mif\u001b[0m \u001b[0mc\u001b[0m \u001b[1;32min\u001b[0m \u001b[0mcounts\u001b[0m\u001b[1;33m:\u001b[0m\u001b[1;33m\u001b[0m\u001b[0m\n",
      "\u001b[1;31mTypeError\u001b[0m: 'function' object is not iterable"
     ]
    }
   ],
   "source": [
    "example_input = [\n",
    "    True, \n",
    "    5, \n",
    "    23.234, \n",
    "    3.55, \n",
    "    \"This is not a test\", \n",
    "    {\"steve\": \"jobs\"}, \n",
    "    (5, 23, 55), \n",
    "    max([1, 0, 1, 1]), \n",
    "    abs(-234), \n",
    "    (5 + 3.01), \n",
    "    \"\",\n",
    "    None,\n",
    "    [5] * 20,\n",
    "    \"343434\",\n",
    "    \"5\" + \"aaaaaa2\",\n",
    "    55 % 3,\n",
    "    5^2\n",
    "]\n",
    "count_types(example_input)\n",
    "\n",
    "print(counts)"
   ]
  },
  {
   "cell_type": "markdown",
   "metadata": {},
   "source": [
    "## Optional Challenge 2 - Printing Max Type\n",
    "\n",
    "Given an list input of mixed element types (ie: *example_input*), print the most common type and count.  \n",
    "\n",
    "_If there are more than one common types, print both out._\n",
    "\n",
    "**Input:**\n",
    "\n",
    "    [5, \"Foo\", (2, 4, 5, 100), {\"fox\": \"mammal\"}, False, True, 2.987, \"Bar\"]\n",
    "    \n",
    "**Output:**\n",
    "\n",
    "    string: 2\n",
    "    boolean: 2\n",
    "    \n",
    "    # String and boolean have the greatest count: 2"
   ]
  },
  {
   "cell_type": "code",
   "execution_count": 3,
   "metadata": {
    "collapsed": false
   },
   "outputs": [
    {
     "name": "stdout",
     "output_type": "stream",
     "text": [
      "Max type count is:  <type 'int'>  with a max count of:  5\n"
     ]
    }
   ],
   "source": [
    "## Solution here\n"
   ]
  },
  {
   "cell_type": "markdown",
   "metadata": {},
   "source": [
    "## Optional Challenge 3 - Intersection of Counts\n",
    "\n",
    "Given a 2 lists inputs with mixed element types (ie: _example_input_), print types that have the same counts from each list. \n",
    "\n",
    "_If there are more than one common types, print both out._\n",
    "\n",
    "**Input:**\n",
    "\n",
    "    Input 1:  [5, \"Foo\", (2, 4, 5, 100), {\"monkey\": \"mammal\"}, False, True, 2.987, \"Bar\", {\"snake\": \"reptile\"}]\n",
    "    Input 2:  [\"335\", False, True, \"Maybe\", 105.3, {\"colour\": \"blue\"}, {234: \"value\"}]\n",
    "    \n",
    "**Output:**\n",
    "\n",
    "    strings: 2\n",
    "    booleans: 2\n",
    "    dictionaries: 2\n",
    "    floats: 2\n",
    "    \n",
    "\n",
    "** Explanation **\n",
    "* The first input has 1 int, **1 float**, **2 strings**, 1 tuple, **2 dictionaries**, **2 booleans**.\n",
    "* The second input as **2 strings**, **2 booleans**, **1 float**, **2 dictionaries**.\n",
    "* The quantities that match are **strings, booleans, dictionaries,** and **floats**.\n",
    "    \n",
    " "
   ]
  },
  {
   "cell_type": "code",
   "execution_count": 4,
   "metadata": {
    "collapsed": true
   },
   "outputs": [],
   "source": [
    "## Reuse example_input\n",
    "def count_matching_quantities(input1, input2):    \n",
    "    pass"
   ]
  },
  {
   "cell_type": "code",
   "execution_count": 5,
   "metadata": {
    "collapsed": false
   },
   "outputs": [
    {
     "name": "stdout",
     "output_type": "stream",
     "text": [
      "bool: 1\n",
      "dict: 1\n"
     ]
    }
   ],
   "source": [
    "# Same as previously\n",
    "example_input1 = [\n",
    "    True, \n",
    "    5, \n",
    "    23.234, \n",
    "    3.55, \n",
    "    \"This is not a test\", \n",
    "    {\"steve\": \"jobs\"}, \n",
    "    (5, 23, 55), \n",
    "    max([1, 0, 1, 1]), \n",
    "    abs(-234), \n",
    "    (5 + 3.01), \n",
    "    \"\",\n",
    "    None,\n",
    "    [5] * 20,\n",
    "    \"343434\",\n",
    "    \"5\" + \"aaaaaa2\",\n",
    "    55 % 3,\n",
    "    5^2\n",
    "]\n",
    "\n",
    "example_input2 = [\n",
    "    \"335\", \n",
    "    False, \n",
    "    \"Maybe\", \n",
    "    105.3, \n",
    "    {\"colour\": \"blue\"}, \n",
    "    4,\n",
    "    12345\n",
    "]\n",
    "\n",
    "count_matching_quantities(example_input1, example_input2)"
   ]
  },
  {
   "cell_type": "code",
   "execution_count": 6,
   "metadata": {
    "collapsed": false
   },
   "outputs": [
    {
     "name": "stdout",
     "output_type": "stream",
     "text": [
      "str: 2\n",
      "float: 1\n",
      "bool: 2\n",
      "dict: 2\n"
     ]
    }
   ],
   "source": [
    "i1=[5, \"Foo\", (2, 4, 5, 100), {\"monkey\": \"mammal\"}, False, True, 2.987, \"Bar\", {\"snake\": \"reptile\"}]\n",
    "i2=[\"335\", False, True, \"Maybe\", 105.3, {\"colour\": \"blue\"}, {234: \"value\"}]\n",
    "\n",
    "count_matching_quantities(i1, i2)"
   ]
  },
  {
   "cell_type": "code",
   "execution_count": null,
   "metadata": {
    "collapsed": true
   },
   "outputs": [],
   "source": []
  }
 ],
 "metadata": {
  "kernelspec": {
   "display_name": "Python [Root]",
   "language": "python",
   "name": "Python [Root]"
  },
  "language_info": {
   "codemirror_mode": {
    "name": "ipython",
    "version": 3
   },
   "file_extension": ".py",
   "mimetype": "text/x-python",
   "name": "python",
   "nbconvert_exporter": "python",
   "pygments_lexer": "ipython3",
   "version": "3.5.2"
  }
 },
 "nbformat": 4,
 "nbformat_minor": 0
}
