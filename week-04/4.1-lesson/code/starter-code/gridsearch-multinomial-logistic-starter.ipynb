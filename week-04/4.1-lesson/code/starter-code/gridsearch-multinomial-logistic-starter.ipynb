{
 "cells": [
  {
   "cell_type": "code",
<<<<<<< HEAD
   "execution_count": null,
=======
   "execution_count": 3,
>>>>>>> origin/master
   "metadata": {
    "collapsed": true
   },
   "outputs": [],
   "source": [
    "import numpy as np\n",
    "import pandas as pd\n",
    "import patsy\n",
    "\n",
    "from sklearn.metrics import classification_report, confusion_matrix, accuracy_score\n",
    "from sklearn.cross_validation import train_test_split\n",
    "from sklearn.linear_model import LogisticRegression, LogisticRegressionCV\n",
    "from sklearn.grid_search import GridSearchCV\n",
    "%matplotlib inline"
   ]
  },
  {
   "cell_type": "code",
<<<<<<< HEAD
   "execution_count": 22,
=======
   "execution_count": 4,
>>>>>>> origin/master
   "metadata": {
    "collapsed": false
   },
   "outputs": [],
   "source": [
    "# prep data, covert date to datetime, split for train and test, and build model\n",
    "sf_crime = pd.read_csv('../../assets/datasets/sf_crime_train.csv')\n",
    "\n",
    "sf_crime = sf_crime.dropna()\n",
    "\n",
    "sf_crime['Dates'] = pd.to_datetime(sf_crime.Dates)\n",
    "sf_crime_dates = pd.DatetimeIndex(sf_crime.Dates.values, dtype='datetime64[ns]', freq=None)\n",
    "\n",
    "sf_crime['hour'] = sf_crime_dates.hour\n",
    "sf_crime['month'] = sf_crime_dates.month\n",
    "sf_crime['year'] = sf_crime_dates.year"
   ]
  },
  {
   "cell_type": "code",
<<<<<<< HEAD
   "execution_count": 25,
   "metadata": {
    "collapsed": false
   },
   "outputs": [
    {
     "data": {
      "text/plain": [
       "<bound method Series.head of 0               WARRANTS\n",
       "1         OTHER OFFENSES\n",
       "2         OTHER OFFENSES\n",
       "3          LARCENY/THEFT\n",
       "4          LARCENY/THEFT\n",
       "5          LARCENY/THEFT\n",
       "6          VEHICLE THEFT\n",
       "7          VEHICLE THEFT\n",
       "8          LARCENY/THEFT\n",
       "9          LARCENY/THEFT\n",
       "10         LARCENY/THEFT\n",
       "11        OTHER OFFENSES\n",
       "12             VANDALISM\n",
       "13         LARCENY/THEFT\n",
       "14          NON-CRIMINAL\n",
       "15          NON-CRIMINAL\n",
       "16               ROBBERY\n",
       "17               ASSAULT\n",
       "18        OTHER OFFENSES\n",
       "19          NON-CRIMINAL\n",
       "20         LARCENY/THEFT\n",
       "21               ROBBERY\n",
       "22              WARRANTS\n",
       "23          NON-CRIMINAL\n",
       "24         LARCENY/THEFT\n",
       "25          NON-CRIMINAL\n",
       "26         LARCENY/THEFT\n",
       "27         LARCENY/THEFT\n",
       "28         LARCENY/THEFT\n",
       "29        OTHER OFFENSES\n",
       "              ...       \n",
       "17970          VANDALISM\n",
       "17971      LARCENY/THEFT\n",
       "17972      VEHICLE THEFT\n",
       "17973            ROBBERY\n",
       "17974     OTHER OFFENSES\n",
       "17975      LARCENY/THEFT\n",
       "17976     SUSPICIOUS OCC\n",
       "17977     OTHER OFFENSES\n",
       "17978      LARCENY/THEFT\n",
       "17979      LARCENY/THEFT\n",
       "17980          VANDALISM\n",
       "17981    SECONDARY CODES\n",
       "17982            ASSAULT\n",
       "17983     OTHER OFFENSES\n",
       "17984            ASSAULT\n",
       "17985       NON-CRIMINAL\n",
       "17986      LARCENY/THEFT\n",
       "17987            ASSAULT\n",
       "17988          VANDALISM\n",
       "17989            ROBBERY\n",
       "17990     OTHER OFFENSES\n",
       "17991      LARCENY/THEFT\n",
       "17992      LARCENY/THEFT\n",
       "17993      LARCENY/THEFT\n",
       "17994      LARCENY/THEFT\n",
       "17995       NON-CRIMINAL\n",
       "17996            ROBBERY\n",
       "17997     SUSPICIOUS OCC\n",
       "17998           BURGLARY\n",
       "17999      VEHICLE THEFT\n",
       "Name: Category, dtype: object>"
      ]
     },
     "execution_count": 25,
     "metadata": {},
     "output_type": "execute_result"
    }
   ],
   "source": [
    "cat_df = sf_crime.Category\n",
    "cat_df.head"
   ]
  },
  {
   "cell_type": "code",
   "execution_count": 26,
=======
   "execution_count": 8,
>>>>>>> origin/master
   "metadata": {
    "collapsed": false
   },
   "outputs": [
    {
     "data": {
      "text/html": [
       "<div>\n",
       "<table border=\"1\" class=\"dataframe\">\n",
       "  <thead>\n",
       "    <tr style=\"text-align: right;\">\n",
       "      <th></th>\n",
       "      <th>Dates</th>\n",
       "      <th>Category</th>\n",
       "      <th>Descript</th>\n",
       "      <th>DayOfWeek</th>\n",
       "      <th>PdDistrict</th>\n",
       "      <th>Resolution</th>\n",
       "      <th>Address</th>\n",
       "      <th>X</th>\n",
       "      <th>Y</th>\n",
       "      <th>hour</th>\n",
       "      <th>month</th>\n",
       "      <th>year</th>\n",
       "    </tr>\n",
       "  </thead>\n",
       "  <tbody>\n",
       "    <tr>\n",
       "      <th>0</th>\n",
       "      <td>2015-05-13 23:53:00</td>\n",
       "      <td>WARRANTS</td>\n",
       "      <td>WARRANT ARREST</td>\n",
       "      <td>Wednesday</td>\n",
       "      <td>NORTHERN</td>\n",
       "      <td>ARREST, BOOKED</td>\n",
       "      <td>OAK ST / LAGUNA ST</td>\n",
       "      <td>-122.425892</td>\n",
       "      <td>37.774599</td>\n",
       "      <td>23</td>\n",
       "      <td>5</td>\n",
       "      <td>2015</td>\n",
       "    </tr>\n",
       "    <tr>\n",
       "      <th>1</th>\n",
       "      <td>2015-05-13 23:53:00</td>\n",
       "      <td>OTHER OFFENSES</td>\n",
       "      <td>TRAFFIC VIOLATION ARREST</td>\n",
       "      <td>Wednesday</td>\n",
       "      <td>NORTHERN</td>\n",
       "      <td>ARREST, BOOKED</td>\n",
       "      <td>OAK ST / LAGUNA ST</td>\n",
       "      <td>-122.425892</td>\n",
       "      <td>37.774599</td>\n",
       "      <td>23</td>\n",
       "      <td>5</td>\n",
       "      <td>2015</td>\n",
       "    </tr>\n",
       "    <tr>\n",
       "      <th>2</th>\n",
       "      <td>2015-05-13 23:33:00</td>\n",
       "      <td>OTHER OFFENSES</td>\n",
       "      <td>TRAFFIC VIOLATION ARREST</td>\n",
       "      <td>Wednesday</td>\n",
       "      <td>NORTHERN</td>\n",
       "      <td>ARREST, BOOKED</td>\n",
       "      <td>VANNESS AV / GREENWICH ST</td>\n",
       "      <td>-122.424363</td>\n",
       "      <td>37.800414</td>\n",
       "      <td>23</td>\n",
       "      <td>5</td>\n",
       "      <td>2015</td>\n",
       "    </tr>\n",
       "    <tr>\n",
       "      <th>3</th>\n",
       "      <td>2015-05-13 23:30:00</td>\n",
       "      <td>LARCENY/THEFT</td>\n",
       "      <td>GRAND THEFT FROM LOCKED AUTO</td>\n",
       "      <td>Wednesday</td>\n",
       "      <td>NORTHERN</td>\n",
       "      <td>NONE</td>\n",
       "      <td>1500 Block of LOMBARD ST</td>\n",
       "      <td>-122.426995</td>\n",
       "      <td>37.800873</td>\n",
       "      <td>23</td>\n",
       "      <td>5</td>\n",
       "      <td>2015</td>\n",
       "    </tr>\n",
       "    <tr>\n",
       "      <th>4</th>\n",
       "      <td>2015-05-13 23:30:00</td>\n",
       "      <td>LARCENY/THEFT</td>\n",
       "      <td>GRAND THEFT FROM LOCKED AUTO</td>\n",
       "      <td>Wednesday</td>\n",
       "      <td>PARK</td>\n",
       "      <td>NONE</td>\n",
       "      <td>100 Block of BRODERICK ST</td>\n",
       "      <td>-122.438738</td>\n",
       "      <td>37.771541</td>\n",
       "      <td>23</td>\n",
       "      <td>5</td>\n",
       "      <td>2015</td>\n",
       "    </tr>\n",
       "  </tbody>\n",
       "</table>\n",
       "</div>"
      ],
      "text/plain": [
       "                Dates        Category                      Descript  \\\n",
       "0 2015-05-13 23:53:00        WARRANTS                WARRANT ARREST   \n",
       "1 2015-05-13 23:53:00  OTHER OFFENSES      TRAFFIC VIOLATION ARREST   \n",
       "2 2015-05-13 23:33:00  OTHER OFFENSES      TRAFFIC VIOLATION ARREST   \n",
       "3 2015-05-13 23:30:00   LARCENY/THEFT  GRAND THEFT FROM LOCKED AUTO   \n",
       "4 2015-05-13 23:30:00   LARCENY/THEFT  GRAND THEFT FROM LOCKED AUTO   \n",
       "\n",
       "   DayOfWeek PdDistrict      Resolution                    Address  \\\n",
       "0  Wednesday   NORTHERN  ARREST, BOOKED         OAK ST / LAGUNA ST   \n",
       "1  Wednesday   NORTHERN  ARREST, BOOKED         OAK ST / LAGUNA ST   \n",
       "2  Wednesday   NORTHERN  ARREST, BOOKED  VANNESS AV / GREENWICH ST   \n",
       "3  Wednesday   NORTHERN            NONE   1500 Block of LOMBARD ST   \n",
       "4  Wednesday       PARK            NONE  100 Block of BRODERICK ST   \n",
       "\n",
       "            X          Y  hour  month  year  \n",
       "0 -122.425892  37.774599    23      5  2015  \n",
       "1 -122.425892  37.774599    23      5  2015  \n",
       "2 -122.424363  37.800414    23      5  2015  \n",
       "3 -122.426995  37.800873    23      5  2015  \n",
       "4 -122.438738  37.771541    23      5  2015  "
      ]
     },
<<<<<<< HEAD
     "execution_count": 26,
=======
     "execution_count": 8,
>>>>>>> origin/master
     "metadata": {},
     "output_type": "execute_result"
    }
   ],
   "source": [
    "sf_crime.head()"
   ]
  },
  {
   "cell_type": "code",
   "execution_count": 9,
   "metadata": {
    "collapsed": true
   },
   "outputs": [],
   "source": [
    "subset = ['VEHICLE THEFT','BURGLARY','DRUG/NARCOTIC']\n",
    "sf_crime_sub = sf_crime[sf_crime['Category'].str.contains('|'.join(subset))]\n",
    "\n",
    "#sf_sample = sf_crime_sub.sample(frac=0.50)\n",
    "\n",
    "X = patsy.dmatrix('~ C(hour) + C(DayOfWeek) + C(PdDistrict)', sf_crime_sub)\n",
    "Y = sf_crime_sub.Category.values\n",
    "\n",
    "# split for train and test\n",
    "X_train, X_test, Y_train, Y_test = train_test_split(X, Y, test_size=0.33, stratify=Y, random_state=77)"
   ]
  },
  {
   "cell_type": "code",
   "execution_count": 13,
   "metadata": {
    "collapsed": false
   },
   "outputs": [
    {
     "data": {
      "text/html": [
       "<div>\n",
       "<table border=\"1\" class=\"dataframe\">\n",
       "  <thead>\n",
       "    <tr style=\"text-align: right;\">\n",
       "      <th></th>\n",
       "      <th>Dates</th>\n",
       "      <th>Category</th>\n",
       "      <th>Descript</th>\n",
       "      <th>DayOfWeek</th>\n",
       "      <th>PdDistrict</th>\n",
       "      <th>Resolution</th>\n",
       "      <th>Address</th>\n",
       "      <th>X</th>\n",
       "      <th>Y</th>\n",
       "      <th>hour</th>\n",
       "      <th>month</th>\n",
       "      <th>year</th>\n",
       "    </tr>\n",
       "  </thead>\n",
       "  <tbody>\n",
       "    <tr>\n",
       "      <th>6</th>\n",
       "      <td>2015-05-13 23:30:00</td>\n",
       "      <td>VEHICLE THEFT</td>\n",
       "      <td>STOLEN AUTOMOBILE</td>\n",
       "      <td>Wednesday</td>\n",
       "      <td>INGLESIDE</td>\n",
       "      <td>NONE</td>\n",
       "      <td>AVALON AV / PERU AV</td>\n",
       "      <td>-122.423327</td>\n",
       "      <td>37.725138</td>\n",
       "      <td>23</td>\n",
       "      <td>5</td>\n",
       "      <td>2015</td>\n",
       "    </tr>\n",
       "    <tr>\n",
       "      <th>7</th>\n",
       "      <td>2015-05-13 23:30:00</td>\n",
       "      <td>VEHICLE THEFT</td>\n",
       "      <td>STOLEN AUTOMOBILE</td>\n",
       "      <td>Wednesday</td>\n",
       "      <td>BAYVIEW</td>\n",
       "      <td>NONE</td>\n",
       "      <td>KIRKWOOD AV / DONAHUE ST</td>\n",
       "      <td>-122.371274</td>\n",
       "      <td>37.727564</td>\n",
       "      <td>23</td>\n",
       "      <td>5</td>\n",
       "      <td>2015</td>\n",
       "    </tr>\n",
       "    <tr>\n",
       "      <th>46</th>\n",
       "      <td>2015-05-13 20:00:00</td>\n",
       "      <td>VEHICLE THEFT</td>\n",
       "      <td>STOLEN MOTORCYCLE</td>\n",
       "      <td>Wednesday</td>\n",
       "      <td>INGLESIDE</td>\n",
       "      <td>NONE</td>\n",
       "      <td>0 Block of CRESCENT AV</td>\n",
       "      <td>-122.423702</td>\n",
       "      <td>37.735233</td>\n",
       "      <td>20</td>\n",
       "      <td>5</td>\n",
       "      <td>2015</td>\n",
       "    </tr>\n",
       "    <tr>\n",
       "      <th>49</th>\n",
       "      <td>2015-05-13 19:52:00</td>\n",
       "      <td>BURGLARY</td>\n",
       "      <td>BURGLARY, VEHICLE (ARREST MADE)</td>\n",
       "      <td>Wednesday</td>\n",
       "      <td>PARK</td>\n",
       "      <td>ARREST, BOOKED</td>\n",
       "      <td>1500 Block of HAIGHT ST</td>\n",
       "      <td>-122.447761</td>\n",
       "      <td>37.769846</td>\n",
       "      <td>19</td>\n",
       "      <td>5</td>\n",
       "      <td>2015</td>\n",
       "    </tr>\n",
       "    <tr>\n",
       "      <th>59</th>\n",
       "      <td>2015-05-13 19:28:00</td>\n",
       "      <td>VEHICLE THEFT</td>\n",
       "      <td>STOLEN AND RECOVERED VEHICLE</td>\n",
       "      <td>Wednesday</td>\n",
       "      <td>CENTRAL</td>\n",
       "      <td>NONE</td>\n",
       "      <td>0 Block of SANSOME ST</td>\n",
       "      <td>-122.400720</td>\n",
       "      <td>37.790712</td>\n",
       "      <td>19</td>\n",
       "      <td>5</td>\n",
       "      <td>2015</td>\n",
       "    </tr>\n",
       "  </tbody>\n",
       "</table>\n",
       "</div>"
      ],
      "text/plain": [
       "                 Dates       Category                         Descript  \\\n",
       "6  2015-05-13 23:30:00  VEHICLE THEFT                STOLEN AUTOMOBILE   \n",
       "7  2015-05-13 23:30:00  VEHICLE THEFT                STOLEN AUTOMOBILE   \n",
       "46 2015-05-13 20:00:00  VEHICLE THEFT                STOLEN MOTORCYCLE   \n",
       "49 2015-05-13 19:52:00       BURGLARY  BURGLARY, VEHICLE (ARREST MADE)   \n",
       "59 2015-05-13 19:28:00  VEHICLE THEFT     STOLEN AND RECOVERED VEHICLE   \n",
       "\n",
       "    DayOfWeek PdDistrict      Resolution                   Address  \\\n",
       "6   Wednesday  INGLESIDE            NONE       AVALON AV / PERU AV   \n",
       "7   Wednesday    BAYVIEW            NONE  KIRKWOOD AV / DONAHUE ST   \n",
       "46  Wednesday  INGLESIDE            NONE    0 Block of CRESCENT AV   \n",
       "49  Wednesday       PARK  ARREST, BOOKED   1500 Block of HAIGHT ST   \n",
       "59  Wednesday    CENTRAL            NONE     0 Block of SANSOME ST   \n",
       "\n",
       "             X          Y  hour  month  year  \n",
       "6  -122.423327  37.725138    23      5  2015  \n",
       "7  -122.371274  37.727564    23      5  2015  \n",
       "46 -122.423702  37.735233    20      5  2015  \n",
       "49 -122.447761  37.769846    19      5  2015  \n",
       "59 -122.400720  37.790712    19      5  2015  "
      ]
     },
     "execution_count": 13,
     "metadata": {},
     "output_type": "execute_result"
    }
   ],
   "source": [
    "sf_crime_sub.head()"
   ]
  },
  {
   "cell_type": "code",
   "execution_count": 10,
   "metadata": {
    "collapsed": false
   },
   "outputs": [],
   "source": [
    "# fit model with five folds and lasso regularization\n",
    "clf = LogisticRegressionCV(Cs = 15, cv=5, solver = 'liblinear',penalty = 'l1')#declare our model penalty declares lasso \n",
    "#l2 would be   #liblinear is \n",
    "clf.fit(X_train, Y_train)\n",
    "# use Cs=15 to test a grid of 15 distinct parameters\n",
    "# remeber: Cs describes the inverse of regularization strength\n",
    "logreg_cv = LogisticRegressionCV(solver='liblinear') # update inputs here\n"
   ]
  },
  {
   "cell_type": "code",
   "execution_count": 11,
   "metadata": {
    "collapsed": false
   },
   "outputs": [
    {
     "name": "stdout",
     "output_type": "stream",
     "text": [
      "best C for class:\n",
      "{'BURGLARY': 1.0, 'VEHICLE THEFT': 3.7275937203149381, 'DRUG/NARCOTIC': 1.0}\n"
     ]
    }
   ],
   "source": [
    "# find best C per class\n",
    "print('best C for class:')\n",
    "best_C = {clf.classes_[i]:x for i, (x, c) in enumerate(zip(clf.C_, clf.classes_))}\n",
    "print(best_C)"
   ]
  },
  {
   "cell_type": "code",
   "execution_count": 14,
   "metadata": {
    "collapsed": false
   },
   "outputs": [
    {
     "data": {
      "text/plain": [
       "LogisticRegression(C=1.0, class_weight=None, dual=False, fit_intercept=True,\n",
       "          intercept_scaling=1, max_iter=100, multi_class='ovr', n_jobs=1,\n",
       "          penalty='l1', random_state=None, solver='liblinear', tol=0.0001,\n",
       "          verbose=0, warm_start=False)"
      ]
     },
     "execution_count": 14,
     "metadata": {},
     "output_type": "execute_result"
    }
   ],
   "source": [
    "# fit regular logit model to 'DRUG/NARCOTIC' and 'BURGLARY' classes\n",
    "# use lasso penalty\n",
    "logreg_1 = LogisticRegression(C= 1.0, penalty = 'l1', solver = 'liblinear')\n",
    "logreg_1.fit(X_train, Y_train)"
   ]
  },
  {
   "cell_type": "code",
   "execution_count": 15,
   "metadata": {
    "collapsed": false
   },
   "outputs": [
    {
     "data": {
      "text/plain": [
       "LogisticRegression(C=1.0, class_weight=None, dual=False, fit_intercept=True,\n",
       "          intercept_scaling=1, max_iter=100, multi_class='ovr', n_jobs=1,\n",
       "          penalty='l1', random_state=None, solver='liblinear', tol=0.0001,\n",
       "          verbose=0, warm_start=False)"
      ]
     },
     "execution_count": 15,
     "metadata": {},
     "output_type": "execute_result"
    }
   ],
   "source": [
    "logreg_2 = LogisticRegression(C= 1.0, penalty = 'l1', solver = 'liblinear')\n",
    "logreg_2.fit(X_train, Y_train)"
   ]
  },
  {
   "cell_type": "code",
   "execution_count": 16,
   "metadata": {
    "collapsed": false
   },
   "outputs": [],
   "source": [
    "# build confusion matrices for the models above\n",
    "Y_1_pred = logreg_1.predict(X_train)\n",
    "Y_2_pred = logreg_2.predict(X_train)\n",
    "\n",
    "conmat_1 = confusion_matrix(Y_train, Y_1_pred, labels=logreg_1.classes_)\n",
    "conmat_1 = pd.DataFrame(conmat_1, columns=logreg_1.classes_, index=logreg_1.classes_)\n",
    "\n",
    "conmat_2 = confusion_matrix(Y_train, Y_2_pred, labels=logreg_2.classes_)\n",
    "conmat_2 = pd.DataFrame(conmat_2, columns=logreg_2.classes_, index=logreg_2.classes_)\n"
   ]
  },
  {
   "cell_type": "code",
   "execution_count": 17,
   "metadata": {
    "collapsed": false
   },
   "outputs": [
    {
     "data": {
      "text/html": [
       "<div>\n",
       "<table border=\"1\" class=\"dataframe\">\n",
       "  <thead>\n",
       "    <tr style=\"text-align: right;\">\n",
       "      <th></th>\n",
       "      <th>BURGLARY</th>\n",
       "      <th>DRUG/NARCOTIC</th>\n",
       "      <th>VEHICLE THEFT</th>\n",
       "    </tr>\n",
       "  </thead>\n",
       "  <tbody>\n",
       "    <tr>\n",
       "      <th>BURGLARY</th>\n",
       "      <td>217</td>\n",
       "      <td>22</td>\n",
       "      <td>251</td>\n",
       "    </tr>\n",
       "    <tr>\n",
       "      <th>DRUG/NARCOTIC</th>\n",
       "      <td>92</td>\n",
       "      <td>98</td>\n",
       "      <td>142</td>\n",
       "    </tr>\n",
       "    <tr>\n",
       "      <th>VEHICLE THEFT</th>\n",
       "      <td>121</td>\n",
       "      <td>20</td>\n",
       "      <td>507</td>\n",
       "    </tr>\n",
       "  </tbody>\n",
       "</table>\n",
       "</div>"
      ],
      "text/plain": [
       "               BURGLARY  DRUG/NARCOTIC  VEHICLE THEFT\n",
       "BURGLARY            217             22            251\n",
       "DRUG/NARCOTIC        92             98            142\n",
       "VEHICLE THEFT       121             20            507"
      ]
     },
     "execution_count": 17,
     "metadata": {},
     "output_type": "execute_result"
    }
   ],
   "source": [
    "# print classification reports\n",
    "conmat_1  # rows are true values columns are predicted  217 correct burgulary, 22 wrong "
   ]
  },
  {
   "cell_type": "code",
   "execution_count": 19,
   "metadata": {
    "collapsed": false
   },
   "outputs": [
    {
     "name": "stdout",
     "output_type": "stream",
     "text": [
      "             precision    recall  f1-score   support\n",
      "\n",
      "   BURGLARY       0.50      0.44      0.47       490\n",
      "DRUG/NARCOTIC       0.70      0.30      0.42       332\n",
      "VEHICLE THEFT       0.56      0.78      0.66       648\n",
      "\n",
      "avg / total       0.57      0.56      0.54      1470\n",
      "\n"
     ]
    }
   ],
   "source": [
    "#print classification report\n",
    "print(classification_report(Y_train, Y_1_pred))"
   ]
  },
  {
   "cell_type": "code",
   "execution_count": 18,
   "metadata": {
    "collapsed": false
   },
   "outputs": [
    {
     "data": {
      "text/html": [
       "<div>\n",
       "<table border=\"1\" class=\"dataframe\">\n",
       "  <thead>\n",
       "    <tr style=\"text-align: right;\">\n",
       "      <th></th>\n",
       "      <th>BURGLARY</th>\n",
       "      <th>DRUG/NARCOTIC</th>\n",
       "      <th>VEHICLE THEFT</th>\n",
       "    </tr>\n",
       "  </thead>\n",
       "  <tbody>\n",
       "    <tr>\n",
       "      <th>BURGLARY</th>\n",
       "      <td>217</td>\n",
       "      <td>22</td>\n",
       "      <td>251</td>\n",
       "    </tr>\n",
       "    <tr>\n",
       "      <th>DRUG/NARCOTIC</th>\n",
       "      <td>92</td>\n",
       "      <td>98</td>\n",
       "      <td>142</td>\n",
       "    </tr>\n",
       "    <tr>\n",
       "      <th>VEHICLE THEFT</th>\n",
       "      <td>121</td>\n",
       "      <td>20</td>\n",
       "      <td>507</td>\n",
       "    </tr>\n",
       "  </tbody>\n",
       "</table>\n",
       "</div>"
      ],
      "text/plain": [
       "               BURGLARY  DRUG/NARCOTIC  VEHICLE THEFT\n",
       "BURGLARY            217             22            251\n",
       "DRUG/NARCOTIC        92             98            142\n",
       "VEHICLE THEFT       121             20            507"
      ]
     },
     "execution_count": 18,
     "metadata": {},
     "output_type": "execute_result"
    }
   ],
   "source": [
    "conmat_2"
   ]
  },
  {
   "cell_type": "code",
   "execution_count": 20,
   "metadata": {
    "collapsed": false
   },
   "outputs": [
    {
     "name": "stdout",
     "output_type": "stream",
     "text": [
      "             precision    recall  f1-score   support\n",
      "\n",
      "   BURGLARY       0.50      0.44      0.47       490\n",
      "DRUG/NARCOTIC       0.70      0.30      0.42       332\n",
      "VEHICLE THEFT       0.56      0.78      0.66       648\n",
      "\n",
      "avg / total       0.57      0.56      0.54      1470\n",
      "\n"
     ]
    }
   ],
   "source": [
    "#print classification report\n",
    "print(classification_report(Y_train, Y_2_pred))"
   ]
  },
  {
   "cell_type": "code",
   "execution_count": null,
   "metadata": {
    "collapsed": false
   },
   "outputs": [],
   "source": [
    "# run gridsearch using GridSearchCV and 5 folds\n",
    "# score on f1_macro; what does this metric tell us?\n",
    "logreg = LogisticRegression()\n",
    "C_vals = [0.0001, 0.001, 0.01, 0.1, 0.5, 0.75, 1.0, 2.5, 5.0, 10.0, 100.0, 1000.0]\n",
    "penalties = ['l1','l2']\n"
   ]
  },
  {
   "cell_type": "code",
   "execution_count": null,
   "metadata": {
    "collapsed": false
   },
   "outputs": [],
   "source": [
    "# find the best parameter\n"
   ]
  },
  {
   "cell_type": "code",
   "execution_count": null,
   "metadata": {
    "collapsed": false
   },
   "outputs": [],
   "source": [
    "# use this parameter to .fit, .predict, and print a classification_report for our X and Y\n"
   ]
  },
  {
   "cell_type": "code",
   "execution_count": 31,
   "metadata": {
    "collapsed": false
   },
   "outputs": [],
   "source": [
    "new_df = cat_df.value_counts()\n",
    "#cat_df = sf_crime.Category.value_counts()"
   ]
  },
  {
   "cell_type": "code",
   "execution_count": 46,
   "metadata": {
    "collapsed": false
   },
   "outputs": [
    {
     "data": {
      "text/plain": [
       "<matplotlib.axes._subplots.AxesSubplot at 0x11aaff490>"
      ]
     },
     "execution_count": 46,
     "metadata": {},
     "output_type": "execute_result"
    },
    {
     "data": {
      "image/png": "iVBORw0KGgoAAAANSUhEUgAAApIAAAMuCAYAAACq9+PcAAAABHNCSVQICAgIfAhkiAAAAAlwSFlz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\nzMxq4kDSzMzMzGry/wHnR27IygOZswAAAABJRU5ErkJggg==\n",
      "text/plain": [
       "<matplotlib.figure.Figure at 0x119ba1c10>"
      ]
     },
     "metadata": {},
     "output_type": "display_data"
    }
   ],
   "source": [
    "new_df.plot(kind = 'barh', figsize = (5,10))\n"
   ]
  },
  {
   "cell_type": "code",
   "execution_count": 47,
   "metadata": {
    "collapsed": true
   },
   "outputs": [],
   "source": [
    "subset = [\"ASSAULT\", \"VANDALISM\"]\n",
    "sf_crime_sub = sf_crime[sf_crime['Category'].str.contains('|'.join(subset))]\n",
    "X = patsy.dmatrix('~ C(hour) + C(DayOfWeek) + C (PdDistrict) + X + Y', sf_crime_sub)#quick way to do get dummies\n",
    "Y = sf_crime_sub.Category.values\n",
    "#split for train and test\n",
    "X_train, X_test, Y_train, Y_test = train_test_split(X, Y, test_size= 0.33, stratify=Y, random_state=5) \n",
    "#or use from sklearn.model_selection import StratifiedKFold to ensure stratification\n",
    "#stratify here keeps the ratio the same without doing a random split"
   ]
  },
  {
   "cell_type": "code",
   "execution_count": 48,
   "metadata": {
    "collapsed": false
   },
   "outputs": [
    {
     "data": {
      "text/plain": [
       "LogisticRegressionCV(Cs=10, class_weight=None, cv=5, dual=False,\n",
       "           fit_intercept=True, intercept_scaling=1.0, max_iter=100,\n",
       "           multi_class='ovr', n_jobs=1, penalty='l2', random_state=None,\n",
       "           refit=True, scoring='accuracy', solver='lbfgs', tol=0.0001,\n",
       "           verbose=0)"
      ]
     },
     "execution_count": 48,
     "metadata": {},
     "output_type": "execute_result"
    }
   ],
   "source": [
    "clf = LogisticRegressionCV(cv = 5, scoring = 'accuracy')\n",
    "clf.fit(X_train, Y_train)\n"
   ]
  },
  {
   "cell_type": "code",
   "execution_count": 49,
   "metadata": {
    "collapsed": false
   },
   "outputs": [
    {
     "data": {
      "text/html": [
       "<div>\n",
       "<table border=\"1\" class=\"dataframe\">\n",
       "  <thead>\n",
       "    <tr style=\"text-align: right;\">\n",
       "      <th></th>\n",
       "      <th>ASSAULT</th>\n",
       "      <th>VANDALISM</th>\n",
       "    </tr>\n",
       "  </thead>\n",
       "  <tbody>\n",
       "    <tr>\n",
       "      <th>ASSAULT</th>\n",
       "      <td>457</td>\n",
       "      <td>51</td>\n",
       "    </tr>\n",
       "    <tr>\n",
       "      <th>VANDALISM</th>\n",
       "      <td>235</td>\n",
       "      <td>54</td>\n",
       "    </tr>\n",
       "  </tbody>\n",
       "</table>\n",
       "</div>"
      ],
      "text/plain": [
       "           ASSAULT  VANDALISM\n",
       "ASSAULT        457         51\n",
       "VANDALISM      235         54"
      ]
     },
     "execution_count": 49,
     "metadata": {},
     "output_type": "execute_result"
    }
   ],
   "source": [
    "Ypred = clf.predict(X_test)\n",
    "\n",
    "conmat = confusion_matrix(Y_test, Ypred, labels=clf.classes_)\n",
    "pd.DataFrame(conmat, columns=clf.classes_, index=clf.classes_)"
   ]
  },
  {
   "cell_type": "code",
   "execution_count": 50,
   "metadata": {
    "collapsed": false
   },
   "outputs": [
    {
     "name": "stdout",
     "output_type": "stream",
     "text": [
      "             precision    recall  f1-score   support\n",
      "\n",
      "    ASSAULT       0.66      0.90      0.76       508\n",
      "  VANDALISM       0.51      0.19      0.27       289\n",
      "\n",
      "avg / total       0.61      0.64      0.58       797\n",
      "\n"
     ]
    }
   ],
   "source": [
    "print(classification_report(Y_test, Ypred))  precision"
   ]
  },
  {
   "cell_type": "code",
   "execution_count": 51,
   "metadata": {
    "collapsed": true
   },
   "outputs": [],
   "source": [
    "from sklearn import metrics\n",
    "y_score = clf.fit(X_train, Y_train).decision_function(X_test)\n",
    "fpr, tpr, thresholds = metrics.roc_curve(Y_test, y_score, pos_label = 'VANDALISM')"
   ]
  },
  {
   "cell_type": "code",
   "execution_count": 53,
   "metadata": {
    "collapsed": false
   },
   "outputs": [
    {
     "data": {
      "text/plain": [
       "array(['ASSAULT', 'VANDALISM', 'ASSAULT', 'ASSAULT', 'ASSAULT', 'ASSAULT',\n",
       "       'VANDALISM', 'ASSAULT', 'ASSAULT', 'ASSAULT', 'ASSAULT',\n",
       "       'VANDALISM', 'ASSAULT', 'ASSAULT', 'VANDALISM', 'ASSAULT',\n",
       "       'ASSAULT', 'ASSAULT', 'ASSAULT', 'ASSAULT', 'ASSAULT', 'VANDALISM',\n",
       "       'ASSAULT', 'ASSAULT', 'ASSAULT', 'ASSAULT', 'ASSAULT', 'ASSAULT',\n",
       "       'ASSAULT', 'ASSAULT', 'ASSAULT', 'ASSAULT', 'ASSAULT', 'ASSAULT',\n",
       "       'ASSAULT', 'ASSAULT', 'ASSAULT', 'ASSAULT', 'ASSAULT', 'ASSAULT',\n",
       "       'ASSAULT', 'ASSAULT', 'ASSAULT', 'ASSAULT', 'VANDALISM', 'ASSAULT',\n",
       "       'VANDALISM', 'ASSAULT', 'ASSAULT', 'ASSAULT', 'VANDALISM',\n",
       "       'ASSAULT', 'VANDALISM', 'ASSAULT', 'ASSAULT', 'ASSAULT', 'ASSAULT',\n",
       "       'ASSAULT', 'ASSAULT', 'VANDALISM', 'ASSAULT', 'VANDALISM',\n",
       "       'ASSAULT', 'ASSAULT', 'ASSAULT', 'ASSAULT', 'ASSAULT', 'ASSAULT',\n",
       "       'ASSAULT', 'ASSAULT', 'ASSAULT', 'ASSAULT', 'ASSAULT', 'VANDALISM',\n",
       "       'ASSAULT', 'VANDALISM', 'ASSAULT', 'ASSAULT', 'ASSAULT', 'ASSAULT',\n",
       "       'ASSAULT', 'ASSAULT', 'ASSAULT', 'ASSAULT', 'ASSAULT', 'ASSAULT',\n",
       "       'ASSAULT', 'ASSAULT', 'ASSAULT', 'ASSAULT', 'ASSAULT', 'ASSAULT',\n",
       "       'ASSAULT', 'ASSAULT', 'VANDALISM', 'VANDALISM', 'ASSAULT',\n",
       "       'ASSAULT', 'ASSAULT', 'VANDALISM', 'ASSAULT', 'ASSAULT', 'ASSAULT',\n",
       "       'VANDALISM', 'ASSAULT', 'VANDALISM', 'ASSAULT', 'ASSAULT',\n",
       "       'ASSAULT', 'ASSAULT', 'ASSAULT', 'ASSAULT', 'ASSAULT', 'ASSAULT',\n",
       "       'ASSAULT', 'ASSAULT', 'ASSAULT', 'ASSAULT', 'ASSAULT', 'ASSAULT',\n",
       "       'ASSAULT', 'ASSAULT', 'VANDALISM', 'ASSAULT', 'ASSAULT', 'ASSAULT',\n",
       "       'ASSAULT', 'ASSAULT', 'VANDALISM', 'ASSAULT', 'VANDALISM',\n",
       "       'ASSAULT', 'ASSAULT', 'ASSAULT', 'ASSAULT', 'ASSAULT', 'ASSAULT',\n",
       "       'ASSAULT', 'ASSAULT', 'ASSAULT', 'ASSAULT', 'ASSAULT', 'ASSAULT',\n",
       "       'ASSAULT', 'ASSAULT', 'ASSAULT', 'ASSAULT', 'VANDALISM', 'ASSAULT',\n",
       "       'ASSAULT', 'ASSAULT', 'ASSAULT', 'ASSAULT', 'ASSAULT', 'ASSAULT',\n",
       "       'ASSAULT', 'ASSAULT', 'ASSAULT', 'VANDALISM', 'ASSAULT', 'ASSAULT',\n",
       "       'ASSAULT', 'ASSAULT', 'ASSAULT', 'ASSAULT', 'ASSAULT', 'ASSAULT',\n",
       "       'ASSAULT', 'ASSAULT', 'VANDALISM', 'ASSAULT', 'ASSAULT', 'ASSAULT',\n",
       "       'ASSAULT', 'ASSAULT', 'VANDALISM', 'ASSAULT', 'VANDALISM',\n",
       "       'ASSAULT', 'ASSAULT', 'VANDALISM', 'ASSAULT', 'VANDALISM',\n",
       "       'ASSAULT', 'ASSAULT', 'ASSAULT', 'ASSAULT', 'ASSAULT', 'ASSAULT',\n",
       "       'ASSAULT', 'ASSAULT', 'ASSAULT', 'ASSAULT', 'ASSAULT', 'ASSAULT',\n",
       "       'ASSAULT', 'ASSAULT', 'VANDALISM', 'ASSAULT', 'VANDALISM',\n",
       "       'ASSAULT', 'ASSAULT', 'VANDALISM', 'ASSAULT', 'ASSAULT', 'ASSAULT',\n",
       "       'ASSAULT', 'ASSAULT', 'ASSAULT', 'ASSAULT', 'ASSAULT', 'ASSAULT',\n",
       "       'ASSAULT', 'ASSAULT', 'ASSAULT', 'ASSAULT', 'ASSAULT', 'ASSAULT',\n",
       "       'ASSAULT', 'ASSAULT', 'ASSAULT', 'ASSAULT', 'ASSAULT', 'ASSAULT',\n",
       "       'ASSAULT', 'ASSAULT', 'ASSAULT', 'ASSAULT', 'VANDALISM', 'ASSAULT',\n",
       "       'ASSAULT', 'ASSAULT', 'ASSAULT', 'VANDALISM', 'VANDALISM',\n",
       "       'ASSAULT', 'ASSAULT', 'ASSAULT', 'ASSAULT', 'ASSAULT', 'ASSAULT',\n",
       "       'ASSAULT', 'ASSAULT', 'ASSAULT', 'ASSAULT', 'VANDALISM', 'ASSAULT',\n",
       "       'VANDALISM', 'ASSAULT', 'ASSAULT', 'ASSAULT', 'ASSAULT', 'ASSAULT',\n",
       "       'ASSAULT', 'VANDALISM', 'ASSAULT', 'ASSAULT', 'ASSAULT',\n",
       "       'VANDALISM', 'ASSAULT', 'ASSAULT', 'VANDALISM', 'ASSAULT',\n",
       "       'ASSAULT', 'ASSAULT', 'ASSAULT', 'ASSAULT', 'ASSAULT', 'ASSAULT',\n",
       "       'VANDALISM', 'ASSAULT', 'VANDALISM', 'ASSAULT', 'ASSAULT',\n",
       "       'ASSAULT', 'ASSAULT', 'ASSAULT', 'ASSAULT', 'ASSAULT', 'ASSAULT',\n",
       "       'ASSAULT', 'ASSAULT', 'ASSAULT', 'ASSAULT', 'ASSAULT', 'ASSAULT',\n",
       "       'ASSAULT', 'ASSAULT', 'VANDALISM', 'ASSAULT', 'ASSAULT', 'ASSAULT',\n",
       "       'ASSAULT', 'ASSAULT', 'ASSAULT', 'ASSAULT', 'VANDALISM', 'ASSAULT',\n",
       "       'ASSAULT', 'ASSAULT', 'ASSAULT', 'VANDALISM', 'ASSAULT', 'ASSAULT',\n",
       "       'ASSAULT', 'ASSAULT', 'ASSAULT', 'ASSAULT', 'VANDALISM', 'ASSAULT',\n",
       "       'ASSAULT', 'ASSAULT', 'ASSAULT', 'ASSAULT', 'ASSAULT', 'ASSAULT',\n",
       "       'ASSAULT', 'ASSAULT', 'ASSAULT', 'ASSAULT', 'VANDALISM', 'ASSAULT',\n",
       "       'ASSAULT', 'ASSAULT', 'ASSAULT', 'VANDALISM', 'ASSAULT', 'ASSAULT',\n",
       "       'ASSAULT', 'ASSAULT', 'VANDALISM', 'ASSAULT', 'VANDALISM',\n",
       "       'ASSAULT', 'ASSAULT', 'ASSAULT', 'VANDALISM', 'ASSAULT', 'ASSAULT',\n",
       "       'ASSAULT', 'ASSAULT', 'ASSAULT', 'ASSAULT', 'ASSAULT', 'ASSAULT',\n",
       "       'ASSAULT', 'ASSAULT', 'VANDALISM', 'ASSAULT', 'ASSAULT', 'ASSAULT',\n",
       "       'ASSAULT', 'VANDALISM', 'ASSAULT', 'ASSAULT', 'ASSAULT', 'ASSAULT',\n",
       "       'ASSAULT', 'ASSAULT', 'ASSAULT', 'ASSAULT', 'VANDALISM', 'ASSAULT',\n",
       "       'ASSAULT', 'ASSAULT', 'VANDALISM', 'ASSAULT', 'ASSAULT', 'ASSAULT',\n",
       "       'ASSAULT', 'ASSAULT', 'ASSAULT', 'ASSAULT', 'VANDALISM', 'ASSAULT',\n",
       "       'ASSAULT', 'ASSAULT', 'ASSAULT', 'ASSAULT', 'VANDALISM', 'ASSAULT',\n",
       "       'ASSAULT', 'ASSAULT', 'ASSAULT', 'ASSAULT', 'ASSAULT', 'VANDALISM',\n",
       "       'ASSAULT', 'ASSAULT', 'ASSAULT', 'VANDALISM', 'VANDALISM',\n",
       "       'ASSAULT', 'ASSAULT', 'ASSAULT', 'VANDALISM', 'ASSAULT', 'ASSAULT',\n",
       "       'ASSAULT', 'ASSAULT', 'ASSAULT', 'ASSAULT', 'ASSAULT', 'ASSAULT',\n",
       "       'ASSAULT', 'ASSAULT', 'ASSAULT', 'ASSAULT', 'ASSAULT', 'ASSAULT',\n",
       "       'ASSAULT', 'VANDALISM', 'ASSAULT', 'ASSAULT', 'ASSAULT',\n",
       "       'VANDALISM', 'ASSAULT', 'ASSAULT', 'ASSAULT', 'ASSAULT', 'ASSAULT',\n",
       "       'ASSAULT', 'ASSAULT', 'ASSAULT', 'ASSAULT', 'ASSAULT', 'ASSAULT',\n",
       "       'ASSAULT', 'ASSAULT', 'VANDALISM', 'ASSAULT', 'ASSAULT', 'ASSAULT',\n",
       "       'VANDALISM', 'VANDALISM', 'ASSAULT', 'ASSAULT', 'ASSAULT',\n",
       "       'ASSAULT', 'ASSAULT', 'ASSAULT', 'ASSAULT', 'ASSAULT', 'ASSAULT',\n",
       "       'ASSAULT', 'ASSAULT', 'ASSAULT', 'ASSAULT', 'ASSAULT', 'ASSAULT',\n",
       "       'ASSAULT', 'ASSAULT', 'ASSAULT', 'ASSAULT', 'ASSAULT', 'ASSAULT',\n",
       "       'ASSAULT', 'ASSAULT', 'ASSAULT', 'ASSAULT', 'ASSAULT', 'ASSAULT',\n",
       "       'ASSAULT', 'ASSAULT', 'ASSAULT', 'VANDALISM', 'ASSAULT', 'ASSAULT',\n",
       "       'ASSAULT', 'ASSAULT', 'ASSAULT', 'ASSAULT', 'ASSAULT', 'ASSAULT',\n",
       "       'ASSAULT', 'VANDALISM', 'ASSAULT', 'ASSAULT', 'ASSAULT', 'ASSAULT',\n",
       "       'ASSAULT', 'ASSAULT', 'ASSAULT', 'ASSAULT', 'ASSAULT', 'ASSAULT',\n",
       "       'ASSAULT', 'VANDALISM', 'VANDALISM', 'ASSAULT', 'ASSAULT',\n",
       "       'VANDALISM', 'ASSAULT', 'ASSAULT', 'ASSAULT', 'ASSAULT', 'ASSAULT',\n",
       "       'ASSAULT', 'ASSAULT', 'ASSAULT', 'ASSAULT', 'ASSAULT', 'ASSAULT',\n",
       "       'ASSAULT', 'ASSAULT', 'ASSAULT', 'ASSAULT', 'VANDALISM', 'ASSAULT',\n",
       "       'VANDALISM', 'ASSAULT', 'ASSAULT', 'ASSAULT', 'ASSAULT', 'ASSAULT',\n",
       "       'ASSAULT', 'ASSAULT', 'ASSAULT', 'ASSAULT', 'ASSAULT', 'ASSAULT',\n",
       "       'ASSAULT', 'ASSAULT', 'ASSAULT', 'ASSAULT', 'ASSAULT', 'ASSAULT',\n",
       "       'ASSAULT', 'ASSAULT', 'ASSAULT', 'ASSAULT', 'ASSAULT', 'ASSAULT',\n",
       "       'ASSAULT', 'ASSAULT', 'ASSAULT', 'VANDALISM', 'ASSAULT', 'ASSAULT',\n",
       "       'ASSAULT', 'ASSAULT', 'ASSAULT', 'ASSAULT', 'VANDALISM', 'ASSAULT',\n",
       "       'ASSAULT', 'ASSAULT', 'ASSAULT', 'ASSAULT', 'ASSAULT', 'ASSAULT',\n",
       "       'ASSAULT', 'ASSAULT', 'ASSAULT', 'ASSAULT', 'ASSAULT', 'ASSAULT',\n",
       "       'ASSAULT', 'ASSAULT', 'ASSAULT', 'ASSAULT', 'ASSAULT', 'ASSAULT',\n",
       "       'VANDALISM', 'ASSAULT', 'ASSAULT', 'ASSAULT', 'ASSAULT', 'ASSAULT',\n",
       "       'ASSAULT', 'ASSAULT', 'ASSAULT', 'ASSAULT', 'ASSAULT', 'ASSAULT',\n",
       "       'ASSAULT', 'ASSAULT', 'ASSAULT', 'ASSAULT', 'ASSAULT', 'ASSAULT',\n",
       "       'ASSAULT', 'ASSAULT', 'ASSAULT', 'ASSAULT', 'ASSAULT', 'ASSAULT',\n",
       "       'ASSAULT', 'ASSAULT', 'VANDALISM', 'ASSAULT', 'VANDALISM',\n",
       "       'ASSAULT', 'ASSAULT', 'ASSAULT', 'ASSAULT', 'VANDALISM', 'ASSAULT',\n",
       "       'ASSAULT', 'ASSAULT', 'ASSAULT', 'ASSAULT', 'ASSAULT', 'ASSAULT',\n",
       "       'ASSAULT', 'ASSAULT', 'ASSAULT', 'ASSAULT', 'ASSAULT', 'ASSAULT',\n",
       "       'VANDALISM', 'ASSAULT', 'ASSAULT', 'ASSAULT', 'ASSAULT',\n",
       "       'VANDALISM', 'ASSAULT', 'ASSAULT', 'ASSAULT', 'ASSAULT', 'ASSAULT',\n",
       "       'ASSAULT', 'ASSAULT', 'ASSAULT', 'ASSAULT', 'ASSAULT', 'ASSAULT',\n",
       "       'ASSAULT', 'ASSAULT', 'VANDALISM', 'ASSAULT', 'ASSAULT', 'ASSAULT',\n",
       "       'ASSAULT', 'ASSAULT', 'ASSAULT', 'ASSAULT', 'ASSAULT', 'ASSAULT',\n",
       "       'ASSAULT', 'VANDALISM', 'ASSAULT', 'ASSAULT', 'ASSAULT', 'ASSAULT',\n",
       "       'ASSAULT', 'ASSAULT', 'ASSAULT', 'ASSAULT', 'ASSAULT', 'ASSAULT',\n",
       "       'ASSAULT', 'ASSAULT', 'ASSAULT', 'ASSAULT', 'ASSAULT', 'VANDALISM',\n",
       "       'ASSAULT', 'ASSAULT', 'ASSAULT', 'ASSAULT', 'ASSAULT', 'ASSAULT',\n",
       "       'ASSAULT', 'VANDALISM', 'ASSAULT', 'VANDALISM', 'ASSAULT',\n",
       "       'ASSAULT', 'ASSAULT', 'ASSAULT', 'ASSAULT', 'ASSAULT', 'ASSAULT',\n",
       "       'ASSAULT', 'ASSAULT', 'ASSAULT', 'ASSAULT', 'ASSAULT', 'VANDALISM',\n",
       "       'ASSAULT', 'ASSAULT', 'ASSAULT', 'ASSAULT', 'ASSAULT', 'ASSAULT',\n",
       "       'VANDALISM', 'VANDALISM', 'ASSAULT', 'ASSAULT', 'ASSAULT',\n",
       "       'ASSAULT', 'ASSAULT', 'ASSAULT', 'VANDALISM', 'ASSAULT',\n",
       "       'VANDALISM', 'ASSAULT', 'ASSAULT', 'ASSAULT', 'ASSAULT', 'ASSAULT',\n",
       "       'ASSAULT', 'ASSAULT', 'ASSAULT', 'ASSAULT', 'ASSAULT', 'ASSAULT',\n",
       "       'ASSAULT', 'ASSAULT', 'ASSAULT', 'ASSAULT', 'ASSAULT', 'ASSAULT',\n",
       "       'ASSAULT', 'ASSAULT', 'ASSAULT', 'ASSAULT', 'ASSAULT', 'ASSAULT',\n",
       "       'ASSAULT', 'VANDALISM', 'ASSAULT', 'ASSAULT', 'ASSAULT', 'ASSAULT',\n",
       "       'ASSAULT', 'ASSAULT', 'ASSAULT', 'VANDALISM', 'ASSAULT', 'ASSAULT',\n",
       "       'ASSAULT', 'VANDALISM', 'VANDALISM', 'ASSAULT', 'ASSAULT',\n",
       "       'VANDALISM', 'ASSAULT', 'ASSAULT', 'ASSAULT', 'ASSAULT',\n",
       "       'VANDALISM', 'ASSAULT', 'ASSAULT', 'ASSAULT', 'VANDALISM',\n",
       "       'ASSAULT', 'ASSAULT', 'ASSAULT', 'ASSAULT', 'ASSAULT', 'ASSAULT',\n",
       "       'ASSAULT', 'ASSAULT', 'ASSAULT', 'ASSAULT', 'ASSAULT', 'ASSAULT',\n",
       "       'VANDALISM', 'VANDALISM', 'ASSAULT', 'ASSAULT', 'VANDALISM',\n",
       "       'ASSAULT', 'VANDALISM', 'ASSAULT', 'ASSAULT', 'ASSAULT', 'ASSAULT',\n",
       "       'ASSAULT', 'ASSAULT', 'ASSAULT', 'ASSAULT', 'ASSAULT', 'ASSAULT',\n",
       "       'ASSAULT', 'ASSAULT', 'ASSAULT', 'ASSAULT', 'VANDALISM',\n",
       "       'VANDALISM', 'ASSAULT', 'ASSAULT', 'ASSAULT', 'ASSAULT', 'ASSAULT',\n",
       "       'ASSAULT', 'VANDALISM', 'ASSAULT', 'VANDALISM', 'ASSAULT',\n",
       "       'ASSAULT', 'ASSAULT', 'ASSAULT', 'ASSAULT', 'ASSAULT'], dtype=object)"
      ]
     },
     "execution_count": 53,
     "metadata": {},
     "output_type": "execute_result"
    }
   ],
   "source": [
    "Ypred"
   ]
  },
  {
   "cell_type": "code",
   "execution_count": 52,
   "metadata": {
    "collapsed": false
   },
   "outputs": [
    {
     "data": {
      "text/plain": [
       "array([-0.67,  0.19, -1.13, -1.1 , -0.25, -1.28,  0.23, -0.54, -0.41,\n",
       "       -0.15, -1.33,  0.18, -0.75, -0.74,  0.31, -1.15, -0.69, -0.67,\n",
       "       -0.26, -0.56, -0.37,  0.22, -1.17, -0.34, -0.99, -1.27, -1.58,\n",
       "       -1.11, -0.22, -1.12, -1.53, -0.64, -1.31, -0.86, -0.18, -1.14,\n",
       "       -0.28, -0.45, -0.17, -1.02, -1.19, -0.45, -1.49, -0.15,  0.12,\n",
       "       -1.48,  0.06, -0.52, -0.28, -1.34,  0.02, -0.63,  0.09, -0.62,\n",
       "       -1.06, -0.95, -0.66, -1.14, -0.36,  0.  , -1.64,  0.37, -0.56,\n",
       "       -0.66, -0.86, -1.1 , -0.85, -0.84, -1.1 , -0.34, -0.39, -1.65,\n",
       "       -0.6 ,  0.05, -0.86,  0.02, -0.7 , -0.19, -0.47, -0.33, -1.04,\n",
       "       -0.79, -0.56, -0.05, -1.85, -0.17, -1.71, -1.53, -0.88, -0.18,\n",
       "       -0.58, -0.73, -1.  , -0.65,  0.07,  0.21, -0.26, -0.19, -0.69,\n",
       "        0.01, -0.63, -1.96, -1.04,  0.07, -1.14,  0.11, -0.26, -1.01,\n",
       "       -0.83, -0.49, -0.61, -0.04, -1.08, -0.19, -0.9 , -0.49, -0.9 ,\n",
       "       -0.26, -0.37, -0.98, -0.37, -0.61,  0.25, -1.74, -0.16, -1.01,\n",
       "       -0.32, -0.5 ,  0.06, -0.72,  0.25, -0.15, -0.81, -0.28, -1.33,\n",
       "       -1.96, -0.57, -0.82, -0.05, -1.01, -1.04, -0.19, -0.55, -0.12,\n",
       "       -1.44, -0.96, -0.85,  0.14, -1.04, -1.49, -0.6 , -0.87, -0.94,\n",
       "       -0.37, -0.36, -1.21, -0.39, -0.3 ,  0.1 , -0.69, -1.29, -0.57,\n",
       "       -0.19, -1.05, -0.28, -0.42, -0.68, -0.24, -0.32,  0.25, -0.86,\n",
       "       -0.13, -1.48, -0.18, -0.76,  0.39, -0.24,  0.01, -0.35, -1.62,\n",
       "        0.26, -0.88,  0.24, -0.04, -1.49, -0.01, -0.49, -0.05, -0.55,\n",
       "       -0.55, -0.36, -1.44, -0.72, -0.25, -1.4 , -0.7 , -0.6 ,  0.06,\n",
       "       -0.51,  0.04, -1.15, -0.02,  0.04, -0.9 , -0.65, -0.33, -0.37,\n",
       "       -0.9 , -0.75, -0.94, -0.59, -0.76, -0.8 , -0.04, -0.1 , -1.25,\n",
       "       -1.58, -0.51, -0.18, -0.18, -0.23, -0.77, -0.6 , -0.9 , -0.01,\n",
       "       -1.03, -0.72, -0.95,  0.03, -0.63, -0.36, -0.24, -0.14,  0.07,\n",
       "        0.07, -0.8 , -1.8 , -0.75, -0.52, -1.14, -1.03, -0.98, -1.01,\n",
       "       -0.32, -0.45,  0.21, -0.26,  0.08, -0.45, -1.45, -1.62, -0.06,\n",
       "       -0.57, -0.38,  0.47, -0.67, -1.13, -0.8 ,  0.36, -1.76, -0.71,\n",
       "        0.12, -0.12, -0.96, -0.19, -1.12, -1.3 , -1.54, -1.35,  0.08,\n",
       "       -0.67,  0.49, -1.33, -1.05, -0.45, -0.7 , -0.98, -0.78, -0.21,\n",
       "       -1.1 , -1.73, -1.22, -1.16, -0.38, -1.13, -0.05, -0.28, -0.08,\n",
       "        0.04, -1.18, -0.19, -1.47, -0.16, -0.15, -1.24, -0.9 ,  0.06,\n",
       "       -1.71, -0.42, -1.58, -0.45,  0.16, -0.55, -1.45, -0.82, -1.06,\n",
       "       -0.38, -0.92,  0.72, -0.14, -1.64, -0.25, -1.64, -0.6 , -1.04,\n",
       "       -0.11, -1.85, -1.09, -1.65, -0.49,  0.06, -0.9 , -0.25, -1.14,\n",
       "       -0.62,  0.32, -0.81, -0.18, -0.55, -0.08,  0.04, -0.37,  0.14,\n",
       "       -1.27, -0.73, -0.25,  0.03, -0.84, -0.85, -1.47, -0.38, -1.12,\n",
       "       -0.37, -0.68, -0.04, -0.97, -0.75,  0.19, -0.36, -0.18, -0.81,\n",
       "       -0.46,  0.  , -0.61, -0.25, -0.91, -0.91, -0.43, -0.  , -1.81,\n",
       "       -1.74,  0.3 , -1.14, -0.46, -0.4 ,  0.05, -0.03, -1.76, -1.88,\n",
       "       -0.11, -0.32, -0.43, -0.87,  0.38, -0.28, -0.87, -0.15, -1.24,\n",
       "       -0.63,  0.07, -0.67, -0.3 , -1.11, -0.92, -1.32, -0.25,  0.04,\n",
       "       -1.35, -1.97, -1.89,  0.13,  0.03, -1.28, -0.32, -1.87,  0.06,\n",
       "       -0.51, -0.16, -1.04, -0.75, -0.75, -1.31, -0.76, -0.41, -1.1 ,\n",
       "       -0.23, -0.93, -0.18, -0.38, -0.34, -0.35,  0.24, -0.88, -0.13,\n",
       "       -0.75,  0.07, -0.35, -1.09, -0.97, -1.01, -0.67, -0.45, -0.23,\n",
       "       -0.17, -0.51, -0.35, -0.48, -0.68, -0.6 ,  0.07, -1.06, -0.28,\n",
       "       -1.26,  0.32,  0.11, -0.03, -0.54, -1.01, -1.06, -0.84, -0.48,\n",
       "       -0.94, -0.82, -1.37, -0.73, -1.59, -0.62, -1.4 , -0.61, -0.68,\n",
       "       -0.72, -0.96, -0.23, -0.42, -0.58, -1.31, -1.2 , -0.78, -0.06,\n",
       "       -1.03, -1.54, -0.96, -1.29, -0.31, -1.14,  0.24, -0.28, -0.5 ,\n",
       "       -0.19, -1.16, -0.95, -0.32, -0.26, -0.75, -1.23,  0.53, -0.11,\n",
       "       -0.74, -0.75, -0.81, -0.88, -0.11, -1.38, -1.2 , -0.28, -0.94,\n",
       "       -0.9 ,  0.58,  0.12, -0.62, -0.77,  0.19, -0.67, -0.42, -0.14,\n",
       "       -0.16, -0.44, -0.35, -0.71, -0.37, -0.25, -0.69, -0.1 , -0.12,\n",
       "       -1.07, -1.4 , -0.99,  0.59, -1.01,  0.  , -0.18, -1.33, -0.66,\n",
       "       -0.41, -0.48, -1.05, -1.11, -0.04, -0.37, -1.11, -0.38, -0.45,\n",
       "       -0.45, -0.98, -1.24, -0.42, -0.38, -1.05, -0.57, -0.96, -0.43,\n",
       "       -0.28, -0.44, -0.8 , -1.56, -0.54,  0.07, -0.42, -0.81, -0.38,\n",
       "       -0.63, -0.33, -0.15,  0.09, -0.46, -0.92, -0.08, -0.42, -0.43,\n",
       "       -0.5 , -0.69, -0.77, -1.08, -0.37, -0.25, -0.54, -1.24, -0.75,\n",
       "       -0.06, -0.28, -0.32, -0.45, -1.95,  0.59, -0.67, -0.67, -0.15,\n",
       "       -0.37, -0.87, -1.44, -1.58, -2.06, -0.07, -1.28, -0.43, -0.18,\n",
       "       -1.72, -0.68, -0.09, -0.38, -0.35, -1.56, -0.25, -0.69, -0.44,\n",
       "       -0.87, -1.08, -0.5 , -0.32,  0.28, -0.38,  0.09, -0.71, -1.27,\n",
       "       -0.42, -1.29,  0.21, -1.  , -1.95, -0.66, -0.21, -0.59, -1.15,\n",
       "       -0.89, -0.52, -1.25, -0.88, -1.03, -1.25, -0.85,  0.04, -0.98,\n",
       "       -0.16, -0.26, -0.8 ,  0.24, -1.11, -1.26, -1.73, -1.03, -0.  ,\n",
       "       -0.06, -0.46, -0.63, -0.69, -1.44, -1.2 , -0.99, -0.3 ,  0.37,\n",
       "       -1.31, -1.17, -0.66, -1.31, -0.21, -0.9 , -0.57, -0.45, -0.64,\n",
       "       -0.89,  0.49, -0.72, -1.48, -0.57, -1.44, -1.73, -0.23, -1.01,\n",
       "       -0.61, -1.53, -0.72, -0.65, -0.59, -0.72, -0.03, -1.25,  0.21,\n",
       "       -1.2 , -0.15, -0.43, -0.36, -1.03, -0.04, -0.41,  0.54, -0.37,\n",
       "        0.45, -0.91, -1.24, -1.02, -0.42, -0.95, -1.3 , -0.02, -1.34,\n",
       "       -0.36, -0.99, -0.66, -1.71,  0.32, -0.46, -1.65, -1.42, -2.03,\n",
       "       -1.04, -1.1 ,  0.09,  0.32, -0.44, -0.86, -1.34, -1.8 , -0.76,\n",
       "       -0.65,  0.15, -0.94,  0.19, -0.6 , -0.61, -0.03, -0.88, -0.15,\n",
       "       -0.68, -0.77, -0.98, -1.14, -1.01, -0.92, -0.93, -0.51, -0.25,\n",
       "       -0.19, -1.23, -1.33, -0.24, -0.57, -0.63, -0.36, -0.68, -0.4 ,\n",
       "       -2.15,  0.54, -0.89, -0.93, -0.82, -0.4 , -1.04, -0.46, -0.02,\n",
       "        0.21, -0.8 , -1.34, -0.6 ,  0.25,  0.19, -0.37, -1.51,  0.21,\n",
       "       -0.89, -1.24, -0.28, -0.87,  0.18, -1.1 , -0.96, -1.1 ,  0.47,\n",
       "       -0.61, -0.18, -0.16, -0.7 , -1.72, -0.88, -0.19, -0.64, -0.51,\n",
       "       -1.45, -0.2 , -0.33,  0.36,  0.05, -0.55, -0.1 ,  0.23, -0.52,\n",
       "        0.22, -0.9 , -1.1 , -1.13, -0.97, -0.19, -1.32, -0.29, -0.57,\n",
       "       -0.33, -0.09, -0.11, -0.2 , -0.62, -0.18,  0.53,  0.07, -1.14,\n",
       "       -0.14, -0.41, -0.72, -1.28, -0.07,  0.25, -0.8 ,  0.36, -0.21,\n",
       "       -0.91, -0.02, -0.25, -1.09, -0.78])"
      ]
     },
     "execution_count": 52,
     "metadata": {},
     "output_type": "execute_result"
    }
   ],
   "source": [
    "np.round(y_score, 2) #produces the log "
   ]
  },
  {
   "cell_type": "code",
   "execution_count": 57,
   "metadata": {
    "collapsed": false
   },
   "outputs": [
    {
     "data": {
      "image/png": "iVBORw0KGgoAAAANSUhEUgAAAisAAAGQCAYAAABvSyADAAAABHNCSVQICAgIfAhkiAAAAAlwSFlz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\nEASl5v8BnL6Kn9CGgLIAAAAASUVORK5CYII=\n",
      "text/plain": [
       "<matplotlib.figure.Figure at 0x11b162590>"
      ]
     },
     "metadata": {},
     "output_type": "display_data"
    }
   ],
   "source": [
    "import matplotlib.pyplot as plt\n",
    "plt.plot(fpr,tpr)\n",
    "plt.xlim([0.0, 1.0])\n",
    "plt.ylim([0.0, 1.0])\n",
    "plt.rcParams['font.size'] = 12\n",
    "plt.title('ROC curve')\n",
    "plt.xlabel('FPR (1 - Specificity)')\n",
    "plt.ylabel('TPR (Sensitivity)')\n",
    "plt.grid(True)"
   ]
  },
  {
   "cell_type": "code",
   "execution_count": 58,
   "metadata": {
    "collapsed": true
   },
   "outputs": [],
   "source": [
    "def evaluate_threshold(threshold):  #changing the probability\n",
    "    print(\"TPR:\", tpr[thresholds > threshold][-1])\n",
    "    print('FPR:', fpr[thresholds > threshold][-1])"
   ]
  },
  {
   "cell_type": "code",
   "execution_count": 61,
   "metadata": {
    "collapsed": false
   },
   "outputs": [
    {
     "name": "stdout",
     "output_type": "stream",
     "text": [
      "Threshold: -2.14973912147\n",
      "('TPR:', 1.0)\n",
      "('FPR:', 0.99212598425196852)\n",
      "\n",
      "Threshold: -1.64973912147\n",
      "('TPR:', 0.98615916955017302)\n",
      "('FPR:', 0.95078740157480313)\n",
      "\n",
      "Threshold: -1.14973912147\n",
      "('TPR:', 0.88581314878892736)\n",
      "('FPR:', 0.80905511811023623)\n",
      "\n",
      "Threshold: -0.649739121475\n",
      "('TPR:', 0.63321799307958482)\n",
      "('FPR:', 0.47047244094488189)\n",
      "\n",
      "Threshold: -0.149739121475\n",
      "('TPR:', 0.2837370242214533)\n",
      "('FPR:', 0.14763779527559054)\n",
      "\n",
      "Threshold: 0.350260878525\n",
      "('TPR:', 0.034602076124567477)\n",
      "('FPR:', 0.01968503937007874)\n",
      "\n",
      "Threshold: 0.850260878525\n",
      "('TPR:', 0.0)\n",
      "('FPR:', 0.0)\n",
      "\n",
      "Threshold: 1.35026087853\n",
      "('TPR:', 0.0)\n",
      "('FPR:', 0.0)\n",
      "\n"
     ]
    }
   ],
   "source": [
    "import numpy as np\n",
    "for i in np.arange(min(thresholds),max(thresholds),0.5): #arange allows you to use a float (ex. 0.5)\n",
    "    print('Threshold:'),i\n",
    "    evaluate_threshold(i)\n",
    "    print            #model .predict to manipulate the below values"
   ]
  },
  {
   "cell_type": "code",
   "execution_count": null,
   "metadata": {
    "collapsed": true
   },
   "outputs": [],
   "source": []
  }
 ],
 "metadata": {
  "anaconda-cloud": {},
  "kernelspec": {
   "display_name": "Python [default]",
   "language": "python",
   "name": "python2"
  },
  "language_info": {
   "codemirror_mode": {
    "name": "ipython",
    "version": 2
   },
   "file_extension": ".py",
   "mimetype": "text/x-python",
   "name": "python",
   "nbconvert_exporter": "python",
   "pygments_lexer": "ipython2",
   "version": "2.7.12"
  }
 },
 "nbformat": 4,
 "nbformat_minor": 0
}
