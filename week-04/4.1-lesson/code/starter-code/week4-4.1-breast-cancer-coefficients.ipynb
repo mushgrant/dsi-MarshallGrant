{
 "cells": [
  {
   "cell_type": "code",
   "execution_count": 1,
   "metadata": {
    "collapsed": false
   },
   "outputs": [
    {
     "data": {
      "text/plain": [
       "array([[ 1.        ,  0.32378189,  0.99785528,  0.98735717,  0.17058119,\n",
       "         0.50612358,  0.67676355,  0.82252852,  0.14774124, -0.31163083],\n",
       "       [ 0.32378189,  1.        ,  0.32953306,  0.3210857 , -0.02338852,\n",
       "         0.23670222,  0.30241783,  0.29346405,  0.07140098, -0.07643718],\n",
       "       [ 0.99785528,  0.32953306,  1.        ,  0.9865068 ,  0.20727816,\n",
       "         0.55693621,  0.71613565,  0.85097704,  0.18302721, -0.26147691],\n",
       "       [ 0.98735717,  0.3210857 ,  0.9865068 ,  1.        ,  0.17702838,\n",
       "         0.49850168,  0.68598283,  0.82326887,  0.15129308, -0.28310981],\n",
       "       [ 0.17058119, -0.02338852,  0.20727816,  0.17702838,  1.        ,\n",
       "         0.65912322,  0.52198377,  0.55369517,  0.55777479,  0.584792  ],\n",
       "       [ 0.50612358,  0.23670222,  0.55693621,  0.49850168,  0.65912322,\n",
       "         1.        ,  0.88312067,  0.83113504,  0.60264105,  0.56536866],\n",
       "       [ 0.67676355,  0.30241783,  0.71613565,  0.68598283,  0.52198377,\n",
       "         0.88312067,  1.        ,  0.92139103,  0.50066662,  0.33678336],\n",
       "       [ 0.82252852,  0.29346405,  0.85097704,  0.82326887,  0.55369517,\n",
       "         0.83113504,  0.92139103,  1.        ,  0.46249739,  0.16691738],\n",
       "       [ 0.14774124,  0.07140098,  0.18302721,  0.15129308,  0.55777479,\n",
       "         0.60264105,  0.50066662,  0.46249739,  1.        ,  0.47992133],\n",
       "       [-0.31163083, -0.07643718, -0.26147691, -0.28310981,  0.584792  ,\n",
       "         0.56536866,  0.33678336,  0.16691738,  0.47992133,  1.        ]])"
      ]
     },
     "execution_count": 1,
     "metadata": {},
     "output_type": "execute_result"
    }
   ],
   "source": [
    "import numpy as np\n",
    "import pandas as pd\n",
    "\n",
    "#Read in Breast Cancer Dataset\n",
    "df = pd.read_csv(\"https://archive.ics.uci.edu/ml/machine-learning-databases/breast-cancer-wisconsin/wdbc.data\", header=None)\n",
    "\n",
    "#Obtain the first 10 features, which are the mean figures in the dataset\n",
    "data_df   = df[list(df.columns[2:12])]\n",
    "target_df = df[1]\n",
    "\n",
    "#Convert DataFrame to Numpy Array\n",
    "data = data_df.as_matrix(columns=None)\n",
    "\n",
    "#Perform Pearson correlation coefficients using Numpy\n",
    "feature_correlation_matrix = np.corrcoef(data.T)\n",
    "feature_correlation_matrix"
   ]
  },
  {
   "cell_type": "code",
   "execution_count": 2,
   "metadata": {
    "collapsed": false
   },
   "outputs": [
    {
     "data": {
      "text/plain": [
       "<matplotlib.axes._subplots.AxesSubplot at 0x1133664d0>"
      ]
     },
     "execution_count": 2,
     "metadata": {},
     "output_type": "execute_result"
    },
    {
     "data": {
      "image/png": "[encoded data removed]",
      "text/plain": [
       "<matplotlib.figure.Figure at 0x113347d50>"
      ]
     },
     "metadata": {},
     "output_type": "display_data"
    }
   ],
   "source": [
    "import seaborn as sb\n",
    "%matplotlib inline \n",
    "\n",
    "sb.heatmap(feature_correlation_matrix)"
   ]
  },
  {
   "cell_type": "code",
   "execution_count": 3,
   "metadata": {
    "collapsed": false
   },
   "outputs": [
    {
     "ename": "AttributeError",
     "evalue": "'module' object has no attribute 'corrplot'",
     "output_type": "error",
     "traceback": [
      "\u001b[0;31m---------------------------------------------------------------------------\u001b[0m",
      "\u001b[0;31mAttributeError\u001b[0m                            Traceback (most recent call last)",
      "\u001b[0;32m<ipython-input-3-0fc82c43b781>\u001b[0m in \u001b[0;36m<module>\u001b[0;34m()\u001b[0m\n\u001b[0;32m----> 1\u001b[0;31m \u001b[0msb\u001b[0m\u001b[0;34m.\u001b[0m\u001b[0mcorrplot\u001b[0m\u001b[0;34m(\u001b[0m\u001b[0mdata\u001b[0m\u001b[0;34m)\u001b[0m\u001b[0;34m\u001b[0m\u001b[0m\n\u001b[0m",
      "\u001b[0;31mAttributeError\u001b[0m: 'module' object has no attribute 'corrplot'"
     ]
    }
   ],
   "source": [
    "sb.corrplot(data)"
   ]
  },
  {
   "cell_type": "code",
   "execution_count": 4,
   "metadata": {
    "collapsed": false
   },
   "outputs": [
    {
     "name": "stdout",
     "output_type": "stream",
     "text": [
      "Object `sb.corrplot` not found.\n"
     ]
    }
   ],
   "source": [
    "sb.corrplot?"
   ]
  },
  {
   "cell_type": "code",
   "execution_count": null,
   "metadata": {
    "collapsed": true
   },
   "outputs": [],
   "source": []
  }
 ],
 "metadata": {
  "kernelspec": {
   "display_name": "Python [default]",
   "language": "python",
   "name": "python2"
  },
  "language_info": {
   "codemirror_mode": {
    "name": "ipython",
    "version": 2
   },
   "file_extension": ".py",
   "mimetype": "text/x-python",
   "name": "python",
   "nbconvert_exporter": "python",
   "pygments_lexer": "ipython2",
   "version": "2.7.12"
  }
 },
 "nbformat": 4,
 "nbformat_minor": 0
}
