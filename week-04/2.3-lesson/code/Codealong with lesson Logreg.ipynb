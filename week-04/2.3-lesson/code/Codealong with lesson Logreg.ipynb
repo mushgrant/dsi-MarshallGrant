{
 "cells": [
  {
   "cell_type": "code",
   "execution_count": 2,
   "metadata": {
    "collapsed": true
   },
   "outputs": [],
   "source": [
    "from sklearn.linear_model import LogisticRegression\n",
    "import numpy as np"
   ]
  },
  {
   "cell_type": "code",
   "execution_count": 3,
   "metadata": {
    "collapsed": true
   },
   "outputs": [],
   "source": [
    "X = np.random.randn(100,3)\n",
    "Y = np.random.binomial(1, 0.5, 100)"
   ]
  },
  {
   "cell_type": "code",
   "execution_count": 4,
   "metadata": {
    "collapsed": false
   },
   "outputs": [
    {
     "data": {
      "text/plain": [
       "LogisticRegression(C=1.0, class_weight=None, dual=False, fit_intercept=True,\n",
       "          intercept_scaling=1, max_iter=100, multi_class='ovr', n_jobs=1,\n",
       "          penalty='l2', random_state=None, solver='liblinear', tol=0.0001,\n",
       "          verbose=0, warm_start=False)"
      ]
     },
     "execution_count": 4,
     "metadata": {},
     "output_type": "execute_result"
    }
   ],
   "source": [
    "logreg = LogisticRegression()\n",
    "logreg.fit(X,Y)\n"
   ]
  },
  {
   "cell_type": "code",
   "execution_count": 5,
   "metadata": {
    "collapsed": false
   },
   "outputs": [
    {
     "data": {
      "text/plain": [
       "array([[ 0.47854605,  0.17808018,  0.27841558]])"
      ]
     },
     "execution_count": 5,
     "metadata": {},
     "output_type": "execute_result"
    }
   ],
   "source": [
    "logreg.coef_"
   ]
  },
  {
   "cell_type": "code",
   "execution_count": 15,
   "metadata": {
    "collapsed": false
   },
   "outputs": [],
   "source": [
    "X_new = np.random.randn(100, 3)\n"
   ]
  },
  {
   "cell_type": "code",
   "execution_count": 16,
   "metadata": {
    "collapsed": false
   },
   "outputs": [
    {
     "data": {
      "text/plain": [
       "array([0, 0, 1, 1, 0, 1, 0, 0, 1, 1, 0, 0, 1, 1, 1, 0, 1, 1, 1, 1, 0, 0, 0,\n",
       "       1, 1, 1, 1, 0, 0, 1, 0, 1, 1, 0, 1, 1, 0, 0, 1, 0, 0, 1, 1, 0, 1, 1,\n",
       "       1, 1, 0, 0, 0, 1, 1, 1, 1, 0, 0, 1, 1, 0, 0, 0, 0, 1, 1, 0, 1, 0, 0,\n",
       "       0, 1, 0, 1, 0, 0, 0, 0, 0, 1, 1, 1, 1, 1, 0, 1, 1, 0, 0, 1, 1, 1, 1,\n",
       "       1, 0, 1, 1, 0, 0, 0, 1])"
      ]
     },
     "execution_count": 16,
     "metadata": {},
     "output_type": "execute_result"
    }
   ],
   "source": [
    "# predict class:\n",
    "y_pred = logreg.predict(X_new)\n",
    "y_pred"
   ]
  },
  {
   "cell_type": "code",
   "execution_count": 17,
   "metadata": {
    "collapsed": false
   },
   "outputs": [
    {
     "data": {
      "text/plain": [
       "array([[ 0.71925404,  0.28074596],\n",
       "       [ 0.81249848,  0.18750152],\n",
       "       [ 0.45359297,  0.54640703],\n",
       "       [ 0.10529859,  0.89470141],\n",
       "       [ 0.61172086,  0.38827914],\n",
       "       [ 0.33123926,  0.66876074],\n",
       "       [ 0.62391934,  0.37608066],\n",
       "       [ 0.91752317,  0.08247683],\n",
       "       [ 0.40460101,  0.59539899],\n",
       "       [ 0.48976691,  0.51023309],\n",
       "       [ 0.6297273 ,  0.3702727 ],\n",
       "       [ 0.70606095,  0.29393905],\n",
       "       [ 0.11576002,  0.88423998],\n",
       "       [ 0.28655314,  0.71344686],\n",
       "       [ 0.40945782,  0.59054218],\n",
       "       [ 0.50020657,  0.49979343],\n",
       "       [ 0.31163057,  0.68836943],\n",
       "       [ 0.42320657,  0.57679343],\n",
       "       [ 0.47674432,  0.52325568],\n",
       "       [ 0.16289149,  0.83710851],\n",
       "       [ 0.73920596,  0.26079404],\n",
       "       [ 0.54471371,  0.45528629],\n",
       "       [ 0.51133158,  0.48866842],\n",
       "       [ 0.36715623,  0.63284377],\n",
       "       [ 0.38059729,  0.61940271],\n",
       "       [ 0.4418763 ,  0.5581237 ],\n",
       "       [ 0.4550888 ,  0.5449112 ],\n",
       "       [ 0.84600272,  0.15399728],\n",
       "       [ 0.51197308,  0.48802692],\n",
       "       [ 0.15487193,  0.84512807],\n",
       "       [ 0.71527882,  0.28472118],\n",
       "       [ 0.29854726,  0.70145274],\n",
       "       [ 0.49109799,  0.50890201],\n",
       "       [ 0.84698279,  0.15301721],\n",
       "       [ 0.12389958,  0.87610042],\n",
       "       [ 0.15946303,  0.84053697],\n",
       "       [ 0.55850848,  0.44149152],\n",
       "       [ 0.78406482,  0.21593518],\n",
       "       [ 0.25546924,  0.74453076],\n",
       "       [ 0.69642604,  0.30357396],\n",
       "       [ 0.62180919,  0.37819081],\n",
       "       [ 0.1528572 ,  0.8471428 ],\n",
       "       [ 0.33810949,  0.66189051],\n",
       "       [ 0.69333677,  0.30666323],\n",
       "       [ 0.4109815 ,  0.5890185 ],\n",
       "       [ 0.43406716,  0.56593284],\n",
       "       [ 0.09465443,  0.90534557],\n",
       "       [ 0.17083311,  0.82916689],\n",
       "       [ 0.58048687,  0.41951313],\n",
       "       [ 0.5627531 ,  0.4372469 ],\n",
       "       [ 0.62642624,  0.37357376],\n",
       "       [ 0.20207052,  0.79792948],\n",
       "       [ 0.20715298,  0.79284702],\n",
       "       [ 0.30091554,  0.69908446],\n",
       "       [ 0.44014714,  0.55985286],\n",
       "       [ 0.50575404,  0.49424596],\n",
       "       [ 0.80086925,  0.19913075],\n",
       "       [ 0.41138299,  0.58861701],\n",
       "       [ 0.37392933,  0.62607067],\n",
       "       [ 0.55736691,  0.44263309],\n",
       "       [ 0.54280683,  0.45719317],\n",
       "       [ 0.60496761,  0.39503239],\n",
       "       [ 0.52414438,  0.47585562],\n",
       "       [ 0.45719123,  0.54280877],\n",
       "       [ 0.25405192,  0.74594808],\n",
       "       [ 0.53516073,  0.46483927],\n",
       "       [ 0.21986178,  0.78013822],\n",
       "       [ 0.83309093,  0.16690907],\n",
       "       [ 0.61298291,  0.38701709],\n",
       "       [ 0.84911553,  0.15088447],\n",
       "       [ 0.24260733,  0.75739267],\n",
       "       [ 0.76552672,  0.23447328],\n",
       "       [ 0.16580913,  0.83419087],\n",
       "       [ 0.83208274,  0.16791726],\n",
       "       [ 0.63816639,  0.36183361],\n",
       "       [ 0.61120178,  0.38879822],\n",
       "       [ 0.55405715,  0.44594285],\n",
       "       [ 0.54267838,  0.45732162],\n",
       "       [ 0.48759324,  0.51240676],\n",
       "       [ 0.28335946,  0.71664054],\n",
       "       [ 0.49430074,  0.50569926],\n",
       "       [ 0.22717062,  0.77282938],\n",
       "       [ 0.23558441,  0.76441559],\n",
       "       [ 0.86444656,  0.13555344],\n",
       "       [ 0.3833683 ,  0.6166317 ],\n",
       "       [ 0.41926919,  0.58073081],\n",
       "       [ 0.66065953,  0.33934047],\n",
       "       [ 0.65375023,  0.34624977],\n",
       "       [ 0.15685867,  0.84314133],\n",
       "       [ 0.23826529,  0.76173471],\n",
       "       [ 0.36827674,  0.63172326],\n",
       "       [ 0.10015199,  0.89984801],\n",
       "       [ 0.37951664,  0.62048336],\n",
       "       [ 0.54539162,  0.45460838],\n",
       "       [ 0.45496925,  0.54503075],\n",
       "       [ 0.45883458,  0.54116542],\n",
       "       [ 0.61435806,  0.38564194],\n",
       "       [ 0.58283064,  0.41716936],\n",
       "       [ 0.62005839,  0.37994161],\n",
       "       [ 0.44987585,  0.55012415]])"
      ]
     },
     "execution_count": 17,
     "metadata": {},
     "output_type": "execute_result"
    }
   ],
   "source": [
    "# predicted probability:\n",
    "y_pp = logreg.predict_proba(X_new)\n",
    "y_pp"
   ]
  },
  {
   "cell_type": "code",
   "execution_count": 18,
   "metadata": {
    "collapsed": true
   },
   "outputs": [],
   "source": [
    "import numpy as np\n",
    "import pandas as pd\n",
    "from sklearn.cross_validation import train_test_split\n",
    "from sklearn.linear_model import LogisticRegression\n",
    "\n",
    "X_train, X_test, Y_train, Y_test = train_test_split(X,Y, test_size = 0.33)\n",
    "\n",
    "logreg = LogisticRegression()\n",
    "\n",
    "logreg.fit(X_train, Y_train)\n",
    "Y_pred = logreg.predict(X_test)"
   ]
  },
  {
   "cell_type": "code",
   "execution_count": 19,
   "metadata": {
    "collapsed": false
   },
   "outputs": [
    {
     "name": "stdout",
     "output_type": "stream",
     "text": [
      "[[ 9 10]\n",
      " [ 4 10]]\n"
     ]
    }
   ],
   "source": [
    "from sklearn.metrics import confusion_matrix\n",
    "\n",
    "confusion = np.array(confusion_matrix(Y_test, Y_pred))\n",
    "print confusion"
   ]
  },
  {
   "cell_type": "code",
   "execution_count": 20,
   "metadata": {
    "collapsed": true
   },
   "outputs": [],
   "source": [
    "# calculate true positives, the number of 1s correctly predicted to be 1\n",
    "TP = confusion[0,0]\n",
    "\n",
    "# calculate false positives, the number of 0s incorrectly predicted to be 1\n",
    "FP  = confusion[1,0]\n",
    "\n",
    "# calculate true negatives, the number of 0s correctly predicted to be 0\n",
    "TN = confusion[1,1]\n",
    "\n",
    "# calculate false negatives, the number of 1s incorrectly predicted to be 0\n",
    "FN = confusion[0,1]"
   ]
  },
  {
   "cell_type": "code",
   "execution_count": 21,
   "metadata": {
    "collapsed": true
   },
   "outputs": [],
   "source": [
    "from sklearn.metrics import accuracy_score\n",
    "acs = accuracy_score(Y_test , Y_pred)\n",
    "# This is equivalent to:\n",
    "acc = np.sum(Y_test == Y_pred)/len(Y_test)"
   ]
  },
  {
   "cell_type": "code",
   "execution_count": 23,
   "metadata": {
    "collapsed": false
   },
   "outputs": [
    {
     "data": {
      "text/plain": [
       "0"
      ]
     },
     "execution_count": 23,
     "metadata": {},
     "output_type": "execute_result"
    }
   ],
   "source": [
    "acc"
   ]
  },
  {
   "cell_type": "code",
   "execution_count": 26,
   "metadata": {
    "collapsed": false
   },
   "outputs": [
    {
     "name": "stdout",
     "output_type": "stream",
     "text": [
      "             precision    recall  f1-score   support\n",
      "\n",
      "          0       0.69      0.47      0.56        19\n",
      "          1       0.50      0.71      0.59        14\n",
      "\n",
      "avg / total       0.61      0.58      0.57        33\n",
      "\n"
     ]
    }
   ],
   "source": [
    "from sklearn.metrics import classification_report\n",
    "\n",
    "# Example printout:\n",
    "print(classification_report(Y_test, Y_pred))"
   ]
  },
  {
   "cell_type": "code",
   "execution_count": null,
   "metadata": {
    "collapsed": true
   },
   "outputs": [],
   "source": []
  }
 ],
 "metadata": {
  "kernelspec": {
   "display_name": "Python [default]",
   "language": "python",
   "name": "python2"
  },
  "language_info": {
   "codemirror_mode": {
    "name": "ipython",
    "version": 2
   },
   "file_extension": ".py",
   "mimetype": "text/x-python",
   "name": "python",
   "nbconvert_exporter": "python",
   "pygments_lexer": "ipython2",
   "version": "2.7.12"
  }
 },
 "nbformat": 4,
 "nbformat_minor": 0
}
