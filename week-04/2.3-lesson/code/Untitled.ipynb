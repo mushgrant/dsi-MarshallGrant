{
 "cells": [
  {
   "cell_type": "code",
   "execution_count": 34,
   "metadata": {
    "collapsed": true
   },
   "outputs": [],
   "source": [
    "from sklearn.linear_model import LogisticRegression\n",
    "import numpy as np"
   ]
  },
  {
   "cell_type": "code",
   "execution_count": 2,
   "metadata": {
    "collapsed": true
   },
   "outputs": [],
   "source": [
    "import numpy as np"
   ]
  },
  {
   "cell_type": "code",
   "execution_count": 35,
   "metadata": {
    "collapsed": false
   },
   "outputs": [],
   "source": [
    "X = np.random.randn(100, 3)"
   ]
  },
  {
   "cell_type": "code",
   "execution_count": 36,
   "metadata": {
    "collapsed": false
   },
   "outputs": [
    {
     "data": {
      "text/plain": [
       "array([[  1.08482972e+00,   2.87769602e-02,  -1.09812106e+00],\n",
       "       [ -7.91828747e-02,   7.87228618e-01,   4.35659496e-01],\n",
       "       [ -7.46022361e-01,  -1.23455680e+00,   1.21267589e+00],\n",
       "       [  2.02535469e-01,  -5.58896379e-01,  -6.62590045e-01],\n",
       "       [ -3.08435609e-01,   4.01339295e-01,   1.76554635e+00],\n",
       "       [ -3.74113550e-01,  -2.55573043e-01,   7.18118319e-01],\n",
       "       [  1.10839696e-02,   9.87262459e-01,  -1.27634348e+00],\n",
       "       [  1.05575091e+00,  -5.58397948e-01,   8.04144779e-01],\n",
       "       [  5.24895561e-01,   1.37972915e+00,  -5.02309653e-01],\n",
       "       [  1.96702689e+00,   3.45514575e-02,  -6.25251801e-01],\n",
       "       [  7.95020959e-01,  -3.59268000e-01,  -8.10579444e-01],\n",
       "       [  1.65480491e+00,  -8.18176822e-01,   1.88893084e+00],\n",
       "       [  7.38116913e-01,  -4.10191175e-01,  -7.68275224e-04],\n",
       "       [ -7.74810710e-01,  -9.02454484e-01,  -5.59165073e-01],\n",
       "       [ -4.72369088e-01,   1.44974338e-01,   5.66507991e-01],\n",
       "       [ -1.95434251e+00,   4.17130008e-01,   3.88628225e-01],\n",
       "       [  5.81819880e-01,  -1.45592984e+00,  -8.49883376e-01],\n",
       "       [  1.08024746e+00,  -3.83259840e-01,   1.38451979e+00],\n",
       "       [  1.17408496e-01,  -2.29991998e+00,   2.00887975e-01],\n",
       "       [  5.96713587e-01,  -1.13694128e+00,  -1.08679734e+00],\n",
       "       [  7.45166715e-01,   4.83172795e-01,  -1.01906489e+00],\n",
       "       [  6.72346649e-01,  -2.15125902e-02,   3.78870069e-01],\n",
       "       [  1.16699455e+00,   1.87323751e-01,   4.56446478e-01],\n",
       "       [  7.03721305e-02,  -1.42402569e-01,  -1.89650548e+00],\n",
       "       [ -8.99422043e-01,   6.84157810e-01,   4.01293364e-02],\n",
       "       [ -1.09994763e+00,  -2.57788085e-01,  -1.17732079e+00],\n",
       "       [ -2.56550193e-01,   1.33984375e-01,  -8.23170109e-01],\n",
       "       [ -7.17767915e-01,  -2.02681110e-01,   1.27039108e+00],\n",
       "       [ -4.44142026e-01,   1.41709326e+00,  -8.00376029e-01],\n",
       "       [  1.12112625e+00,  -4.84738539e-01,   1.57402152e+00],\n",
       "       [  7.17306870e-01,   1.67706717e+00,  -1.16214100e+00],\n",
       "       [  5.03867401e-01,  -2.56931935e-01,   1.63336827e+00],\n",
       "       [ -8.56213378e-01,  -1.64507221e+00,  -1.00565473e+00],\n",
       "       [ -2.24169741e+00,  -6.05998394e-01,  -1.19336754e+00],\n",
       "       [ -3.62290687e-01,   7.74160800e-01,  -2.26556978e-02],\n",
       "       [  7.47992928e-01,   1.02036596e+00,  -7.72263731e-01],\n",
       "       [  4.56214056e-02,  -7.82796504e-01,  -2.06749082e+00],\n",
       "       [ -6.16177907e-01,  -9.21177487e-01,   4.26365209e-01],\n",
       "       [  1.74419603e+00,  -2.58639034e-01,   1.10298282e+00],\n",
       "       [  1.73781693e-01,  -1.42717749e-01,   9.05464894e-02],\n",
       "       [  4.24887288e-01,   1.55615890e+00,   1.74316083e+00],\n",
       "       [  4.97643134e-01,   1.85856635e+00,   6.90582157e-02],\n",
       "       [  1.96020945e+00,   1.48692237e+00,   1.16301153e-01],\n",
       "       [ -7.45191080e-01,  -1.21976275e-01,   6.50226851e-01],\n",
       "       [  4.17518743e-01,   3.83514769e-01,  -1.67528492e-02],\n",
       "       [ -2.23175508e+00,  -3.97036732e-01,  -2.51794355e-01],\n",
       "       [  2.07140031e-01,   9.77049738e-01,   8.15454988e-01],\n",
       "       [ -1.46509168e+00,  -8.79795612e-01,   2.03256343e+00],\n",
       "       [  9.62180740e-01,  -1.36065367e+00,   1.54726401e+00],\n",
       "       [ -1.86630660e+00,   5.46052841e-01,   2.00857368e-01],\n",
       "       [  7.98922859e-03,   2.44359298e+00,  -2.00477901e-01],\n",
       "       [  1.48391860e-01,  -7.97600763e-01,   7.15227457e-01],\n",
       "       [  1.12989497e+00,   1.00892497e+00,  -1.23947131e+00],\n",
       "       [  7.58545906e-01,  -4.77686992e-02,   9.45342683e-01],\n",
       "       [  3.60207739e-01,   1.40252105e+00,   1.02444849e+00],\n",
       "       [  1.15320221e+00,   3.08998768e-01,   9.07604022e-01],\n",
       "       [  9.57326958e-02,  -1.31326620e+00,  -3.67342740e-01],\n",
       "       [  1.08796384e+00,   1.68302606e+00,   1.83323143e+00],\n",
       "       [  1.76801384e-01,  -1.33666881e-01,   3.01861091e+00],\n",
       "       [  2.22696635e-01,  -6.87662188e-01,  -9.25642542e-01],\n",
       "       [  4.83702965e-01,  -1.04895409e+00,  -9.54963804e-01],\n",
       "       [  2.26666610e+00,  -1.78384697e+00,  -7.80828838e-01],\n",
       "       [ -1.07351985e+00,   1.15742613e+00,  -1.08737713e+00],\n",
       "       [  2.98637084e-01,   1.97790633e+00,   7.54436955e-01],\n",
       "       [  1.06980198e+00,   9.11049405e-01,   1.27059549e+00],\n",
       "       [  2.78370442e-01,  -1.24594284e+00,  -5.97091227e-01],\n",
       "       [ -5.64685139e-01,  -5.47877756e-01,   5.29498147e-01],\n",
       "       [  5.89508851e-01,   9.47117377e-01,  -3.50029184e-01],\n",
       "       [ -3.47614487e-01,  -6.69674708e-02,   1.45666593e+00],\n",
       "       [  3.09768106e-01,  -1.94579426e+00,  -1.78938632e-01],\n",
       "       [  2.03581420e+00,  -2.05515412e+00,   4.36105960e-01],\n",
       "       [  2.08943534e+00,  -1.52404286e+00,   7.05513543e-01],\n",
       "       [  8.52818167e-02,   1.00177335e+00,   1.77324955e-01],\n",
       "       [  5.26614153e-01,   2.20677750e+00,  -8.00321008e-01],\n",
       "       [  2.83371430e+00,  -8.97689563e-01,   1.46523957e-01],\n",
       "       [  5.73996604e-01,   1.04632602e+00,  -2.71636279e-02],\n",
       "       [ -8.34396756e-01,  -8.93139685e-01,  -2.09974343e-01],\n",
       "       [  8.60209652e-01,  -1.43472590e+00,  -1.11766540e+00],\n",
       "       [ -4.61908207e-01,  -9.20970813e-01,   2.69935383e+00],\n",
       "       [  2.33889616e-01,   1.50308670e+00,  -3.15681735e-01],\n",
       "       [ -3.65876977e-03,   2.48490462e-01,   1.22252931e-01],\n",
       "       [  2.80395321e+00,  -7.64316640e-02,   1.64326654e+00],\n",
       "       [  1.48970999e+00,  -1.25776819e+00,   2.24353878e+00],\n",
       "       [ -1.24975881e-01,   1.92751250e-01,   1.49753665e+00],\n",
       "       [ -6.66114750e-01,  -4.60306135e-01,   4.96864712e-02],\n",
       "       [  2.85439831e-01,  -1.57083662e+00,  -3.47806174e+00],\n",
       "       [ -9.79963836e-01,   5.14493154e-01,  -1.86570209e+00],\n",
       "       [ -9.38733696e-01,  -1.13976702e+00,   4.25972672e-01],\n",
       "       [  2.88262321e-01,   5.18082994e-01,   7.63715108e-01],\n",
       "       [  1.25669784e+00,   2.27836628e-01,  -8.42427246e-01],\n",
       "       [ -3.13151457e+00,   1.42790311e-01,  -1.63057255e+00],\n",
       "       [ -8.73709033e-01,   6.35652153e-01,  -4.91469265e-01],\n",
       "       [ -7.44594066e-01,  -2.39814646e+00,   5.13418690e-01],\n",
       "       [  1.12644048e+00,  -8.57299372e-02,  -6.32189045e-01],\n",
       "       [  3.28895335e-01,  -9.92454085e-01,  -4.22111484e-01],\n",
       "       [ -1.68379074e+00,  -1.08176126e+00,  -8.72409054e-01],\n",
       "       [ -1.14913116e+00,   1.16590648e+00,  -9.18886573e-02],\n",
       "       [ -5.73909570e-01,   1.12990750e+00,  -2.73346293e+00],\n",
       "       [ -8.18042321e-03,  -7.45229209e-01,   7.73228227e-01],\n",
       "       [  4.79847906e-01,   3.04277511e-01,   1.33141374e-01]])"
      ]
     },
     "execution_count": 36,
     "metadata": {},
     "output_type": "execute_result"
    }
   ],
   "source": [
    "X"
   ]
  },
  {
   "cell_type": "code",
   "execution_count": 31,
   "metadata": {
    "collapsed": false
   },
   "outputs": [],
   "source": [
    "y = np.random.binomial(100, 0.05, 100)"
   ]
  },
  {
   "cell_type": "code",
   "execution_count": 32,
   "metadata": {
    "collapsed": false
   },
   "outputs": [
    {
     "data": {
      "text/plain": [
       "array([ 7,  5,  9,  3,  6,  5,  4, 11, 10, 10,  5,  7,  6,  6,  4,  5,  2,\n",
       "        6,  4,  5,  3,  1,  9,  5,  0,  8,  3,  4,  6,  7,  5,  4,  6,  6,\n",
       "        4,  4,  5,  1,  5,  6,  2, 11,  6,  3, 10,  6,  6,  6,  4,  9,  3,\n",
       "       10,  7,  5,  4,  7,  7,  5,  3,  6,  6,  2,  7,  7,  3,  7,  1,  4,\n",
       "        3,  5,  6,  5,  6,  6,  2,  4,  1,  6,  5,  3,  2,  3,  5,  5,  3,\n",
       "        6,  6,  8,  5,  8,  4,  4,  6,  5,  9,  6,  3,  6,  4,  1])"
      ]
     },
     "execution_count": 32,
     "metadata": {},
     "output_type": "execute_result"
    }
   ],
   "source": [
    "y"
   ]
  },
  {
   "cell_type": "code",
   "execution_count": 37,
   "metadata": {
    "collapsed": false
   },
   "outputs": [
    {
     "data": {
      "text/plain": [
       "LogisticRegression(C=1.0, class_weight=None, dual=False, fit_intercept=True,\n",
       "          intercept_scaling=1, max_iter=100, multi_class='ovr', n_jobs=1,\n",
       "          penalty='l2', random_state=None, solver='liblinear', tol=0.0001,\n",
       "          verbose=0, warm_start=False)"
      ]
     },
     "execution_count": 37,
     "metadata": {},
     "output_type": "execute_result"
    }
   ],
   "source": [
    "logreg = LogisticRegression()\n",
    "logreg.fit(X,y)"
   ]
  },
  {
   "cell_type": "code",
   "execution_count": 38,
   "metadata": {
    "collapsed": false
   },
   "outputs": [
    {
     "data": {
      "text/plain": [
       "array([[-0.30148394,  0.18050051,  0.01458626],\n",
       "       [-0.26593367, -0.19630355,  0.11261146],\n",
       "       [ 0.54715284, -0.16500428, -0.0931747 ],\n",
       "       [-0.08614052,  0.46183383,  0.3028066 ],\n",
       "       [-0.31643586,  0.21913015,  0.1432037 ],\n",
       "       [ 0.22414267, -0.10989699,  0.16593597],\n",
       "       [-0.31454643, -0.26712544, -0.41515574],\n",
       "       [ 0.34063281,  0.12308362, -0.04738408],\n",
       "       [-0.21469194, -0.12535563, -0.21052567],\n",
       "       [-0.30977418, -0.14281859,  0.1557534 ],\n",
       "       [ 0.27584753,  0.18256379, -0.13340863],\n",
       "       [ 0.10450656,  0.25955739,  0.07407301]])"
      ]
     },
     "execution_count": 38,
     "metadata": {},
     "output_type": "execute_result"
    }
   ],
   "source": [
    "logreg.coef_"
   ]
  },
  {
   "cell_type": "code",
   "execution_count": 39,
   "metadata": {
    "collapsed": true
   },
   "outputs": [],
   "source": [
    "X_new = np.random.randn(100,3)"
   ]
  },
  {
   "cell_type": "code",
   "execution_count": 40,
   "metadata": {
    "collapsed": true
   },
   "outputs": [],
   "source": [
    "y_pred = logreg.predict(X_new)"
   ]
  },
  {
   "cell_type": "code",
   "execution_count": 41,
   "metadata": {
    "collapsed": true
   },
   "outputs": [],
   "source": [
    "y_pp = logreg.predict_proba(X_new)"
   ]
  },
  {
   "cell_type": "code",
   "execution_count": 42,
   "metadata": {
    "collapsed": false
   },
   "outputs": [
    {
     "data": {
      "text/plain": [
       "array([6, 6, 5, 6, 6, 4, 3, 6, 3, 6, 5, 6, 6, 6, 5, 6, 5, 6, 4, 4, 6, 6, 6,\n",
       "       6, 6, 6, 3, 6, 6, 6, 6, 5, 6, 5, 6, 6, 5, 5, 6, 6, 6, 5, 6, 6, 5, 5,\n",
       "       6, 5, 6, 6, 7, 3, 6, 4, 5, 5, 6, 3, 6, 3, 5, 3, 6, 6, 6, 3, 4, 6, 5,\n",
       "       6, 6, 5, 6, 6, 6, 6, 6, 3, 5, 3, 6, 4, 6, 6, 4, 5, 6, 6, 6, 6, 3, 6,\n",
       "       6, 6, 6, 6, 6, 6, 6, 6])"
      ]
     },
     "execution_count": 42,
     "metadata": {},
     "output_type": "execute_result"
    }
   ],
   "source": [
    "y_pred"
   ]
  },
  {
   "cell_type": "code",
   "execution_count": 43,
   "metadata": {
    "collapsed": false
   },
   "outputs": [
    {
     "data": {
      "text/plain": [
       "array([[ 0.03630223,  0.07024645,  0.04006104, ...,  0.06191118,\n",
       "         0.04177886,  0.03249609],\n",
       "       [ 0.03086882,  0.06148016,  0.05996979, ...,  0.05319191,\n",
       "         0.05228747,  0.03813119],\n",
       "       [ 0.0352662 ,  0.05812825,  0.04732981, ...,  0.05347311,\n",
       "         0.05163776,  0.04519528],\n",
       "       ..., \n",
       "       [ 0.02860586,  0.06991703,  0.0624879 , ...,  0.05956507,\n",
       "         0.04600062,  0.03369509],\n",
       "       [ 0.04839793,  0.08166606,  0.01822384, ...,  0.07941563,\n",
       "         0.0282551 ,  0.03176151],\n",
       "       [ 0.03978168,  0.04156877,  0.044461  , ...,  0.03715463,\n",
       "         0.06936718,  0.04659368]])"
      ]
     },
     "execution_count": 43,
     "metadata": {},
     "output_type": "execute_result"
    }
   ],
   "source": [
    "y_pp"
   ]
  },
  {
   "cell_type": "code",
   "execution_count": 44,
   "metadata": {
    "collapsed": true
   },
   "outputs": [],
   "source": [
    "lists = ['apple', 'orange', 'banana']"
   ]
  },
  {
   "cell_type": "code",
   "execution_count": 45,
   "metadata": {
    "collapsed": true
   },
   "outputs": [],
   "source": [
    "lists.append('carrot')"
   ]
  },
  {
   "cell_type": "code",
   "execution_count": 46,
   "metadata": {
    "collapsed": false
   },
   "outputs": [
    {
     "data": {
      "text/plain": [
       "['apple', 'orange', 'banana', 'carrot']"
      ]
     },
     "execution_count": 46,
     "metadata": {},
     "output_type": "execute_result"
    }
   ],
   "source": [
    "lists\n"
   ]
  },
  {
   "cell_type": "code",
   "execution_count": 47,
   "metadata": {
    "collapsed": true
   },
   "outputs": [],
   "source": [
    "lists.extend(['dog', 'cow'])"
   ]
  },
  {
   "cell_type": "code",
   "execution_count": 48,
   "metadata": {
    "collapsed": false
   },
   "outputs": [
    {
     "data": {
      "text/plain": [
       "['apple', 'orange', 'banana', 'carrot', 'dog', 'cow']"
      ]
     },
     "execution_count": 48,
     "metadata": {},
     "output_type": "execute_result"
    }
   ],
   "source": [
    "lists"
   ]
  },
  {
   "cell_type": "code",
   "execution_count": 49,
   "metadata": {
    "collapsed": true
   },
   "outputs": [],
   "source": [
    "lists.insert(1, 'crocodile')"
   ]
  },
  {
   "cell_type": "code",
   "execution_count": 50,
   "metadata": {
    "collapsed": false
   },
   "outputs": [
    {
     "data": {
      "text/plain": [
       "['apple', 'crocodile', 'orange', 'banana', 'carrot', 'dog', 'cow']"
      ]
     },
     "execution_count": 50,
     "metadata": {},
     "output_type": "execute_result"
    }
   ],
   "source": [
    "lists"
   ]
  },
  {
   "cell_type": "code",
   "execution_count": 51,
   "metadata": {
    "collapsed": true
   },
   "outputs": [],
   "source": [
    "lists.remove('carrot')"
   ]
  },
  {
   "cell_type": "code",
   "execution_count": 52,
   "metadata": {
    "collapsed": false
   },
   "outputs": [
    {
     "data": {
      "text/plain": [
       "['apple', 'crocodile', 'orange', 'banana', 'dog', 'cow']"
      ]
     },
     "execution_count": 52,
     "metadata": {},
     "output_type": "execute_result"
    }
   ],
   "source": [
    "lists\n"
   ]
  },
  {
   "cell_type": "code",
   "execution_count": 53,
   "metadata": {
    "collapsed": true
   },
   "outputs": [],
   "source": [
    "lists.sort()"
   ]
  },
  {
   "cell_type": "code",
   "execution_count": 54,
   "metadata": {
    "collapsed": false
   },
   "outputs": [
    {
     "data": {
      "text/plain": [
       "['apple', 'banana', 'cow', 'crocodile', 'dog', 'orange']"
      ]
     },
     "execution_count": 54,
     "metadata": {},
     "output_type": "execute_result"
    }
   ],
   "source": [
    "lists"
   ]
  },
  {
   "cell_type": "code",
   "execution_count": 55,
   "metadata": {
    "collapsed": false
   },
   "outputs": [
    {
     "data": {
      "text/plain": [
       "0"
      ]
     },
     "execution_count": 55,
     "metadata": {},
     "output_type": "execute_result"
    }
   ],
   "source": [
    "lists.count('a')"
   ]
  },
  {
   "cell_type": "code",
   "execution_count": null,
   "metadata": {
    "collapsed": true
   },
   "outputs": [],
   "source": []
  }
 ],
 "metadata": {
  "kernelspec": {
   "display_name": "Python [default]",
   "language": "python",
   "name": "python2"
  },
  "language_info": {
   "codemirror_mode": {
    "name": "ipython",
    "version": 2
   },
   "file_extension": ".py",
   "mimetype": "text/x-python",
   "name": "python",
   "nbconvert_exporter": "python",
   "pygments_lexer": "ipython2",
   "version": "2.7.12"
  }
 },
 "nbformat": 4,
 "nbformat_minor": 1
}
