{
 "cells": [
  {
   "cell_type": "code",
   "execution_count": 1,
   "metadata": {
    "collapsed": false
   },
   "outputs": [
    {
     "name": "stderr",
     "output_type": "stream",
     "text": [
      "//anaconda/lib/python2.7/site-packages/sklearn/cross_validation.py:44: DeprecationWarning: This module was deprecated in version 0.18 in favor of the model_selection module into which all the refactored classes and functions are moved. Also note that the interface of the new CV iterators are different from that of this module. This module will be removed in 0.20.\n",
      "  \"This module will be removed in 0.20.\", DeprecationWarning)\n",
      "//anaconda/lib/python2.7/site-packages/sklearn/grid_search.py:43: DeprecationWarning: This module was deprecated in version 0.18 in favor of the model_selection module into which all the refactored classes and functions are moved. This module will be removed in 0.20.\n",
      "  DeprecationWarning)\n"
     ]
    }
   ],
   "source": [
    "# import xgboost\n",
    "# from xgboost import XGBRegressor\n",
    "from sklearn.grid_search import GridSearchCV\n",
    "from numpy import loadtxt\n",
    "# from xgboost import plot_importance\n"
   ]
  },
  {
   "cell_type": "code",
   "execution_count": 2,
   "metadata": {
    "collapsed": true
   },
   "outputs": [],
   "source": [
    "import pandas as pd\n",
    "import random\n",
    "import numpy as np\n",
    "import matplotlib.pyplot as plt\n",
    "%matplotlib inline"
   ]
  },
  {
   "cell_type": "code",
   "execution_count": 3,
   "metadata": {
    "collapsed": true
   },
   "outputs": [],
   "source": [
    "filename = 'train.csv'\n",
    "n = sum(1 for line in open(filename)) - 1 \n",
    "s = 30000\n",
    "skip = sorted(random.sample(xrange(1,n+1),n-s)) \n",
    "df = pd.read_csv(filename, skiprows=skip)"
   ]
  },
  {
   "cell_type": "code",
   "execution_count": 4,
   "metadata": {
    "collapsed": false
   },
   "outputs": [
    {
     "data": {
      "text/plain": [
       "188318"
      ]
     },
     "execution_count": 4,
     "metadata": {},
     "output_type": "execute_result"
    }
   ],
   "source": [
    "n"
   ]
  },
  {
   "cell_type": "code",
   "execution_count": 6,
   "metadata": {
    "collapsed": false
   },
   "outputs": [
    {
     "data": {
      "text/html": [
       "<div>\n",
       "<table border=\"1\" class=\"dataframe\">\n",
       "  <thead>\n",
       "    <tr style=\"text-align: right;\">\n",
       "      <th></th>\n",
       "      <th>id</th>\n",
       "      <th>cat1</th>\n",
       "      <th>cat2</th>\n",
       "      <th>cat3</th>\n",
       "      <th>cat4</th>\n",
       "      <th>cat5</th>\n",
       "      <th>cat6</th>\n",
       "      <th>cat7</th>\n",
       "      <th>cat8</th>\n",
       "      <th>cat9</th>\n",
       "      <th>...</th>\n",
       "      <th>cont6</th>\n",
       "      <th>cont7</th>\n",
       "      <th>cont8</th>\n",
       "      <th>cont9</th>\n",
       "      <th>cont10</th>\n",
       "      <th>cont11</th>\n",
       "      <th>cont12</th>\n",
       "      <th>cont13</th>\n",
       "      <th>cont14</th>\n",
       "      <th>loss</th>\n",
       "    </tr>\n",
       "  </thead>\n",
       "  <tbody>\n",
       "    <tr>\n",
       "      <th>0</th>\n",
       "      <td>20</td>\n",
       "      <td>A</td>\n",
       "      <td>B</td>\n",
       "      <td>A</td>\n",
       "      <td>B</td>\n",
       "      <td>A</td>\n",
       "      <td>A</td>\n",
       "      <td>A</td>\n",
       "      <td>A</td>\n",
       "      <td>B</td>\n",
       "      <td>...</td>\n",
       "      <td>0.867021</td>\n",
       "      <td>0.583389</td>\n",
       "      <td>0.90267</td>\n",
       "      <td>0.84847</td>\n",
       "      <td>0.80218</td>\n",
       "      <td>0.644013</td>\n",
       "      <td>0.785706</td>\n",
       "      <td>0.859764</td>\n",
       "      <td>0.242416</td>\n",
       "      <td>3585.75</td>\n",
       "    </tr>\n",
       "    <tr>\n",
       "      <th>1</th>\n",
       "      <td>47</td>\n",
       "      <td>A</td>\n",
       "      <td>A</td>\n",
       "      <td>A</td>\n",
       "      <td>A</td>\n",
       "      <td>B</td>\n",
       "      <td>A</td>\n",
       "      <td>A</td>\n",
       "      <td>A</td>\n",
       "      <td>A</td>\n",
       "      <td>...</td>\n",
       "      <td>0.894903</td>\n",
       "      <td>0.586433</td>\n",
       "      <td>0.80058</td>\n",
       "      <td>0.93383</td>\n",
       "      <td>0.78770</td>\n",
       "      <td>0.880469</td>\n",
       "      <td>0.871011</td>\n",
       "      <td>0.822493</td>\n",
       "      <td>0.251278</td>\n",
       "      <td>585.18</td>\n",
       "    </tr>\n",
       "    <tr>\n",
       "      <th>2</th>\n",
       "      <td>139</td>\n",
       "      <td>A</td>\n",
       "      <td>B</td>\n",
       "      <td>A</td>\n",
       "      <td>A</td>\n",
       "      <td>B</td>\n",
       "      <td>A</td>\n",
       "      <td>A</td>\n",
       "      <td>A</td>\n",
       "      <td>B</td>\n",
       "      <td>...</td>\n",
       "      <td>0.374051</td>\n",
       "      <td>0.833411</td>\n",
       "      <td>0.52450</td>\n",
       "      <td>0.37458</td>\n",
       "      <td>0.25604</td>\n",
       "      <td>0.727671</td>\n",
       "      <td>0.714544</td>\n",
       "      <td>0.233856</td>\n",
       "      <td>0.793199</td>\n",
       "      <td>3552.53</td>\n",
       "    </tr>\n",
       "    <tr>\n",
       "      <th>3</th>\n",
       "      <td>167</td>\n",
       "      <td>A</td>\n",
       "      <td>B</td>\n",
       "      <td>A</td>\n",
       "      <td>A</td>\n",
       "      <td>A</td>\n",
       "      <td>A</td>\n",
       "      <td>A</td>\n",
       "      <td>B</td>\n",
       "      <td>B</td>\n",
       "      <td>...</td>\n",
       "      <td>0.620260</td>\n",
       "      <td>0.450226</td>\n",
       "      <td>0.61229</td>\n",
       "      <td>0.64873</td>\n",
       "      <td>0.74396</td>\n",
       "      <td>0.569745</td>\n",
       "      <td>0.557380</td>\n",
       "      <td>0.689974</td>\n",
       "      <td>0.580748</td>\n",
       "      <td>786.26</td>\n",
       "    </tr>\n",
       "    <tr>\n",
       "      <th>4</th>\n",
       "      <td>186</td>\n",
       "      <td>A</td>\n",
       "      <td>B</td>\n",
       "      <td>A</td>\n",
       "      <td>A</td>\n",
       "      <td>B</td>\n",
       "      <td>A</td>\n",
       "      <td>A</td>\n",
       "      <td>A</td>\n",
       "      <td>A</td>\n",
       "      <td>...</td>\n",
       "      <td>0.334009</td>\n",
       "      <td>0.324696</td>\n",
       "      <td>0.31280</td>\n",
       "      <td>0.39648</td>\n",
       "      <td>0.38016</td>\n",
       "      <td>0.341813</td>\n",
       "      <td>0.352251</td>\n",
       "      <td>0.261150</td>\n",
       "      <td>0.676090</td>\n",
       "      <td>2906.27</td>\n",
       "    </tr>\n",
       "  </tbody>\n",
       "</table>\n",
       "<p>5 rows × 132 columns</p>\n",
       "</div>"
      ],
      "text/plain": [
       "    id cat1 cat2 cat3 cat4 cat5 cat6 cat7 cat8 cat9   ...        cont6  \\\n",
       "0   20    A    B    A    B    A    A    A    A    B   ...     0.867021   \n",
       "1   47    A    A    A    A    B    A    A    A    A   ...     0.894903   \n",
       "2  139    A    B    A    A    B    A    A    A    B   ...     0.374051   \n",
       "3  167    A    B    A    A    A    A    A    B    B   ...     0.620260   \n",
       "4  186    A    B    A    A    B    A    A    A    A   ...     0.334009   \n",
       "\n",
       "      cont7    cont8    cont9   cont10    cont11    cont12    cont13  \\\n",
       "0  0.583389  0.90267  0.84847  0.80218  0.644013  0.785706  0.859764   \n",
       "1  0.586433  0.80058  0.93383  0.78770  0.880469  0.871011  0.822493   \n",
       "2  0.833411  0.52450  0.37458  0.25604  0.727671  0.714544  0.233856   \n",
       "3  0.450226  0.61229  0.64873  0.74396  0.569745  0.557380  0.689974   \n",
       "4  0.324696  0.31280  0.39648  0.38016  0.341813  0.352251  0.261150   \n",
       "\n",
       "     cont14     loss  \n",
       "0  0.242416  3585.75  \n",
       "1  0.251278   585.18  \n",
       "2  0.793199  3552.53  \n",
       "3  0.580748   786.26  \n",
       "4  0.676090  2906.27  \n",
       "\n",
       "[5 rows x 132 columns]"
      ]
     },
     "execution_count": 6,
     "metadata": {},
     "output_type": "execute_result"
    }
   ],
   "source": [
    "df.head()"
   ]
  },
  {
   "cell_type": "code",
   "execution_count": null,
   "metadata": {
    "collapsed": true
   },
   "outputs": [],
   "source": []
  }
 ],
 "metadata": {
  "kernelspec": {
   "display_name": "Python [default]",
   "language": "python",
   "name": "python2"
  },
  "language_info": {
   "codemirror_mode": {
    "name": "ipython",
    "version": 2
   },
   "file_extension": ".py",
   "mimetype": "text/x-python",
   "name": "python",
   "nbconvert_exporter": "python",
   "pygments_lexer": "ipython2",
   "version": "2.7.12"
  }
 },
 "nbformat": 4,
 "nbformat_minor": 2
}
