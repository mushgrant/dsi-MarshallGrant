{
 "cells": [
  {
   "cell_type": "code",
<<<<<<< HEAD
   "execution_count": 10,
=======
   "execution_count": 16,
>>>>>>> parent of 8cb5206... autocorrelation
   "metadata": {
    "collapsed": true
   },
   "outputs": [],
   "source": [
    "import pandas as pd\n",
    "import numpy as np\n",
    "import matplotlib.pylab as plt\n",
    "%matplotlib inline\n",
    "from matplotlib.pylab import rcParams\n",
    "rcParams['figure.figsize'] = 15, 6"
   ]
  },
  {
   "cell_type": "code",
<<<<<<< HEAD
   "execution_count": 11,
=======
   "execution_count": 17,
>>>>>>> parent of 8cb5206... autocorrelation
   "metadata": {
    "collapsed": false
   },
   "outputs": [
    {
     "name": "stdout",
     "output_type": "stream",
     "text": [
      "     Month  #Passengers\n",
      "0  1949-01          112\n",
      "1  1949-02          118\n",
      "2  1949-03          132\n",
      "3  1949-04          129\n",
      "4  1949-05          121\n",
      "\n",
      " Data Types:\n",
      "Month          object\n",
      "#Passengers     int64\n",
      "dtype: object\n"
     ]
    }
   ],
   "source": [
    "data = pd.read_csv('datasets/AirPassengers.csv')\n",
    "print data.head()\n",
    "print '\\n Data Types:'\n",
    "print data.dtypes"
   ]
  },
  {
   "cell_type": "code",
<<<<<<< HEAD
   "execution_count": 14,
=======
   "execution_count": 21,
>>>>>>> parent of 8cb5206... autocorrelation
   "metadata": {
    "collapsed": false
   },
   "outputs": [
    {
     "name": "stdout",
     "output_type": "stream",
     "text": [
      "            #Passengers\n",
      "Month                  \n",
      "1949-01-01          112\n",
      "1949-02-01          118\n",
      "1949-03-01          132\n",
      "1949-04-01          129\n",
      "1949-05-01          121\n"
     ]
    }
   ],
   "source": [
    "dateparse = lambda dates: pd.datetime.strptime(dates, '%Y-%m')\n",
<<<<<<< HEAD
    "data = pd.read_csv('datasets/AirPassengers.csv', index_col='Month',date_parser=dateparse)\n",
    "print data.head()"
=======
    "data2 = pd.read_csv('datasets/AirPassengers.csv', index_col='Month',date_parser=dateparse)\n",
    "print data2.head()"
>>>>>>> parent of 8cb5206... autocorrelation
   ]
  },
  {
   "cell_type": "code",
<<<<<<< HEAD
   "execution_count": 5,
=======
   "execution_count": 23,
>>>>>>> parent of 8cb5206... autocorrelation
   "metadata": {
    "collapsed": false
   },
   "outputs": [
    {
     "name": "stdout",
     "output_type": "stream",
     "text": [
      "#Passengers    int64\n",
      "dtype: object\n"
     ]
    }
   ],
   "source": [
    "print data2.dtypes"
   ]
  },
  {
   "cell_type": "code",
<<<<<<< HEAD
   "execution_count": 15,
=======
   "execution_count": 24,
>>>>>>> parent of 8cb5206... autocorrelation
   "metadata": {
    "collapsed": false
   },
   "outputs": [
    {
     "data": {
      "text/plain": [
       "DatetimeIndex(['1949-01-01', '1949-02-01', '1949-03-01', '1949-04-01',\n",
       "               '1949-05-01', '1949-06-01', '1949-07-01', '1949-08-01',\n",
       "               '1949-09-01', '1949-10-01',\n",
       "               ...\n",
       "               '1960-03-01', '1960-04-01', '1960-05-01', '1960-06-01',\n",
       "               '1960-07-01', '1960-08-01', '1960-09-01', '1960-10-01',\n",
       "               '1960-11-01', '1960-12-01'],\n",
       "              dtype='datetime64[ns]', name=u'Month', length=144, freq=None)"
      ]
     },
<<<<<<< HEAD
     "execution_count": 15,
=======
     "execution_count": 24,
>>>>>>> parent of 8cb5206... autocorrelation
     "metadata": {},
     "output_type": "execute_result"
    }
   ],
   "source": [
    "data.index"
   ]
  },
  {
   "cell_type": "code",
<<<<<<< HEAD
   "execution_count": 16,
=======
   "execution_count": 27,
>>>>>>> parent of 8cb5206... autocorrelation
   "metadata": {
    "collapsed": false
   },
   "outputs": [
    {
     "data": {
      "text/plain": [
       "Month\n",
       "1949-01-01    112\n",
       "1949-02-01    118\n",
       "1949-03-01    132\n",
       "1949-04-01    129\n",
       "1949-05-01    121\n",
       "1949-06-01    135\n",
       "1949-07-01    148\n",
       "1949-08-01    148\n",
       "1949-09-01    136\n",
       "1949-10-01    119\n",
       "Name: #Passengers, dtype: int64"
      ]
     },
<<<<<<< HEAD
     "execution_count": 16,
=======
     "execution_count": 27,
>>>>>>> parent of 8cb5206... autocorrelation
     "metadata": {},
     "output_type": "execute_result"
    }
   ],
   "source": [
    "ts = data['#Passengers']\n",
    "ts.head(10)"
   ]
  },
  {
   "cell_type": "code",
<<<<<<< HEAD
   "execution_count": 17,
   "metadata": {
    "collapsed": false
   },
   "outputs": [
    {
     "ename": "TypeError",
     "evalue": "'Series' object is not callable",
     "output_type": "error",
     "traceback": [
      "\u001b[0;31m---------------------------------------------------------------------------\u001b[0m",
      "\u001b[0;31mTypeError\u001b[0m                                 Traceback (most recent call last)",
      "\u001b[0;32m<ipython-input-17-e121a96b504a>\u001b[0m in \u001b[0;36m<module>\u001b[0;34m()\u001b[0m\n\u001b[0;32m----> 1\u001b[0;31m \u001b[0mts\u001b[0m\u001b[0;34m(\u001b[0m\u001b[0;34m)\u001b[0m\u001b[0;34m\u001b[0m\u001b[0m\n\u001b[0m",
      "\u001b[0;31mTypeError\u001b[0m: 'Series' object is not callable"
     ]
    }
   ],
   "source": [
    "ts()"
   ]
  },
  {
   "cell_type": "code",
   "execution_count": 25,
=======
   "execution_count": 28,
>>>>>>> parent of 8cb5206... autocorrelation
   "metadata": {
    "collapsed": false
   },
   "outputs": [
    {
     "data": {
      "text/plain": [
       "112"
      ]
     },
     "execution_count": 28,
     "metadata": {},
     "output_type": "execute_result"
    }
   ],
   "source": [
    "ts['1949-01-01']"
   ]
  },
  {
   "cell_type": "code",
   "execution_count": 30,
   "metadata": {
    "collapsed": false
   },
   "outputs": [
    {
     "data": {
      "text/plain": [
       "112"
      ]
     },
     "execution_count": 30,
     "metadata": {},
     "output_type": "execute_result"
    }
   ],
   "source": [
    "from datetime import datetime\n",
    "ts[datetime(1949,1,1)]"
   ]
  },
  {
   "cell_type": "code",
   "execution_count": 31,
   "metadata": {
    "collapsed": false
   },
   "outputs": [
    {
     "data": {
      "text/plain": [
       "Month\n",
       "1949-01-01    112\n",
       "1949-02-01    118\n",
       "1949-03-01    132\n",
       "1949-04-01    129\n",
       "1949-05-01    121\n",
       "Name: #Passengers, dtype: int64"
      ]
     },
     "execution_count": 31,
     "metadata": {},
     "output_type": "execute_result"
    }
   ],
   "source": [
    "ts['1949-01-01':'1949-05-01']"
   ]
  },
  {
   "cell_type": "code",
   "execution_count": 32,
   "metadata": {
    "collapsed": false
   },
   "outputs": [
    {
     "data": {
      "text/plain": [
       "Month\n",
       "1949-01-01    112\n",
       "1949-02-01    118\n",
       "1949-03-01    132\n",
       "1949-04-01    129\n",
       "1949-05-01    121\n",
       "Name: #Passengers, dtype: int64"
      ]
     },
     "execution_count": 32,
     "metadata": {},
     "output_type": "execute_result"
    }
   ],
   "source": [
    "ts[:'1949-05-01']"
   ]
  },
  {
   "cell_type": "code",
   "execution_count": 33,
   "metadata": {
    "collapsed": false
   },
   "outputs": [
    {
     "data": {
      "text/plain": [
       "Month\n",
       "1949-01-01    112\n",
       "1949-02-01    118\n",
       "1949-03-01    132\n",
       "1949-04-01    129\n",
       "1949-05-01    121\n",
       "1949-06-01    135\n",
       "1949-07-01    148\n",
       "1949-08-01    148\n",
       "1949-09-01    136\n",
       "1949-10-01    119\n",
       "1949-11-01    104\n",
       "1949-12-01    118\n",
       "Name: #Passengers, dtype: int64"
      ]
     },
     "execution_count": 33,
     "metadata": {},
     "output_type": "execute_result"
    }
   ],
   "source": [
    "ts['1949']"
   ]
  },
  {
   "cell_type": "code",
   "execution_count": 34,
   "metadata": {
    "collapsed": false
   },
   "outputs": [
    {
     "data": {
      "text/plain": [
       "[<matplotlib.lines.Line2D at 0x10f076e10>]"
      ]
     },
     "execution_count": 34,
     "metadata": {},
     "output_type": "execute_result"
    },
    {
     "data": {
      "image/png": "iVBORw0KGgoAAAANSUhEUgAABL4AAAH/CAYAAABZ3hRiAAAABHNCSVQICAgIfAhkiAAAAAlwSFlz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\nJEmSetJ/ASnmCjC51fMuAAAAAElFTkSuQmCC\n",
      "text/plain": [
       "<matplotlib.figure.Figure at 0x10f001b90>"
      ]
     },
     "metadata": {},
     "output_type": "display_data"
    }
   ],
   "source": [
    "plt.plot(ts)"
   ]
  },
  {
   "cell_type": "code",
   "execution_count": 38,
   "metadata": {
    "collapsed": false
   },
   "outputs": [
    {
     "data": {
      "text/plain": [
       "u'0.19.1'"
      ]
     },
     "execution_count": 38,
     "metadata": {},
     "output_type": "execute_result"
    }
   ],
   "source": [
    "pd.__version__"
   ]
  },
  {
   "cell_type": "code",
   "execution_count": null,
   "metadata": {
    "collapsed": true
   },
   "outputs": [],
   "source": []
  }
 ],
 "metadata": {
  "kernelspec": {
   "display_name": "Python [default]",
   "language": "python",
   "name": "python2"
  },
  "language_info": {
   "codemirror_mode": {
    "name": "ipython",
    "version": 2
   },
   "file_extension": ".py",
   "mimetype": "text/x-python",
   "name": "python",
   "nbconvert_exporter": "python",
   "pygments_lexer": "ipython2",
   "version": "2.7.12"
  }
 },
 "nbformat": 4,
 "nbformat_minor": 2
}
