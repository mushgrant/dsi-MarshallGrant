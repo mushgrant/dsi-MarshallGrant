{
 "cells": [
  {
   "cell_type": "code",
   "execution_count": 1,
   "metadata": {
    "collapsed": true
   },
   "outputs": [],
   "source": [
    "import numpy as np\n",
    "\n",
    "from patsy import dmatrices, dmatrix, demo_data\n",
    "\n",
    "data = demo_data(\"a\", \"b\", \"x1\", \"x2\", \"y\", \"z column\")\n"
   ]
  },
  {
   "cell_type": "code",
   "execution_count": 2,
   "metadata": {
    "collapsed": false
   },
   "outputs": [
    {
     "data": {
      "text/plain": [
       "{'a': ['a1', 'a1', 'a2', 'a2', 'a1', 'a1', 'a2', 'a2'],\n",
       " 'b': ['b1', 'b2', 'b1', 'b2', 'b1', 'b2', 'b1', 'b2'],\n",
       " 'x1': array([ 1.76405235,  0.40015721,  0.97873798,  2.2408932 ,  1.86755799,\n",
       "        -0.97727788,  0.95008842, -0.15135721]),\n",
       " 'x2': array([-0.10321885,  0.4105985 ,  0.14404357,  1.45427351,  0.76103773,\n",
       "         0.12167502,  0.44386323,  0.33367433]),\n",
       " 'y': array([ 1.49407907, -0.20515826,  0.3130677 , -0.85409574, -2.55298982,\n",
       "         0.6536186 ,  0.8644362 , -0.74216502]),\n",
       " 'z column': array([ 2.26975462, -1.45436567,  0.04575852, -0.18718385,  1.53277921,\n",
       "         1.46935877,  0.15494743,  0.37816252])}"
      ]
     },
     "execution_count": 2,
     "metadata": {},
     "output_type": "execute_result"
    }
   ],
   "source": [
    "data"
   ]
  },
  {
   "cell_type": "code",
   "execution_count": 3,
   "metadata": {
    "collapsed": false
   },
   "outputs": [
    {
     "data": {
      "text/plain": [
       "(DesignMatrix with shape (8, 1)\n",
       "          y\n",
       "    1.49408\n",
       "   -0.20516\n",
       "    0.31307\n",
       "   -0.85410\n",
       "   -2.55299\n",
       "    0.65362\n",
       "    0.86444\n",
       "   -0.74217\n",
       "   Terms:\n",
       "     'y' (column 0),\n",
       " DesignMatrix with shape (8, 3)\n",
       "   Intercept        x1        x2\n",
       "           1   1.76405  -0.10322\n",
       "           1   0.40016   0.41060\n",
       "           1   0.97874   0.14404\n",
       "           1   2.24089   1.45427\n",
       "           1   1.86756   0.76104\n",
       "           1  -0.97728   0.12168\n",
       "           1   0.95009   0.44386\n",
       "           1  -0.15136   0.33367\n",
       "   Terms:\n",
       "     'Intercept' (column 0)\n",
       "     'x1' (column 1)\n",
       "     'x2' (column 2))"
      ]
     },
     "execution_count": 3,
     "metadata": {},
     "output_type": "execute_result"
    }
   ],
   "source": [
    "dmatrices('y ~ x1 + x2',data)"
   ]
  },
  {
   "cell_type": "code",
   "execution_count": 7,
   "metadata": {
    "collapsed": false
   },
   "outputs": [
    {
     "name": "stdout",
     "output_type": "stream",
     "text": [
      "Intercept: 0.579662344123\n",
      "x1: 0.0885991903554\n",
      "x2: -1.76479205551\n"
     ]
    }
   ],
   "source": [
    "outcome, predictors = dmatrices(\"y ~ x1 + x2\", data)\n",
    "\n",
    "betas = np.linalg.lstsq(predictors, outcome)[0].ravel()\n",
    "\n",
    "for name, beta in zip(predictors.design_info.column_names, betas):\n",
    "    print(\"%s: %s\" % (name, beta))"
   ]
  },
  {
   "cell_type": "code",
   "execution_count": null,
   "metadata": {
    "collapsed": true
   },
   "outputs": [],
   "source": [
    "! pip install -U heamy"
   ]
  }
 ],
 "metadata": {
  "kernelspec": {
   "display_name": "Python [default]",
   "language": "python",
   "name": "python2"
  },
  "language_info": {
   "codemirror_mode": {
    "name": "ipython",
    "version": 2
   },
   "file_extension": ".py",
   "mimetype": "text/x-python",
   "name": "python",
   "nbconvert_exporter": "python",
   "pygments_lexer": "ipython2",
   "version": "2.7.12"
  }
 },
 "nbformat": 4,
 "nbformat_minor": 1
}
